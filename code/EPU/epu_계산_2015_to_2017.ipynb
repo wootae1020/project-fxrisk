{
 "cells": [
  {
   "cell_type": "markdown",
   "id": "9d8b00f8-00f3-40da-a444-0a1efa201cf6",
   "metadata": {},
   "source": [
    "# 데이터 준비"
   ]
  },
  {
   "cell_type": "code",
   "execution_count": 3,
   "id": "2bce27c5-81ca-4c62-9b61-159d3ba8f6e1",
   "metadata": {},
   "outputs": [],
   "source": [
    "import pandas as pd\n",
    "import numpy as np"
   ]
  },
  {
   "cell_type": "code",
   "execution_count": 4,
   "id": "d1924a83-f962-4c82-a00f-b067188169c2",
   "metadata": {},
   "outputs": [
    {
     "data": {
      "text/plain": [
       "['NewsResult_20150101-20151231.csv',\n",
       " 'NewsResult_20160101-20161231.csv',\n",
       " 'NewsResult_20170101-20171231.csv']"
      ]
     },
     "execution_count": 4,
     "metadata": {},
     "output_type": "execute_result"
    }
   ],
   "source": [
    "import os\n",
    "os.listdir('./2015_to_2017')"
   ]
  },
  {
   "cell_type": "code",
   "execution_count": 5,
   "id": "4103e01b-376c-42c5-a9ea-9f1e8bc473e4",
   "metadata": {},
   "outputs": [],
   "source": [
    "df = pd.read_csv('./2015_to_2017/NewsResult_20150101-20151231.csv')\n",
    "new_df = pd.read_csv('./2015_to_2017/NewsResult_20160101-20161231.csv')\n",
    "df = pd.concat([df, new_df], axis=0)\n",
    "new_df = pd.read_csv('./2015_to_2017/NewsResult_20170101-20171231.csv')\n",
    "df = pd.concat([df, new_df], axis=0)"
   ]
  },
  {
   "cell_type": "code",
   "execution_count": null,
   "id": "ade40482-92df-4127-8e6e-3450b69104c4",
   "metadata": {},
   "outputs": [],
   "source": [
    "df = pd.read_csv('./2015_to_2017/NewsResult_20150101-20151231.csv')\n",
    "\n",
    "for path in os.listdir('./2015_to_2017')[1:]:\n",
    "    new_df = pd.read_csv('./2015_to_2017/' + path)\n",
    "    df = pd.concat([df, new_df], axis=0)\n",
    "df.shape"
   ]
  },
  {
   "cell_type": "code",
   "execution_count": null,
   "id": "2194d3bc-f53a-4725-9c9c-26b6e4f9f7e6",
   "metadata": {},
   "outputs": [],
   "source": [
    "환율 = pd.read_csv('어쩌면최종데이터.csv')\n",
    "\n",
    "# ✅ 결측값 개수 및 비율 계산\n",
    "null_df = pd.DataFrame({\n",
    "    '결측값 개수': 환율.isnull().sum(),\n",
    "    '결측 비율 (%)': 환율.isnull().mean() * 100\n",
    "})\n",
    "\n",
    "# ✅ 'alpha'가 컬럼명에 포함된 것 중에서만 결측 비율 5% 이상인 컬럼 필터링\n",
    "alpha_cols = [col for col in 환율.columns if 'alpha' in col]\n",
    "alpha_null_df = null_df.loc[alpha_cols]\n",
    "drop_cols = alpha_null_df[alpha_null_df['결측 비율 (%)'] >= 5].index.tolist()\n",
    "\n",
    "# ✅ 해당 alpha 컬럼들만 삭제\n",
    "환율 = 환율.drop(columns=drop_cols)\n",
    "\n",
    "# ✅ 남은 결측값 전체 삭제 (단, alpha 외 컬럼 포함)\n",
    "환율 = 환율.dropna()\n",
    "\n",
    "환율 = 환율.sort_values(by='Date').reset_index(drop=True)\n",
    "print('완료')"
   ]
  },
  {
   "cell_type": "code",
   "execution_count": 6,
   "id": "76308358-3c9d-4bae-9024-49a21f17a2a0",
   "metadata": {},
   "outputs": [
    {
     "name": "stdout",
     "output_type": "stream",
     "text": [
      "수집한 데이터는 약 434 만 건입니다\n"
     ]
    }
   ],
   "source": [
    "print('수집한 데이터는 약', int(df.shape[0]/10000), '만 건입니다')"
   ]
  },
  {
   "cell_type": "code",
   "execution_count": 4,
   "id": "2d1d4a95-e4d8-4942-a2ce-ebe1a4fc071c",
   "metadata": {},
   "outputs": [
    {
     "data": {
      "text/plain": [
       "Index(['Unnamed: 0', '뉴스 식별자', '일자', '언론사', '기고자', '제목', '통합 분류1', '통합 분류2',\n",
       "       '통합 분류3', '사건/사고 분류1', '사건/사고 분류2', '사건/사고 분류3', '인물', '위치', '기관',\n",
       "       '키워드', '특성추출(가중치순 상위 50개)', '본문', 'URL', '분석제외 여부', 'file_date_range'],\n",
       "      dtype='object')"
      ]
     },
     "execution_count": 4,
     "metadata": {},
     "output_type": "execute_result"
    }
   ],
   "source": [
    "df.columns"
   ]
  },
  {
   "cell_type": "markdown",
   "id": "ddf1a95c-3e5c-4fb6-acaf-57aced45ad4d",
   "metadata": {},
   "source": [
    "# EPU 직접 수집한 데이터로 계산\n",
    "## 처리 순서\n",
    "- 언론사 n개 정의\n",
    "- 경제, 불확실성, 정책 카테고리에 각각 하나의 용어를 공동으로 포함하는 기사를 수집\n",
    "- 기간에 맞게 뉴스 기사에 대한 데이터를 수집\n",
    "- 신문사, 월별로 관련 기사 수를 집계 후, 동일 신문의 총 기사 수로 집계하여 상대 빈도 수를 얻음\n",
    "- 각 신문의 상대 EPU 수를 전체 표본 기간의 단위 표준 편차로 표준화\n",
    "- 신문의 표준화 시리즈를 월별로 평균하여 전체 월간 한국 EPU지수\n",
    "- EPU 디수를 표본 기간 중 평균 100으로 정규화"
   ]
  },
  {
   "cell_type": "markdown",
   "id": "48a1f616-9482-46f1-9ff9-bec59f75c0b4",
   "metadata": {},
   "source": [
    "# 월별, 논문에 있는 EPU만 했을 때\n",
    "- 직접개발 0.361912\t< barker 0.412254"
   ]
  },
  {
   "cell_type": "code",
   "execution_count": 8,
   "id": "803739e3-2bf5-4132-9e47-045df49c952d",
   "metadata": {},
   "outputs": [],
   "source": [
    "# 경제\n",
    "e = ['경제','경기']\n",
    "# 정책\n",
    "p = ['불확실','불확실성','리스크','불투명','불안','우려','걱정']\n",
    "# 불확실\n",
    "u = '정부 청와대 국무회의 국회 의회 당국 한국은행 한은 중앙은행 기획재정부 기재부 금융위원회 금융위 정책 재정 입법 법안 법률 예산 재정 세금 규제 규정 적자 부족 부채 채무 연방준비제도 연준 Fed FRB 구조개혁 구조조정'.split()\n",
    "금융정책_불확실성_지수 =['통화정책','한국은행','한은','금융완화','추가완화','양적완화','질적완화','통화긴축','유동성긴축','마이너스 금리','통화할인율','재할인율','통화 운용','공개시장조작','물가안정목표','물가목표','금융통화위원회','금통위','금융통화운영위원회','금융통의','기준금리','정책금리','금리정책','통화당국','환금리']\n",
    "재정정책_불확실성_지수 = [\n",
    "    '재정정책', '정부 예산', '추가경정예산', '추경', '일반 회계', '특별 회계', '재정적자', '재정수지',\n",
    "    '세금', '조세', '정부지출', '재정지출', '사회보장성 지출', '국민연금 보험료', '국민건강 보험료',\n",
    "    '의료비 지출', '간병비 지출', '의료보수수가', '의료수가', '공무원급여', '공적개발원조', 'ODA',\n",
    "    '국방비', '군비', '국채 발행 잔여', '공공부문 부채', '재정부채', '국채', '정부부채', '지방채',\n",
    "    '경기부양', '경기부양책'\n",
    "]\n",
    "무역정책_불확실성_지수 = [\n",
    "    '통상문제', '무역문제', '비관세장벽', '수입제한', '포괄통상법', '종합무역법',\n",
    "    '무역정책', '통상정책', '무역협상', '세계무역기구', 'WTO',\n",
    "    '관세 및 무역에 관한 일반협정', 'GATT', '가트', '관세 인하',\n",
    "    '무역자유화', '수입자유화', '시장접근', '무역협정', '통상협정',\n",
    "    '환태평양경제동반자협정', 'TPP', '경제동반자협정', '경제파트너협정',\n",
    "    '경제 파트너십 협정', 'EPA', '자유무역협정', 'FTA', '무역분쟁',\n",
    "    '관세', '우루과이라운드', '도하라운드', '덤핑'\n",
    "]\n",
    "환율정책_불확실성_지수 = [\n",
    "    '외환정책', '환율정책', '시장개입', '외환시장 개입', '외환당국 개입',\n",
    "    '미세조정', '환율 안정책', '환율 안정 조치', '환율 변동성 완화',\n",
    "    '환율 조작', '외환보유고', '외환보유액', '달러매도', '원화 매입 개입'\n",
    "]"
   ]
  },
  {
   "cell_type": "code",
   "execution_count": 9,
   "id": "8c75bc35-70b1-4c2c-9a6e-5734d6f23613",
   "metadata": {},
   "outputs": [],
   "source": [
    "import re\n",
    "\n",
    "cols = ['키워드', '특성추출(가중치순 상위 50개)', '본문', '제목']          # 검색 대상 열\n",
    "joined = df[cols].fillna('').agg(' '.join, axis=1)                          # 네 열을 하나로 합침\n",
    "\n",
    "cond1 = joined.str.contains('|'.join(map(re.escape, e)))                    # 경제·경기\n",
    "cond2 = joined.str.contains('|'.join(map(re.escape, p)))                    # 불확실 관련\n",
    "cond3 = joined.str.contains('|'.join(map(re.escape, u)))                    # 정책(정부 등)\n",
    "                 # 정책(정부 등)\n",
    "\n",
    "# 세 조건을 모두 만족하는 기사만 추리기\n",
    "df_epu = df[cond1&cond2&cond3]"
   ]
  },
  {
   "cell_type": "code",
   "execution_count": 10,
   "id": "9bbad240-261a-4d88-8bf9-a3126af9bf8b",
   "metadata": {},
   "outputs": [
    {
     "name": "stdout",
     "output_type": "stream",
     "text": [
      "(86529, 21) 데이터를 사용하게 되었습니다\n",
      "전체의 1.993013661272669 %입니다.\n"
     ]
    }
   ],
   "source": [
    "print(df_epu.shape, '데이터를 사용하게 되었습니다')\n",
    "print('전체의', df_epu.shape[0]/df.shape[0] *100, '%입니다.')"
   ]
  },
  {
   "cell_type": "code",
   "execution_count": 11,
   "id": "3cc0ffd6-934e-4995-8e25-d3883eb7dbc8",
   "metadata": {},
   "outputs": [
    {
     "data": {
      "text/plain": [
       "Index(['Unnamed: 0', '뉴스 식별자', '일자', '언론사', '기고자', '제목', '통합 분류1', '통합 분류2',\n",
       "       '통합 분류3', '사건/사고 분류1', '사건/사고 분류2', '사건/사고 분류3', '인물', '위치', '기관',\n",
       "       '키워드', '특성추출(가중치순 상위 50개)', '본문', 'URL', '분석제외 여부', 'file_date_range'],\n",
       "      dtype='object')"
      ]
     },
     "execution_count": 11,
     "metadata": {},
     "output_type": "execute_result"
    }
   ],
   "source": [
    "df_epu.columns"
   ]
  },
  {
   "cell_type": "code",
   "execution_count": 12,
   "id": "40569c0d-2784-4289-8ed3-fb3f55c00488",
   "metadata": {},
   "outputs": [
    {
     "name": "stderr",
     "output_type": "stream",
     "text": [
      "C:\\Users\\samsung\\AppData\\Local\\Temp\\ipykernel_26620\\353623932.py:2: SettingWithCopyWarning: \n",
      "A value is trying to be set on a copy of a slice from a DataFrame.\n",
      "Try using .loc[row_indexer,col_indexer] = value instead\n",
      "\n",
      "See the caveats in the documentation: https://pandas.pydata.org/pandas-docs/stable/user_guide/indexing.html#returning-a-view-versus-a-copy\n",
      "  df_epu['일자'] = pd.to_datetime(df_epu['일자'], format='%Y%m%d')\n",
      "C:\\Users\\samsung\\AppData\\Local\\Temp\\ipykernel_26620\\353623932.py:3: SettingWithCopyWarning: \n",
      "A value is trying to be set on a copy of a slice from a DataFrame.\n",
      "Try using .loc[row_indexer,col_indexer] = value instead\n",
      "\n",
      "See the caveats in the documentation: https://pandas.pydata.org/pandas-docs/stable/user_guide/indexing.html#returning-a-view-versus-a-copy\n",
      "  df_epu['일자']= df_epu['일자'].dt.strftime('%Y-%m-01')\n"
     ]
    }
   ],
   "source": [
    "# 신문사 월별로 집계\n",
    "df_epu['일자'] = pd.to_datetime(df_epu['일자'], format='%Y%m%d')\n",
    "df_epu['일자']= df_epu['일자'].dt.strftime('%Y-%m-01')\n",
    "집계 = pd.DataFrame(df_epu.groupby(['일자','언론사']).size().reset_index())\n",
    "집계.columns = ['일자','언론사','epu기사수']"
   ]
  },
  {
   "cell_type": "code",
   "execution_count": 13,
   "id": "a257475f-6e5b-4105-97af-e23aba5e06e2",
   "metadata": {},
   "outputs": [],
   "source": [
    "# 각 신문의 상대 기사 수\n",
    "전체집계 = pd.DataFrame(df.groupby(['일자','언론사']).size().reset_index())\n",
    "전체집계['일자'] = pd.to_datetime(전체집계['일자'], format='%Y%m%d')\n",
    "전체집계['일자'] = 전체집계['일자'].dt.strftime('%Y-%m-01')\n",
    "전체집계.columns =  ['일자','언론사','전체기사수']\n",
    "전체집계 = 전체집계.groupby(['일자','언론사'])['전체기사수'].sum().reset_index()\n",
    "전체집계= 전체집계.merge(집계, on=['일자','언론사'])\n",
    "전체집계['상대빈도수'] = 전체집계['epu기사수']/전체집계['전체기사수']"
   ]
  },
  {
   "cell_type": "code",
   "execution_count": 14,
   "id": "d635ef66-b0df-458d-ac8c-6bc7b5b4fe00",
   "metadata": {},
   "outputs": [],
   "source": [
    "# 각 신문의 상대 EPU 수를 전체 표본 기간의 단위 표준 편차로 표준화\n",
    "전체집계['표준화빈도'] = 전체집계['상대빈도수'] / 전체집계.groupby('언론사')['상대빈도수'].transform('std')"
   ]
  },
  {
   "cell_type": "code",
   "execution_count": 15,
   "id": "8bcc78c0-ac8a-4e0a-8ca8-8c1e484f3485",
   "metadata": {},
   "outputs": [],
   "source": [
    "# 신문의 표준화 시리즈를 월별로 평균하여 전체 월간 한국 EPU지수\n",
    "전체집계['일자'] = pd.to_datetime(전체집계['일자'], format='%Y-%m-01')\n",
    "\n",
    "# ② 신문 간 단순 평균 → 월별 EPU\n",
    "monthly_epu = (전체집계\n",
    "               .groupby('일자')['표준화빈도']\n",
    "               .mean())"
   ]
  },
  {
   "cell_type": "code",
   "execution_count": 16,
   "id": "8b598986-521b-4675-9b21-5652257d7be8",
   "metadata": {},
   "outputs": [],
   "source": [
    "# EPU 지수를 표본 기간 중 평균 100으로 정규화\n",
    "korea_epu = (monthly_epu / monthly_epu.mean() * 100).rename('Korea_EPU')"
   ]
  },
  {
   "cell_type": "code",
   "execution_count": 17,
   "id": "18a382f4-c0e2-4f59-b488-41a0728ccb86",
   "metadata": {},
   "outputs": [
    {
     "data": {
      "text/plain": [
       "일자\n",
       "2015-01-01    102.836415\n",
       "2015-02-01     83.524611\n",
       "2015-03-01     90.767212\n",
       "2015-04-01     78.264460\n",
       "2015-05-01     80.920413\n",
       "2015-06-01    138.176954\n",
       "2015-07-01     93.882377\n",
       "2015-08-01    109.402812\n",
       "2015-09-01     94.984700\n",
       "2015-10-01     82.695156\n",
       "2015-11-01     86.096626\n",
       "2015-12-01    116.157674\n",
       "2016-01-01    143.724545\n",
       "2016-02-01    129.310440\n",
       "2016-03-01     90.072357\n",
       "2016-04-01     99.627492\n",
       "2016-05-01     90.733533\n",
       "2016-06-01    119.360231\n",
       "2016-07-01    107.158353\n",
       "2016-08-01     85.569942\n",
       "2016-09-01     86.030505\n",
       "2016-10-01     90.017048\n",
       "2016-11-01    120.675929\n",
       "2016-12-01    127.206672\n",
       "2017-01-01    127.107377\n",
       "2017-02-01    104.839699\n",
       "2017-03-01    100.993663\n",
       "2017-04-01     89.947354\n",
       "2017-05-01     83.871739\n",
       "2017-06-01     97.709238\n",
       "2017-07-01     90.243697\n",
       "2017-08-01     98.058954\n",
       "2017-09-01     98.726182\n",
       "2017-10-01     89.830472\n",
       "2017-11-01     84.812229\n",
       "2017-12-01     86.662940\n",
       "Name: Korea_EPU, dtype: float64"
      ]
     },
     "execution_count": 17,
     "metadata": {},
     "output_type": "execute_result"
    }
   ],
   "source": [
    "korea_epu"
   ]
  },
  {
   "cell_type": "code",
   "execution_count": 18,
   "id": "3f179f07-8a94-4f8e-aae3-d9e3f419bdf3",
   "metadata": {},
   "outputs": [],
   "source": [
    "pd.DataFrame(korea_epu).reset_index().to_csv('one_2015_to_2017.csv',index=False)"
   ]
  },
  {
   "cell_type": "markdown",
   "id": "29b2170c-c392-4907-a502-4ecd703d8408",
   "metadata": {},
   "source": [
    "# 논문에 있던 다른 키워드 추가\n",
    "- 직접개발 0.370857\t< barker 0.412254"
   ]
  },
  {
   "cell_type": "code",
   "execution_count": 19,
   "id": "d3d32d5d-fdbb-4201-9b3a-03073fe5f675",
   "metadata": {},
   "outputs": [],
   "source": [
    "# 1) 경제(E): 거시경기·실물경제를 직접 지칭\n",
    "e = [\n",
    "    \"경제\", \"경기\"\n",
    "]\n",
    "\n",
    "# 2) 정책(P): 정부·의회·당국 및 모든 정책·제도·규제·조치\n",
    "p = [\n",
    "    # ─ 기본 정책 키워드 ─\n",
    "    \"정부\", \"청와대\", \"국무회의\", \"국회\", \"의회\", \"당국\",\n",
    "    \"한국은행\", \"한은\", \"중앙은행\",\n",
    "    \"기획재정부\", \"기재부\", \"금융위원회\", \"금융위\",\n",
    "    \"정책\", \"재정\", \"입법\", \"법안\", \"법률\", \"예산\",\n",
    "    \"세금\", \"규제\", \"규정\", \"적자\", \"부채\", \"채무\",\n",
    "    \"연방준비제도\", \"연준\", \"Fed\", \"FRB\",\n",
    "    \"구조개혁\", \"구조조정\",\n",
    "\n",
    "    # ─ 통화·금융 정책 ─\n",
    "    \"통화정책\", \"금융완화\", \"추가완화\", \"양적완화\", \"질적완화\",\n",
    "    \"통화긴축\", \"유동성긴축\", \"마이너스 금리\", \"통화할인율\", \"재할인율\",\n",
    "    \"통화 운용\", \"공개시장조작\", \"물가안정목표\", \"물가목표\",\n",
    "    \"금융통화위원회\", \"금통위\", \"금융통화운영위원회\", \"금융통의\",\n",
    "    \"기준금리\", \"정책금리\", \"금리정책\", \"통화당국\", \"환금리\",\n",
    "\n",
    "    # ─ 재정 정책 ─\n",
    "    \"재정정책\", \"정부 예산\", \"추가경정예산\", \"추경\", \"일반 회계\", \"특별 회계\",\n",
    "    \"재정적자\", \"재정수지\", \"정부지출\", \"재정지출\",\n",
    "    \"사회보장성 지출\", \"국민연금 보험료\", \"국민건강 보험료\",\n",
    "    \"의료비 지출\", \"간병비 지출\", \"의료보수수가\", \"의료수가\",\n",
    "    \"공무원급여\", \"공적개발원조\", \"ODA\",\n",
    "    \"국방비\", \"군비\",\n",
    "    \"국채 발행 잔여\", \"공공부문 부채\", \"재정부채\", \"국채\", \"정부부채\", \"지방채\",\n",
    "    \"경기부양\", \"경기부양책\",\n",
    "\n",
    "    # ─ 무역·통상 정책 ─\n",
    "    \"통상문제\", \"무역문제\", \"비관세장벽\", \"수입제한\",\n",
    "    \"포괄통상법\", \"종합무역법\",\n",
    "    \"무역정책\", \"통상정책\", \"무역협상\",\n",
    "    \"세계무역기구\", \"WTO\",\n",
    "    \"관세 및 무역에 관한 일반협정\", \"GATT\", \"가트\",\n",
    "    \"관세 인하\", \"무역자유화\", \"수입자유화\", \"시장접근\",\n",
    "    \"무역협정\", \"통상협정\",\n",
    "    \"환태평양경제동반자협정\", \"TPP\",\n",
    "    \"경제동반자협정\", \"경제파트너협정\", \"경제 파트너십 협정\", \"EPA\",\n",
    "    \"자유무역협정\", \"FTA\",\n",
    "    \"무역분쟁\", \"관세\", \"우루과이라운드\", \"도하라운드\", \"덤핑\",\n",
    "\n",
    "    # ─ 환율 정책 ─\n",
    "    \"외환정책\", \"환율정책\", \"시장개입\", \"외환시장 개입\", \"외환당국 개입\",\n",
    "    \"미세조정\", \"환율 안정책\", \"환율 안정 조치\", \"환율 변동성 완화\",\n",
    "    \"환율 조작\", \"외환보유고\", \"외환보유액\", \"달러매도\", \"원화 매입 개입\"\n",
    "]\n",
    "\n",
    "# 3) 불확실(U): 모호성·위험·걱정·우려를 표현\n",
    "u = [\n",
    "    \"불확실\", \"불확실성\", \"리스크\", \"불투명\",\n",
    "    \"불안\", \"우려\", \"걱정\"\n",
    "]\n"
   ]
  },
  {
   "cell_type": "code",
   "execution_count": 20,
   "id": "d4c8e0ad-5e42-498e-ac89-c5b73b542184",
   "metadata": {},
   "outputs": [],
   "source": [
    "import re\n",
    "\n",
    "cols = ['키워드', '특성추출(가중치순 상위 50개)', '본문', '제목']          # 검색 대상 열\n",
    "joined = df[cols].fillna('').agg(' '.join, axis=1)                          # 네 열을 하나로 합침\n",
    "\n",
    "cond1 = joined.str.contains('|'.join(map(re.escape, e)))                    # 경제·경기\n",
    "cond2 = joined.str.contains('|'.join(map(re.escape, p)))                    # 불확실 관련\n",
    "cond3 = joined.str.contains('|'.join(map(re.escape, u)))                    # 정책(정부 등)\n",
    "                 # 정책(정부 등)\n",
    "\n",
    "# 세 조건을 모두 만족하는 기사만 추리기\n",
    "df_epu = df[cond1&cond2&cond3]"
   ]
  },
  {
   "cell_type": "code",
   "execution_count": 21,
   "id": "9a973e28-cb4f-4eeb-bd3d-d144d03f9426",
   "metadata": {},
   "outputs": [
    {
     "name": "stdout",
     "output_type": "stream",
     "text": [
      "(83932, 21) 데이터를 사용하게 되었습니다\n",
      "전체의 1.9331972242593543 %입니다.\n"
     ]
    }
   ],
   "source": [
    "print(df_epu.shape, '데이터를 사용하게 되었습니다')\n",
    "print('전체의', df_epu.shape[0]/df.shape[0] *100, '%입니다.')"
   ]
  },
  {
   "cell_type": "code",
   "execution_count": 22,
   "id": "858761fd-8205-4e08-b6e9-18186c7a99a9",
   "metadata": {},
   "outputs": [
    {
     "data": {
      "text/plain": [
       "Index(['Unnamed: 0', '뉴스 식별자', '일자', '언론사', '기고자', '제목', '통합 분류1', '통합 분류2',\n",
       "       '통합 분류3', '사건/사고 분류1', '사건/사고 분류2', '사건/사고 분류3', '인물', '위치', '기관',\n",
       "       '키워드', '특성추출(가중치순 상위 50개)', '본문', 'URL', '분석제외 여부', 'file_date_range'],\n",
       "      dtype='object')"
      ]
     },
     "execution_count": 22,
     "metadata": {},
     "output_type": "execute_result"
    }
   ],
   "source": [
    "df_epu.columns"
   ]
  },
  {
   "cell_type": "code",
   "execution_count": 23,
   "id": "37564fb5-9494-4132-9caa-dc30363351ec",
   "metadata": {},
   "outputs": [
    {
     "name": "stderr",
     "output_type": "stream",
     "text": [
      "C:\\Users\\samsung\\AppData\\Local\\Temp\\ipykernel_26620\\353623932.py:2: SettingWithCopyWarning: \n",
      "A value is trying to be set on a copy of a slice from a DataFrame.\n",
      "Try using .loc[row_indexer,col_indexer] = value instead\n",
      "\n",
      "See the caveats in the documentation: https://pandas.pydata.org/pandas-docs/stable/user_guide/indexing.html#returning-a-view-versus-a-copy\n",
      "  df_epu['일자'] = pd.to_datetime(df_epu['일자'], format='%Y%m%d')\n",
      "C:\\Users\\samsung\\AppData\\Local\\Temp\\ipykernel_26620\\353623932.py:3: SettingWithCopyWarning: \n",
      "A value is trying to be set on a copy of a slice from a DataFrame.\n",
      "Try using .loc[row_indexer,col_indexer] = value instead\n",
      "\n",
      "See the caveats in the documentation: https://pandas.pydata.org/pandas-docs/stable/user_guide/indexing.html#returning-a-view-versus-a-copy\n",
      "  df_epu['일자']= df_epu['일자'].dt.strftime('%Y-%m-01')\n"
     ]
    }
   ],
   "source": [
    "# 신문사 월별로 집계\n",
    "df_epu['일자'] = pd.to_datetime(df_epu['일자'], format='%Y%m%d')\n",
    "df_epu['일자']= df_epu['일자'].dt.strftime('%Y-%m-01')\n",
    "집계 = pd.DataFrame(df_epu.groupby(['일자','언론사']).size().reset_index())\n",
    "집계.columns = ['일자','언론사','epu기사수']"
   ]
  },
  {
   "cell_type": "code",
   "execution_count": 24,
   "id": "59e98190-421a-4ebc-9855-6d106086a9ae",
   "metadata": {},
   "outputs": [],
   "source": [
    "# 각 신문의 상대 기사 수\n",
    "전체집계 = pd.DataFrame(df.groupby(['일자','언론사']).size().reset_index())\n",
    "전체집계['일자'] = pd.to_datetime(전체집계['일자'], format='%Y%m%d')\n",
    "전체집계['일자'] = 전체집계['일자'].dt.strftime('%Y-%m-01')\n",
    "전체집계.columns =  ['일자','언론사','전체기사수']\n",
    "전체집계 = 전체집계.groupby(['일자','언론사'])['전체기사수'].sum().reset_index()\n",
    "전체집계= 전체집계.merge(집계, on=['일자','언론사'])\n",
    "전체집계['상대빈도수'] = 전체집계['epu기사수']/전체집계['전체기사수']"
   ]
  },
  {
   "cell_type": "code",
   "execution_count": 25,
   "id": "64d83794-478c-4232-a657-88bbb832fd0a",
   "metadata": {},
   "outputs": [],
   "source": [
    "# 각 신문의 상대 EPU 수를 전체 표본 기간의 단위 표준 편차로 표준화\n",
    "전체집계['표준화빈도'] = 전체집계['상대빈도수'] / 전체집계.groupby('언론사')['상대빈도수'].transform('std')"
   ]
  },
  {
   "cell_type": "code",
   "execution_count": 26,
   "id": "731befaf-2ce8-4505-8021-331ef978711f",
   "metadata": {},
   "outputs": [],
   "source": [
    "# 신문의 표준화 시리즈를 월별로 평균하여 전체 월간 한국 EPU지수\n",
    "전체집계['일자'] = pd.to_datetime(전체집계['일자'], format='%Y-%m-01')\n",
    "\n",
    "# ② 신문 간 단순 평균 → 월별 EPU\n",
    "monthly_epu = (전체집계\n",
    "               .groupby('일자')['표준화빈도']\n",
    "               .mean())"
   ]
  },
  {
   "cell_type": "code",
   "execution_count": 27,
   "id": "110c67d3-dffa-4d71-9e2a-19029b6f4fcc",
   "metadata": {},
   "outputs": [],
   "source": [
    "# EPU 지수를 표본 기간 중 평균 100으로 정규화\n",
    "korea_epu = (monthly_epu / monthly_epu.mean() * 100).rename('Korea_EPU')"
   ]
  },
  {
   "cell_type": "code",
   "execution_count": 28,
   "id": "4657c753-a023-4aab-b1fe-204d6892cda1",
   "metadata": {},
   "outputs": [
    {
     "data": {
      "text/plain": [
       "일자\n",
       "2015-01-01    102.144195\n",
       "2015-02-01     82.260171\n",
       "2015-03-01     89.591435\n",
       "2015-04-01     77.580952\n",
       "2015-05-01     80.388121\n",
       "2015-06-01    137.655520\n",
       "2015-07-01     92.712175\n",
       "2015-08-01    109.846744\n",
       "2015-09-01     95.976677\n",
       "2015-10-01     83.842428\n",
       "2015-11-01     86.868019\n",
       "2015-12-01    117.203779\n",
       "2016-01-01    144.655272\n",
       "2016-02-01    131.544943\n",
       "2016-03-01     89.708074\n",
       "2016-04-01     99.722775\n",
       "2016-05-01     90.725724\n",
       "2016-06-01    121.354998\n",
       "2016-07-01    107.153846\n",
       "2016-08-01     85.028904\n",
       "2016-09-01     84.416950\n",
       "2016-10-01     89.381130\n",
       "2016-11-01    121.364690\n",
       "2016-12-01    128.417024\n",
       "2017-01-01    127.737323\n",
       "2017-02-01    104.237863\n",
       "2017-03-01    100.099913\n",
       "2017-04-01     89.860972\n",
       "2017-05-01     83.659804\n",
       "2017-06-01     98.145861\n",
       "2017-07-01     89.507957\n",
       "2017-08-01     98.863345\n",
       "2017-09-01     99.234806\n",
       "2017-10-01     88.432933\n",
       "2017-11-01     84.649404\n",
       "2017-12-01     86.025275\n",
       "Name: Korea_EPU, dtype: float64"
      ]
     },
     "execution_count": 28,
     "metadata": {},
     "output_type": "execute_result"
    }
   ],
   "source": [
    "korea_epu"
   ]
  },
  {
   "cell_type": "code",
   "execution_count": 29,
   "id": "f6d8eb9b-a5f2-4762-8493-925243704a38",
   "metadata": {},
   "outputs": [],
   "source": [
    "pd.DataFrame(korea_epu).reset_index().to_csv('two_2015_to_2017.csv',index=False)"
   ]
  },
  {
   "cell_type": "markdown",
   "id": "83ea50e9-1cae-4aa3-897f-8d632b56bb19",
   "metadata": {},
   "source": [
    "# KDI 한국개발연구원 키워드만\n",
    "- 직접개발 0.500216 > barker 0.412254 \t"
   ]
  },
  {
   "cell_type": "code",
   "execution_count": 30,
   "id": "258e9a1a-87b5-4314-bbcc-c40d792dd2cf",
   "metadata": {},
   "outputs": [],
   "source": [
    "# 1) 경제(E): 거시경기·실물경제를 직접 지칭\n",
    "e = [\n",
    "    '경제','경제의','상업','무역'\n",
    "]\n",
    "\n",
    "# 2) 정책(P): 정부·의회·당국 및 모든 정책·제도·규제·조치\n",
    "p = [\n",
    "    '정부', '청와대', '국회', '당국', '한국은행', '중앙은행', '한은', '기재부', '기획재정부', '세계무역기구'\n",
    "    , 'WTO', '제정', '재정법', '입법', '세금', '규제', '규정', '적자', '부족'\n",
    "]\n",
    "\n",
    "# 3) 불확실(U): 모호성·위험·걱정·우려를 표현\n",
    "u = [\n",
    "    '불확실성','불확'\n",
    "]\n"
   ]
  },
  {
   "cell_type": "code",
   "execution_count": 31,
   "id": "a4eecbf3-7593-4f33-bdf8-9569bd697036",
   "metadata": {},
   "outputs": [],
   "source": [
    "import re\n",
    "\n",
    "cols = ['키워드', '특성추출(가중치순 상위 50개)', '본문', '제목']          # 검색 대상 열\n",
    "joined = df[cols].fillna('').agg(' '.join, axis=1)                          # 네 열을 하나로 합침\n",
    "\n",
    "cond1 = joined.str.contains('|'.join(map(re.escape, e)))                    # 경제·경기\n",
    "cond2 = joined.str.contains('|'.join(map(re.escape, p)))                    # 불확실 관련\n",
    "cond3 = joined.str.contains('|'.join(map(re.escape, u)))                    # 정책(정부 등)\n",
    "                 # 정책(정부 등)\n",
    "\n",
    "# 세 조건을 모두 만족하는 기사만 추리기\n",
    "df_epu = df[cond1&cond2&cond3]"
   ]
  },
  {
   "cell_type": "code",
   "execution_count": 32,
   "id": "6704e1ed-4feb-4058-a6a2-3cc4a180efee",
   "metadata": {},
   "outputs": [
    {
     "name": "stdout",
     "output_type": "stream",
     "text": [
      "(3644, 21) 데이터를 사용하게 되었습니다\n",
      "전체의 0.08393188158510563 %입니다.\n"
     ]
    }
   ],
   "source": [
    "print(df_epu.shape, '데이터를 사용하게 되었습니다')\n",
    "print('전체의', df_epu.shape[0]/df.shape[0] *100, '%입니다.')"
   ]
  },
  {
   "cell_type": "code",
   "execution_count": 33,
   "id": "9ce98a80-f6d7-475b-af52-52abca175b01",
   "metadata": {},
   "outputs": [
    {
     "data": {
      "text/plain": [
       "Index(['Unnamed: 0', '뉴스 식별자', '일자', '언론사', '기고자', '제목', '통합 분류1', '통합 분류2',\n",
       "       '통합 분류3', '사건/사고 분류1', '사건/사고 분류2', '사건/사고 분류3', '인물', '위치', '기관',\n",
       "       '키워드', '특성추출(가중치순 상위 50개)', '본문', 'URL', '분석제외 여부', 'file_date_range'],\n",
       "      dtype='object')"
      ]
     },
     "execution_count": 33,
     "metadata": {},
     "output_type": "execute_result"
    }
   ],
   "source": [
    "df_epu.columns"
   ]
  },
  {
   "cell_type": "code",
   "execution_count": 34,
   "id": "dc4c1425-a6d3-4a1c-9f8c-ebc6e1dd6b25",
   "metadata": {},
   "outputs": [
    {
     "name": "stderr",
     "output_type": "stream",
     "text": [
      "C:\\Users\\samsung\\AppData\\Local\\Temp\\ipykernel_26620\\353623932.py:2: SettingWithCopyWarning: \n",
      "A value is trying to be set on a copy of a slice from a DataFrame.\n",
      "Try using .loc[row_indexer,col_indexer] = value instead\n",
      "\n",
      "See the caveats in the documentation: https://pandas.pydata.org/pandas-docs/stable/user_guide/indexing.html#returning-a-view-versus-a-copy\n",
      "  df_epu['일자'] = pd.to_datetime(df_epu['일자'], format='%Y%m%d')\n",
      "C:\\Users\\samsung\\AppData\\Local\\Temp\\ipykernel_26620\\353623932.py:3: SettingWithCopyWarning: \n",
      "A value is trying to be set on a copy of a slice from a DataFrame.\n",
      "Try using .loc[row_indexer,col_indexer] = value instead\n",
      "\n",
      "See the caveats in the documentation: https://pandas.pydata.org/pandas-docs/stable/user_guide/indexing.html#returning-a-view-versus-a-copy\n",
      "  df_epu['일자']= df_epu['일자'].dt.strftime('%Y-%m-01')\n"
     ]
    }
   ],
   "source": [
    "# 신문사 월별로 집계\n",
    "df_epu['일자'] = pd.to_datetime(df_epu['일자'], format='%Y%m%d')\n",
    "df_epu['일자']= df_epu['일자'].dt.strftime('%Y-%m-01')\n",
    "집계 = pd.DataFrame(df_epu.groupby(['일자','언론사']).size().reset_index())\n",
    "집계.columns = ['일자','언론사','epu기사수']"
   ]
  },
  {
   "cell_type": "code",
   "execution_count": 35,
   "id": "f405edf7-6a64-4e9f-a190-e7b7685a5145",
   "metadata": {},
   "outputs": [],
   "source": [
    "# 각 신문의 상대 기사 수\n",
    "전체집계 = pd.DataFrame(df.groupby(['일자','언론사']).size().reset_index())\n",
    "전체집계['일자'] = pd.to_datetime(전체집계['일자'], format='%Y%m%d')\n",
    "전체집계['일자'] = 전체집계['일자'].dt.strftime('%Y-%m-01')\n",
    "전체집계.columns =  ['일자','언론사','전체기사수']\n",
    "전체집계 = 전체집계.groupby(['일자','언론사'])['전체기사수'].sum().reset_index()\n",
    "전체집계= 전체집계.merge(집계, on=['일자','언론사'])\n",
    "전체집계['상대빈도수'] = 전체집계['epu기사수']/전체집계['전체기사수']"
   ]
  },
  {
   "cell_type": "code",
   "execution_count": 36,
   "id": "ce230cd4-cbc8-4ef7-8ec5-13d140e3f547",
   "metadata": {},
   "outputs": [],
   "source": [
    "# 각 신문의 상대 EPU 수를 전체 표본 기간의 단위 표준 편차로 표준화\n",
    "전체집계['표준화빈도'] = 전체집계['상대빈도수'] / 전체집계.groupby('언론사')['상대빈도수'].transform('std')"
   ]
  },
  {
   "cell_type": "code",
   "execution_count": 37,
   "id": "c8823698-ae7e-4251-a2b2-cea5a6533994",
   "metadata": {},
   "outputs": [],
   "source": [
    "# 신문의 표준화 시리즈를 월별로 평균하여 전체 월간 한국 EPU지수\n",
    "전체집계['일자'] = pd.to_datetime(전체집계['일자'], format='%Y-%m-01')\n",
    "\n",
    "# ② 신문 간 단순 평균 → 월별 EPU\n",
    "monthly_epu = (전체집계\n",
    "               .groupby('일자')['표준화빈도']\n",
    "               .mean())"
   ]
  },
  {
   "cell_type": "code",
   "execution_count": 38,
   "id": "47a43a7c-aea3-4890-b9a6-0cb593e79bc5",
   "metadata": {},
   "outputs": [],
   "source": [
    "# EPU 지수를 표본 기간 중 평균 100으로 정규화\n",
    "korea_epu = (monthly_epu / monthly_epu.mean() * 100).rename('Korea_EPU')"
   ]
  },
  {
   "cell_type": "code",
   "execution_count": 39,
   "id": "d0e457a9-c7de-4454-b3ff-95bc47c4e986",
   "metadata": {},
   "outputs": [
    {
     "data": {
      "text/plain": [
       "일자\n",
       "2015-01-01     82.855053\n",
       "2015-02-01     78.914957\n",
       "2015-03-01     49.327322\n",
       "2015-04-01     39.154369\n",
       "2015-05-01     56.888790\n",
       "2015-06-01     59.574665\n",
       "2015-07-01     49.940267\n",
       "2015-08-01     78.891061\n",
       "2015-09-01    122.093731\n",
       "2015-10-01     83.781760\n",
       "2015-11-01     67.427367\n",
       "2015-12-01    118.779825\n",
       "2016-01-01    129.140112\n",
       "2016-02-01     96.599794\n",
       "2016-03-01     68.283376\n",
       "2016-04-01     54.155040\n",
       "2016-05-01     43.796704\n",
       "2016-06-01    204.595290\n",
       "2016-07-01    145.955004\n",
       "2016-08-01     34.361479\n",
       "2016-09-01     54.758661\n",
       "2016-10-01     55.213776\n",
       "2016-11-01    331.372935\n",
       "2016-12-01    291.985495\n",
       "2017-01-01    304.345459\n",
       "2017-02-01    232.494672\n",
       "2017-03-01    136.951070\n",
       "2017-04-01     85.743823\n",
       "2017-05-01     89.853219\n",
       "2017-06-01     53.164348\n",
       "2017-07-01     38.376761\n",
       "2017-08-01     55.689720\n",
       "2017-09-01     56.787748\n",
       "2017-10-01     39.952627\n",
       "2017-11-01     48.048301\n",
       "2017-12-01     60.745420\n",
       "Name: Korea_EPU, dtype: float64"
      ]
     },
     "execution_count": 39,
     "metadata": {},
     "output_type": "execute_result"
    }
   ],
   "source": [
    "korea_epu"
   ]
  },
  {
   "cell_type": "code",
   "execution_count": 40,
   "id": "c0b1a6bb-3766-47b5-888b-4506a7e84b47",
   "metadata": {},
   "outputs": [],
   "source": [
    "pd.DataFrame(korea_epu).reset_index().to_csv('three_2015_to_2017.csv',index=False)"
   ]
  }
 ],
 "metadata": {
  "kernelspec": {
   "display_name": "Python 3 (ipykernel)",
   "language": "python",
   "name": "python3"
  },
  "language_info": {
   "codemirror_mode": {
    "name": "ipython",
    "version": 3
   },
   "file_extension": ".py",
   "mimetype": "text/x-python",
   "name": "python",
   "nbconvert_exporter": "python",
   "pygments_lexer": "ipython3",
   "version": "3.12.7"
  }
 },
 "nbformat": 4,
 "nbformat_minor": 5
}
