{
 "cells": [
  {
   "cell_type": "code",
   "execution_count": 6,
   "id": "2194d3bc-f53a-4725-9c9c-26b6e4f9f7e6",
   "metadata": {},
   "outputs": [
    {
     "name": "stdout",
     "output_type": "stream",
     "text": [
      "완료\n"
     ]
    }
   ],
   "source": [
    "# 환율 = pd.read_csv('어쩌면최종데이터.csv')\n",
    "\n",
    "# # ✅ 결측값 개수 및 비율 계산\n",
    "# null_df = pd.DataFrame({\n",
    "#     '결측값 개수': 환율.isnull().sum(),\n",
    "#     '결측 비율 (%)': 환율.isnull().mean() * 100\n",
    "# })\n",
    "\n",
    "# # ✅ 'alpha'가 컬럼명에 포함된 것 중에서만 결측 비율 5% 이상인 컬럼 필터링\n",
    "# alpha_cols = [col for col in 환율.columns if 'alpha' in col]\n",
    "# alpha_null_df = null_df.loc[alpha_cols]\n",
    "# drop_cols = alpha_null_df[alpha_null_df['결측 비율 (%)'] >= 5].index.tolist()\n",
    "\n",
    "# # ✅ 해당 alpha 컬럼들만 삭제\n",
    "# 환율 = 환율.drop(columns=drop_cols)\n",
    "\n",
    "# # ✅ 남은 결측값 전체 삭제 (단, alpha 외 컬럼 포함)\n",
    "# 환율 = 환율.dropna()\n",
    "\n",
    "# 환율 = 환율.sort_values(by='Date').reset_index(drop=True)\n",
    "# print('완료')"
   ]
  },
  {
   "cell_type": "markdown",
   "id": "9d8b00f8-00f3-40da-a444-0a1efa201cf6",
   "metadata": {},
   "source": [
    "# 데이터 준비"
   ]
  },
  {
   "cell_type": "code",
   "execution_count": 50,
   "id": "2bce27c5-81ca-4c62-9b61-159d3ba8f6e1",
   "metadata": {},
   "outputs": [],
   "source": [
    "import pandas as pd\n",
    "import numpy as np"
   ]
  },
  {
   "cell_type": "code",
   "execution_count": 51,
   "id": "f69a5e8c-ec69-482e-ba11-4238a4c62a3d",
   "metadata": {},
   "outputs": [
    {
     "data": {
      "text/plain": [
       "(5325676, 20)"
      ]
     },
     "execution_count": 51,
     "metadata": {},
     "output_type": "execute_result"
    }
   ],
   "source": [
    "df = pd.read_csv('df_2021_to_2025.csv')\n",
    "df.shape"
   ]
  },
  {
   "cell_type": "code",
   "execution_count": 52,
   "id": "200caf65-dfcd-4d9f-b64b-cf4dddf90ec1",
   "metadata": {},
   "outputs": [
    {
     "data": {
      "text/plain": [
       "0          20210106\n",
       "1          20210106\n",
       "2          20210106\n",
       "3          20210106\n",
       "4          20210106\n",
       "             ...   \n",
       "5325671    20250723\n",
       "5325672    20250723\n",
       "5325673    20250723\n",
       "5325674    20250723\n",
       "5325675    20250723\n",
       "Name: 일자, Length: 5325676, dtype: int64"
      ]
     },
     "execution_count": 52,
     "metadata": {},
     "output_type": "execute_result"
    }
   ],
   "source": [
    "df['일자']"
   ]
  },
  {
   "cell_type": "code",
   "execution_count": 53,
   "id": "76308358-3c9d-4bae-9024-49a21f17a2a0",
   "metadata": {},
   "outputs": [
    {
     "name": "stdout",
     "output_type": "stream",
     "text": [
      "수집한 데이터는 약 532 만 건입니다\n"
     ]
    }
   ],
   "source": [
    "print('수집한 데이터는 약', int(df.shape[0]/10000), '만 건입니다')"
   ]
  },
  {
   "cell_type": "markdown",
   "id": "ae001c37-732b-4c7d-af05-f5112aabf053",
   "metadata": {},
   "source": [
    "# EPU에 포함되는 것만 필터링"
   ]
  },
  {
   "cell_type": "code",
   "execution_count": 5,
   "id": "86b17f2a-e070-4f4a-aee6-73da47a23b87",
   "metadata": {},
   "outputs": [],
   "source": [
    "# 1) 경제(E): 거시경기·실물경제를 직접 지칭\n",
    "e = [\n",
    "    \"경제\", \"경기\"\n",
    "]\n",
    "\n",
    "# 2) 정책(P): 정부·의회·당국 및 모든 정책·제도·규제·조치\n",
    "p = [\n",
    "    # ─ 기본 정책 키워드 ─\n",
    "    \"정부\", \"청와대\", \"국무회의\", \"국회\", \"의회\", \"당국\",\n",
    "    \"한국은행\", \"한은\", \"중앙은행\",\n",
    "    \"기획재정부\", \"기재부\", \"금융위원회\", \"금융위\",\n",
    "    \"정책\", \"재정\", \"입법\", \"법안\", \"법률\", \"예산\",\n",
    "    \"세금\", \"규제\", \"규정\", \"적자\", \"부채\", \"채무\",\n",
    "    \"연방준비제도\", \"연준\", \"Fed\", \"FRB\",\n",
    "    \"구조개혁\", \"구조조정\",\n",
    "\n",
    "    # ─ 통화·금융 정책 ─\n",
    "    \"통화정책\", \"금융완화\", \"추가완화\", \"양적완화\", \"질적완화\",\n",
    "    \"통화긴축\", \"유동성긴축\", \"마이너스 금리\", \"통화할인율\", \"재할인율\",\n",
    "    \"통화 운용\", \"공개시장조작\", \"물가안정목표\", \"물가목표\",\n",
    "    \"금융통화위원회\", \"금통위\", \"금융통화운영위원회\", \"금융통의\",\n",
    "    \"기준금리\", \"정책금리\", \"금리정책\", \"통화당국\", \"환금리\",\n",
    "\n",
    "    # ─ 재정 정책 ─\n",
    "    \"재정정책\", \"정부 예산\", \"추가경정예산\", \"추경\", \"일반 회계\", \"특별 회계\",\n",
    "    \"재정적자\", \"재정수지\", \"정부지출\", \"재정지출\",\n",
    "    \"사회보장성 지출\", \"국민연금 보험료\", \"국민건강 보험료\",\n",
    "    \"의료비 지출\", \"간병비 지출\", \"의료보수수가\", \"의료수가\",\n",
    "    \"공무원급여\", \"공적개발원조\", \"ODA\",\n",
    "    \"국방비\", \"군비\",\n",
    "    \"국채 발행 잔여\", \"공공부문 부채\", \"재정부채\", \"국채\", \"정부부채\", \"지방채\",\n",
    "    \"경기부양\", \"경기부양책\",\n",
    "\n",
    "    # ─ 무역·통상 정책 ─\n",
    "    \"통상문제\", \"무역문제\", \"비관세장벽\", \"수입제한\",\n",
    "    \"포괄통상법\", \"종합무역법\",\n",
    "    \"무역정책\", \"통상정책\", \"무역협상\",\n",
    "    \"세계무역기구\", \"WTO\",\n",
    "    \"관세 및 무역에 관한 일반협정\", \"GATT\", \"가트\",\n",
    "    \"관세 인하\", \"무역자유화\", \"수입자유화\", \"시장접근\",\n",
    "    \"무역협정\", \"통상협정\",\n",
    "    \"환태평양경제동반자협정\", \"TPP\",\n",
    "    \"경제동반자협정\", \"경제파트너협정\", \"경제 파트너십 협정\", \"EPA\",\n",
    "    \"자유무역협정\", \"FTA\",\n",
    "    \"무역분쟁\", \"관세\", \"우루과이라운드\", \"도하라운드\", \"덤핑\",\n",
    "\n",
    "    # ─ 환율 정책 ─\n",
    "    \"외환정책\", \"환율정책\", \"시장개입\", \"외환시장 개입\", \"외환당국 개입\",\n",
    "    \"미세조정\", \"환율 안정책\", \"환율 안정 조치\", \"환율 변동성 완화\",\n",
    "    \"환율 조작\", \"외환보유고\", \"외환보유액\", \"달러매도\", \"원화 매입 개입\"\n",
    "]\n",
    "\n",
    "# 3) 불확실(U): 모호성·위험·걱정·우려를 표현\n",
    "u = [\n",
    "    \"불확실\", \"불확실성\", \"리스크\", \"불투명\",\n",
    "    \"불안\", \"우려\", \"걱정\"\n",
    "]\n"
   ]
  },
  {
   "cell_type": "code",
   "execution_count": 6,
   "id": "36feca5c-6863-464e-abc9-35b07c8755c7",
   "metadata": {},
   "outputs": [],
   "source": [
    "import re\n",
    "\n",
    "cols = ['키워드', '특성추출(가중치순 상위 50개)', '본문', '제목']          # 검색 대상 열\n",
    "joined = df[cols].fillna('').agg(' '.join, axis=1)                          # 네 열을 하나로 합침\n",
    "\n",
    "cond1 = joined.str.contains('|'.join(map(re.escape, e)))                    # 경제·경기\n",
    "cond2 = joined.str.contains('|'.join(map(re.escape, p)))                    # 불확실 관련\n",
    "cond3 = joined.str.contains('|'.join(map(re.escape, u)))                    # 정책(정부 등)\n",
    "                 # 정책(정부 등)\n",
    "\n",
    "# 세 조건을 모두 만족하는 기사만 추리기\n",
    "df = df[cond1&cond2&cond3]"
   ]
  },
  {
   "cell_type": "code",
   "execution_count": 7,
   "id": "08bbfe12-424d-4aeb-aa65-7c2405eb1c91",
   "metadata": {},
   "outputs": [
    {
     "name": "stdout",
     "output_type": "stream",
     "text": [
      "사용할 데이터는 약 16 만 건입니다\n"
     ]
    }
   ],
   "source": [
    "print('사용할 데이터는 약', int(df.shape[0]/10000), '만 건입니다')"
   ]
  },
  {
   "cell_type": "markdown",
   "id": "43f933ea-13d3-4ef8-ac5f-b73f7c2bb2fd",
   "metadata": {},
   "source": [
    "# 월별 토픽 모델링(제목)"
   ]
  },
  {
   "cell_type": "code",
   "execution_count": 35,
   "id": "d7ab12c8-0ff0-44a2-85b3-f887329debf6",
   "metadata": {},
   "outputs": [
    {
     "name": "stderr",
     "output_type": "stream",
     "text": [
      "C:\\Users\\samsung\\AppData\\Local\\Temp\\ipykernel_13724\\1362219350.py:3: SettingWithCopyWarning: \n",
      "A value is trying to be set on a copy of a slice from a DataFrame.\n",
      "Try using .loc[row_indexer,col_indexer] = value instead\n",
      "\n",
      "See the caveats in the documentation: https://pandas.pydata.org/pandas-docs/stable/user_guide/indexing.html#returning-a-view-versus-a-copy\n",
      "  df2['일자'] = pd.to_datetime(df2['일자'], format='%Y%m%d')\n",
      "C:\\Users\\samsung\\AppData\\Local\\Temp\\ipykernel_13724\\1362219350.py:4: SettingWithCopyWarning: \n",
      "A value is trying to be set on a copy of a slice from a DataFrame.\n",
      "Try using .loc[row_indexer,col_indexer] = value instead\n",
      "\n",
      "See the caveats in the documentation: https://pandas.pydata.org/pandas-docs/stable/user_guide/indexing.html#returning-a-view-versus-a-copy\n",
      "  df2['연'] = df2['일자'].dt.year\n",
      "C:\\Users\\samsung\\AppData\\Local\\Temp\\ipykernel_13724\\1362219350.py:5: SettingWithCopyWarning: \n",
      "A value is trying to be set on a copy of a slice from a DataFrame.\n",
      "Try using .loc[row_indexer,col_indexer] = value instead\n",
      "\n",
      "See the caveats in the documentation: https://pandas.pydata.org/pandas-docs/stable/user_guide/indexing.html#returning-a-view-versus-a-copy\n",
      "  df2['월'] = df2['일자'].dt.month\n"
     ]
    },
    {
     "data": {
      "text/plain": [
       "(91319, 5)"
      ]
     },
     "execution_count": 35,
     "metadata": {},
     "output_type": "execute_result"
    }
   ],
   "source": [
    "df2 = df[['일자','키워드','언론사']]\n",
    "\n",
    "df2['일자'] = pd.to_datetime(df2['일자'], format='%Y%m%d')\n",
    "df2['연'] = df2['일자'].dt.year\n",
    "df2['월'] = df2['일자'].dt.month\n",
    "df2 = df2[df2['연'] >= 2023]\n",
    "df2.shape"
   ]
  },
  {
   "cell_type": "code",
   "execution_count": 36,
   "id": "7bc80b4f-9d84-4ee4-9de8-81fc4b1471bf",
   "metadata": {},
   "outputs": [
    {
     "data": {
      "text/plain": [
       "Index(['일자', '키워드', '언론사', '연', '월'], dtype='object')"
      ]
     },
     "execution_count": 36,
     "metadata": {},
     "output_type": "execute_result"
    }
   ],
   "source": [
    "df2.columns"
   ]
  },
  {
   "cell_type": "code",
   "execution_count": 37,
   "id": "549a3841-30a6-4b57-bd09-8c5ce6994c4e",
   "metadata": {},
   "outputs": [
    {
     "data": {
      "text/plain": [
       "언론사\n",
       "서울경제    12240\n",
       "매일경제    11470\n",
       "한국경제    11061\n",
       "세계일보     9121\n",
       "중앙일보     8574\n",
       "경향신문     7488\n",
       "서울신문     5977\n",
       "동아일보     5499\n",
       "한겨레      5104\n",
       "국민일보     5094\n",
       "문화일보     4852\n",
       "조선일보     4839\n",
       "Name: count, dtype: int64"
      ]
     },
     "execution_count": 37,
     "metadata": {},
     "output_type": "execute_result"
    }
   ],
   "source": [
    "df2['언론사'].value_counts()"
   ]
  },
  {
   "cell_type": "code",
   "execution_count": 43,
   "id": "b049e592-f52b-4206-95d8-a2a754b96dc8",
   "metadata": {},
   "outputs": [
    {
     "data": {
      "image/png": "[encoded data removed]",
      "text/plain": [
       "<Figure size 1000x600 with 1 Axes>"
      ]
     },
     "metadata": {},
     "output_type": "display_data"
    }
   ],
   "source": [
    "import matplotlib.pyplot as plt\n",
    "plt.rcParams['font.family']='Malgun Gothic'\n",
    "# 언론사별 기사 수 집계\n",
    "counts = df2['언론사'].value_counts()\n",
    "\n",
    "# 색상 리스트 생성 (상위 3개는 초록색 계열, 나머지는 회색)\n",
    "colors = ['skyblue', 'skyblue', 'skyblue'] + ['lightgray'] * (len(counts) - 3)\n",
    "\n",
    "# 그래프 그리기\n",
    "plt.figure(figsize=(10, 6))\n",
    "bars = plt.bar(counts.index, counts.values, color=colors)\n",
    "\n",
    "# 제목/레이블\n",
    "plt.title('2023년부터 언론사별 기사 수', fontsize=18)\n",
    "plt.xlabel('언론사')\n",
    "plt.ylabel('기사 수')\n",
    "plt.xticks(rotation=45, ha='right', fontsize=15)\n",
    "plt.tight_layout()\n",
    "plt.show()"
   ]
  },
  {
   "cell_type": "markdown",
   "id": "6c4a0f61-bbe7-4802-b993-91a26427e861",
   "metadata": {},
   "source": [
    "# 상위언론사 전체데이터 토픽모델링"
   ]
  },
  {
   "cell_type": "code",
   "execution_count": 54,
   "id": "1303a968-a906-4035-a9ab-49b1f6064bd9",
   "metadata": {},
   "outputs": [
    {
     "data": {
      "text/plain": [
       "(1155817, 6)"
      ]
     },
     "execution_count": 54,
     "metadata": {},
     "output_type": "execute_result"
    }
   ],
   "source": [
    "상위언론사데이터 = df[df['언론사'].str.contains('서울경제|매일경제|한국경제')][['일자','키워드','언론사','제목']]\n",
    "\n",
    "상위언론사데이터['일자'] = pd.to_datetime(상위언론사데이터['일자'], format='%Y%m%d')\n",
    "상위언론사데이터['연'] = 상위언론사데이터['일자'].dt.year\n",
    "상위언론사데이터['월'] = 상위언론사데이터['일자'].dt.month\n",
    "상위언론사데이터 = 상위언론사데이터[상위언론사데이터['연'] >= 2023]\n",
    "상위언론사데이터.shape"
   ]
  },
  {
   "cell_type": "code",
   "execution_count": 55,
   "id": "259a19a4-18d5-4a91-809c-219228addb7d",
   "metadata": {},
   "outputs": [
    {
     "data": {
      "text/plain": [
       "Index(['일자', '키워드', '언론사', '제목', '연', '월'], dtype='object')"
      ]
     },
     "execution_count": 55,
     "metadata": {},
     "output_type": "execute_result"
    }
   ],
   "source": [
    "상위언론사데이터.columns"
   ]
  },
  {
   "cell_type": "code",
   "execution_count": 56,
   "id": "e3751038-ea52-4507-9a55-266ea7053df0",
   "metadata": {},
   "outputs": [
    {
     "data": {
      "text/html": [
       "<div>\n",
       "<style scoped>\n",
       "    .dataframe tbody tr th:only-of-type {\n",
       "        vertical-align: middle;\n",
       "    }\n",
       "\n",
       "    .dataframe tbody tr th {\n",
       "        vertical-align: top;\n",
       "    }\n",
       "\n",
       "    .dataframe thead th {\n",
       "        text-align: right;\n",
       "    }\n",
       "</style>\n",
       "<table border=\"1\" class=\"dataframe\">\n",
       "  <thead>\n",
       "    <tr style=\"text-align: right;\">\n",
       "      <th></th>\n",
       "      <th>일자</th>\n",
       "      <th>키워드</th>\n",
       "      <th>언론사</th>\n",
       "      <th>제목</th>\n",
       "      <th>연</th>\n",
       "      <th>월</th>\n",
       "    </tr>\n",
       "  </thead>\n",
       "  <tbody>\n",
       "    <tr>\n",
       "      <th>2355196</th>\n",
       "      <td>2023-01-05</td>\n",
       "      <td>고려대장경,전산,기여,허인섭,별세,CD,제작,제작,주도,역할,고려대장경,팔만대장경,...</td>\n",
       "      <td>서울경제</td>\n",
       "      <td>'고려대장경 전산화에 기여' 허인섭 별세</td>\n",
       "      <td>2023</td>\n",
       "      <td>1</td>\n",
       "    </tr>\n",
       "    <tr>\n",
       "      <th>2355197</th>\n",
       "      <td>2023-01-05</td>\n",
       "      <td>아시아나항공,국내선,비즈니스,클래스,재개,탑승객,높여,국내항공,1위,아시아나항공,한...</td>\n",
       "      <td>서울경제</td>\n",
       "      <td>[2022년 고객만족도 조사] 아시아나항공, 국내선 비즈니스 클래스 재개 탑승객 편...</td>\n",
       "      <td>2023</td>\n",
       "      <td>1</td>\n",
       "    </tr>\n",
       "    <tr>\n",
       "      <th>2355202</th>\n",
       "      <td>2023-01-05</td>\n",
       "      <td>15년,투입,공급과잉,청산,기사,11:13,마켓,사이트,게재,기사,KCC,야심,폴리...</td>\n",
       "      <td>한국경제</td>\n",
       "      <td>[KCC 폴리실리콘 잔혹사]15년간 1조 투입했지만 공급과잉 못이기고 청산</td>\n",
       "      <td>2023</td>\n",
       "      <td>1</td>\n",
       "    </tr>\n",
       "    <tr>\n",
       "      <th>2355203</th>\n",
       "      <td>2023-01-05</td>\n",
       "      <td>2400억,사우디,우발,채무,국제중재,기사,11:31,마켓,인사이트,게재,기사,KC...</td>\n",
       "      <td>한국경제</td>\n",
       "      <td>[KCC 폴리실리콘 잔혹사] 사우디 우발채무 2400억 국제중재 휘말려</td>\n",
       "      <td>2023</td>\n",
       "      <td>1</td>\n",
       "    </tr>\n",
       "    <tr>\n",
       "      <th>2355204</th>\n",
       "      <td>2023-01-05</td>\n",
       "      <td>IMM,PE,에어퍼스트,소수,지분,매각,기사,09:06,마켓,인사이트,게재,기사,사...</td>\n",
       "      <td>한국경제</td>\n",
       "      <td>IMM PE, 에어퍼스트 소수지분 매각 본격화</td>\n",
       "      <td>2023</td>\n",
       "      <td>1</td>\n",
       "    </tr>\n",
       "    <tr>\n",
       "      <th>...</th>\n",
       "      <td>...</td>\n",
       "      <td>...</td>\n",
       "      <td>...</td>\n",
       "      <td>...</td>\n",
       "      <td>...</td>\n",
       "      <td>...</td>\n",
       "    </tr>\n",
       "    <tr>\n",
       "      <th>5325587</th>\n",
       "      <td>2025-07-23</td>\n",
       "      <td>톱10,유럽,상금,최혜진,김효주,유럽,장타,윤이나,ISPS,오픈,스코틀랜드,여자,미...</td>\n",
       "      <td>서울경제</td>\n",
       "      <td>유럽 '상금 톱10' 만난 최혜진 김효주 유럽 '장타 톱10' 만난 윤이나</td>\n",
       "      <td>2025</td>\n",
       "      <td>7</td>\n",
       "    </tr>\n",
       "    <tr>\n",
       "      <th>5325594</th>\n",
       "      <td>2025-07-23</td>\n",
       "      <td>공포,공황,장애,예기,거대,공포,연예인,심리,부담,취약,증상,공황장애,위험,자체,공...</td>\n",
       "      <td>매일경제</td>\n",
       "      <td>[Issue Pick] 숨이 막혀 죽을 것 같은 공포의 10분 ‘공황장애’</td>\n",
       "      <td>2025</td>\n",
       "      <td>7</td>\n",
       "    </tr>\n",
       "    <tr>\n",
       "      <th>5325595</th>\n",
       "      <td>2025-07-23</td>\n",
       "      <td>한미,통상,협의,국익,수호,동맹,강화,초점,한미,관세,협상,시한,8월,1일,부총리,...</td>\n",
       "      <td>서울경제</td>\n",
       "      <td>[사설] 한미 ‘2+2’ 통상 협의, 국익 수호 동맹 강화에 초점 맞춰야</td>\n",
       "      <td>2025</td>\n",
       "      <td>7</td>\n",
       "    </tr>\n",
       "    <tr>\n",
       "      <th>5325596</th>\n",
       "      <td>2025-07-23</td>\n",
       "      <td>단통법,폐지,공짜폰,경쟁,AI,전환,통신,산업,대표,규제,이동,통신,단말,장치,유통...</td>\n",
       "      <td>서울경제</td>\n",
       "      <td>[사설] 단통법 11년만에 폐지, 공짜폰 경쟁 접고 AI 전환 속도 낼 때다</td>\n",
       "      <td>2025</td>\n",
       "      <td>7</td>\n",
       "    </tr>\n",
       "    <tr>\n",
       "      <th>5325598</th>\n",
       "      <td>2025-07-23</td>\n",
       "      <td>구축,첨단,인프라,괴담,제동,지자체,이재명,정부,인공지능,AI,강국,육성,미래,전략...</td>\n",
       "      <td>서울경제</td>\n",
       "      <td>[사설] 첨단 인프라 구축 시급한데 ‘괴담’에 빠져 제동 거는 지자체</td>\n",
       "      <td>2025</td>\n",
       "      <td>7</td>\n",
       "    </tr>\n",
       "  </tbody>\n",
       "</table>\n",
       "<p>1155817 rows × 6 columns</p>\n",
       "</div>"
      ],
      "text/plain": [
       "                일자                                                키워드   언론사  \\\n",
       "2355196 2023-01-05  고려대장경,전산,기여,허인섭,별세,CD,제작,제작,주도,역할,고려대장경,팔만대장경,...  서울경제   \n",
       "2355197 2023-01-05  아시아나항공,국내선,비즈니스,클래스,재개,탑승객,높여,국내항공,1위,아시아나항공,한...  서울경제   \n",
       "2355202 2023-01-05  15년,투입,공급과잉,청산,기사,11:13,마켓,사이트,게재,기사,KCC,야심,폴리...  한국경제   \n",
       "2355203 2023-01-05  2400억,사우디,우발,채무,국제중재,기사,11:31,마켓,인사이트,게재,기사,KC...  한국경제   \n",
       "2355204 2023-01-05  IMM,PE,에어퍼스트,소수,지분,매각,기사,09:06,마켓,인사이트,게재,기사,사...  한국경제   \n",
       "...            ...                                                ...   ...   \n",
       "5325587 2025-07-23  톱10,유럽,상금,최혜진,김효주,유럽,장타,윤이나,ISPS,오픈,스코틀랜드,여자,미...  서울경제   \n",
       "5325594 2025-07-23  공포,공황,장애,예기,거대,공포,연예인,심리,부담,취약,증상,공황장애,위험,자체,공...  매일경제   \n",
       "5325595 2025-07-23  한미,통상,협의,국익,수호,동맹,강화,초점,한미,관세,협상,시한,8월,1일,부총리,...  서울경제   \n",
       "5325596 2025-07-23  단통법,폐지,공짜폰,경쟁,AI,전환,통신,산업,대표,규제,이동,통신,단말,장치,유통...  서울경제   \n",
       "5325598 2025-07-23  구축,첨단,인프라,괴담,제동,지자체,이재명,정부,인공지능,AI,강국,육성,미래,전략...  서울경제   \n",
       "\n",
       "                                                        제목     연  월  \n",
       "2355196                             '고려대장경 전산화에 기여' 허인섭 별세  2023  1  \n",
       "2355197  [2022년 고객만족도 조사] 아시아나항공, 국내선 비즈니스 클래스 재개 탑승객 편...  2023  1  \n",
       "2355202          [KCC 폴리실리콘 잔혹사]15년간 1조 투입했지만 공급과잉 못이기고 청산  2023  1  \n",
       "2355203            [KCC 폴리실리콘 잔혹사] 사우디 우발채무 2400억 국제중재 휘말려  2023  1  \n",
       "2355204                          IMM PE, 에어퍼스트 소수지분 매각 본격화  2023  1  \n",
       "...                                                    ...   ... ..  \n",
       "5325587          유럽 '상금 톱10' 만난 최혜진 김효주 유럽 '장타 톱10' 만난 윤이나  2025  7  \n",
       "5325594          [Issue Pick] 숨이 막혀 죽을 것 같은 공포의 10분 ‘공황장애’  2025  7  \n",
       "5325595           [사설] 한미 ‘2+2’ 통상 협의, 국익 수호 동맹 강화에 초점 맞춰야  2025  7  \n",
       "5325596         [사설] 단통법 11년만에 폐지, 공짜폰 경쟁 접고 AI 전환 속도 낼 때다  2025  7  \n",
       "5325598             [사설] 첨단 인프라 구축 시급한데 ‘괴담’에 빠져 제동 거는 지자체  2025  7  \n",
       "\n",
       "[1155817 rows x 6 columns]"
      ]
     },
     "execution_count": 56,
     "metadata": {},
     "output_type": "execute_result"
    }
   ],
   "source": [
    "상위언론사데이터"
   ]
  },
  {
   "cell_type": "code",
   "execution_count": 59,
   "id": "ae343aca-6114-49bb-b8d6-5377df390412",
   "metadata": {},
   "outputs": [
    {
     "name": "stdout",
     "output_type": "stream",
     "text": [
      "       연  월  토픽번호                                      상위키워드\n",
      "0   2023  1     1    정부, 중국, 대통령, 금리, 미국, 시장, 대표, 경제, 조사, 이날\n",
      "1   2023  1     2     공개, 의원, 사람, 생각, 방송, 모습, 자신, 영화, 배우, 서울\n",
      "2   2023  1     3   기업, 시장, 사업, 투자, 서비스, 글로벌, 미국, 제품, 대표, 매출\n",
      "3   2023  2     1     지원, sm, 공개, 혐의, 서울, a씨, 경찰, 진행, 사업, 교육\n",
      "4   2023  2     2  서울, 아파트, 주택, 브랜드, 진행, 가구, 사람, 가격, 부동산, 시작\n",
      "..   ... ..   ...                                        ...\n",
      "88  2025  6     2   대통령, 정부, 국민, 이재명, 의원, 후보, 이날, 대표, 지원, 정책\n",
      "89  2025  6     3  서울, 사업, 지역, 진행, 예정, 제공, 서비스, 아파트, 운영, 브랜드\n",
      "90  2025  7     1     시장, 대비, 투자, 기준, 증가, 고객, 피해, 상품, 지역, 발생\n",
      "91  2025  7     2   대통령, 의원, 국민, 후보자, 이날, 공개, 사람, 대표, 생각, 장관\n",
      "92  2025  7     3   ai, 미국, 기업, 시장, 사업, 정부, 관세, 트럼프, 중국, 글로벌\n",
      "\n",
      "[93 rows x 4 columns]\n"
     ]
    }
   ],
   "source": [
    "from sklearn.feature_extraction.text import CountVectorizer\n",
    "from sklearn.decomposition import LatentDirichletAllocation\n",
    "import pandas as pd\n",
    "\n",
    "# 1. 전처리: 키워드가 문자열이면 리스트로 변환\n",
    "상위언론사데이터 = 상위언론사데이터.copy()\n",
    "상위언론사데이터['키워드'] = 상위언론사데이터['키워드'].apply(\n",
    "    lambda x: x if isinstance(x, list) else str(x).replace('...', '').split(',')\n",
    ")\n",
    "\n",
    "# 2. 키워드 문장화\n",
    "상위언론사데이터['키워드문장'] = 상위언론사데이터['키워드'].apply(lambda x: ' '.join(x))\n",
    "\n",
    "# 3. LDA 함수 정의\n",
    "def lda_by_month(df, n_topics=5, top_n=10):\n",
    "    result = []\n",
    "\n",
    "    for (year, month), group in df.groupby(['연', '월']):\n",
    "        texts = group['키워드문장'].tolist()\n",
    "\n",
    "        if len(texts) < 2:\n",
    "            continue  # 문서 수 너무 적으면 스킵\n",
    "\n",
    "        vectorizer = CountVectorizer(max_df=0.95, min_df=1, stop_words='english')\n",
    "        try:\n",
    "            X = vectorizer.fit_transform(texts)\n",
    "        except ValueError:\n",
    "            continue  # 단어 없음 → 스킵\n",
    "\n",
    "        if X.shape[1] == 0:\n",
    "            continue  # 유효 단어 없음 → 스킵\n",
    "\n",
    "        lda = LatentDirichletAllocation(n_components=n_topics, random_state=42)\n",
    "        lda.fit(X)\n",
    "        words = vectorizer.get_feature_names_out()\n",
    "\n",
    "        for idx, topic in enumerate(lda.components_):\n",
    "            top_keywords = [words[i] for i in topic.argsort()[:-top_n - 1:-1]]\n",
    "            result.append({\n",
    "                '연': year,\n",
    "                '월': month,\n",
    "                '토픽번호': idx + 1,\n",
    "                '상위키워드': ', '.join(top_keywords)\n",
    "            })\n",
    "\n",
    "    return pd.DataFrame(result)\n",
    "\n",
    "# 4. 실행\n",
    "monthly_topics = lda_by_month(상위언론사데이터, n_topics=3, top_n=10)\n",
    "print(monthly_topics)"
   ]
  },
  {
   "cell_type": "code",
   "execution_count": 64,
   "id": "43e3228f-e735-457c-914c-a45aae6cbe49",
   "metadata": {},
   "outputs": [],
   "source": [
    "monthly_topics['일자'] = pd.to_datetime(monthly_topics['연'].astype(str) + '-' + monthly_topics['월'].astype(str) + '-01', format='%Y-%m-%d')"
   ]
  },
  {
   "cell_type": "code",
   "execution_count": 68,
   "id": "54c7b79d-1232-4eb3-bf35-5fdd3e009150",
   "metadata": {},
   "outputs": [],
   "source": [
    "monthly_topics[['일자','토픽번호','상위키워드']].to_csv('토픽모델링.csv', index=False)"
   ]
  },
  {
   "cell_type": "code",
   "execution_count": null,
   "id": "d8e58958-2380-4528-ab3e-53b8ab83674f",
   "metadata": {},
   "outputs": [],
   "source": []
  }
 ],
 "metadata": {
  "kernelspec": {
   "display_name": "Python 3 (ipykernel)",
   "language": "python",
   "name": "python3"
  },
  "language_info": {
   "codemirror_mode": {
    "name": "ipython",
    "version": 3
   },
   "file_extension": ".py",
   "mimetype": "text/x-python",
   "name": "python",
   "nbconvert_exporter": "python",
   "pygments_lexer": "ipython3",
   "version": "3.12.7"
  }
 },
 "nbformat": 4,
 "nbformat_minor": 5
}
