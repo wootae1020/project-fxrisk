{
 "cells": [
  {
   "cell_type": "code",
   "execution_count": 1,
   "id": "2dbe0060-5b04-40ce-b79b-e7b18a2b77ba",
   "metadata": {},
   "outputs": [],
   "source": [
    "import pandas as pd\n",
    "import numpy as np"
   ]
  },
  {
   "cell_type": "code",
   "execution_count": 58,
   "id": "9a81cf3c-e5e0-4973-9389-c28c230ae2de",
   "metadata": {},
   "outputs": [],
   "source": [
    "euro_df=pd.read_csv('EUR_KRW 과거 데이터.csv')\n",
    "dax_df=pd.read_csv('DAX 과거 데이터.csv')\n",
    "vstoxx_df=pd.read_csv('STOXX 50 Volatility VSTOXX EUR 과거 데이터.csv')\n",
    "eurostoxx50_df=pd.read_csv('유로 스톡스 50 과거 데이터.csv')\n",
    "cac_df=pd.read_csv('프랑스 CAC 과거 데이터.csv')"
   ]
  },
  {
   "cell_type": "code",
   "execution_count": 3,
   "id": "a03bd6e9-180a-41cd-a5dc-0779acb3b67f",
   "metadata": {},
   "outputs": [],
   "source": [
    "meuro_df=pd.read_excel('유로지역 통화지표.xlsx')"
   ]
  },
  {
   "cell_type": "code",
   "execution_count": 59,
   "id": "8f5032cf-18f9-47a4-9767-119214405a56",
   "metadata": {},
   "outputs": [],
   "source": [
    "euro_df=euro_df.drop('거래량',axis=1)\n",
    "euro_df.columns=['Date','유로환율_종가','유로환율_시가','유로환율_고가','유로환율_저가','유로환율_변동%_x']"
   ]
  },
  {
   "cell_type": "code",
   "execution_count": 60,
   "id": "705783d0-bf15-449f-abbc-4d85e96aa2b3",
   "metadata": {},
   "outputs": [],
   "source": [
    "euro_df.Date=pd.to_datetime(euro_df.Date,format='%Y- %m- %d')"
   ]
  },
  {
   "cell_type": "code",
   "execution_count": 63,
   "id": "5a4c4b6f-35a3-4bdb-b973-1f9edcd51be9",
   "metadata": {},
   "outputs": [],
   "source": [
    "euro_df['유로환율_종가']=euro_df['유로환율_종가'].apply(lambda x: x.replace(',','')).astype(float)\n",
    "euro_df['유로환율_시가']=euro_df['유로환율_시가'].apply(lambda x: x.replace(',','')).astype(float)\n",
    "euro_df['유로환율_고가']=euro_df['유로환율_고가'].apply(lambda x: x.replace(',','')).astype(float)\n",
    "euro_df['유로환율_저가']=euro_df['유로환율_저가'].apply(lambda x: x.replace(',','')).astype(float)\n",
    "euro_df['유로환율_변동%_x']=euro_df['유로환율_변동%_x'].apply(lambda x: x.replace('%','')).astype(float)"
   ]
  },
  {
   "cell_type": "code",
   "execution_count": 64,
   "id": "00f3c64d-7a88-4788-8e0f-4667b36914f7",
   "metadata": {},
   "outputs": [],
   "source": [
    "dax_df.columns=['Date','Dax_종가','Dax_시가','Dax_고가','Dax_저가','Dax_거래량(백 만)','Dax_변동%']"
   ]
  },
  {
   "cell_type": "code",
   "execution_count": 65,
   "id": "b9facd1c-7025-4a51-a5e3-beef82c7c51b",
   "metadata": {},
   "outputs": [],
   "source": [
    "dax_df.Date=pd.to_datetime(dax_df.Date,format='%Y- %m- %d')"
   ]
  },
  {
   "cell_type": "code",
   "execution_count": 66,
   "id": "ad2282be-839f-4778-9889-bcc309299941",
   "metadata": {},
   "outputs": [],
   "source": [
    "dax_df['Dax_거래량(백 만)']=dax_df['Dax_거래량(백 만)'].apply(lambda x: str(x).replace('M','') if x!=np.nan else x).astype(float)\n",
    "dax_df['Dax_변동%']=dax_df['Dax_변동%'].apply(lambda x: x.replace('%','')).astype(float)"
   ]
  },
  {
   "cell_type": "code",
   "execution_count": 67,
   "id": "32d55be0-c722-458e-ba4f-5abff9117f3f",
   "metadata": {},
   "outputs": [],
   "source": [
    "vstoxx_df=vstoxx_df.drop('거래량',axis=1)\n",
    "vstoxx_df.columns=['Date','VSTOXX_종가','VSTOXX_시가','VSTOXX_고가','VSTOXX_저가','VSTOXX_변동%']"
   ]
  },
  {
   "cell_type": "code",
   "execution_count": 68,
   "id": "899b14e0-437b-4cf0-bae1-2b68129996af",
   "metadata": {},
   "outputs": [],
   "source": [
    "vstoxx_df.Date=pd.to_datetime(vstoxx_df.Date,format='%Y- %m- %d')"
   ]
  },
  {
   "cell_type": "code",
   "execution_count": 69,
   "id": "bbe711af-e4e4-42a9-81f1-70c333dc103a",
   "metadata": {},
   "outputs": [],
   "source": [
    "vstoxx_df['VSTOXX_변동%']=vstoxx_df['VSTOXX_변동%'].apply(lambda x: x.replace('%','')).astype(float)"
   ]
  },
  {
   "cell_type": "code",
   "execution_count": 70,
   "id": "58886030-96c1-4cc2-ae47-b4917a21e107",
   "metadata": {},
   "outputs": [],
   "source": [
    "eurostoxx50_df=eurostoxx50_df.drop('거래량',axis=1)\n",
    "eurostoxx50_df.columns=['Date','EUROSTOXX50_종가','EUROSTOXX50_시가','EUROSTOXX50_고가','EUROSTOXX50_저가','EUROSTOXX50_변동%']"
   ]
  },
  {
   "cell_type": "code",
   "execution_count": 71,
   "id": "8d68011e-f232-477e-b3a2-b2d29862fad9",
   "metadata": {},
   "outputs": [],
   "source": [
    "eurostoxx50_df.Date=pd.to_datetime(eurostoxx50_df.Date,format='%Y- %m- %d')"
   ]
  },
  {
   "cell_type": "code",
   "execution_count": 72,
   "id": "8a2e3251-bf97-48a5-a2e9-6fb0c15eb548",
   "metadata": {},
   "outputs": [],
   "source": [
    "eurostoxx50_df.EUROSTOXX50_종가=eurostoxx50_df.EUROSTOXX50_종가.apply(lambda x: x.replace(',','')).astype(float)\n",
    "eurostoxx50_df.EUROSTOXX50_시가=eurostoxx50_df.EUROSTOXX50_시가.apply(lambda x: x.replace(',','')).astype(float)\n",
    "eurostoxx50_df.EUROSTOXX50_고가=eurostoxx50_df.EUROSTOXX50_고가.apply(lambda x: x.replace(',','')).astype(float)\n",
    "eurostoxx50_df.EUROSTOXX50_저가=eurostoxx50_df.EUROSTOXX50_저가.apply(lambda x: x.replace(',','')).astype(float)\n",
    "eurostoxx50_df['EUROSTOXX50_변동%']=eurostoxx50_df['EUROSTOXX50_변동%'].apply(lambda x: x.replace('%','')).astype(float)"
   ]
  },
  {
   "cell_type": "code",
   "execution_count": 73,
   "id": "8d8954d5-3095-4f51-a547-98cfb2259a9a",
   "metadata": {},
   "outputs": [],
   "source": [
    "meuro_df.범례명=pd.to_datetime(meuro_df.범례명,format='%Y-%m')"
   ]
  },
  {
   "cell_type": "code",
   "execution_count": 74,
   "id": "71467d80-fc50-4047-b607-baf06684c62b",
   "metadata": {},
   "outputs": [],
   "source": [
    "all_df=pd.read_csv('어쩌면최종데이터.csv')"
   ]
  },
  {
   "cell_type": "code",
   "execution_count": 75,
   "id": "6df97ead-1b37-460d-a44f-288a578acf13",
   "metadata": {},
   "outputs": [],
   "source": [
    "all_df=all_df.drop(['미환율_종가', '미환율_시가', '미환율_고가', '미환율_저가', '미환율_변동%_x', 'S&P500_종가', 'S&P500_시가', 'S&P500_고가', 'S&P500_저가', 'S&P500_변동%', '다우존스_종가', '다우존스_시가', '다우존스_고가', '다우존스_저가', '다우존스_거래량', '다우존스_변동%', '나스닥_종가', '나스닥_시가', '나스닥_고가', '나스닥_저가', '나스닥_거래량', '나스닥_변동%', 'VIX_종가', 'VIX_시가', 'VIX_고가', 'VIX_저가', 'VIX_거래량', 'VIX_변동%', '미국정책금리', 'Close', 'Open', 'High', 'Low', '미환율_변동%_y', 'return', 'log_return', 'lag_1', 'lag_2', 'lag_3', 'lag_4', 'lag_5', 'sma_5', 'std_5', 'sma_10', 'std_10', 'sma_20', 'std_20', 'sma_60', 'std_60', 'bb_upper', 'bb_lower', 'bb_width', 'volatility_20', 'momentum_5', 'momentum_10', 'momentum_20', 'rsi_14', 'macd', 'macd_sig', 'macd_hist', 'sto_k', 'sto_d', 'Volume', 'alpha2', 'alpha4', 'alpha7', 'alpha9', 'VWAP', 'alpha10', 'alpha11', 'alpha12', 'alpha13', 'alpha16', 'adv20', 'alpha17', 'alpha18', 'alpha20', 'alpha21', 'alpha23', 'alpha24', 'alpha25', 'alpha27', 'alpha29', 'alpha30', 'alpha33', 'alpha34', 'alpha35', 'alpha37', 'returns', 'alpha38', 'alpha41', 'alpha42', 'alpha43', 'alpha46', 'alpha47', 'alpha49', 'alpha51', 'alpha53', 'alpha54', 'cap', 'alpha56', 'alpha57', 'alpha58', 'alpha60', 'adv180', 'adv120', 'adv60', 'adv50', 'adv15', 'alpha61', 'alpha62', 'alpha64', 'alpha65', 'alpha67', 'alpha68', 'alpha70', 'adv5', 'adv10', 'adv30', 'adv40', 'adv81', 'adv150', 'alpha73', 'alpha74', 'alpha75', 'alpha76', 'alpha77', 'alpha79', 'alpha81', 'alpha83', 'alpha84', 'alpha85', 'alpha86', 'alpha87', 'alpha90', 'alpha92', 'alpha93', 'alpha95', 'alpha98', 'alpha99', 'alpha101', '기준년월', '미국(M1)십억달러', '미국(M2)십억달러', '미국소비자물가지수'], axis=1)"
   ]
  },
  {
   "cell_type": "code",
   "execution_count": 76,
   "id": "ead3ba60-133c-4e7a-a4e8-2b51764579a9",
   "metadata": {},
   "outputs": [
    {
     "name": "stdout",
     "output_type": "stream",
     "text": [
      "['Date', 'WTI유_종가', 'WTI유_시가', 'WTI유_고가', 'WTI유_저가', 'WTI유_거래량', 'WTI유_변동%', '금_종가', '금_시가', '금_고가', '금_저가', '금_거래량', '금_변동%', '한국정책금리', '한국(M1)조원', '한국(M1)변동%', '한국(M2)조원', '한국(M2)변동%', '소비자심리지수', '생산자물가지수', '산업생산지수', '외환보유액(억달러)', '경상수지', '일본엔_검색량', '유로(EUR)_검색량', 'S&P 500_검색량', '코스피_검색량', '일본EPU', '중국EPU', '한국EPU', '미국EPU', '글로벌EPU_명목GDP기준', '글로벌EPU_PPP기준']\n"
     ]
    }
   ],
   "source": [
    "print(list(all_df))"
   ]
  },
  {
   "cell_type": "code",
   "execution_count": 77,
   "id": "4d5d8580-119f-4533-ab1d-69555e656570",
   "metadata": {},
   "outputs": [
    {
     "data": {
      "text/html": [
       "<div>\n",
       "<style scoped>\n",
       "    .dataframe tbody tr th:only-of-type {\n",
       "        vertical-align: middle;\n",
       "    }\n",
       "\n",
       "    .dataframe tbody tr th {\n",
       "        vertical-align: top;\n",
       "    }\n",
       "\n",
       "    .dataframe thead th {\n",
       "        text-align: right;\n",
       "    }\n",
       "</style>\n",
       "<table border=\"1\" class=\"dataframe\">\n",
       "  <thead>\n",
       "    <tr style=\"text-align: right;\">\n",
       "      <th></th>\n",
       "      <th>Date</th>\n",
       "      <th>유로환율_종가</th>\n",
       "      <th>유로환율_시가</th>\n",
       "      <th>유로환율_고가</th>\n",
       "      <th>유로환율_저가</th>\n",
       "      <th>유로환율_변동%_x</th>\n",
       "    </tr>\n",
       "  </thead>\n",
       "  <tbody>\n",
       "    <tr>\n",
       "      <th>0</th>\n",
       "      <td>2025-05-30</td>\n",
       "      <td>1569.42</td>\n",
       "      <td>1558.65</td>\n",
       "      <td>1572.08</td>\n",
       "      <td>1556.82</td>\n",
       "      <td>0.63</td>\n",
       "    </tr>\n",
       "    <tr>\n",
       "      <th>1</th>\n",
       "      <td>2025-05-29</td>\n",
       "      <td>1559.54</td>\n",
       "      <td>1552.74</td>\n",
       "      <td>1561.67</td>\n",
       "      <td>1540.93</td>\n",
       "      <td>0.46</td>\n",
       "    </tr>\n",
       "    <tr>\n",
       "      <th>2</th>\n",
       "      <td>2025-05-28</td>\n",
       "      <td>1552.33</td>\n",
       "      <td>1558.57</td>\n",
       "      <td>1560.46</td>\n",
       "      <td>1546.89</td>\n",
       "      <td>-0.40</td>\n",
       "    </tr>\n",
       "  </tbody>\n",
       "</table>\n",
       "</div>"
      ],
      "text/plain": [
       "        Date  유로환율_종가  유로환율_시가  유로환율_고가  유로환율_저가  유로환율_변동%_x\n",
       "0 2025-05-30  1569.42  1558.65  1572.08  1556.82        0.63\n",
       "1 2025-05-29  1559.54  1552.74  1561.67  1540.93        0.46\n",
       "2 2025-05-28  1552.33  1558.57  1560.46  1546.89       -0.40"
      ]
     },
     "execution_count": 77,
     "metadata": {},
     "output_type": "execute_result"
    }
   ],
   "source": [
    "euro_df.head(3)"
   ]
  },
  {
   "cell_type": "code",
   "execution_count": 78,
   "id": "46340bf5-e1ef-40e6-a48c-faf6aff34119",
   "metadata": {},
   "outputs": [],
   "source": [
    "euro_df=euro_df.rename(columns={'유로환율_종가':'Close'})"
   ]
  },
  {
   "cell_type": "code",
   "execution_count": 80,
   "id": "34b594f6-a65b-453a-a89c-1df30263adff",
   "metadata": {},
   "outputs": [],
   "source": [
    "# 수익률, 로그 수익률\n",
    "euro_df['return']=euro_df['Close'].pct_change()\n",
    "euro_df['log_return']=np.log(euro_df['Close']/euro_df['Close'].shift(1))\n",
    "\n",
    "# LAG 1~5일\n",
    "for lag in range(1,6):\n",
    "    euro_df[f'lag_{lag}']=euro_df['log_return'].shift(lag)\n",
    "\n",
    "# 이동평균 & 이동표준편차 (SMA, STD)\n",
    "ma_windows=[5,10,20,60]\n",
    "for w in ma_windows:\n",
    "    euro_df[f'sma_{w}']=euro_df['Close'].rolling(window=w).mean()\n",
    "    euro_df[f'std_{w}']=euro_df['Close'].rolling(window=w).std()\n",
    "\n",
    "# 불린저 밴드 (20일 기준)\n",
    "euro_df['bb_upper']=euro_df['sma_20']+2*euro_df['std_20']\n",
    "euro_df['bb_lower']=euro_df['sma_20']-2*euro_df['std_20']\n",
    "euro_df['bb_width']=euro_df['bb_upper']-euro_df['bb_lower']\n",
    "\n",
    "# 연환산 변동성\n",
    "euro_df['volatility_20']=euro_df['log_return'].rolling(20).std()*np.sqrt(252)\n",
    "\n",
    "# 모멘텀\n",
    "mom_windows=[5,10,20]\n",
    "for w in mom_windows:\n",
    "    euro_df[f'momentum_{w}']=euro_df['Close']-euro_df['Close'].shift(w)\n",
    "\n",
    "# RSI (14일 기준)\n",
    "def compute_rsi(series,window=14):\n",
    "    delta=series.diff()\n",
    "    gain=delta.clip(lower=0)\n",
    "    loss=-delta.clip(upper=0)\n",
    "    avg_gain=gain.rolling(window).mean()\n",
    "    avg_loss=loss.rolling(window).mean()\n",
    "    rs=avg_gain/avg_loss\n",
    "    return 100- 100/(1+rs)\n",
    "\n",
    "euro_df['rsi_14']=compute_rsi(euro_df['Close'], 14)\n",
    "\n",
    "# MACD & Signal\n",
    "ema_short=euro_df['Close'].ewm(span=12,adjust=False).mean()\n",
    "ema_long=euro_df['Close'].ewm(span=26,adjust=False).mean()\n",
    "euro_df['macd']=ema_short-ema_long\n",
    "euro_df['macd_sig']=euro_df['macd'].ewm(span=9,adjust=False).mean()\n",
    "euro_df['macd_hist']=euro_df['macd']-euro_df['macd_sig']\n",
    "\n",
    "# 스토캐스틱 오실레이터\n",
    "low_min=euro_df['Close'].rolling(14).min()\n",
    "high_max=euro_df['Close'].rolling(14).max()\n",
    "euro_df['sto_k']=(euro_df['Close']-low_min)/(high_max-low_min) *100\n",
    "euro_df['sto_d']=euro_df['sto_k'].rolling(3).mean()"
   ]
  },
  {
   "cell_type": "code",
   "execution_count": 97,
   "id": "48f9380d-4532-4fb4-a793-9f6d60d55996",
   "metadata": {},
   "outputs": [],
   "source": [
    "euro_df=euro_df.set_index('Date').sort_index()"
   ]
  },
  {
   "cell_type": "code",
   "execution_count": 83,
   "id": "c516a4f2-9f69-4d49-ab1e-59871002aee1",
   "metadata": {},
   "outputs": [],
   "source": [
    "euro_df=euro_df.rename(columns={'유로환율_시가':'Open','유로환율_고가':'High','유로환율_저가':'Low'})"
   ]
  },
  {
   "cell_type": "code",
   "execution_count": 115,
   "id": "4f27b71c-19a5-45e9-a9c1-613848336f4a",
   "metadata": {},
   "outputs": [],
   "source": [
    "from pandas_datareader import data as pdr\n",
    "\n",
    "m1=pdr.DataReader('MYAGM1EZM196N','fred',start=euro_df.index.min(),end=euro_df.index.max())\n",
    "m1=m1.rename(columns={'MYAGM1EZM196N':'M1'})\n",
    "\n",
    "m1.index=pd.to_datetime(m1.index)\n",
    "m1=m1.reindex(euro_df.index,method='ffill')\n",
    "\n",
    "euro_df=euro_df.join(m1)\n",
    "\n",
    "euro_df['neg_rank_corr_10_M1']=-(euro_df['Close'].rank().rolling(window=10).corr(euro_df['M1'].rank()))"
   ]
  },
  {
   "cell_type": "code",
   "execution_count": 119,
   "id": "a1f36c62-de8d-4802-b955-fbc0d65822e8",
   "metadata": {},
   "outputs": [],
   "source": [
    "# M1 로그수익률\n",
    "euro_df['M1_log_ret']=np.log(euro_df['M1']/euro_df['M1'].shift(1))\n",
    "\n",
    "# -1 x rank corr on returns\n",
    "euro_df['neg_rank_corr_10_M1_ret']=-(euro_df['Close'].rank().rolling(10).corr(euro_df['M1_log_ret'].rank()))"
   ]
  },
  {
   "cell_type": "code",
   "execution_count": 121,
   "id": "e67ee0d5-3547-42fb-a35e-cc846747f815",
   "metadata": {},
   "outputs": [],
   "source": [
    "col=euro_df['neg_rank_corr_10_M1_ret']\n",
    "total=len(col)\n",
    "\n",
    "num_nan=col.isna().sum()\n",
    "num_inf=np.isinf(col).sum()\n",
    "\n",
    "ratio_nan=num_nan/total\n",
    "ratio_inf=num_inf/total\n",
    "ratio_total=(num_nan+num_inf)/total"
   ]
  },
  {
   "cell_type": "code",
   "execution_count": 129,
   "id": "a1f72a96-4290-4b97-bb0c-25596eae3de0",
   "metadata": {},
   "outputs": [
    {
     "ename": "KeyError",
     "evalue": "\"['M1'] not in index\"",
     "output_type": "error",
     "traceback": [
      "\u001b[1;31m---------------------------------------------------------------------------\u001b[0m",
      "\u001b[1;31mKeyError\u001b[0m                                  Traceback (most recent call last)",
      "Cell \u001b[1;32mIn[129], line 1\u001b[0m\n\u001b[1;32m----> 1\u001b[0m mo\u001b[38;5;241m=\u001b[39meuro_df[[\u001b[38;5;124m'\u001b[39m\u001b[38;5;124mClose\u001b[39m\u001b[38;5;124m'\u001b[39m,\u001b[38;5;124m'\u001b[39m\u001b[38;5;124mM1\u001b[39m\u001b[38;5;124m'\u001b[39m]]\u001b[38;5;241m.\u001b[39mresample(\u001b[38;5;124m'\u001b[39m\u001b[38;5;124mM\u001b[39m\u001b[38;5;124m'\u001b[39m)\u001b[38;5;241m.\u001b[39mlast()\n\u001b[0;32m      2\u001b[0m mo[\u001b[38;5;124m'\u001b[39m\u001b[38;5;124mneg_corr_3M\u001b[39m\u001b[38;5;124m'\u001b[39m]\u001b[38;5;241m=\u001b[39m\u001b[38;5;241m-\u001b[39m(mo\u001b[38;5;241m.\u001b[39mClose\u001b[38;5;241m.\u001b[39mrank()\u001b[38;5;241m.\u001b[39mrolling(\u001b[38;5;241m3\u001b[39m)\u001b[38;5;241m.\u001b[39mcorr(mo\u001b[38;5;241m.\u001b[39mM1\u001b[38;5;241m.\u001b[39mrank()))\n",
      "File \u001b[1;32m~\\anaconda3\\Lib\\site-packages\\pandas\\core\\frame.py:4108\u001b[0m, in \u001b[0;36mDataFrame.__getitem__\u001b[1;34m(self, key)\u001b[0m\n\u001b[0;32m   4106\u001b[0m     \u001b[38;5;28;01mif\u001b[39;00m is_iterator(key):\n\u001b[0;32m   4107\u001b[0m         key \u001b[38;5;241m=\u001b[39m \u001b[38;5;28mlist\u001b[39m(key)\n\u001b[1;32m-> 4108\u001b[0m     indexer \u001b[38;5;241m=\u001b[39m \u001b[38;5;28mself\u001b[39m\u001b[38;5;241m.\u001b[39mcolumns\u001b[38;5;241m.\u001b[39m_get_indexer_strict(key, \u001b[38;5;124m\"\u001b[39m\u001b[38;5;124mcolumns\u001b[39m\u001b[38;5;124m\"\u001b[39m)[\u001b[38;5;241m1\u001b[39m]\n\u001b[0;32m   4110\u001b[0m \u001b[38;5;66;03m# take() does not accept boolean indexers\u001b[39;00m\n\u001b[0;32m   4111\u001b[0m \u001b[38;5;28;01mif\u001b[39;00m \u001b[38;5;28mgetattr\u001b[39m(indexer, \u001b[38;5;124m\"\u001b[39m\u001b[38;5;124mdtype\u001b[39m\u001b[38;5;124m\"\u001b[39m, \u001b[38;5;28;01mNone\u001b[39;00m) \u001b[38;5;241m==\u001b[39m \u001b[38;5;28mbool\u001b[39m:\n",
      "File \u001b[1;32m~\\anaconda3\\Lib\\site-packages\\pandas\\core\\indexes\\base.py:6200\u001b[0m, in \u001b[0;36mIndex._get_indexer_strict\u001b[1;34m(self, key, axis_name)\u001b[0m\n\u001b[0;32m   6197\u001b[0m \u001b[38;5;28;01melse\u001b[39;00m:\n\u001b[0;32m   6198\u001b[0m     keyarr, indexer, new_indexer \u001b[38;5;241m=\u001b[39m \u001b[38;5;28mself\u001b[39m\u001b[38;5;241m.\u001b[39m_reindex_non_unique(keyarr)\n\u001b[1;32m-> 6200\u001b[0m \u001b[38;5;28mself\u001b[39m\u001b[38;5;241m.\u001b[39m_raise_if_missing(keyarr, indexer, axis_name)\n\u001b[0;32m   6202\u001b[0m keyarr \u001b[38;5;241m=\u001b[39m \u001b[38;5;28mself\u001b[39m\u001b[38;5;241m.\u001b[39mtake(indexer)\n\u001b[0;32m   6203\u001b[0m \u001b[38;5;28;01mif\u001b[39;00m \u001b[38;5;28misinstance\u001b[39m(key, Index):\n\u001b[0;32m   6204\u001b[0m     \u001b[38;5;66;03m# GH 42790 - Preserve name from an Index\u001b[39;00m\n",
      "File \u001b[1;32m~\\anaconda3\\Lib\\site-packages\\pandas\\core\\indexes\\base.py:6252\u001b[0m, in \u001b[0;36mIndex._raise_if_missing\u001b[1;34m(self, key, indexer, axis_name)\u001b[0m\n\u001b[0;32m   6249\u001b[0m     \u001b[38;5;28;01mraise\u001b[39;00m \u001b[38;5;167;01mKeyError\u001b[39;00m(\u001b[38;5;124mf\u001b[39m\u001b[38;5;124m\"\u001b[39m\u001b[38;5;124mNone of [\u001b[39m\u001b[38;5;132;01m{\u001b[39;00mkey\u001b[38;5;132;01m}\u001b[39;00m\u001b[38;5;124m] are in the [\u001b[39m\u001b[38;5;132;01m{\u001b[39;00maxis_name\u001b[38;5;132;01m}\u001b[39;00m\u001b[38;5;124m]\u001b[39m\u001b[38;5;124m\"\u001b[39m)\n\u001b[0;32m   6251\u001b[0m not_found \u001b[38;5;241m=\u001b[39m \u001b[38;5;28mlist\u001b[39m(ensure_index(key)[missing_mask\u001b[38;5;241m.\u001b[39mnonzero()[\u001b[38;5;241m0\u001b[39m]]\u001b[38;5;241m.\u001b[39munique())\n\u001b[1;32m-> 6252\u001b[0m \u001b[38;5;28;01mraise\u001b[39;00m \u001b[38;5;167;01mKeyError\u001b[39;00m(\u001b[38;5;124mf\u001b[39m\u001b[38;5;124m\"\u001b[39m\u001b[38;5;132;01m{\u001b[39;00mnot_found\u001b[38;5;132;01m}\u001b[39;00m\u001b[38;5;124m not in index\u001b[39m\u001b[38;5;124m\"\u001b[39m)\n",
      "\u001b[1;31mKeyError\u001b[0m: \"['M1'] not in index\""
     ]
    }
   ],
   "source": [
    "mo=euro_df[['Close','M1']].resample('M').last()\n",
    "mo['neg_corr_3M']=-(mo.Close.rank().rolling(3).corr(mo.M1.rank()))"
   ]
  },
  {
   "cell_type": "code",
   "execution_count": 130,
   "id": "2e9524e8-34a6-44b7-a38a-49120ff6c669",
   "metadata": {},
   "outputs": [],
   "source": [
    "euro_df=euro_df.rename(columns={'M1':'Volume'})\n",
    "\n",
    "delta_close=euro_df.Close.diff(1)\n",
    "delta_volume=euro_df.Volume.diff(1)\n",
    "\n",
    "euro_df['neg_rank_mul_delta']=-(delta_close.rank()*delta_volume.rank())"
   ]
  },
  {
   "cell_type": "code",
   "execution_count": 131,
   "id": "8a2b2ef2-f358-4a44-b957-85c0c4c5a933",
   "metadata": {},
   "outputs": [
    {
     "data": {
      "text/html": [
       "<div>\n",
       "<style scoped>\n",
       "    .dataframe tbody tr th:only-of-type {\n",
       "        vertical-align: middle;\n",
       "    }\n",
       "\n",
       "    .dataframe tbody tr th {\n",
       "        vertical-align: top;\n",
       "    }\n",
       "\n",
       "    .dataframe thead th {\n",
       "        text-align: right;\n",
       "    }\n",
       "</style>\n",
       "<table border=\"1\" class=\"dataframe\">\n",
       "  <thead>\n",
       "    <tr style=\"text-align: right;\">\n",
       "      <th></th>\n",
       "      <th>Close</th>\n",
       "      <th>Volume</th>\n",
       "      <th>neg_rank_mul_delta</th>\n",
       "    </tr>\n",
       "    <tr>\n",
       "      <th>Date</th>\n",
       "      <th></th>\n",
       "      <th></th>\n",
       "      <th></th>\n",
       "    </tr>\n",
       "  </thead>\n",
       "  <tbody>\n",
       "    <tr>\n",
       "      <th>2009-10-08</th>\n",
       "      <td>1719.84</td>\n",
       "      <td>NaN</td>\n",
       "      <td>NaN</td>\n",
       "    </tr>\n",
       "    <tr>\n",
       "      <th>2009-10-09</th>\n",
       "      <td>1714.66</td>\n",
       "      <td>NaN</td>\n",
       "      <td>NaN</td>\n",
       "    </tr>\n",
       "    <tr>\n",
       "      <th>2009-10-12</th>\n",
       "      <td>1724.72</td>\n",
       "      <td>NaN</td>\n",
       "      <td>NaN</td>\n",
       "    </tr>\n",
       "    <tr>\n",
       "      <th>2009-10-13</th>\n",
       "      <td>1732.44</td>\n",
       "      <td>NaN</td>\n",
       "      <td>NaN</td>\n",
       "    </tr>\n",
       "    <tr>\n",
       "      <th>2009-10-14</th>\n",
       "      <td>1727.57</td>\n",
       "      <td>NaN</td>\n",
       "      <td>NaN</td>\n",
       "    </tr>\n",
       "    <tr>\n",
       "      <th>...</th>\n",
       "      <td>...</td>\n",
       "      <td>...</td>\n",
       "      <td>...</td>\n",
       "    </tr>\n",
       "    <tr>\n",
       "      <th>2025-05-26</th>\n",
       "      <td>1559.52</td>\n",
       "      <td>7.389683e+12</td>\n",
       "      <td>-6950677.5</td>\n",
       "    </tr>\n",
       "    <tr>\n",
       "      <th>2025-05-27</th>\n",
       "      <td>1558.64</td>\n",
       "      <td>7.389683e+12</td>\n",
       "      <td>-3642547.5</td>\n",
       "    </tr>\n",
       "    <tr>\n",
       "      <th>2025-05-28</th>\n",
       "      <td>1552.33</td>\n",
       "      <td>7.389683e+12</td>\n",
       "      <td>-1489860.0</td>\n",
       "    </tr>\n",
       "    <tr>\n",
       "      <th>2025-05-29</th>\n",
       "      <td>1559.54</td>\n",
       "      <td>7.389683e+12</td>\n",
       "      <td>-6908625.0</td>\n",
       "    </tr>\n",
       "    <tr>\n",
       "      <th>2025-05-30</th>\n",
       "      <td>1569.42</td>\n",
       "      <td>7.389683e+12</td>\n",
       "      <td>-7443292.5</td>\n",
       "    </tr>\n",
       "  </tbody>\n",
       "</table>\n",
       "<p>4082 rows × 3 columns</p>\n",
       "</div>"
      ],
      "text/plain": [
       "              Close        Volume  neg_rank_mul_delta\n",
       "Date                                                 \n",
       "2009-10-08  1719.84           NaN                 NaN\n",
       "2009-10-09  1714.66           NaN                 NaN\n",
       "2009-10-12  1724.72           NaN                 NaN\n",
       "2009-10-13  1732.44           NaN                 NaN\n",
       "2009-10-14  1727.57           NaN                 NaN\n",
       "...             ...           ...                 ...\n",
       "2025-05-26  1559.52  7.389683e+12          -6950677.5\n",
       "2025-05-27  1558.64  7.389683e+12          -3642547.5\n",
       "2025-05-28  1552.33  7.389683e+12          -1489860.0\n",
       "2025-05-29  1559.54  7.389683e+12          -6908625.0\n",
       "2025-05-30  1569.42  7.389683e+12          -7443292.5\n",
       "\n",
       "[4082 rows x 3 columns]"
      ]
     },
     "execution_count": 131,
     "metadata": {},
     "output_type": "execute_result"
    }
   ],
   "source": [
    "euro_df[['Close','Volume','neg_rank_mul_delta']]"
   ]
  },
  {
   "cell_type": "code",
   "execution_count": 132,
   "id": "2526f095-4d14-452c-8b22-ecb16d30fdc5",
   "metadata": {},
   "outputs": [],
   "source": [
    "# 10일 롤링\n",
    "euro_df['neg_rank_corr_10']=-(euro_df.Close.rank().rolling(window=10).corr(euro_df.Volume.rank()))"
   ]
  },
  {
   "cell_type": "code",
   "execution_count": 133,
   "id": "5b06872a-4035-4c1c-8c9a-46d2d198aadf",
   "metadata": {},
   "outputs": [],
   "source": [
    "# Low 컬럼에 대한 전체 순위 계산\n",
    "low_rank=euro_df.Low.rank()\n",
    "\n",
    "# 9일 윈도우 내에서 '현재(마지막) 값의 순위'를 비율로 계산하는 함수\n",
    "def ts_rank(s,window):\n",
    "    return s.rolling(window).apply(lambda x: x.rank().iloc[-1]/len(x),raw=False)\n",
    "\n",
    "euro_df['neg_ts_rank_low_9']=-ts_rank(low_rank,9)"
   ]
  },
  {
   "cell_type": "code",
   "execution_count": 135,
   "id": "12e5314b-55b3-4523-8898-7a2dd8a51316",
   "metadata": {},
   "outputs": [],
   "source": [
    "# helper functions\n",
    "def ts_max(s,window):\n",
    "    return s.rolling(window).max()\n",
    "\n",
    "def ts_rank(s,window):\n",
    "    return s.rolling(window).apply(lambda x: x.rank().iloc[-1]/len(x),raw=False)\n",
    "\n",
    "def delay(s,period):\n",
    "    return s.shift(period)\n",
    "\n",
    "# alpha5\n",
    "euro_df['alpha5']=((euro_df['Open']-ts_max(euro_df['Open'],5)).rank() ** euro_df['Volume'].rank())\n",
    "\n",
    "# alpha6\n",
    "euro_df['alpha6']=-euro_df['Open'].rolling(window=10).corr(euro_df['Volume'])\n",
    "\n",
    "# alpha7\n",
    "r7=ts_rank(euro_df['Low'],3)\n",
    "euro_df['alpha7']=np.where(euro_df['Volume'] !=0, -r7, 0)\n",
    "\n",
    "# alpha8\n",
    "corr_vl=euro_df['Volume'].rolling(window=5).corr(euro_df['Low'])\n",
    "rank_corr=corr_vl.rank()\n",
    "tsmax_rc3=ts_max(rank_corr,3)\n",
    "euro_df['alpha8']=-tsmax_rc3.rank()\n",
    "\n",
    "# alpha9\n",
    "r1=(euro_df['Open']-delay(euro_df['Open'], 1)).rank()\n",
    "r2=(delay(euro_df['Open'],1)-delay(euro_df['Open'],2)).rank()\n",
    "euro_df['alpha9']=r1+r2"
   ]
  },
  {
   "cell_type": "code",
   "execution_count": 143,
   "id": "b27d4323-1f9d-4796-a800-3983eecb1e85",
   "metadata": {},
   "outputs": [],
   "source": [
    "# helper functions\n",
    "def delta(s,period):\n",
    "    return s.diff(period)\n",
    "\n",
    "def ts_min(s,window):\n",
    "    return s.rolling(window).min()\n",
    "\n",
    "def ts_max(s,window):\n",
    "    return s.rolling(window).max()\n",
    "\n",
    "def ts_sum(s,window):\n",
    "    return s.rolling(window).sum()\n",
    "\n",
    "def sign(s):\n",
    "    return np.sign(s)\n",
    "\n",
    "def rank(s):\n",
    "    return s.rank()\n",
    "\n",
    "def correlation(s1,s2,window):\n",
    "    return s1.rolling(window).corr(s2)\n",
    "\n",
    "def covariance(s1,s2,window):\n",
    "    return s1.rolling(window).cov(s2)\n",
    "\n",
    "if 'VWAP' not in euro_df.columns:\n",
    "    euro_df['VWAP']=(euro_df.High+euro_df.Low+euro_df.Close)/3\n",
    "\n",
    "euro_df['alpha10']=-rank((euro_df.Close-euro_df.Open).abs())\n",
    "\n",
    "p=euro_df.VWAP-euro_df.Close\n",
    "euro_df['alpha11']=(rank(ts_max(p,3))+rank(ts_min(p,3)))*rank(delta(euro_df.Volume,3))\n",
    "\n",
    "euro_df['alpha12']=sign(delta(euro_df.Volume,1))*(-delta(euro_df.Close,1))\n",
    "\n",
    "con_cv=covariance(rank(euro_df.Close),rank(euro_df.Volume),5)\n",
    "euro_df['alpha13']=-rank(con_cv)\n",
    "\n",
    "euro_df['alpha14']=-rank(delta(euro_df['return'],3))*correlation(euro_df.Open,euro_df.Volume,10)\n",
    "\n",
    "corr_hv3=correlation(rank(euro_df.High),rank(euro_df.Volume),3)\n",
    "euro_df['alpha15']=-ts_sum(rank(corr_hv3),3)\n",
    "\n",
    "cov_hv5=covariance(rank(euro_df.High),rank(euro_df.Volume),5)\n",
    "euro_df['alpha16']=-rank(cov_hv5)"
   ]
  },
  {
   "cell_type": "code",
   "execution_count": 152,
   "id": "00a225ce-8954-45d1-b681-ed6517fad4cc",
   "metadata": {},
   "outputs": [
    {
     "name": "stderr",
     "output_type": "stream",
     "text": [
      "C:\\Users\\campus4D044\\AppData\\Local\\Temp\\ipykernel_21344\\3648167069.py:33: UserWarning: Pandas doesn't allow columns to be created via a new attribute name - see https://pandas.pydata.org/pandas-docs/stable/indexing.html#attribute-access\n",
      "  euro_df.alpha24=np.where(frac<=0.05, -(euro_df.Close-ts_min(euro_df.Close,100)),-delta(euro_df.Close,3))\n"
     ]
    }
   ],
   "source": [
    "def stddev(s,window):\n",
    "    return s.rolling(window).std()\n",
    "\n",
    "euro_df['adv20']=euro_df['Volume'].rolling(20).mean()\n",
    "\n",
    "euro_df['alpha17']=(-rank(ts_rank(euro_df.Close,10))*rank(delta(delta(euro_df.Close,1),1))*rank(ts_rank(euro_df.Volume/euro_df.adv20,5)))\n",
    "expr18=(stddev((euro_df.Close-euro_df.Open).abs(),5)+(euro_df.Close-euro_df.Open)+correlation(euro_df.Close,euro_df.Open,10))\n",
    "euro_df['alpha']=-rank(expr18)\n",
    "\n",
    "sign19=sign((euro_df.Close-delay(euro_df.Close,7))+delta(euro_df.Close,7))\n",
    "sum250=ts_sum(euro_df['return'],250)\n",
    "euro_df['alpha']=-1*sign19*(1+rank(1+sum250))\n",
    "\n",
    "r20a=-rank(euro_df.Open-delay(euro_df.High,1))\n",
    "r20b=rank(euro_df.Open-delay(euro_df.Close,1))\n",
    "r20c=rank(euro_df.Open-delay(euro_df.Low,1))\n",
    "euro_df['alpha20']=r20a*r20b*r20c\n",
    "\n",
    "ma8=ts_sum(euro_df.Close,8)/8\n",
    "ma2=ts_sum(euro_df.Close,2)/2\n",
    "sd8=stddev(euro_df.Close,8)\n",
    "vol_rel=euro_df.Volume/euro_df.adv20\n",
    "\n",
    "euro_df['alpha21']=np.where((ma8 + sd8) < ma2, -1, np.where(ma2 < (ma8 - sd8), 1, np.where((vol_rel >=1), 1, -1)))\n",
    "\n",
    "corr5_hv=correlation(euro_df.High, euro_df.Volume, 5)\n",
    "euro_df['alpha22']=-delta(corr5_hv,5)*rank(stddev(euro_df.Close,20))\n",
    "\n",
    "euro_df['alpha23']=np.where((ts_sum(euro_df.High,20)/20)< euro_df.High, -delta(euro_df.High,2),0)\n",
    "\n",
    "ma100=ts_sum(euro_df.Close,100)/100\n",
    "frac=delta(ma100,100)/delay(euro_df.Close,100)\n",
    "euro_df.alpha24=np.where(frac<=0.05, -(euro_df.Close-ts_min(euro_df.Close,100)),-delta(euro_df.Close,3))\n",
    "\n",
    "expr25=(-1*euro_df['return'])*euro_df.adv20*euro_df.VWAP*(euro_df.High-euro_df.Close)\n",
    "euro_df['alpha25']=rank(expr25)\n",
    "\n",
    "corr_vh5=correlation(ts_rank(euro_df.Volume,5),ts_rank(euro_df.High,5),5)\n",
    "euro_df['alpha26']=-ts_max(corr_vh5,3)"
   ]
  },
  {
   "cell_type": "code",
   "execution_count": 157,
   "id": "4fed88fa-68d0-4dce-a8ab-35d38b165171",
   "metadata": {},
   "outputs": [
    {
     "name": "stderr",
     "output_type": "stream",
     "text": [
      "C:\\Users\\campus4D044\\anaconda3\\Lib\\site-packages\\numpy\\core\\_methods.py:49: RuntimeWarning: invalid value encountered in reduce\n",
      "  return umr_sum(a, axis, dtype, out, keepdims, initial, where)\n"
     ]
    }
   ],
   "source": [
    "def scale(s):\n",
    "    return (s-s.mean())/s.std()\n",
    "\n",
    "def decay_linear(s, period):\n",
    "    weights=np.arange(1,period+1)\n",
    "    return s.rolling(period).apply(lambda x: np.dot(x, weights)/weights.sum(), raw=True)\n",
    "\n",
    "def product(*args):\n",
    "    res=args[0]\n",
    "    for arr in args[1:]:\n",
    "        res=res*arr\n",
    "    return res\n",
    "\n",
    "euro_df['adv20']=euro_df['Volume'].rolling(20).mean()\n",
    "tmp27=ts_sum(correlation(rank(euro_df['Volume']),rank(euro_df['VWAP']),6),2)/2\n",
    "euro_df['alpha27']=np.where(rank(tmp27)>0.5,-1,1)\n",
    "\n",
    "expr28 = correlation(euro_df['adv20'],euro_df['Low'],5)+(euro_df['High']+euro_df['Low'])/2 -euro_df['Close']\n",
    "euro_df['alpha28']=scale(expr28)\n",
    "\n",
    "part29=ts_sum(ts_min(rank(rank(-1 * rank(delta(euro_df['Close']-1,5)))),2),1)\n",
    "part29=np.log(part29).pipe(scale).pipe(rank).pipe(rank)\n",
    "prod29=product(rank(part29),1)\n",
    "euro_df['alpha29']=ts_min(prod29,5)+ts_rank(delay(-1*euro_df['return'],6),5)\n",
    "\n",
    "sigs=sign(euro_df['Close']-delay(euro_df['Close'],1))+sign(delay(euro_df['Close'],1)-delay(euro_df['Close'],2))+sign(delay(euro_df['Close'],2)-delay(euro_df['Close'],3))\n",
    "euro_df['alpha30']=((1-rank(sigs))*ts_sum(euro_df['Volume'],5))/ts_sum(euro_df['Volume'],20)\n",
    "\n",
    "part31=decay_linear(-1 * rank(rank(delta(euro_df['Close'],10))),10)\n",
    "euro_df['alpha31']=rank(rank(rank(part31)))+rank(-delta(euro_df['Close'],3))+sign(scale(correlation(euro_df['adv20'],euro_df['Low'],12)))\n",
    "\n",
    "euro_df['alpha32']=scale(ts_sum(euro_df['Close'],7)/7-euro_df['Close'])+20*scale(correlation(euro_df['VWAP'],delay(euro_df['Close'],5),230))\n",
    "\n",
    "euro_df['alpha33']=rank(-((1-euro_df['Open']/euro_df['Close'])**1))\n",
    "\n",
    "expr34=(1-rank(stddev(euro_df['return'],2)/stddev(euro_df['return'],5)))+(1-rank(delta(euro_df['Close'],1)))\n",
    "euro_df['alpha34']=rank(expr34)\n",
    "\n",
    "euro_df['alpha35']=ts_rank(euro_df['Volume'],32)*(1-ts_rank(euro_df['Close']+euro_df['High']-euro_df['Low'],16))*(1-ts_rank(euro_df['return'],32))\n",
    "\n",
    "term1=rank(correlation(euro_df['Close']-euro_df['Open'],delay(euro_df['Volume'],1),15))*2.21\n",
    "term2=rank(euro_df['Open']-euro_df['Close'])*0.7\n",
    "term3=rank(ts_rank(delay(-1*euro_df['return'],6),5))*0.73\n",
    "term4=rank(correlation(euro_df['VWAP'],euro_df['adv20'],6).abs())\n",
    "term5=rank((ts_sum(euro_df['Close'],200)/200 -euro_df['Open'])*(euro_df['Close']-euro_df['Open']))*0.6\n",
    "euro_df['alpha36']=term1+term2+term3+term4+term5\n",
    "\n",
    "euro_df['alpha37']=rank(correlation(delay(euro_df['Open']-euro_df['Close'],1), euro_df['Close'],200))+rank(euro_df['Open']-euro_df['Close'])"
   ]
  },
  {
   "cell_type": "code",
   "execution_count": 160,
   "id": "ca68a303-814b-4639-9d05-6b083d4c1330",
   "metadata": {},
   "outputs": [],
   "source": [
    "euro_df['returns']=euro_df.get('returns',euro_df['return'])\n",
    "\n",
    "euro_df['alpha38']=-1*rank(ts_rank(euro_df['Close'],10))*rank(euro_df['Close']/euro_df['Open'])\n",
    "\n",
    "term39=delta(euro_df['Close'],7)*(1-rank(decay_linear(euro_df['Volume']/euro_df['adv20'],9)))\n",
    "euro_df['alpha39']=-1*rank(term39)*(1+rank(ts_sum(euro_df['returns'],250)))\n",
    "\n",
    "euro_df['alpha40']=-1*rank(stddev(euro_df['High'],10))*correlation(euro_df['High'],euro_df['Volume'],10)\n",
    "\n",
    "euro_df['alpha41']=(euro_df['High']*euro_df['Low'])**0.5-euro_df['VWAP']\n",
    "\n",
    "euro_df['alpha42']=rank(euro_df['VWAP']-euro_df['Close'])/rank(euro_df['VWAP']+euro_df['Close'])\n",
    "\n",
    "euro_df['alpha43']=ts_rank(euro_df['Volume']/euro_df['adv20'],20)*ts_rank(-1*delta(euro_df['Close'],7),8)\n",
    "\n",
    "euro_df['alpha44']=-1*correlation(euro_df['High'],rank(euro_df['Volume']),5)"
   ]
  },
  {
   "cell_type": "code",
   "execution_count": 164,
   "id": "4e49de44-7c0d-4bee-bf65-80a73c0c0ac2",
   "metadata": {},
   "outputs": [],
   "source": [
    "num48=(correlation(delta(euro_df['Close'],1),delta(euro_df['Close'].shift(1),1),250)*delta(euro_df['Close'],1))/euro_df['Close']\n",
    "den48=ts_sum((delta(euro_df['Close'],1)/euro_df['Close'].shift(1))**2,250)\n",
    "\n",
    "glob_neut=num48-num48.mean()\n",
    "\n",
    "euro_df['alpha48']=glob_neut/den48"
   ]
  },
  {
   "cell_type": "code",
   "execution_count": 165,
   "id": "dca7141d-578c-4c0e-bd48-159ab3c9211d",
   "metadata": {},
   "outputs": [],
   "source": [
    "euro_df['alpha45']=-1*(rank(ts_sum(delay(euro_df['Close'],5),20)/20)*correlation(euro_df['Close'],euro_df['Volume'],2)*rank(correlation(ts_sum(euro_df['Close'],5),ts_sum(euro_df['Close'],20),2)))\n",
    "expr46=((delay(euro_df['Close'],20)-delay(euro_df['Close'],10))/10-(delay(euro_df['Close'],10)-euro_df['Close'])/10)\n",
    "euro_df['alpha46']=np.where(expr46>0.25,-1,np.where(expr46<0,1,-1*(euro_df['Close']-delay(euro_df['Close'],1))))\n",
    "\n",
    "euro_df['alpha47']=(((rank(1/euro_df['Close'])*euro_df['Volume'])/euro_df['adv20'])*((euro_df['High']*rank(euro_df['High']-euro_df['Close']))/(ts_sum(euro_df['High'],5)/5)))-rank(euro_df['VWAP']-delay(euro_df['VWAP'],5))\n",
    "\n",
    "expr49=((delay(euro_df['Close'],20)-delay(euro_df['Close'],10))/10-(delay(euro_df['Close'],10)-euro_df['Close'])/10)\n",
    "euro_df['alpha49']=np.where(expr49<-0.1,1,-1*(euro_df['Close']-delay(euro_df['Close'],1)))\n",
    "\n",
    "euro_df['alpha50']=-1*ts_max(rank(correlation(rank(euro_df['Volume']),rank(euro_df['VWAP']),5)),5)"
   ]
  },
  {
   "cell_type": "code",
   "execution_count": 169,
   "id": "ed9d4cb6-4862-4db5-ac0e-a9cb1f299e1b",
   "metadata": {},
   "outputs": [],
   "source": [
    "gdp=pdr.DataReader('NAEXKP01EZQ657S','fred',start=euro_df.index.min(),end=euro_df.index.max())\n",
    "gdp=gdp.rename(columns={'NAEXKP01EZQ657S':'cap'})\n",
    "\n",
    "gdp=gdp.reindex(euro_df.index,method='ffill')\n",
    "\n",
    "euro_df=euro_df.join(gdp['cap'])\n",
    "euro_df['alpha56']=(-rank(ts_sum(euro_df['returns'],10)/ts_sum(ts_sum(euro_df['returns'],2),3))*rank(euro_df['returns']*euro_df['cap']))"
   ]
  },
  {
   "cell_type": "code",
   "execution_count": 171,
   "id": "15f3edc6-c65c-4647-8562-c8d7fcb4d9aa",
   "metadata": {},
   "outputs": [],
   "source": [
    "def ts_argmax(s,window):\n",
    "    return s.rolling(window).apply(lambda x: x.argmax(), raw=True)\n",
    "\n",
    "euro_df['alpha57']=-1*(euro_df['Close']-euro_df['VWAP'])/decay_linear(rank(ts_argmax(euro_df['Close'],30)),2)"
   ]
  },
  {
   "cell_type": "code",
   "execution_count": 172,
   "id": "e8d57891-63e4-4c55-b4cd-6cca4d45c1e2",
   "metadata": {},
   "outputs": [],
   "source": [
    "num58=correlation(delta(euro_df['Close'],1),delta(euro_df['Close'].shift(1),1),int(3.92795))\n",
    "num58=decay_linear(num58,int(7.89291))\n",
    "\n",
    "glob_neut58=num58-num58.mean()\n",
    "\n",
    "euro_df['alpha58']=-1*ts_rank(glob_neut58,int(5.50322))"
   ]
  },
  {
   "cell_type": "code",
   "execution_count": 174,
   "id": "ee58b346-c497-4e89-bafe-5c18278c8ee8",
   "metadata": {},
   "outputs": [],
   "source": [
    "weighted_vwap=euro_df['VWAP']*0.728317+euro_df['VWAP']*(1-0.728317)\n",
    "\n",
    "num59=correlation(weighted_vwap,euro_df['Volume'],window=int(4.25197))\n",
    "\n",
    "decay_num59=decay_linear(num59,period=int(16.2289))\n",
    "\n",
    "glob_neut59=decay_num59-decay_num59.mean()\n",
    "\n",
    "euro_df['alpha59']=-1*ts_rank(glob_neut59,window=int(8.19648))"
   ]
  },
  {
   "cell_type": "code",
   "execution_count": 176,
   "id": "d7a731dc-c88e-42bd-968c-a16638d51a3a",
   "metadata": {},
   "outputs": [],
   "source": [
    "euro_df['alpha51']=np.where(((euro_df['Close'].shift(20)-euro_df['Close'].shift(10))/10-(euro_df['Close'].shift(10)-euro_df['Close'])/10)<-0.05,1,-1*(euro_df['Close']-euro_df['Close'].shift(1)))\n",
    "\n",
    "euro_df['alpha52']=((-ts_min(euro_df['Low'],5)+delay(ts_min(euro_df['Low'],5),5))*rank((ts_sum(euro_df['returns'],240)-ts_sum(euro_df['returns'],20))/220)*ts_rank(euro_df['Volume'],5))\n",
    "\n",
    "euro_df['alpha53']=-1*delta(((euro_df['Close']-euro_df['Low'])-(euro_df['High']-euro_df['Close']))/(euro_df['Close']-euro_df['Low']),9)\n",
    "\n",
    "euro_df['alpha54']=(-1*(euro_df['Low']-euro_df['Close'])*euro_df['Open']**5)/((euro_df['Low']-euro_df['High'])*euro_df['Close']**5)\n",
    "\n",
    "expr55=(euro_df['Close']-ts_min(euro_df['Low'],12))/(ts_max(euro_df['High'],12)-ts_min(euro_df['Low'],12))\n",
    "euro_df['alpha55']=-1*correlation(rank(expr55),rank(euro_df['Volume']),6)\n",
    "\n",
    "term60=(((euro_df['Close']-euro_df['Low'])-(euro_df['High']-euro_df['Close']))/(euro_df['High']-euro_df['Low']))*euro_df['Volume']\n",
    "euro_df['alpha']=-1*(2*scale(rank(term60))-scale(rank(ts_argmax(euro_df['Close'],10))))"
   ]
  },
  {
   "cell_type": "code",
   "execution_count": 177,
   "id": "4beabd91-be4d-4ebc-8ec0-ff688a124a67",
   "metadata": {},
   "outputs": [],
   "source": [
    "euro_df['adv180']=euro_df['Volume'].rolling(180).mean()\n",
    "euro_df['adv120']=euro_df['Volume'].rolling(120).mean()\n",
    "euro_df['adv60']=euro_df['Volume'].rolling(60).mean()\n",
    "euro_df['adv50']=euro_df['Volume'].rolling(50).mean()\n",
    "euro_df['adv15']=euro_df['Volume'].rolling(15).mean()"
   ]
  },
  {
   "cell_type": "code",
   "execution_count": null,
   "id": "7601ae6e-e44d-4fd2-936a-1dfcab466086",
   "metadata": {},
   "outputs": [],
   "source": [
    "def global_neutralize(s):\n",
    "    return s-s.mean()\n",
    "\n",
    "euro_df['alpha61']=(rank(df['VWAP']-ts_min(euro_df['VWAP'],16))<rank(correlation(euro_df['VWAP'],euro_df['adv180'],17))).astype(int)"
   ]
  }
 ],
 "metadata": {
  "kernelspec": {
   "display_name": "Python 3 (ipykernel)",
   "language": "python",
   "name": "python3"
  },
  "language_info": {
   "codemirror_mode": {
    "name": "ipython",
    "version": 3
   },
   "file_extension": ".py",
   "mimetype": "text/x-python",
   "name": "python",
   "nbconvert_exporter": "python",
   "pygments_lexer": "ipython3",
   "version": "3.12.7"
  }
 },
 "nbformat": 4,
 "nbformat_minor": 5
}
