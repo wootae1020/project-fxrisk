{
 "cells": [
  {
   "cell_type": "markdown",
   "id": "3a6bfe82-a48c-4453-b101-60d36416ca11",
   "metadata": {},
   "source": [
    "# 전처리\n",
    "|피쳐||||||||\n",
    "|---|---|---|---|---|---|---|---|\n",
    "|유로환율|Date|종가|시가|고가|저가|거래량|변동%|\n",
    "|DAX|Date|종가|시가|고가|저가|거래량(백 만)|변동%|\n",
    "|VSTOXX EUR|Date|종가|시가|고가|저가||변동%|\n",
    "|EUROSTOXX50|Date|종가|시가|고가|저가||변동%|\n",
    "|CAC|Date|종가|시가|고가|저가|거래량|변동%|\n",
    "|협의통화|Date|M1|M2|M3||||"
   ]
  },
  {
   "cell_type": "code",
   "execution_count": 2,
   "id": "7870d60c-927a-44a3-9df5-091649abcf66",
   "metadata": {},
   "outputs": [],
   "source": [
    "import pandas as pd\n",
    "import numpy as np"
   ]
  },
  {
   "cell_type": "code",
   "execution_count": 26,
   "id": "2de4e324-e71d-48d5-9958-debd1f42c549",
   "metadata": {},
   "outputs": [],
   "source": [
    "df1=pd.read_csv('어쩌면최종데이터.csv')\n",
    "df2=pd.read_csv('유로환율.csv')"
   ]
  },
  {
   "cell_type": "code",
   "execution_count": 28,
   "id": "17c54c65-3cf9-434e-a277-d3ecffd53395",
   "metadata": {},
   "outputs": [],
   "source": [
    "dax_df=pd.read_csv('DAX 과거 데이터.csv')\n",
    "vstoxx_df=pd.read_csv('STOXX 50 Volatility VSTOXX EUR 과거 데이터.csv')\n",
    "eurostoxx50_df=pd.read_csv('유로 스톡스 50 과거 데이터.csv')\n",
    "cac_df=pd.read_csv('프랑스 CAC 과거 데이터.csv')"
   ]
  },
  {
   "cell_type": "code",
   "execution_count": 29,
   "id": "af574be9-e3d3-43de-b46c-5af3e37f2a55",
   "metadata": {},
   "outputs": [],
   "source": [
    "meuro_df=pd.read_excel('유로지역 통화지표.xlsx')"
   ]
  },
  {
   "cell_type": "code",
   "execution_count": 80,
   "id": "da136f9b-a3fa-42b2-badb-c8e0be481540",
   "metadata": {},
   "outputs": [],
   "source": [
    "df2['종가']=df2['종가'].apply(lambda x: x.replace(',','')).astype(float)\n",
    "df2['시가']=df2['시가'].apply(lambda x: x.replace(',','')).astype(float)\n",
    "df2['고가']=df2['고가'].apply(lambda x: x.replace(',','')).astype(float)\n",
    "df2['저가']=df2['저가'].apply(lambda x: x.replace(',','')).astype(float)\n",
    "df2['거래량']=df2['거래량'].apply(lambda x: str(x).replace('M','') if x!=np.nan else x).astype(float)\n",
    "df2['변동 %']=df2['변동 %'].apply(lambda x: x.replace('%','')).astype(float)"
   ]
  },
  {
   "cell_type": "code",
   "execution_count": 81,
   "id": "de300d1c-b3ba-41b9-bc51-ede010adcbdf",
   "metadata": {},
   "outputs": [],
   "source": [
    "df2=df2.rename(columns={'종가':'Close','시가':'Open','저가':'Low','고가':'High'})"
   ]
  },
  {
   "cell_type": "code",
   "execution_count": 30,
   "id": "2f2aa2be-debe-4d12-8231-7e4ebad637d1",
   "metadata": {},
   "outputs": [],
   "source": [
    "dax_df.columns=['Date','Dax_종가','Dax_시가','Dax_고가','Dax_저가','Dax_거래량(백 만)','Dax_변동%']\n",
    "dax_df.Date=pd.to_datetime(dax_df.Date,format='%Y- %m- %d')\n",
    "dax_df['Dax_종가']=dax_df['Dax_종가'].apply(lambda x: x.replace(',','')).astype(float)\n",
    "dax_df['Dax_시가']=dax_df['Dax_시가'].apply(lambda x: x.replace(',','')).astype(float)\n",
    "dax_df['Dax_고가']=dax_df['Dax_고가'].apply(lambda x: x.replace(',','')).astype(float)\n",
    "dax_df['Dax_저가']=dax_df['Dax_저가'].apply(lambda x: x.replace(',','')).astype(float)\n",
    "dax_df['Dax_거래량(백 만)']=dax_df['Dax_거래량(백 만)'].apply(lambda x: str(x).replace('M','') if x!=np.nan else x).astype(float)\n",
    "dax_df['Dax_변동%']=dax_df['Dax_변동%'].apply(lambda x: x.replace('%','')).astype(float)\n",
    "\n",
    "vstoxx_df=vstoxx_df.drop('거래량',axis=1)\n",
    "vstoxx_df.columns=['Date','VSTOXX_종가','VSTOXX_시가','VSTOXX_고가','VSTOXX_저가','VSTOXX_변동%']\n",
    "vstoxx_df.Date=pd.to_datetime(vstoxx_df.Date,format='%Y- %m- %d')\n",
    "vstoxx_df['VSTOXX_변동%']=vstoxx_df['VSTOXX_변동%'].apply(lambda x: x.replace('%','')).astype(float)\n",
    "\n",
    "eurostoxx50_df=eurostoxx50_df.drop('거래량',axis=1)\n",
    "eurostoxx50_df.columns=['Date','EUROSTOXX50_종가','EUROSTOXX50_시가','EUROSTOXX50_고가','EUROSTOXX50_저가','EUROSTOXX50_변동%']\n",
    "eurostoxx50_df.Date=pd.to_datetime(eurostoxx50_df.Date,format='%Y- %m- %d')\n",
    "eurostoxx50_df.EUROSTOXX50_종가=eurostoxx50_df.EUROSTOXX50_종가.apply(lambda x: x.replace(',','')).astype(float)\n",
    "eurostoxx50_df.EUROSTOXX50_시가=eurostoxx50_df.EUROSTOXX50_시가.apply(lambda x: x.replace(',','')).astype(float)\n",
    "eurostoxx50_df.EUROSTOXX50_고가=eurostoxx50_df.EUROSTOXX50_고가.apply(lambda x: x.replace(',','')).astype(float)\n",
    "eurostoxx50_df.EUROSTOXX50_저가=eurostoxx50_df.EUROSTOXX50_저가.apply(lambda x: x.replace(',','')).astype(float)\n",
    "eurostoxx50_df['EUROSTOXX50_변동%']=eurostoxx50_df['EUROSTOXX50_변동%'].apply(lambda x: x.replace('%','')).astype(float)\n",
    "\n",
    "meuro_df.범례명=pd.to_datetime(meuro_df.범례명,format='%Y-%m')"
   ]
  },
  {
   "cell_type": "code",
   "execution_count": 31,
   "id": "bd3ebebc-261c-4bab-89ac-dc5114780cc5",
   "metadata": {},
   "outputs": [],
   "source": [
    "meuro_df=meuro_df.rename(columns={'범례명':'Date'})"
   ]
  },
  {
   "cell_type": "code",
   "execution_count": 32,
   "id": "9c22f05e-c688-44d2-99d7-c3a2df062991",
   "metadata": {},
   "outputs": [],
   "source": [
    "all_df=pd.merge(dax_df,vstoxx_df,how='inner',on='Date')\n",
    "all_df=pd.merge(all_df,eurostoxx50_df,how='inner',on='Date')"
   ]
  },
  {
   "cell_type": "code",
   "execution_count": 33,
   "id": "ae7a59e6-4247-4054-8307-5ab3466bf415",
   "metadata": {},
   "outputs": [],
   "source": [
    "import datetime as dt\n",
    "all_df['YM']=all_df['Date'].dt.to_period('M').astype(str)\n",
    "meuro_df['YM']=meuro_df['Date'].dt.to_period('M').astype(str)"
   ]
  },
  {
   "cell_type": "code",
   "execution_count": 34,
   "id": "f4eeb738-7a6f-4f0d-975c-740ac3a8c684",
   "metadata": {},
   "outputs": [],
   "source": [
    "all_df=pd.merge(all_df,meuro_df.drop('Date',axis=1),how='left',on='YM')\n",
    "all_df=all_df.drop(['유로지역(M3)','YM'],axis=1).sort_values(by='Date',ascending=True).reset_index().drop('index',axis=1)"
   ]
  },
  {
   "cell_type": "code",
   "execution_count": 35,
   "id": "f064c87c-049c-4357-963e-fa00703b91f4",
   "metadata": {},
   "outputs": [],
   "source": [
    "all_df.to_csv('all_df.csv')"
   ]
  },
  {
   "cell_type": "code",
   "execution_count": 36,
   "id": "014c7700-33ef-44f8-ad21-9ebe1f8b5045",
   "metadata": {},
   "outputs": [
    {
     "name": "stdout",
     "output_type": "stream",
     "text": [
      "['Date', '미환율_종가', '미환율_시가', '미환율_고가', '미환율_저가', '미환율_변동%', 'WTI유_종가', 'WTI유_시가', 'WTI유_고가', 'WTI유_저가', 'WTI유_거래량', 'WTI유_변동%', '금_종가', '금_시가', '금_고가', '금_저가', '금_거래량', '금_변동%', 'S&P500_종가', 'S&P500_시가', 'S&P500_고가', 'S&P500_저가', 'S&P500_변동%', '다우존스_종가', '다우존스_시가', '다우존스_고가', '다우존스_저가', '다우존스_거래량', '다우존스_변동%', '상해종합_종가', '상해종합_시가', '상해종합_고가', '상해종합_저가', '상해종합_거래량', '상해종합_변동%', '닛케이_종가', '닛케이_시가', '닛케이_고가', '닛케이_저가', '닛케이_변동%', '코스피_종가', '코스피_시가', '코스피_고가', '코스피_저가', '코스피_거래량', '코스피_변동%', '나스닥_종가', '나스닥_시가', '나스닥_고가', '나스닥_저가', '나스닥_거래량', '나스닥_변동%', 'VIX_종가', 'VIX_시가', 'VIX_고가', 'VIX_저가', 'VIX_거래량', 'VIX_변동%', '시가총액_전체', '시가총액_외국인보유', '시가총액_비율', '주식수_전체', '주식수_외국인보유', '주식수_비율', 'CD금리(91일)', '국고채(3년)', '한국정책금리', '미국정책금리', 'return', 'log_return', 'lag_1', 'lag_2', 'lag_3', 'lag_4', 'lag_5', 'sma_5', 'std_5', 'sma_10', 'std_10', 'sma_20', 'std_20', 'sma_60', 'std_60', 'bb_upper', 'bb_lower', 'bb_width', 'volatility_20', 'momentum_5', 'momentum_10', 'momentum_20', 'rsi_14', 'macd', 'macd_sig', 'macd_hist', 'sto_k', 'sto_d', 'Volume', 'alpha2', 'alpha4', 'alpha7', 'alpha9', 'VWAP', 'alpha10', 'alpha11', 'alpha12', 'alpha13', 'alpha16', 'adv20', 'alpha17', 'alpha18', 'alpha19', 'alpha20', 'alpha21', 'alpha23', 'alpha24', 'alpha25', 'alpha27', 'alpha29', 'alpha30', 'alpha32', 'alpha33', 'alpha34', 'alpha35', 'alpha36', 'alpha37', 'returns', 'alpha38', 'alpha39', 'alpha41', 'alpha42', 'alpha43', 'alpha46', 'alpha47', 'alpha48', 'alpha49', 'alpha51', 'alpha52', 'alpha53', 'alpha54', 'cap', 'alpha56', 'alpha57', 'alpha58', 'alpha60', 'adv180', 'adv120', 'adv60', 'adv50', 'adv15', 'alpha61', 'alpha62', 'alpha63', 'alpha64', 'alpha65', 'alpha66', 'alpha67', 'alpha68', 'alpha69', 'alpha70', 'adv5', 'adv10', 'adv30', 'adv40', 'adv81', 'adv150', 'alpha72', 'alpha73', 'alpha74', 'alpha75', 'alpha76', 'alpha77', 'alpha79', 'alpha81', 'alpha83', 'alpha84', 'alpha85', 'alpha86', 'alpha87', 'alpha90', 'alpha92', 'alpha93', 'alpha95', 'alpha98', 'alpha99', 'alpha101', '기준년월', '한국(M1)조원', '한국(M1)변동%', '한국(M2)조원', '한국(M2)변동%', '미국(M1)십억달러', '미국(M2)십억달러', '소비자심리지수', '생산자물가지수', '산업생산지수', '외환보유액(억달러)', '경상수지', '미국소비자물가지수', '비트코인_검색량', '일본엔_검색량', '유로(EUR)_검색량', 'S&P 500_검색량', '코스피_검색량', '일본EPU', '중국EPU', '한국EPU', '미국EPU', '글로벌EPU_명목GDP기준', '글로벌EPU_PPP기준']\n"
     ]
    }
   ],
   "source": [
    "print(list(df1))"
   ]
  },
  {
   "cell_type": "code",
   "execution_count": 37,
   "id": "e3faf5b0-3311-4c1e-bd48-354bde5f85e2",
   "metadata": {},
   "outputs": [],
   "source": [
    "df2=df2.rename(columns={'날짜':'Date'})"
   ]
  },
  {
   "cell_type": "code",
   "execution_count": 38,
   "id": "968477a2-1e80-419a-a4c5-19db57d84a3c",
   "metadata": {},
   "outputs": [],
   "source": [
    "df1_a=df1[['Date', 'WTI유_종가', 'WTI유_시가', 'WTI유_고가', 'WTI유_저가', 'WTI유_거래량', 'WTI유_변동%', '금_종가', '금_시가', '금_고가', '금_저가', '금_거래량', '금_변동%', '코스피_종가', '코스피_시가', '코스피_고가', '코스피_저가', '코스피_거래량', '코스피_변동%', '나스닥_종가', '나스닥_시가', '나스닥_고가', '나스닥_저가', '나스닥_거래량', '나스닥_변동%', 'VIX_종가', 'VIX_시가', 'VIX_고가', 'VIX_저가', 'VIX_거래량', 'VIX_변동%', '시가총액_전체', '시가총액_외국인보유', '시가총액_비율', '주식수_전체', '주식수_외국인보유', '주식수_비율', 'CD금리(91일)', '국고채(3년)', '한국정책금리', '미국정책금리', '기준년월', '한국(M1)조원', '한국(M1)변동%', '한국(M2)조원', '한국(M2)변동%', '미국(M1)십억달러', '미국(M2)십억달러', '소비자심리지수', '생산자물가지수', '산업생산지수', '외환보유액(억달러)', '경상수지', '미국소비자물가지수', '비트코인_검색량', '일본엔_검색량', '유로(EUR)_검색량', 'S&P 500_검색량', '코스피_검색량', '일본EPU', '중국EPU', '한국EPU', '미국EPU', '글로벌EPU_명목GDP기준', '글로벌EPU_PPP기준']]"
   ]
  },
  {
   "cell_type": "code",
   "execution_count": 39,
   "id": "bf427af3-646e-4a2d-9043-d79e8c1bac88",
   "metadata": {},
   "outputs": [
    {
     "name": "stdout",
     "output_type": "stream",
     "text": [
      "['Date', 'WTI유_종가', 'WTI유_시가', 'WTI유_고가', 'WTI유_저가', 'WTI유_거래량', 'WTI유_변동%', '금_종가', '금_시가', '금_고가', '금_저가', '금_거래량', '금_변동%', '코스피_종가', '코스피_시가', '코스피_고가', '코스피_저가', '코스피_거래량', '코스피_변동%', '나스닥_종가', '나스닥_시가', '나스닥_고가', '나스닥_저가', '나스닥_거래량', '나스닥_변동%', 'VIX_종가', 'VIX_시가', 'VIX_고가', 'VIX_저가', 'VIX_거래량', 'VIX_변동%', '시가총액_전체', '시가총액_외국인보유', '시가총액_비율', '주식수_전체', '주식수_외국인보유', '주식수_비율', 'CD금리(91일)', '국고채(3년)', '한국정책금리', '미국정책금리', '기준년월', '한국(M1)조원', '한국(M1)변동%', '한국(M2)조원', '한국(M2)변동%', '미국(M1)십억달러', '미국(M2)십억달러', '소비자심리지수', '생산자물가지수', '산업생산지수', '외환보유액(억달러)', '경상수지', '미국소비자물가지수', '비트코인_검색량', '일본엔_검색량', '유로(EUR)_검색량', 'S&P 500_검색량', '코스피_검색량', '일본EPU', '중국EPU', '한국EPU', '미국EPU', '글로벌EPU_명목GDP기준', '글로벌EPU_PPP기준']\n"
     ]
    }
   ],
   "source": [
    "print(list(df1_a))"
   ]
  },
  {
   "cell_type": "code",
   "execution_count": 41,
   "id": "37b44d1a-0876-46e0-9c58-56fa45aeb430",
   "metadata": {},
   "outputs": [
    {
     "name": "stderr",
     "output_type": "stream",
     "text": [
      "C:\\Users\\campus4D044\\AppData\\Local\\Temp\\ipykernel_22384\\432297386.py:1: SettingWithCopyWarning: \n",
      "A value is trying to be set on a copy of a slice from a DataFrame.\n",
      "Try using .loc[row_indexer,col_indexer] = value instead\n",
      "\n",
      "See the caveats in the documentation: https://pandas.pydata.org/pandas-docs/stable/user_guide/indexing.html#returning-a-view-versus-a-copy\n",
      "  df1_a['Date']=pd.to_datetime(df1_a['Date'])\n"
     ]
    }
   ],
   "source": [
    "df1_a['Date']=pd.to_datetime(df1_a['Date'])\n",
    "df2['Date']=pd.to_datetime(df2['Date'])\n",
    "all_df['Date']=pd.to_datetime(all_df['Date'])"
   ]
  },
  {
   "cell_type": "code",
   "execution_count": 47,
   "id": "5459856c-e58e-40e6-b1c5-915b991fe813",
   "metadata": {},
   "outputs": [],
   "source": [
    "df_base=pd.merge(df1_a,df2,how='right',on='Date')\n",
    "df_base=pd.merge(df_base,all_df,how='right',on='Date')"
   ]
  },
  {
   "cell_type": "code",
   "execution_count": null,
   "id": "0a205e4d-5990-4481-b101-4bb870595c92",
   "metadata": {},
   "outputs": [],
   "source": [
    "print(list(df_base))"
   ]
  },
  {
   "cell_type": "code",
   "execution_count": 48,
   "id": "8da2ce58-127e-4dff-bbb8-2839843f4a5e",
   "metadata": {},
   "outputs": [],
   "source": [
    "df_base=df_base.replace([np.inf,-np.inf],np.nan)\n",
    "df_base=df_base.loc[:,df_base.isnull().mean()<0.05]"
   ]
  },
  {
   "cell_type": "code",
   "execution_count": 69,
   "id": "427f521a-0496-47eb-9b75-31a8eddb536e",
   "metadata": {},
   "outputs": [
    {
     "data": {
      "text/plain": [
       "['Date',\n",
       " 'WTI유_종가',\n",
       " 'WTI유_시가',\n",
       " 'WTI유_고가',\n",
       " 'WTI유_저가',\n",
       " 'WTI유_거래량',\n",
       " 'WTI유_변동%',\n",
       " '금_종가',\n",
       " '금_시가',\n",
       " '금_고가',\n",
       " '금_저가',\n",
       " '금_거래량',\n",
       " '금_변동%',\n",
       " '코스피_종가',\n",
       " '코스피_시가',\n",
       " '코스피_고가',\n",
       " '코스피_저가',\n",
       " '코스피_거래량',\n",
       " '코스피_변동%',\n",
       " '나스닥_종가',\n",
       " '나스닥_시가',\n",
       " '나스닥_고가',\n",
       " '나스닥_저가',\n",
       " '나스닥_거래량',\n",
       " '나스닥_변동%',\n",
       " 'VIX_종가',\n",
       " 'VIX_시가',\n",
       " 'VIX_고가',\n",
       " 'VIX_저가',\n",
       " 'VIX_거래량',\n",
       " 'VIX_변동%',\n",
       " '시가총액_전체',\n",
       " '시가총액_외국인보유',\n",
       " '시가총액_비율',\n",
       " '주식수_전체',\n",
       " '주식수_외국인보유',\n",
       " '주식수_비율',\n",
       " 'CD금리(91일)',\n",
       " '국고채(3년)',\n",
       " '한국정책금리',\n",
       " '미국정책금리',\n",
       " '기준년월',\n",
       " '한국(M1)조원',\n",
       " '한국(M1)변동%',\n",
       " '한국(M2)조원',\n",
       " '한국(M2)변동%',\n",
       " '미국(M1)십억달러',\n",
       " '미국(M2)십억달러',\n",
       " '소비자심리지수',\n",
       " '생산자물가지수',\n",
       " '산업생산지수',\n",
       " '외환보유액(억달러)',\n",
       " '경상수지',\n",
       " '미국소비자물가지수',\n",
       " '비트코인_검색량',\n",
       " '일본엔_검색량',\n",
       " '유로(EUR)_검색량',\n",
       " 'S&P 500_검색량',\n",
       " '코스피_검색량',\n",
       " '일본EPU',\n",
       " '중국EPU',\n",
       " '한국EPU',\n",
       " '미국EPU',\n",
       " '글로벌EPU_명목GDP기준',\n",
       " '글로벌EPU_PPP기준',\n",
       " 'Close',\n",
       " 'Open',\n",
       " 'High',\n",
       " 'Low',\n",
       " '유로환율_변동%_x',\n",
       " 'return',\n",
       " 'log_return',\n",
       " 'lag_1',\n",
       " 'lag_2',\n",
       " 'lag_3',\n",
       " 'lag_4',\n",
       " 'lag_5',\n",
       " 'sma_5',\n",
       " 'std_5',\n",
       " 'sma_10',\n",
       " 'std_10',\n",
       " 'sma_20',\n",
       " 'std_20',\n",
       " 'sma_60',\n",
       " 'std_60',\n",
       " 'bb_upper',\n",
       " 'bb_lower',\n",
       " 'bb_width',\n",
       " 'volatility_20',\n",
       " 'momentum_5',\n",
       " 'momentum_10',\n",
       " 'momentum_20',\n",
       " 'rsi_14',\n",
       " 'macd',\n",
       " 'macd_sig',\n",
       " 'macd_hist',\n",
       " 'sto_k',\n",
       " 'sto_d',\n",
       " 'Volume',\n",
       " 'alpha2',\n",
       " 'alpha4',\n",
       " 'alpha7',\n",
       " 'alpha9',\n",
       " 'VWAP',\n",
       " 'alpha10',\n",
       " 'alpha11',\n",
       " 'alpha12',\n",
       " 'alpha13',\n",
       " 'alpha16',\n",
       " 'adv20',\n",
       " 'alpha17',\n",
       " 'alpha18',\n",
       " 'alpha19',\n",
       " 'alpha20',\n",
       " 'alpha21',\n",
       " 'alpha23',\n",
       " 'alpha24',\n",
       " 'alpha25',\n",
       " 'alpha27',\n",
       " 'alpha29',\n",
       " 'alpha30',\n",
       " 'alpha32',\n",
       " 'alpha33',\n",
       " 'alpha34',\n",
       " 'alpha35',\n",
       " 'alpha37',\n",
       " 'returns',\n",
       " 'alpha38',\n",
       " 'alpha39',\n",
       " 'alpha41',\n",
       " 'alpha42',\n",
       " 'alpha43',\n",
       " 'alpha48',\n",
       " 'alpha46',\n",
       " 'alpha47',\n",
       " 'alpha49',\n",
       " 'cap',\n",
       " 'alpha56',\n",
       " 'alpha57',\n",
       " 'alpha58',\n",
       " 'alpha51',\n",
       " 'alpha52',\n",
       " 'alpha53',\n",
       " 'alpha54',\n",
       " 'alpha60',\n",
       " 'adv180',\n",
       " 'adv120',\n",
       " 'adv60',\n",
       " 'adv50',\n",
       " 'adv15',\n",
       " 'alpha61',\n",
       " 'alpha62',\n",
       " 'alpha64',\n",
       " 'alpha65',\n",
       " 'alpha66',\n",
       " 'alpha68',\n",
       " 'adv5',\n",
       " 'adv10',\n",
       " 'adv30',\n",
       " 'adv40',\n",
       " 'adv81',\n",
       " 'adv150',\n",
       " 'alpha73',\n",
       " 'alpha74',\n",
       " 'alpha75',\n",
       " 'alpha79',\n",
       " 'alpha81',\n",
       " 'alpha83',\n",
       " 'alpha84',\n",
       " 'alpha86',\n",
       " 'alpha95',\n",
       " 'alpha99',\n",
       " 'alpha101',\n",
       " 'Dax_종가',\n",
       " 'Dax_시가',\n",
       " 'Dax_고가',\n",
       " 'Dax_저가',\n",
       " 'Dax_거래량(백 만)',\n",
       " 'Dax_변동%',\n",
       " 'VSTOXX_종가',\n",
       " 'VSTOXX_시가',\n",
       " 'VSTOXX_고가',\n",
       " 'VSTOXX_저가',\n",
       " 'VSTOXX_변동%',\n",
       " 'EUROSTOXX50_종가',\n",
       " 'EUROSTOXX50_시가',\n",
       " 'EUROSTOXX50_고가',\n",
       " 'EUROSTOXX50_저가',\n",
       " 'EUROSTOXX50_변동%',\n",
       " '유로지역(M1)',\n",
       " '유로지역(M2)']"
      ]
     },
     "execution_count": 69,
     "metadata": {},
     "output_type": "execute_result"
    }
   ],
   "source": [
    "list(df_base)"
   ]
  },
  {
   "cell_type": "code",
   "execution_count": 1,
   "id": "4a115f61-455c-4506-87a1-8f7a837d5778",
   "metadata": {},
   "outputs": [
    {
     "ename": "NameError",
     "evalue": "name 'df_base' is not defined",
     "output_type": "error",
     "traceback": [
      "\u001b[1;31m---------------------------------------------------------------------------\u001b[0m",
      "\u001b[1;31mNameError\u001b[0m                                 Traceback (most recent call last)",
      "Cell \u001b[1;32mIn[1], line 1\u001b[0m\n\u001b[1;32m----> 1\u001b[0m df_base\u001b[38;5;241m.\u001b[39mto_csv(\u001b[38;5;124m'\u001b[39m\u001b[38;5;124mdf_base_유로.csv\u001b[39m\u001b[38;5;124m'\u001b[39m,index\u001b[38;5;241m=\u001b[39m\u001b[38;5;28;01mFalse\u001b[39;00m)\n",
      "\u001b[1;31mNameError\u001b[0m: name 'df_base' is not defined"
     ]
    }
   ],
   "source": [
    "df_base.to_csv('df_base_유로.csv',index=False)"
   ]
  },
  {
   "cell_type": "code",
   "execution_count": 3,
   "id": "5350a497-3091-457b-b510-7bd4747e6773",
   "metadata": {},
   "outputs": [
    {
     "ename": "NameError",
     "evalue": "name 'df_base' is not defined",
     "output_type": "error",
     "traceback": [
      "\u001b[1;31m---------------------------------------------------------------------------\u001b[0m",
      "\u001b[1;31mNameError\u001b[0m                                 Traceback (most recent call last)",
      "Cell \u001b[1;32mIn[3], line 1\u001b[0m\n\u001b[1;32m----> 1\u001b[0m df_base\u001b[38;5;241m=\u001b[39mdf_base\u001b[38;5;241m.\u001b[39mdropna()\n",
      "\u001b[1;31mNameError\u001b[0m: name 'df_base' is not defined"
     ]
    }
   ],
   "source": [
    "df_base=df_base.dropna()"
   ]
  },
  {
   "cell_type": "code",
   "execution_count": null,
   "id": "4066d6ed-b3df-4853-94c1-c44264fd4eaa",
   "metadata": {},
   "outputs": [],
   "source": []
  },
  {
   "cell_type": "markdown",
   "id": "7aa77753-c8f5-4280-a1ff-b218a0a3363b",
   "metadata": {},
   "source": [
    "# 모델링"
   ]
  },
  {
   "cell_type": "code",
   "execution_count": 71,
   "id": "bb73787a-41b9-4c59-9978-7b3e03d28bc7",
   "metadata": {},
   "outputs": [],
   "source": [
    "import matplotlib.pyplot as plt\n",
    "import matplotlib.font_manager as fm\n",
    "import matplotlib as mpl\n",
    "import matplotlib.ticker as ticker"
   ]
  },
  {
   "cell_type": "code",
   "execution_count": 70,
   "id": "f9d8ef01-d780-4188-b2d4-6800054a3b57",
   "metadata": {},
   "outputs": [],
   "source": [
    "df_base=pd.read_csv('df_base_유로.csv')"
   ]
  },
  {
   "cell_type": "code",
   "execution_count": 72,
   "id": "4a67adb9-1d91-402c-8413-66c2b82cee19",
   "metadata": {},
   "outputs": [
    {
     "name": "stdout",
     "output_type": "stream",
     "text": [
      "['Date', 'WTI유_종가', 'WTI유_시가', 'WTI유_고가', 'WTI유_저가', 'WTI유_거래량', 'WTI유_변동%', '금_종가', '금_시가', '금_고가', '금_저가', '금_거래량', '금_변동%', '코스피_종가', '코스피_시가', '코스피_고가', '코스피_저가', '코스피_거래량', '코스피_변동%', '나스닥_종가', '나스닥_시가', '나스닥_고가', '나스닥_저가', '나스닥_거래량', '나스닥_변동%', 'VIX_종가', 'VIX_시가', 'VIX_고가', 'VIX_저가', 'VIX_거래량', 'VIX_변동%', '시가총액_전체', '시가총액_외국인보유', '시가총액_비율', '주식수_전체', '주식수_외국인보유', '주식수_비율', 'CD금리(91일)', '국고채(3년)', '한국정책금리', '미국정책금리', '기준년월', '한국(M1)조원', '한국(M1)변동%', '한국(M2)조원', '한국(M2)변동%', '미국(M1)십억달러', '미국(M2)십억달러', '소비자심리지수', '생산자물가지수', '산업생산지수', '외환보유액(억달러)', '경상수지', '미국소비자물가지수', '비트코인_검색량', '일본엔_검색량', '유로(EUR)_검색량', 'S&P 500_검색량', '코스피_검색량', '일본EPU', '중국EPU', '한국EPU', '미국EPU', '글로벌EPU_명목GDP기준', '글로벌EPU_PPP기준', 'Close', 'Open', 'High', 'Low', '유로환율_변동%_x', 'return', 'log_return', 'lag_1', 'lag_2', 'lag_3', 'lag_4', 'lag_5', 'sma_5', 'std_5', 'sma_10', 'std_10', 'sma_20', 'std_20', 'sma_60', 'std_60', 'bb_upper', 'bb_lower', 'bb_width', 'volatility_20', 'momentum_5', 'momentum_10', 'momentum_20', 'rsi_14', 'macd', 'macd_sig', 'macd_hist', 'sto_k', 'sto_d', 'Volume', 'alpha2', 'alpha4', 'alpha7', 'alpha9', 'VWAP', 'alpha10', 'alpha11', 'alpha12', 'alpha13', 'alpha16', 'adv20', 'alpha17', 'alpha18', 'alpha19', 'alpha20', 'alpha21', 'alpha23', 'alpha24', 'alpha25', 'alpha27', 'alpha29', 'alpha30', 'alpha32', 'alpha33', 'alpha34', 'alpha35', 'alpha37', 'returns', 'alpha38', 'alpha39', 'alpha41', 'alpha42', 'alpha43', 'alpha48', 'alpha46', 'alpha47', 'alpha49', 'cap', 'alpha56', 'alpha57', 'alpha58', 'alpha51', 'alpha52', 'alpha53', 'alpha54', 'alpha60', 'adv180', 'adv120', 'adv60', 'adv50', 'adv15', 'alpha61', 'alpha62', 'alpha64', 'alpha65', 'alpha66', 'alpha68', 'adv5', 'adv10', 'adv30', 'adv40', 'adv81', 'adv150', 'alpha73', 'alpha74', 'alpha75', 'alpha79', 'alpha81', 'alpha83', 'alpha84', 'alpha86', 'alpha95', 'alpha99', 'alpha101', 'Dax_종가', 'Dax_시가', 'Dax_고가', 'Dax_저가', 'Dax_거래량(백 만)', 'Dax_변동%', 'VSTOXX_종가', 'VSTOXX_시가', 'VSTOXX_고가', 'VSTOXX_저가', 'VSTOXX_변동%', 'EUROSTOXX50_종가', 'EUROSTOXX50_시가', 'EUROSTOXX50_고가', 'EUROSTOXX50_저가', 'EUROSTOXX50_변동%', '유로지역(M1)', '유로지역(M2)']\n"
     ]
    }
   ],
   "source": [
    "print(list(df_base))"
   ]
  },
  {
   "cell_type": "code",
   "execution_count": 44,
   "id": "3ce294bf-4ca6-4126-821f-ed10724aa263",
   "metadata": {},
   "outputs": [],
   "source": [
    "df_base=df_base[['Date', 'Close', 'Open', 'High', 'Low', '유로환율_변동%_x', 'Dax_종가', 'Dax_시가', 'Dax_고가', 'Dax_저가', 'Dax_거래량(백 만)', 'Dax_변동%', 'VSTOXX_종가', 'VSTOXX_시가', 'VSTOXX_고가', 'VSTOXX_저가', 'VSTOXX_변동%', 'EUROSTOXX50_종가', 'EUROSTOXX50_시가', 'EUROSTOXX50_고가', 'EUROSTOXX50_저가', 'EUROSTOXX50_변동%', '유로지역(M1)', '유로지역(M2)']]"
   ]
  },
  {
   "cell_type": "code",
   "execution_count": 25,
   "id": "20683a75-e9f1-4d57-abfc-ec4f272f1f2a",
   "metadata": {},
   "outputs": [],
   "source": [
    "df_base=df_base[['Date', 'WTI유_종가', 'WTI유_시가', 'WTI유_고가', 'WTI유_저가', 'WTI유_거래량', 'WTI유_변동%', '금_종가', '금_시가', '금_고가', '금_저가', '금_거래량', '금_변동%', '코스피_종가', '코스피_시가', '코스피_고가', '코스피_저가', '코스피_거래량', '코스피_변동%', '나스닥_종가', '나스닥_시가', '나스닥_고가', '나스닥_저가', '나스닥_거래량', '나스닥_변동%', 'VIX_종가', 'VIX_시가', 'VIX_고가', 'VIX_저가', 'VIX_거래량', 'VIX_변동%', '시가총액_전체', '시가총액_외국인보유', '시가총액_비율', '주식수_전체', '주식수_외국인보유', '주식수_비율', 'CD금리(91일)', '국고채(3년)', '한국정책금리', '미국정책금리', '기준년월', '한국(M1)조원', '한국(M1)변동%', '한국(M2)조원', '한국(M2)변동%', '미국(M1)십억달러', '미국(M2)십억달러', '소비자심리지수', '생산자물가지수', '산업생산지수', '외환보유액(억달러)', '경상수지', '미국소비자물가지수', '비트코인_검색량', '일본엔_검색량', '유로(EUR)_검색량', 'S&P 500_검색량', '코스피_검색량', '일본EPU', '중국EPU', '한국EPU', '미국EPU', '글로벌EPU_명목GDP기준', '글로벌EPU_PPP기준', 'Close', 'Open', 'High', 'Low', '유로환율_변동%_x', 'Dax_종가', 'Dax_시가', 'Dax_고가', 'Dax_저가', 'Dax_거래량(백 만)', 'Dax_변동%', 'VSTOXX_종가', 'VSTOXX_시가', 'VSTOXX_고가', 'VSTOXX_저가', 'VSTOXX_변동%', 'EUROSTOXX50_종가', 'EUROSTOXX50_시가', 'EUROSTOXX50_고가', 'EUROSTOXX50_저가', 'EUROSTOXX50_변동%', '유로지역(M1)', '유로지역(M2)']]"
   ]
  },
  {
   "cell_type": "code",
   "execution_count": 53,
   "id": "a3f36eb2-03bb-4a29-987d-10063f76c6d8",
   "metadata": {},
   "outputs": [
    {
     "data": {
      "text/html": [
       "<div>\n",
       "<style scoped>\n",
       "    .dataframe tbody tr th:only-of-type {\n",
       "        vertical-align: middle;\n",
       "    }\n",
       "\n",
       "    .dataframe tbody tr th {\n",
       "        vertical-align: top;\n",
       "    }\n",
       "\n",
       "    .dataframe thead th {\n",
       "        text-align: right;\n",
       "    }\n",
       "</style>\n",
       "<table border=\"1\" class=\"dataframe\">\n",
       "  <thead>\n",
       "    <tr style=\"text-align: right;\">\n",
       "      <th></th>\n",
       "      <th>Feature</th>\n",
       "      <th>Importance</th>\n",
       "    </tr>\n",
       "  </thead>\n",
       "  <tbody>\n",
       "    <tr>\n",
       "      <th>110</th>\n",
       "      <td>alpha20</td>\n",
       "      <td>0.011457</td>\n",
       "    </tr>\n",
       "    <tr>\n",
       "      <th>72</th>\n",
       "      <td>lag_4</td>\n",
       "      <td>0.011449</td>\n",
       "    </tr>\n",
       "    <tr>\n",
       "      <th>120</th>\n",
       "      <td>alpha34</td>\n",
       "      <td>0.011255</td>\n",
       "    </tr>\n",
       "    <tr>\n",
       "      <th>175</th>\n",
       "      <td>Dax_변동%</td>\n",
       "      <td>0.010929</td>\n",
       "    </tr>\n",
       "    <tr>\n",
       "      <th>11</th>\n",
       "      <td>금_변동%</td>\n",
       "      <td>0.010701</td>\n",
       "    </tr>\n",
       "    <tr>\n",
       "      <th>...</th>\n",
       "      <td>...</td>\n",
       "      <td>...</td>\n",
       "    </tr>\n",
       "    <tr>\n",
       "      <th>152</th>\n",
       "      <td>alpha68</td>\n",
       "      <td>0.000431</td>\n",
       "    </tr>\n",
       "    <tr>\n",
       "      <th>103</th>\n",
       "      <td>alpha12</td>\n",
       "      <td>0.000147</td>\n",
       "    </tr>\n",
       "    <tr>\n",
       "      <th>166</th>\n",
       "      <td>alpha86</td>\n",
       "      <td>0.000113</td>\n",
       "    </tr>\n",
       "    <tr>\n",
       "      <th>165</th>\n",
       "      <td>alpha84</td>\n",
       "      <td>0.000008</td>\n",
       "    </tr>\n",
       "    <tr>\n",
       "      <th>167</th>\n",
       "      <td>alpha95</td>\n",
       "      <td>0.000000</td>\n",
       "    </tr>\n",
       "  </tbody>\n",
       "</table>\n",
       "<p>188 rows × 2 columns</p>\n",
       "</div>"
      ],
      "text/plain": [
       "     Feature  Importance\n",
       "110  alpha20    0.011457\n",
       "72     lag_4    0.011449\n",
       "120  alpha34    0.011255\n",
       "175  Dax_변동%    0.010929\n",
       "11     금_변동%    0.010701\n",
       "..       ...         ...\n",
       "152  alpha68    0.000431\n",
       "103  alpha12    0.000147\n",
       "166  alpha86    0.000113\n",
       "165  alpha84    0.000008\n",
       "167  alpha95    0.000000\n",
       "\n",
       "[188 rows x 2 columns]"
      ]
     },
     "execution_count": 53,
     "metadata": {},
     "output_type": "execute_result"
    }
   ],
   "source": [
    "pd.DataFrame({'Feature': X.columns,'Importance':model_rf.feature_importances_}).sort_values(by='Importance',ascending=False)"
   ]
  },
  {
   "cell_type": "code",
   "execution_count": 54,
   "id": "da6f490a-e76b-449d-9da1-bf73048242a2",
   "metadata": {},
   "outputs": [
    {
     "data": {
      "text/html": [
       "<div>\n",
       "<style scoped>\n",
       "    .dataframe tbody tr th:only-of-type {\n",
       "        vertical-align: middle;\n",
       "    }\n",
       "\n",
       "    .dataframe tbody tr th {\n",
       "        vertical-align: top;\n",
       "    }\n",
       "\n",
       "    .dataframe thead th {\n",
       "        text-align: right;\n",
       "    }\n",
       "</style>\n",
       "<table border=\"1\" class=\"dataframe\">\n",
       "  <thead>\n",
       "    <tr style=\"text-align: right;\">\n",
       "      <th></th>\n",
       "      <th>Feature</th>\n",
       "      <th>Importance</th>\n",
       "    </tr>\n",
       "  </thead>\n",
       "  <tbody>\n",
       "    <tr>\n",
       "      <th>115</th>\n",
       "      <td>alpha27</td>\n",
       "      <td>0.017881</td>\n",
       "    </tr>\n",
       "    <tr>\n",
       "      <th>19</th>\n",
       "      <td>나스닥_시가</td>\n",
       "      <td>0.011952</td>\n",
       "    </tr>\n",
       "    <tr>\n",
       "      <th>56</th>\n",
       "      <td>코스피_검색량</td>\n",
       "      <td>0.011922</td>\n",
       "    </tr>\n",
       "    <tr>\n",
       "      <th>34</th>\n",
       "      <td>주식수_외국인보유</td>\n",
       "      <td>0.011033</td>\n",
       "    </tr>\n",
       "    <tr>\n",
       "      <th>127</th>\n",
       "      <td>alpha42</td>\n",
       "      <td>0.010547</td>\n",
       "    </tr>\n",
       "    <tr>\n",
       "      <th>...</th>\n",
       "      <td>...</td>\n",
       "      <td>...</td>\n",
       "    </tr>\n",
       "    <tr>\n",
       "      <th>158</th>\n",
       "      <td>adv150</td>\n",
       "      <td>0.000000</td>\n",
       "    </tr>\n",
       "    <tr>\n",
       "      <th>45</th>\n",
       "      <td>미국(M2)십억달러</td>\n",
       "      <td>0.000000</td>\n",
       "    </tr>\n",
       "    <tr>\n",
       "      <th>165</th>\n",
       "      <td>alpha84</td>\n",
       "      <td>0.000000</td>\n",
       "    </tr>\n",
       "    <tr>\n",
       "      <th>166</th>\n",
       "      <td>alpha86</td>\n",
       "      <td>0.000000</td>\n",
       "    </tr>\n",
       "    <tr>\n",
       "      <th>187</th>\n",
       "      <td>유로지역(M2)</td>\n",
       "      <td>0.000000</td>\n",
       "    </tr>\n",
       "  </tbody>\n",
       "</table>\n",
       "<p>188 rows × 2 columns</p>\n",
       "</div>"
      ],
      "text/plain": [
       "        Feature  Importance\n",
       "115     alpha27    0.017881\n",
       "19       나스닥_시가    0.011952\n",
       "56      코스피_검색량    0.011922\n",
       "34    주식수_외국인보유    0.011033\n",
       "127     alpha42    0.010547\n",
       "..          ...         ...\n",
       "158      adv150    0.000000\n",
       "45   미국(M2)십억달러    0.000000\n",
       "165     alpha84    0.000000\n",
       "166     alpha86    0.000000\n",
       "187    유로지역(M2)    0.000000\n",
       "\n",
       "[188 rows x 2 columns]"
      ]
     },
     "execution_count": 54,
     "metadata": {},
     "output_type": "execute_result"
    }
   ],
   "source": [
    "pd.DataFrame({'Feature': X.columns,'Importance':model_xgb.feature_importances_}).sort_values(by='Importance',ascending=False)"
   ]
  },
  {
   "cell_type": "code",
   "execution_count": 55,
   "id": "b839de9b-5c31-4469-bb0c-b26691fb6a7e",
   "metadata": {},
   "outputs": [
    {
     "ename": "AttributeError",
     "evalue": "'LogisticRegression' object has no attribute 'feature_importances_'",
     "output_type": "error",
     "traceback": [
      "\u001b[1;31m---------------------------------------------------------------------------\u001b[0m",
      "\u001b[1;31mAttributeError\u001b[0m                            Traceback (most recent call last)",
      "Cell \u001b[1;32mIn[55], line 1\u001b[0m\n\u001b[1;32m----> 1\u001b[0m pd\u001b[38;5;241m.\u001b[39mDataFrame({\u001b[38;5;124m'\u001b[39m\u001b[38;5;124mImportance\u001b[39m\u001b[38;5;124m'\u001b[39m:meta_lr\u001b[38;5;241m.\u001b[39mfeature_importances_})\u001b[38;5;241m.\u001b[39msort_values(by\u001b[38;5;241m=\u001b[39m\u001b[38;5;124m'\u001b[39m\u001b[38;5;124mImportance\u001b[39m\u001b[38;5;124m'\u001b[39m,ascending\u001b[38;5;241m=\u001b[39m\u001b[38;5;28;01mFalse\u001b[39;00m)\n",
      "\u001b[1;31mAttributeError\u001b[0m: 'LogisticRegression' object has no attribute 'feature_importances_'"
     ]
    }
   ],
   "source": [
    "pd.DataFrame({'Importance':meta_lr.feature_importances_}).sort_values(by='Importance',ascending=False)"
   ]
  },
  {
   "cell_type": "code",
   "execution_count": 73,
   "id": "6b7394e1-6f7f-448b-b886-ef56c1d1b2d1",
   "metadata": {},
   "outputs": [
    {
     "name": "stderr",
     "output_type": "stream",
     "text": [
      "C:\\Users\\campus4D044\\anaconda3\\Lib\\site-packages\\keras\\src\\layers\\rnn\\rnn.py:200: UserWarning: Do not pass an `input_shape`/`input_dim` argument to a layer. When using Sequential models, prefer using an `Input(shape)` object as the first layer in the model instead.\n",
      "  super().__init__(**kwargs)\n"
     ]
    },
    {
     "name": "stdout",
     "output_type": "stream",
     "text": [
      "\u001b[1m16/16\u001b[0m \u001b[32m━━━━━━━━━━━━━━━━━━━━\u001b[0m\u001b[37m\u001b[0m \u001b[1m0s\u001b[0m 19ms/step\n",
      "🏆 Best Method: LogisticRegression_Extended\n",
      "Accuracy : 0.5407\n",
      "F1 Score : 0.6667\n",
      "Recall   : 0.8496\n",
      "Precision: 0.5485\n",
      "Classification Report:               precision    recall  f1-score   support\n",
      "\n",
      "           0       0.50      0.18      0.26       226\n",
      "           1       0.55      0.85      0.67       266\n",
      "\n",
      "    accuracy                           0.54       492\n",
      "   macro avg       0.52      0.51      0.46       492\n",
      "weighted avg       0.53      0.54      0.48       492\n",
      "\n"
     ]
    },
    {
     "data": {
      "image/png": "[encoded data removed]",
      "text/plain": [
       "<Figure size 640x480 with 2 Axes>"
      ]
     },
     "metadata": {},
     "output_type": "display_data"
    }
   ],
   "source": [
    "# 1. 라이브러리\n",
    "import pandas as pd\n",
    "import numpy as np\n",
    "import matplotlib.pyplot as plt\n",
    "import joblib\n",
    "\n",
    "from sklearn.preprocessing import StandardScaler\n",
    "from sklearn.metrics import accuracy_score, f1_score, precision_score, recall_score, confusion_matrix, ConfusionMatrixDisplay, classification_report\n",
    "from sklearn.linear_model import LogisticRegression\n",
    "from sklearn.ensemble import RandomForestClassifier\n",
    "from xgboost import XGBClassifier\n",
    "\n",
    "from tensorflow.keras.models import Sequential\n",
    "from tensorflow.keras.layers import LSTM, Dense\n",
    "from tensorflow.keras.callbacks import EarlyStopping\n",
    "\n",
    "import os\n",
    "import random\n",
    "import tensorflow as tf\n",
    "\n",
    "# ✅ Seed 고정\n",
    "SEED = 42\n",
    "os.environ['PYTHONHASHSEED'] = str(SEED)\n",
    "random.seed(SEED)\n",
    "np.random.seed(SEED)\n",
    "tf.random.set_seed(SEED)\n",
    "tf.keras.utils.set_random_seed(SEED)\n",
    "tf.config.experimental.enable_op_determinism()\n",
    "\n",
    "# 2. 데이터 준비\n",
    "df = df_base.copy()\n",
    "df = df.sort_values('Date')\n",
    "df['Date'] = pd.to_datetime(df['Date'])\n",
    "\n",
    "# ✅ 타깃 클래스: 하루 뒤 종가가 오를지 여부 (1: 상승, 0: 하락)\n",
    "df['target_class'] = (df['Close'].shift(-1) >= df['Close']).astype(int)\n",
    "df = df.dropna().reset_index(drop=True)\n",
    "\n",
    "drop_cols = ['Date', '기준년월', 'return', 'return_future', 'target_class', 'next_day_close']\n",
    "X = df.drop(columns=drop_cols, errors='ignore')\n",
    "y = df['target_class'].values\n",
    "\n",
    "# 3. 학습/테스트 분할\n",
    "split_idx = int(len(df) * 0.8)\n",
    "X_train_raw, X_test_raw = X.iloc[:split_idx], X.iloc[split_idx:]\n",
    "y_train_raw, y_test_raw = y[:split_idx], y[split_idx:]\n",
    "\n",
    "# 4. 정규화\n",
    "scaler_X = StandardScaler().fit(X_train_raw)\n",
    "X_train_scaled = scaler_X.transform(X_train_raw)\n",
    "X_test_scaled = scaler_X.transform(X_test_raw)\n",
    "\n",
    "# 5. 시퀀스 생성 함수\n",
    "def make_sequence(X, y, seq_len):\n",
    "    X_seq, y_seq = [], []\n",
    "    for i in range(len(X) - seq_len):\n",
    "        X_seq.append(X[i:i+seq_len])\n",
    "        y_seq.append(y[i+seq_len])\n",
    "    return np.array(X_seq), np.array(y_seq)\n",
    "\n",
    "seq_len = 60\n",
    "X_train_seq, y_train_seq = make_sequence(X_train_scaled, y_train_raw, seq_len)\n",
    "X_test_seq, y_test_seq = make_sequence(X_test_scaled, y_test_raw, seq_len)\n",
    "\n",
    "X_train_flat = X_train_scaled[seq_len:][:len(X_train_seq)]\n",
    "X_test_flat  = X_test_scaled[seq_len:][:len(X_test_seq)]\n",
    "y_train_flat = y_train_raw[seq_len:][:len(X_train_seq)]\n",
    "y_test_flat  = y_test_raw[seq_len:][:len(X_test_seq)]\n",
    "\n",
    "# 6. 모델 학습\n",
    "\n",
    "# ✅ XGBoost\n",
    "model_xgb = XGBClassifier(n_estimators=200, learning_rate=0.05, random_state=42)\n",
    "model_xgb.fit(X_train_flat, y_train_flat)\n",
    "y_pred_xgb = model_xgb.predict(X_test_flat)\n",
    "\n",
    "# ✅ LSTM\n",
    "model_lstm = Sequential()\n",
    "model_lstm.add(LSTM(128, input_shape=(seq_len, X_train_seq.shape[2])))\n",
    "model_lstm.add(Dense(1, activation='sigmoid'))\n",
    "model_lstm.compile(optimizer='adam', loss='binary_crossentropy', metrics=['accuracy'])\n",
    "early_stop = EarlyStopping(patience=15, restore_best_weights=True)\n",
    "model_lstm.fit(X_train_seq, y_train_seq, epochs=100, batch_size=32, validation_split=0.2,\n",
    "               callbacks=[early_stop], verbose=0)\n",
    "y_pred_lstm = (model_lstm.predict(X_test_seq) > 0.5).astype(int).reshape(-1)\n",
    "\n",
    "# ✅ Random Forest\n",
    "model_rf = RandomForestClassifier(n_estimators=200, random_state=42)\n",
    "model_rf.fit(X_train_flat, y_train_flat)\n",
    "y_pred_rf = model_rf.predict(X_test_flat)\n",
    "\n",
    "# ✅ 실제값\n",
    "y_true = y_test_seq\n",
    "\n",
    "# 7. 메타모델 + 가중 평균\n",
    "meta_results = []\n",
    "\n",
    "# ✅ 메타 특성 생성\n",
    "X_meta = np.column_stack([\n",
    "    y_pred_xgb,\n",
    "    y_pred_lstm,\n",
    "    y_pred_rf,\n",
    "    y_pred_xgb - y_pred_lstm,\n",
    "    y_pred_xgb * y_pred_lstm,\n",
    "    y_pred_xgb - y_pred_rf,\n",
    "    y_pred_rf * y_pred_lstm,\n",
    "])\n",
    "\n",
    "# ✅ Logistic Regression\n",
    "meta_lr = LogisticRegression().fit(X_meta, y_true)\n",
    "y_pred_meta = meta_lr.predict(X_meta)\n",
    "\n",
    "meta_results.append({\n",
    "    'method': 'LogisticRegression_Extended',\n",
    "    'y_pred': y_pred_meta,\n",
    "    'accuracy': accuracy_score(y_true, y_pred_meta),\n",
    "    'f1': f1_score(y_true, y_pred_meta),\n",
    "    'recall': recall_score(y_true, y_pred_meta),\n",
    "    'precision': precision_score(y_true, y_pred_meta),\n",
    "})\n",
    "\n",
    "# ✅ Weighted Average (XGB & LSTM)\n",
    "for alpha in np.arange(0.0, 1.05, 0.1):\n",
    "    y_pred_wa = np.round(alpha * y_pred_xgb + (1 - alpha) * y_pred_lstm).astype(int)\n",
    "    meta_results.append({\n",
    "        'method': f'Weighted_α={alpha:.1f}',\n",
    "        'y_pred': y_pred_wa,\n",
    "        'accuracy': accuracy_score(y_true, y_pred_wa),\n",
    "        'f1': f1_score(y_true, y_pred_wa),\n",
    "        'recall': recall_score(y_true, y_pred_wa),\n",
    "        'precision': precision_score(y_true, y_pred_wa),\n",
    "    })\n",
    "\n",
    "# 8. 결과 출력\n",
    "meta_results = sorted(meta_results, key=lambda x: x['f1'], reverse=True)\n",
    "best = meta_results[0]\n",
    "\n",
    "print(f\"🏆 Best Method: {best['method']}\")\n",
    "print(f\"Accuracy : {best['accuracy']:.4f}\")\n",
    "print(f\"F1 Score : {best['f1']:.4f}\")\n",
    "print(f\"Recall   : {best['recall']:.4f}\")\n",
    "print(f\"Precision: {best['precision']:.4f}\")\n",
    "print(f\"Classification Report: {classification_report(y_true, y_pred_meta)}\")\n",
    "\n",
    "\n",
    "# 9. 시각화 (Confusion Matrix)\n",
    "cm = confusion_matrix(y_true, best['y_pred'])\n",
    "disp = ConfusionMatrixDisplay(confusion_matrix=cm)\n",
    "disp.plot()\n",
    "plt.title(f\"Confusion Matrix - {best['method']}\")\n",
    "plt.grid(False)\n",
    "plt.show()"
   ]
  },
  {
   "cell_type": "code",
   "execution_count": 46,
   "id": "e3f3fd64-d4bc-4b6e-b26b-135073248298",
   "metadata": {},
   "outputs": [
    {
     "data": {
      "text/plain": [
       "['classification_scaler_X_up_하루_.pkl']"
      ]
     },
     "execution_count": 46,
     "metadata": {},
     "output_type": "execute_result"
    }
   ],
   "source": [
    "# 10. 모델 저장\n",
    "joblib.dump(meta_lr, 'meta_classifier_model_up_하루_.pkl')\n",
    "joblib.dump(scaler_X, 'classification_scaler_X_up_하루_.pkl')"
   ]
  },
  {
   "cell_type": "markdown",
   "id": "1bf6a620-d67b-46bb-a702-acda531e0b10",
   "metadata": {},
   "source": [
    "# 한달"
   ]
  },
  {
   "cell_type": "code",
   "execution_count": 74,
   "id": "973e0875-25fb-439d-ba47-3e21cf44bfad",
   "metadata": {},
   "outputs": [
    {
     "name": "stderr",
     "output_type": "stream",
     "text": [
      "C:\\Users\\campus4D044\\anaconda3\\Lib\\site-packages\\keras\\src\\layers\\rnn\\rnn.py:200: UserWarning: Do not pass an `input_shape`/`input_dim` argument to a layer. When using Sequential models, prefer using an `Input(shape)` object as the first layer in the model instead.\n",
      "  super().__init__(**kwargs)\n"
     ]
    },
    {
     "name": "stdout",
     "output_type": "stream",
     "text": [
      "\u001b[1m17/17\u001b[0m \u001b[32m━━━━━━━━━━━━━━━━━━━━\u001b[0m\u001b[37m\u001b[0m \u001b[1m0s\u001b[0m 9ms/step\n",
      "🏆 Best Method: LogisticRegression_Extended\n",
      "Accuracy : 0.5720\n",
      "F1 Score : 0.7277\n",
      "Recall   : 1.0000\n",
      "Precision: 0.5720\n"
     ]
    },
    {
     "data": {
      "image/png": "[encoded data removed]",
      "text/plain": [
       "<Figure size 640x480 with 2 Axes>"
      ]
     },
     "metadata": {},
     "output_type": "display_data"
    }
   ],
   "source": [
    "# 1. 라이브러리\n",
    "import pandas as pd\n",
    "import numpy as np\n",
    "import matplotlib.pyplot as plt\n",
    "import joblib\n",
    "\n",
    "from sklearn.preprocessing import MinMaxScaler\n",
    "from sklearn.metrics import accuracy_score, f1_score, precision_score, recall_score, confusion_matrix, ConfusionMatrixDisplay\n",
    "from sklearn.linear_model import LogisticRegression\n",
    "from sklearn.ensemble import RandomForestClassifier\n",
    "from xgboost import XGBClassifier\n",
    "\n",
    "from tensorflow.keras.models import Sequential\n",
    "from tensorflow.keras.layers import LSTM, Dense\n",
    "from tensorflow.keras.callbacks import EarlyStopping\n",
    "\n",
    "import os\n",
    "import random\n",
    "import tensorflow as tf\n",
    "\n",
    "# ✅ Seed 고정\n",
    "SEED = 42\n",
    "os.environ['PYTHONHASHSEED'] = str(SEED)\n",
    "random.seed(SEED)\n",
    "np.random.seed(SEED)\n",
    "tf.random.set_seed(SEED)\n",
    "tf.keras.utils.set_random_seed(SEED)\n",
    "tf.config.experimental.enable_op_determinism()\n",
    "\n",
    "# 2. 데이터 준비\n",
    "df = df_base.copy()\n",
    "df = df.sort_values('Date')\n",
    "df['Date'] = pd.to_datetime(df['Date'])\n",
    "\n",
    "# ✅ 타깃 클래스: 한 달 뒤 종가가 오를지 여부 (1: 상승, 0: 하락)\n",
    "df['target_class'] = (df['Close'].shift(-20) > df['Close']).astype(int)\n",
    "df = df.dropna().reset_index(drop=True)\n",
    "\n",
    "drop_cols = ['Date', '기준년월', 'return', 'return_future', 'target_class', 'next_day_close']\n",
    "X = df.drop(columns=drop_cols, errors='ignore')\n",
    "y = df['target_class'].values\n",
    "\n",
    "# 3. 학습/테스트 분할\n",
    "split_idx = int(len(df) * 0.8)\n",
    "X_train_raw, X_test_raw = X.iloc[:split_idx], X.iloc[split_idx:]\n",
    "y_train_raw, y_test_raw = y[:split_idx], y[split_idx:]\n",
    "\n",
    "# 4. 정규화\n",
    "scaler_X = MinMaxScaler().fit(X_train_raw)\n",
    "X_train_scaled = scaler_X.transform(X_train_raw)\n",
    "X_test_scaled = scaler_X.transform(X_test_raw)\n",
    "\n",
    "# 5. 시퀀스 생성 함수\n",
    "def make_sequence(X, y, seq_len):\n",
    "    X_seq, y_seq = [], []\n",
    "    for i in range(len(X) - seq_len):\n",
    "        X_seq.append(X[i:i+seq_len])\n",
    "        y_seq.append(y[i+seq_len])\n",
    "    return np.array(X_seq), np.array(y_seq)\n",
    "\n",
    "seq_len = 10\n",
    "X_train_seq, y_train_seq = make_sequence(X_train_scaled, y_train_raw, seq_len)\n",
    "X_test_seq, y_test_seq = make_sequence(X_test_scaled, y_test_raw, seq_len)\n",
    "\n",
    "X_train_flat = X_train_scaled[seq_len:][:len(X_train_seq)]\n",
    "X_test_flat  = X_test_scaled[seq_len:][:len(X_test_seq)]\n",
    "y_train_flat = y_train_raw[seq_len:][:len(X_train_seq)]\n",
    "y_test_flat  = y_test_raw[seq_len:][:len(X_test_seq)]\n",
    "\n",
    "# 6. 모델 학습\n",
    "\n",
    "# ✅ XGBoost\n",
    "model_xgb = XGBClassifier(n_estimators=200, learning_rate=0.05, random_state=42)\n",
    "model_xgb.fit(X_train_flat, y_train_flat)\n",
    "y_pred_xgb = model_xgb.predict(X_test_flat)\n",
    "\n",
    "# ✅ LSTM\n",
    "model_lstm = Sequential()\n",
    "model_lstm.add(LSTM(128, input_shape=(seq_len, X_train_seq.shape[2])))\n",
    "model_lstm.add(Dense(1, activation='sigmoid'))\n",
    "model_lstm.compile(optimizer='adam', loss='binary_crossentropy', metrics=['accuracy'])\n",
    "early_stop = EarlyStopping(patience=15, restore_best_weights=True)\n",
    "model_lstm.fit(X_train_seq, y_train_seq, epochs=100, batch_size=32, validation_split=0.2,\n",
    "               callbacks=[early_stop], verbose=0)\n",
    "y_pred_lstm = (model_lstm.predict(X_test_seq) > 0.5).astype(int).reshape(-1)\n",
    "\n",
    "# ✅ Random Forest\n",
    "model_rf = RandomForestClassifier(n_estimators=200, random_state=42)\n",
    "model_rf.fit(X_train_flat, y_train_flat)\n",
    "y_pred_rf = model_rf.predict(X_test_flat)\n",
    "\n",
    "# ✅ 실제값\n",
    "y_true = y_test_seq\n",
    "\n",
    "# 7. 메타모델 + 가중 평균\n",
    "meta_results = []\n",
    "\n",
    "# ✅ 메타 특성 생성\n",
    "X_meta = np.column_stack([\n",
    "    y_pred_xgb,\n",
    "    y_pred_lstm,\n",
    "    y_pred_rf,\n",
    "    y_pred_xgb - y_pred_lstm,\n",
    "    y_pred_xgb * y_pred_lstm,\n",
    "    y_pred_xgb - y_pred_rf,\n",
    "    y_pred_rf * y_pred_lstm,\n",
    "])\n",
    "\n",
    "# ✅ Logistic Regression\n",
    "meta_lr = LogisticRegression().fit(X_meta, y_true)\n",
    "y_pred_meta = meta_lr.predict(X_meta)\n",
    "\n",
    "meta_results.append({\n",
    "    'method': 'LogisticRegression_Extended',\n",
    "    'y_pred': y_pred_meta,\n",
    "    'accuracy': accuracy_score(y_true, y_pred_meta),\n",
    "    'f1': f1_score(y_true, y_pred_meta),\n",
    "    'recall': recall_score(y_true, y_pred_meta),\n",
    "    'precision': precision_score(y_true, y_pred_meta),\n",
    "})\n",
    "\n",
    "# ✅ Weighted Average (XGB & LSTM)\n",
    "for alpha in np.arange(0.0, 1.05, 0.1):\n",
    "    y_pred_wa = np.round(alpha * y_pred_xgb + (1 - alpha) * y_pred_lstm).astype(int)\n",
    "    meta_results.append({\n",
    "        'method': f'Weighted_α={alpha:.1f}',\n",
    "        'y_pred': y_pred_wa,\n",
    "        'accuracy': accuracy_score(y_true, y_pred_wa),\n",
    "        'f1': f1_score(y_true, y_pred_wa),\n",
    "        'recall': recall_score(y_true, y_pred_wa),\n",
    "        'precision': precision_score(y_true, y_pred_wa),\n",
    "    })\n",
    "\n",
    "# 8. 결과 출력\n",
    "meta_results = sorted(meta_results, key=lambda x: x['f1'], reverse=True)\n",
    "best = meta_results[0]\n",
    "\n",
    "print(f\"🏆 Best Method: {best['method']}\")\n",
    "print(f\"Accuracy : {best['accuracy']:.4f}\")\n",
    "print(f\"F1 Score : {best['f1']:.4f}\")\n",
    "print(f\"Recall   : {best['recall']:.4f}\")\n",
    "print(f\"Precision: {best['precision']:.4f}\")\n",
    "\n",
    "# 9. 시각화 (Confusion Matrix)\n",
    "cm = confusion_matrix(y_true, best['y_pred'])\n",
    "disp = ConfusionMatrixDisplay(confusion_matrix=cm)\n",
    "disp.plot()\n",
    "plt.title(f\"Confusion Matrix - {best['method']}\")\n",
    "plt.grid(False)\n",
    "plt.show()\n",
    "\n",
    "# 10. 모델 저장\n",
    "#joblib.dump(meta_lr, 'meta_classifier_model_up_한달.pkl')\n",
    "#joblib.dump(scaler_X, 'scaler_X_up_한달.pkl')\n"
   ]
  },
  {
   "cell_type": "markdown",
   "id": "a01013d6-85fd-41e1-9f78-818e44cae0f3",
   "metadata": {},
   "source": [
    "# 일 년"
   ]
  },
  {
   "cell_type": "code",
   "execution_count": 62,
   "id": "61cfcf1e-2247-4284-945a-dba2c12d534c",
   "metadata": {},
   "outputs": [
    {
     "name": "stderr",
     "output_type": "stream",
     "text": [
      "C:\\Users\\campus4D044\\anaconda3\\Lib\\site-packages\\keras\\src\\layers\\rnn\\rnn.py:200: UserWarning: Do not pass an `input_shape`/`input_dim` argument to a layer. When using Sequential models, prefer using an `Input(shape)` object as the first layer in the model instead.\n",
      "  super().__init__(**kwargs)\n"
     ]
    },
    {
     "name": "stdout",
     "output_type": "stream",
     "text": [
      "\u001b[1m17/17\u001b[0m \u001b[32m━━━━━━━━━━━━━━━━━━━━\u001b[0m\u001b[37m\u001b[0m \u001b[1m0s\u001b[0m 11ms/step\n",
      "🏆 Best Method: LogisticRegression_Extended\n",
      "Accuracy : 0.6937\n",
      "F1 Score : 0.7798\n",
      "Recall   : 0.9304\n",
      "Precision: 0.6712\n"
     ]
    },
    {
     "data": {
      "image/png": "[encoded data removed]",
      "text/plain": [
       "<Figure size 640x480 with 2 Axes>"
      ]
     },
     "metadata": {},
     "output_type": "display_data"
    }
   ],
   "source": [
    "# 1. 라이브러리\n",
    "import pandas as pd\n",
    "import numpy as np\n",
    "import matplotlib.pyplot as plt\n",
    "import joblib\n",
    "\n",
    "from sklearn.preprocessing import MinMaxScaler\n",
    "from sklearn.metrics import accuracy_score, f1_score, precision_score, recall_score, confusion_matrix, ConfusionMatrixDisplay\n",
    "from sklearn.linear_model import LogisticRegression\n",
    "from sklearn.ensemble import RandomForestClassifier\n",
    "from xgboost import XGBClassifier\n",
    "\n",
    "from tensorflow.keras.models import Sequential\n",
    "from tensorflow.keras.layers import LSTM, Dense\n",
    "from tensorflow.keras.callbacks import EarlyStopping\n",
    "\n",
    "import os\n",
    "import random\n",
    "import tensorflow as tf\n",
    "\n",
    "# ✅ Seed 고정\n",
    "SEED = 42\n",
    "os.environ['PYTHONHASHSEED'] = str(SEED)\n",
    "random.seed(SEED)\n",
    "np.random.seed(SEED)\n",
    "tf.random.set_seed(SEED)\n",
    "tf.keras.utils.set_random_seed(SEED)\n",
    "tf.config.experimental.enable_op_determinism()\n",
    "\n",
    "# 2. 데이터 준비\n",
    "df = df_base.copy()\n",
    "df = df.sort_values('Date')\n",
    "df['Date'] = pd.to_datetime(df['Date'])\n",
    "\n",
    "# ✅ 타깃 클래스: 일 년 뒤 종가가 오를지 여부 (1: 상승, 0: 하락)\n",
    "df['target_class'] = (df['Close'].shift(-250) > df['Close']).astype(int)\n",
    "df = df.dropna().reset_index(drop=True)\n",
    "\n",
    "drop_cols = ['Date', '기준년월', 'return', 'return_future', 'target_class', 'next_day_close', 'change', 'Close', 'Open', 'High', 'Low']\n",
    "X = df.drop(columns=drop_cols, errors='ignore')\n",
    "y = df['target_class'].values\n",
    "\n",
    "# 3. 학습/테스트 분할\n",
    "split_idx = int(len(df) * 0.8)\n",
    "X_train_raw, X_test_raw = X.iloc[:split_idx], X.iloc[split_idx:]\n",
    "y_train_raw, y_test_raw = y[:split_idx], y[split_idx:]\n",
    "\n",
    "# 4. 정규화\n",
    "scaler_X = MinMaxScaler().fit(X_train_raw)\n",
    "X_train_scaled = scaler_X.transform(X_train_raw)\n",
    "X_test_scaled = scaler_X.transform(X_test_raw)\n",
    "\n",
    "# 5. 시퀀스 생성 함수\n",
    "def make_sequence(X, y, seq_len):\n",
    "    X_seq, y_seq = [], []\n",
    "    for i in range(len(X) - seq_len):\n",
    "        X_seq.append(X[i:i+seq_len])\n",
    "        y_seq.append(y[i+seq_len])\n",
    "    return np.array(X_seq), np.array(y_seq)\n",
    "\n",
    "seq_len = 10\n",
    "X_train_seq, y_train_seq = make_sequence(X_train_scaled, y_train_raw, seq_len)\n",
    "X_test_seq, y_test_seq = make_sequence(X_test_scaled, y_test_raw, seq_len)\n",
    "\n",
    "X_train_flat = X_train_scaled[seq_len:][:len(X_train_seq)]\n",
    "X_test_flat  = X_test_scaled[seq_len:][:len(X_test_seq)]\n",
    "y_train_flat = y_train_raw[seq_len:][:len(X_train_seq)]\n",
    "y_test_flat  = y_test_raw[seq_len:][:len(X_test_seq)]\n",
    "\n",
    "# 6. 모델 학습\n",
    "\n",
    "# ✅ XGBoost\n",
    "model_xgb = XGBClassifier(n_estimators=200, learning_rate=0.05, random_state=42)\n",
    "model_xgb.fit(X_train_flat, y_train_flat)\n",
    "y_pred_xgb = model_xgb.predict(X_test_flat)\n",
    "\n",
    "# ✅ LSTM\n",
    "model_lstm = Sequential()\n",
    "model_lstm.add(LSTM(128, input_shape=(seq_len, X_train_seq.shape[2])))\n",
    "model_lstm.add(Dense(1, activation='sigmoid'))\n",
    "model_lstm.compile(optimizer='adam', loss='binary_crossentropy', metrics=['accuracy'])\n",
    "early_stop = EarlyStopping(patience=15, restore_best_weights=True)\n",
    "model_lstm.fit(X_train_seq, y_train_seq, epochs=100, batch_size=32, validation_split=0.2,\n",
    "               callbacks=[early_stop], verbose=0)\n",
    "y_pred_lstm = (model_lstm.predict(X_test_seq) > 0.5).astype(int).reshape(-1)\n",
    "\n",
    "# ✅ Random Forest\n",
    "model_rf = RandomForestClassifier(n_estimators=200, random_state=42)\n",
    "model_rf.fit(X_train_flat, y_train_flat)\n",
    "y_pred_rf = model_rf.predict(X_test_flat)\n",
    "\n",
    "# ✅ 실제값\n",
    "y_true = y_test_seq\n",
    "\n",
    "# 7. 메타모델 + 가중 평균\n",
    "meta_results = []\n",
    "\n",
    "# ✅ 메타 특성 생성\n",
    "X_meta = np.column_stack([\n",
    "    y_pred_xgb,\n",
    "    y_pred_lstm,\n",
    "    y_pred_rf,\n",
    "    y_pred_xgb - y_pred_lstm,\n",
    "    y_pred_xgb * y_pred_lstm,\n",
    "    y_pred_xgb - y_pred_rf,\n",
    "    y_pred_rf * y_pred_lstm,\n",
    "])\n",
    "\n",
    "# ✅ Logistic Regression\n",
    "meta_lr = LogisticRegression().fit(X_meta, y_true)\n",
    "y_pred_meta = meta_lr.predict(X_meta)\n",
    "\n",
    "meta_results.append({\n",
    "    'method': 'LogisticRegression_Extended',\n",
    "    'y_pred': y_pred_meta,\n",
    "    'accuracy': accuracy_score(y_true, y_pred_meta),\n",
    "    'f1': f1_score(y_true, y_pred_meta),\n",
    "    'recall': recall_score(y_true, y_pred_meta),\n",
    "    'precision': precision_score(y_true, y_pred_meta),\n",
    "})\n",
    "\n",
    "# ✅ Weighted Average (XGB & LSTM)\n",
    "for alpha in np.arange(0.0, 1.05, 0.1):\n",
    "    y_pred_wa = np.round(alpha * y_pred_xgb + (1 - alpha) * y_pred_lstm).astype(int)\n",
    "    meta_results.append({\n",
    "        'method': f'Weighted_α={alpha:.1f}',\n",
    "        'y_pred': y_pred_wa,\n",
    "        'accuracy': accuracy_score(y_true, y_pred_wa),\n",
    "        'f1': f1_score(y_true, y_pred_wa),\n",
    "        'recall': recall_score(y_true, y_pred_wa),\n",
    "        'precision': precision_score(y_true, y_pred_wa),\n",
    "    })\n",
    "\n",
    "# 8. 결과 출력\n",
    "meta_results = sorted(meta_results, key=lambda x: x['f1'], reverse=True)\n",
    "best = meta_results[0]\n",
    "\n",
    "print(f\"🏆 Best Method: {best['method']}\")\n",
    "print(f\"Accuracy : {best['accuracy']:.4f}\")\n",
    "print(f\"F1 Score : {best['f1']:.4f}\")\n",
    "print(f\"Recall   : {best['recall']:.4f}\")\n",
    "print(f\"Precision: {best['precision']:.4f}\")\n",
    "\n",
    "# 9. 시각화 (Confusion Matrix)\n",
    "cm = confusion_matrix(y_true, best['y_pred'])\n",
    "disp = ConfusionMatrixDisplay(confusion_matrix=cm)\n",
    "disp.plot()\n",
    "plt.title(f\"Confusion Matrix - {best['method']}\")\n",
    "plt.grid(False)\n",
    "plt.show()"
   ]
  },
  {
   "cell_type": "code",
   "execution_count": 63,
   "id": "60bbc659-f338-47f8-87fa-e722d7fa2f06",
   "metadata": {},
   "outputs": [
    {
     "data": {
      "text/plain": [
       "['scaler_X_up_일년.pkl']"
      ]
     },
     "execution_count": 63,
     "metadata": {},
     "output_type": "execute_result"
    }
   ],
   "source": [
    "# 10. 모델 저장\n",
    "joblib.dump(meta_lr, 'meta_classifier_model_up_일년.pkl')\n",
    "joblib.dump(scaler_X, 'scaler_X_up_일년.pkl')"
   ]
  },
  {
   "cell_type": "code",
   "execution_count": null,
   "id": "ed7e217b-e13c-48ef-ae8e-86d74ff22efc",
   "metadata": {},
   "outputs": [],
   "source": []
  }
 ],
 "metadata": {
  "kernelspec": {
   "display_name": "Python 3 (ipykernel)",
   "language": "python",
   "name": "python3"
  },
  "language_info": {
   "codemirror_mode": {
    "name": "ipython",
    "version": 3
   },
   "file_extension": ".py",
   "mimetype": "text/x-python",
   "name": "python",
   "nbconvert_exporter": "python",
   "pygments_lexer": "ipython3",
   "version": "3.12.7"
  }
 },
 "nbformat": 4,
 "nbformat_minor": 5
}
