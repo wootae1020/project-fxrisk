{
 "cells": [
  {
   "cell_type": "code",
   "execution_count": 1,
   "id": "4541d615-4a48-40a8-9bf1-367b004c6b46",
   "metadata": {},
   "outputs": [],
   "source": [
    "import pandas as pd\n",
    "import numpy as np"
   ]
  },
  {
   "cell_type": "code",
   "execution_count": 5,
   "id": "7a7d085f-36b3-4ab9-8c73-24015bb88dbc",
   "metadata": {},
   "outputs": [],
   "source": [
    "dax_df=pd.read_csv('DAX 과거 데이터_.csv')\n",
    "euro_df=pd.read_csv('EUR_KRW 과거 데이터_.csv')\n",
    "eurostoxx50_df=pd.read_csv('유로 스톡스 50 과거 데이터_.csv')\n",
    "cac_df=pd.read_csv('프랑스 CAC 과거 데이터_.csv')"
   ]
  },
  {
   "cell_type": "code",
   "execution_count": 6,
   "id": "b4c555b6-214a-49f4-b120-e2c198b6b943",
   "metadata": {},
   "outputs": [],
   "source": [
    "euro_df['종가']=euro_df['종가'].apply(lambda x: x.replace(',','')).astype(float)\n",
    "euro_df['시가']=euro_df['시가'].apply(lambda x: x.replace(',','')).astype(float)\n",
    "euro_df['고가']=euro_df['고가'].apply(lambda x: x.replace(',','')).astype(float)\n",
    "euro_df['저가']=euro_df['저가'].apply(lambda x: x.replace(',','')).astype(float)\n",
    "euro_df['거래량']=euro_df['거래량'].apply(lambda x: str(x).replace('M','') if x!=np.nan else x).astype(float)\n",
    "euro_df['변동 %']=euro_df['변동 %'].apply(lambda x: x.replace('%','')).astype(float)"
   ]
  },
  {
   "cell_type": "code",
   "execution_count": 7,
   "id": "88c1b755-7c65-4a74-8697-7e01bd14864d",
   "metadata": {},
   "outputs": [],
   "source": [
    "euro_df=euro_df.rename(columns={'날짜':'Date','종가':'Close','시가':'Open','저가':'Low','고가':'High'})\n",
    "euro_df.Date=pd.to_datetime(euro_df.Date,format='%Y- %m- %d')"
   ]
  },
  {
   "cell_type": "code",
   "execution_count": 8,
   "id": "6f9c0893-a048-487a-bebe-2b14160b067a",
   "metadata": {},
   "outputs": [],
   "source": [
    "dax_df.columns=['Date','Dax_종가','Dax_시가','Dax_고가','Dax_저가','Dax_거래량(백 만)','Dax_변동%']\n",
    "dax_df.Date=pd.to_datetime(dax_df.Date,format='%Y- %m- %d')\n",
    "dax_df['Dax_종가']=dax_df['Dax_종가'].apply(lambda x: x.replace(',','')).astype(float)\n",
    "dax_df['Dax_시가']=dax_df['Dax_시가'].apply(lambda x: x.replace(',','')).astype(float)\n",
    "dax_df['Dax_고가']=dax_df['Dax_고가'].apply(lambda x: x.replace(',','')).astype(float)\n",
    "dax_df['Dax_저가']=dax_df['Dax_저가'].apply(lambda x: x.replace(',','')).astype(float)\n",
    "dax_df['Dax_거래량(백 만)']=dax_df['Dax_거래량(백 만)'].apply(lambda x: str(x).replace('M','') if x!=np.nan else x).astype(float)\n",
    "dax_df['Dax_변동%']=dax_df['Dax_변동%'].apply(lambda x: x.replace('%','')).astype(float)\n",
    "\n",
    "eurostoxx50_df=eurostoxx50_df.drop('거래량',axis=1)\n",
    "eurostoxx50_df.columns=['Date','EUROSTOXX50_종가','EUROSTOXX50_시가','EUROSTOXX50_고가','EUROSTOXX50_저가','EUROSTOXX50_변동%']\n",
    "eurostoxx50_df.Date=pd.to_datetime(eurostoxx50_df.Date,format='%Y- %m- %d')\n",
    "eurostoxx50_df.EUROSTOXX50_종가=eurostoxx50_df.EUROSTOXX50_종가.apply(lambda x: x.replace(',','')).astype(float)\n",
    "eurostoxx50_df.EUROSTOXX50_시가=eurostoxx50_df.EUROSTOXX50_시가.apply(lambda x: x.replace(',','')).astype(float)\n",
    "eurostoxx50_df.EUROSTOXX50_고가=eurostoxx50_df.EUROSTOXX50_고가.apply(lambda x: x.replace(',','')).astype(float)\n",
    "eurostoxx50_df.EUROSTOXX50_저가=eurostoxx50_df.EUROSTOXX50_저가.apply(lambda x: x.replace(',','')).astype(float)\n",
    "eurostoxx50_df['EUROSTOXX50_변동%']=eurostoxx50_df['EUROSTOXX50_변동%'].apply(lambda x: x.replace('%','')).astype(float)\n",
    "\n",
    "cac_df.columns=['Date','CAC_종가','CAC_시가','CAC_고가','CAC_저가','CAC_거래량(백 만)','CAC_변동%']\n",
    "cac_df.Date=pd.to_datetime(cac_df.Date,format='%Y- %m- %d')\n",
    "cac_df.CAC_종가=cac_df.CAC_종가.apply(lambda x: x.replace(',','')).astype(float)\n",
    "cac_df.CAC_시가=cac_df.CAC_시가.apply(lambda x: x.replace(',','')).astype(float)\n",
    "cac_df.CAC_고가=cac_df.CAC_고가.apply(lambda x: x.replace(',','')).astype(float)\n",
    "cac_df.CAC_저가=cac_df.CAC_저가.apply(lambda x: x.replace(',','')).astype(float)\n",
    "cac_df['CAC_거래량(백 만)']=cac_df['CAC_거래량(백 만)'].apply(lambda x: str(x).replace('M','') if x!=np.nan else x).astype(float)\n",
    "cac_df['CAC_변동%']=cac_df['CAC_변동%'].apply(lambda x: x.replace('%','')).astype(float)\n"
   ]
  },
  {
   "cell_type": "code",
   "execution_count": 17,
   "id": "ef6dfc40-bcfe-497d-85da-e345f1063224",
   "metadata": {},
   "outputs": [],
   "source": [
    "all_df=pd.merge(dax_df,eurostoxx50_df,how='inner',on='Date')\n",
    "all_df=pd.merge(all_df,cac_df,how='inner',on='Date')\n",
    "all_df=pd.merge(all_df,euro_df,how='inner',on='Date')"
   ]
  },
  {
   "cell_type": "code",
   "execution_count": 18,
   "id": "61374f87-6802-4484-90a1-f725c77bbdaf",
   "metadata": {},
   "outputs": [],
   "source": [
    "all_df.to_csv('all_df_test.csv',index=False)"
   ]
  },
  {
   "cell_type": "code",
   "execution_count": 16,
   "id": "b9e2d8ae-1472-42a2-917d-e4c6a0e8cd1a",
   "metadata": {},
   "outputs": [
    {
     "data": {
      "text/plain": [
       "array([1590.5666, 1590.5031, 1589.1185, 1590.281 , 1590.4269, 1590.9807,\n",
       "       1588.7122, 1590.4141, 1590.3589, 1590.4905])"
      ]
     },
     "execution_count": 16,
     "metadata": {},
     "output_type": "execute_result"
    }
   ],
   "source": [
    "model.predict(s_x)"
   ]
  },
  {
   "cell_type": "code",
   "execution_count": 11,
   "id": "100c059d-bf5c-4ffb-bb05-12b04ed883d1",
   "metadata": {},
   "outputs": [],
   "source": [
    "import pickle\n",
    "\n",
    "# 불러오기\n",
    "with open('랜포테스트_스케일러.pkl', 'rb') as f:\n",
    "    scaler = pickle.load(f)\n",
    "\n",
    "with open('랜포테스트.pkl', 'rb') as f:\n",
    "    model = pickle.load(f)\n"
   ]
  },
  {
   "cell_type": "code",
   "execution_count": 13,
   "id": "8c77f1c5-d6fa-47cd-bfb8-fe03f488accb",
   "metadata": {},
   "outputs": [],
   "source": [
    "all_df=all_df[['Dax_종가', 'Dax_시가', 'Dax_고가', 'Dax_저가', 'Dax_거래량(백 만)', 'Dax_변동%', 'EUROSTOXX50_종가', 'EUROSTOXX50_시가', 'EUROSTOXX50_고가', 'EUROSTOXX50_저가', 'EUROSTOXX50_변동%', 'CAC_종가', 'CAC_시가', 'CAC_고가', 'CAC_저가', 'CAC_거래량(백 만)', 'CAC_변동%', 'Close', 'Open', 'High', 'Low', '변동 %']]"
   ]
  },
  {
   "cell_type": "code",
   "execution_count": 15,
   "id": "e60e0ade-e131-4a4a-a048-dfc2ede83ec5",
   "metadata": {},
   "outputs": [],
   "source": [
    "s_x=scaler.transform(all_df)"
   ]
  },
  {
   "cell_type": "code",
   "execution_count": null,
   "id": "ac7e9cb3-01be-4691-9a3d-67e0a56d8fa7",
   "metadata": {},
   "outputs": [],
   "source": []
  }
 ],
 "metadata": {
  "kernelspec": {
   "display_name": "Python 3 (ipykernel)",
   "language": "python",
   "name": "python3"
  },
  "language_info": {
   "codemirror_mode": {
    "name": "ipython",
    "version": 3
   },
   "file_extension": ".py",
   "mimetype": "text/x-python",
   "name": "python",
   "nbconvert_exporter": "python",
   "pygments_lexer": "ipython3",
   "version": "3.12.7"
  }
 },
 "nbformat": 4,
 "nbformat_minor": 5
}
