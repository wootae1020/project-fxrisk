{
 "cells": [
  {
   "cell_type": "code",
   "execution_count": 1,
   "id": "40409670-0527-471e-b141-547044ca37f5",
   "metadata": {},
   "outputs": [],
   "source": [
    "import pandas as pd\n",
    "import numpy as np"
   ]
  },
  {
   "cell_type": "code",
   "execution_count": 2,
   "id": "2f975393-6f0f-44d8-9e88-2fb25e9ccf64",
   "metadata": {},
   "outputs": [
    {
     "data": {
      "text/html": [
       "<div>\n",
       "<style scoped>\n",
       "    .dataframe tbody tr th:only-of-type {\n",
       "        vertical-align: middle;\n",
       "    }\n",
       "\n",
       "    .dataframe tbody tr th {\n",
       "        vertical-align: top;\n",
       "    }\n",
       "\n",
       "    .dataframe thead th {\n",
       "        text-align: right;\n",
       "    }\n",
       "</style>\n",
       "<table border=\"1\" class=\"dataframe\">\n",
       "  <thead>\n",
       "    <tr style=\"text-align: right;\">\n",
       "      <th></th>\n",
       "      <th>일자</th>\n",
       "      <th>키워드</th>\n",
       "      <th>특성추출(가중치순 상위 50개)</th>\n",
       "      <th>본문</th>\n",
       "    </tr>\n",
       "    <tr>\n",
       "      <th>뉴스 식별자</th>\n",
       "      <th></th>\n",
       "      <th></th>\n",
       "      <th></th>\n",
       "      <th></th>\n",
       "    </tr>\n",
       "  </thead>\n",
       "  <tbody>\n",
       "    <tr>\n",
       "      <th>4.101008e+06</th>\n",
       "      <td>2009-01-01</td>\n",
       "      <td>선물,옵션,거래,규모,사상,최대,18.3%,선물,옵션,거래,대금,18.3%,최대,경...</td>\n",
       "      <td>거래량,일평균,코스피,만큼,경신,코스피200옵션,거래소,주식선물,변동성,사상최대,거...</td>\n",
       "      <td>[이데일리 유환구기자] 글로벌 금융위기에 따라 주식시장의 변동성이 크게 확대되면서 ...</td>\n",
       "    </tr>\n",
       "    <tr>\n",
       "      <th>1.100301e+06</th>\n",
       "      <td>2009-01-01</td>\n",
       "      <td>성장,1.9%,회복,시점,2010년,대응,정치,경제,위기,70.0%,93.0%,정비...</td>\n",
       "      <td>전문가,경제위기,국정운영,정치권,성장률,긍정평가층,경제전문가,경제회복,부정평가층,이...</td>\n",
       "      <td>정치권 경제위기 대응 ‘잘못한다’ 93.0% 4대강 정비 반대 70.0%,\\n미국 ...</td>\n",
       "    </tr>\n",
       "    <tr>\n",
       "      <th>1.100301e+06</th>\n",
       "      <td>2009-01-01</td>\n",
       "      <td>키코,효력,정지,판결,은행,비상,판결,은행,자본,시장,발전,저해,피해,기업,유동,위...</td>\n",
       "      <td>키코,중소기업,신의칙,모나미,은행권,은행들,디에스엘시디,제일은행,1조</td>\n",
       "      <td>은행권 “자본시장 발전 저해 판결”  줄소송 이어질듯피해기업 유동성 위기 모면  은...</td>\n",
       "    </tr>\n",
       "    <tr>\n",
       "      <th>2.100201e+06</th>\n",
       "      <td>2009-01-01</td>\n",
       "      <td>PB,재테크,고수,세계,금융위기,자산가치,급락,투자자,새해,자신,포트폴리오,재점검,...</td>\n",
       "      <td>pb,팀장,국민은행,우리은행,한국씨티은행,상반기,투자상품,투자전략,유동성,수익률,주...</td>\n",
       "      <td>지난해 전세계를 뒤덮은 금융위기로 자산가치가 급락하면서 잠을 설친 투자자가 많았다....</td>\n",
       "    </tr>\n",
       "    <tr>\n",
       "      <th>2.100201e+06</th>\n",
       "      <td>2009-01-01</td>\n",
       "      <td>PB,재테크,고수,중국,일본펀드,프라이빗뱅커,PB,가입,중국펀드,인내심,보유,단기적...</td>\n",
       "      <td>부동산,중국,팀장,일본,외환은행,지점장,국민은행,우리은행,한국씨티은행,부양책,부동산...</td>\n",
       "      <td>◇중국 일본펀드 '어떻게 할까'＝ 프라이빗뱅커(PB)들은 이미 가입한 중국펀드는 인...</td>\n",
       "    </tr>\n",
       "    <tr>\n",
       "      <th>...</th>\n",
       "      <td>...</td>\n",
       "      <td>...</td>\n",
       "      <td>...</td>\n",
       "      <td>...</td>\n",
       "    </tr>\n",
       "    <tr>\n",
       "      <th>2.100601e+06</th>\n",
       "      <td>2025-06-30</td>\n",
       "      <td>코스피,7%,초반,두산에너빌리티,코스피,코스닥,지수,미국발,훈풍,강세,초반,미국,증...</td>\n",
       "      <td>코스피,코스닥,두산에너빌리티,미국,기대감,거래일,외국인,2만,3070선,순매도,교역...</td>\n",
       "      <td>코스피와 코스닥 지수가 미국발(發) 훈풍에 힘입어 장 초반 강세를 보이고 있다. 앞...</td>\n",
       "    </tr>\n",
       "    <tr>\n",
       "      <th>2.100201e+06</th>\n",
       "      <td>2025-06-30</td>\n",
       "      <td>외국인,팔자,상승,출발,코스피,3080선,코스피,기관,매수세,상승,출발,돌파,눈앞,...</td>\n",
       "      <td>거래일,강보합세,약보합,코스피,외국인,거래소,코스닥,약보합세,순매도,업비트,2차,서...</td>\n",
       "      <td>[머니투데이 박수현 기자] [개장 시황]\\n\\n 코스피가 기관의 매수세에 상승 출발...</td>\n",
       "    </tr>\n",
       "    <tr>\n",
       "      <th>1.100751e+06</th>\n",
       "      <td>2025-06-30</td>\n",
       "      <td>대한항공,서프라이즈,실적,전망,화물,부담,아시아투데이,박주연,iM투자증권,대한항공,...</td>\n",
       "      <td>대한항공,연구원,배세호,물동량,목표주가,박주연,아시아투데이,유류비,인천공항</td>\n",
       "      <td>아시아투데이 박주연 기자 = iM투자증권은 30일 대한항공에 대해 분기 실적이 시장...</td>\n",
       "    </tr>\n",
       "    <tr>\n",
       "      <th>4.100078e+06</th>\n",
       "      <td>2025-06-30</td>\n",
       "      <td>LS,ELECTRIC,정부,정책,AI,육성,수혜,360,000원,NH투자증권,로보뉴...</td>\n",
       "      <td>ls,nh투자증권,증권사,6개월,컨센서스,상향조정,미국,nh,이민재,변압기</td>\n",
       "      <td>[서울=뉴스핌] 로보뉴스 = NH투자증권에서 30일 LS ELECTRIC(01012...</td>\n",
       "    </tr>\n",
       "    <tr>\n",
       "      <th>2.100851e+06</th>\n",
       "      <td>2025-06-30</td>\n",
       "      <td>수출,위축,전망,리스크,무협,수출산업경기전망지수,수출산업,경기,전망,지수,EBSI,...</td>\n",
       "      <td>반도체,자동차,복수응답,수출산업경기전망지수,ebsi,만큼,연구원,수입규제,미국발,체...</td>\n",
       "      <td>[자료=무협] \\n한국 수출 체감경기가 3분기에도 둔화될 것이란 전망이 나왔다. 미...</td>\n",
       "    </tr>\n",
       "  </tbody>\n",
       "</table>\n",
       "<p>799073 rows × 4 columns</p>\n",
       "</div>"
      ],
      "text/plain": [
       "                      일자                                                키워드  \\\n",
       "뉴스 식별자                                                                        \n",
       "4.101008e+06  2009-01-01  선물,옵션,거래,규모,사상,최대,18.3%,선물,옵션,거래,대금,18.3%,최대,경...   \n",
       "1.100301e+06  2009-01-01  성장,1.9%,회복,시점,2010년,대응,정치,경제,위기,70.0%,93.0%,정비...   \n",
       "1.100301e+06  2009-01-01  키코,효력,정지,판결,은행,비상,판결,은행,자본,시장,발전,저해,피해,기업,유동,위...   \n",
       "2.100201e+06  2009-01-01  PB,재테크,고수,세계,금융위기,자산가치,급락,투자자,새해,자신,포트폴리오,재점검,...   \n",
       "2.100201e+06  2009-01-01  PB,재테크,고수,중국,일본펀드,프라이빗뱅커,PB,가입,중국펀드,인내심,보유,단기적...   \n",
       "...                  ...                                                ...   \n",
       "2.100601e+06  2025-06-30  코스피,7%,초반,두산에너빌리티,코스피,코스닥,지수,미국발,훈풍,강세,초반,미국,증...   \n",
       "2.100201e+06  2025-06-30  외국인,팔자,상승,출발,코스피,3080선,코스피,기관,매수세,상승,출발,돌파,눈앞,...   \n",
       "1.100751e+06  2025-06-30  대한항공,서프라이즈,실적,전망,화물,부담,아시아투데이,박주연,iM투자증권,대한항공,...   \n",
       "4.100078e+06  2025-06-30  LS,ELECTRIC,정부,정책,AI,육성,수혜,360,000원,NH투자증권,로보뉴...   \n",
       "2.100851e+06  2025-06-30  수출,위축,전망,리스크,무협,수출산업경기전망지수,수출산업,경기,전망,지수,EBSI,...   \n",
       "\n",
       "                                              특성추출(가중치순 상위 50개)  \\\n",
       "뉴스 식별자                                                            \n",
       "4.101008e+06  거래량,일평균,코스피,만큼,경신,코스피200옵션,거래소,주식선물,변동성,사상최대,거...   \n",
       "1.100301e+06  전문가,경제위기,국정운영,정치권,성장률,긍정평가층,경제전문가,경제회복,부정평가층,이...   \n",
       "1.100301e+06             키코,중소기업,신의칙,모나미,은행권,은행들,디에스엘시디,제일은행,1조   \n",
       "2.100201e+06  pb,팀장,국민은행,우리은행,한국씨티은행,상반기,투자상품,투자전략,유동성,수익률,주...   \n",
       "2.100201e+06  부동산,중국,팀장,일본,외환은행,지점장,국민은행,우리은행,한국씨티은행,부양책,부동산...   \n",
       "...                                                         ...   \n",
       "2.100601e+06  코스피,코스닥,두산에너빌리티,미국,기대감,거래일,외국인,2만,3070선,순매도,교역...   \n",
       "2.100201e+06  거래일,강보합세,약보합,코스피,외국인,거래소,코스닥,약보합세,순매도,업비트,2차,서...   \n",
       "1.100751e+06          대한항공,연구원,배세호,물동량,목표주가,박주연,아시아투데이,유류비,인천공항   \n",
       "4.100078e+06          ls,nh투자증권,증권사,6개월,컨센서스,상향조정,미국,nh,이민재,변압기   \n",
       "2.100851e+06  반도체,자동차,복수응답,수출산업경기전망지수,ebsi,만큼,연구원,수입규제,미국발,체...   \n",
       "\n",
       "                                                             본문  \n",
       "뉴스 식별자                                                           \n",
       "4.101008e+06  [이데일리 유환구기자] 글로벌 금융위기에 따라 주식시장의 변동성이 크게 확대되면서 ...  \n",
       "1.100301e+06  정치권 경제위기 대응 ‘잘못한다’ 93.0% 4대강 정비 반대 70.0%,\\n미국 ...  \n",
       "1.100301e+06  은행권 “자본시장 발전 저해 판결”  줄소송 이어질듯피해기업 유동성 위기 모면  은...  \n",
       "2.100201e+06  지난해 전세계를 뒤덮은 금융위기로 자산가치가 급락하면서 잠을 설친 투자자가 많았다....  \n",
       "2.100201e+06  ◇중국 일본펀드 '어떻게 할까'＝ 프라이빗뱅커(PB)들은 이미 가입한 중국펀드는 인...  \n",
       "...                                                         ...  \n",
       "2.100601e+06  코스피와 코스닥 지수가 미국발(發) 훈풍에 힘입어 장 초반 강세를 보이고 있다. 앞...  \n",
       "2.100201e+06  [머니투데이 박수현 기자] [개장 시황]\\n\\n 코스피가 기관의 매수세에 상승 출발...  \n",
       "1.100751e+06  아시아투데이 박주연 기자 = iM투자증권은 30일 대한항공에 대해 분기 실적이 시장...  \n",
       "4.100078e+06  [서울=뉴스핌] 로보뉴스 = NH투자증권에서 30일 LS ELECTRIC(01012...  \n",
       "2.100851e+06  [자료=무협] \\n한국 수출 체감경기가 3분기에도 둔화될 것이란 전망이 나왔다. 미...  \n",
       "\n",
       "[799073 rows x 4 columns]"
      ]
     },
     "execution_count": 2,
     "metadata": {},
     "output_type": "execute_result"
    }
   ],
   "source": [
    "news_data=pd.read_csv('all_news_data.csv',encoding='utf-8',index_col=0)\n",
    "news_data"
   ]
  },
  {
   "cell_type": "code",
   "execution_count": 3,
   "id": "70e2d8af-7069-438d-b136-59e89135b4ee",
   "metadata": {},
   "outputs": [],
   "source": [
    "news_data['일자']=pd.to_datetime(news_data['일자'])"
   ]
  },
  {
   "cell_type": "code",
   "execution_count": 4,
   "id": "9b21acba-9855-415b-b222-a4e263dbca66",
   "metadata": {},
   "outputs": [],
   "source": [
    "from collections import Counter\n",
    "from sklearn.feature_extraction.text import TfidfVectorizer"
   ]
  },
  {
   "cell_type": "code",
   "execution_count": 5,
   "id": "b08c2d86-8927-4025-8570-bdc1327181cc",
   "metadata": {},
   "outputs": [],
   "source": [
    "df=pd.DataFrame({'date':news_data['일자'],'keywords':news_data['키워드']})"
   ]
  },
  {
   "cell_type": "code",
   "execution_count": 6,
   "id": "a532cc9e-1492-48fd-bbcf-719d70f8b42c",
   "metadata": {},
   "outputs": [],
   "source": [
    "df['keyword_list']=df['keywords'].apply(lambda x: x.split(','))"
   ]
  },
  {
   "cell_type": "code",
   "execution_count": 7,
   "id": "56aa425e-8390-4592-8fb6-5aef5e932f79",
   "metadata": {},
   "outputs": [],
   "source": [
    "# all_keywords=sum(df['keyword_list'],[])"
   ]
  },
  {
   "cell_type": "code",
   "execution_count": 8,
   "id": "5dad2412-f60c-40b7-8d39-66c8be249520",
   "metadata": {},
   "outputs": [
    {
     "name": "stderr",
     "output_type": "stream",
     "text": [
      "100%|███████████████████████████████████████████████████████████████████████| 799073/799073 [00:08<00:00, 98268.29it/s]\n"
     ]
    }
   ],
   "source": [
    "from tqdm import tqdm\n",
    "\n",
    "all_keywords = []\n",
    "for keywords in tqdm(df['keyword_list']):\n",
    "    all_keywords.extend(keywords)"
   ]
  },
  {
   "cell_type": "code",
   "execution_count": 9,
   "id": "5230481c-0973-47b2-a596-44abe1a59b86",
   "metadata": {},
   "outputs": [],
   "source": [
    "top1000=[kw for kw, _ in Counter(all_keywords).most_common(80)]"
   ]
  },
  {
   "cell_type": "code",
   "execution_count": 10,
   "id": "6a68acfd-0b48-45f3-a0d1-158ee3357bc8",
   "metadata": {},
   "outputs": [],
   "source": [
    "daily_keywords=df.groupby('date')['keyword_list'].apply(lambda lists: ' '.join(sum(lists, []))).reset_index()"
   ]
  },
  {
   "cell_type": "code",
   "execution_count": 11,
   "id": "673a1d04-b0bd-4116-bb9b-e3ffbdcb3121",
   "metadata": {},
   "outputs": [],
   "source": [
    "vectorizer=TfidfVectorizer(vocabulary=top1000)"
   ]
  },
  {
   "cell_type": "code",
   "execution_count": 12,
   "id": "d39e0b17-3b7b-41c9-8e2d-fdf199449ec0",
   "metadata": {},
   "outputs": [],
   "source": [
    "# pd.DataFrame({'top1000':top1000}).to_csv('top1000.csv')"
   ]
  },
  {
   "cell_type": "code",
   "execution_count": 13,
   "id": "c47c1e02-ab31-4caa-928e-4480652b7946",
   "metadata": {},
   "outputs": [],
   "source": [
    "tfidf_matrix=vectorizer.fit_transform(daily_keywords['keyword_list'])"
   ]
  },
  {
   "cell_type": "code",
   "execution_count": 14,
   "id": "c64816f1-3713-4f55-a2f2-1e6782daf5b3",
   "metadata": {},
   "outputs": [],
   "source": [
    "terms=vectorizer.get_feature_names_out()\n",
    "tfidf_df=pd.DataFrame(tfidf_matrix.toarray(),columns=terms)\n",
    "tfidf_df['date']=daily_keywords['date']"
   ]
  },
  {
   "cell_type": "code",
   "execution_count": 15,
   "id": "14211535-d899-4549-85df-e9003999a5d4",
   "metadata": {},
   "outputs": [],
   "source": [
    "top_keywords_per_day=[]\n",
    "for i, row in tfidf_df.drop(columns='date').iterrows():\n",
    "    top_terms=row.sort_values(ascending=False).head(10)\n",
    "    for term, score in top_terms.items():\n",
    "        top_keywords_per_day.append({\n",
    "            'date': tfidf_df.loc[i, 'date'],\n",
    "            'keyword': term,\n",
    "            'tfidf': round(score,4)\n",
    "        })"
   ]
  },
  {
   "cell_type": "code",
   "execution_count": 16,
   "id": "5f9f4bb0-e5a5-4f3b-9681-e49b411021a2",
   "metadata": {},
   "outputs": [],
   "source": [
    "top_df=pd.DataFrame(top_keywords_per_day)"
   ]
  },
  {
   "cell_type": "code",
   "execution_count": 17,
   "id": "1444f9bd-5a3b-41d7-b530-7b3e5a627a59",
   "metadata": {},
   "outputs": [
    {
     "data": {
      "text/html": [
       "<div>\n",
       "<style scoped>\n",
       "    .dataframe tbody tr th:only-of-type {\n",
       "        vertical-align: middle;\n",
       "    }\n",
       "\n",
       "    .dataframe tbody tr th {\n",
       "        vertical-align: top;\n",
       "    }\n",
       "\n",
       "    .dataframe thead th {\n",
       "        text-align: right;\n",
       "    }\n",
       "</style>\n",
       "<table border=\"1\" class=\"dataframe\">\n",
       "  <thead>\n",
       "    <tr style=\"text-align: right;\">\n",
       "      <th></th>\n",
       "      <th>date</th>\n",
       "      <th>keyword</th>\n",
       "      <th>tfidf</th>\n",
       "    </tr>\n",
       "  </thead>\n",
       "  <tbody>\n",
       "    <tr>\n",
       "      <th>43990</th>\n",
       "      <td>2021-01-17</td>\n",
       "      <td>기업</td>\n",
       "      <td>0.8397</td>\n",
       "    </tr>\n",
       "    <tr>\n",
       "      <th>41950</th>\n",
       "      <td>2020-06-27</td>\n",
       "      <td>기업</td>\n",
       "      <td>0.8343</td>\n",
       "    </tr>\n",
       "    <tr>\n",
       "      <th>38520</th>\n",
       "      <td>2019-07-20</td>\n",
       "      <td>일본</td>\n",
       "      <td>0.8202</td>\n",
       "    </tr>\n",
       "    <tr>\n",
       "      <th>31390</th>\n",
       "      <td>2017-08-06</td>\n",
       "      <td>달러</td>\n",
       "      <td>0.8156</td>\n",
       "    </tr>\n",
       "    <tr>\n",
       "      <th>45040</th>\n",
       "      <td>2021-05-02</td>\n",
       "      <td>금융</td>\n",
       "      <td>0.8102</td>\n",
       "    </tr>\n",
       "    <tr>\n",
       "      <th>...</th>\n",
       "      <td>...</td>\n",
       "      <td>...</td>\n",
       "      <td>...</td>\n",
       "    </tr>\n",
       "    <tr>\n",
       "      <th>43996</th>\n",
       "      <td>2021-01-17</td>\n",
       "      <td>상황</td>\n",
       "      <td>0.0742</td>\n",
       "    </tr>\n",
       "    <tr>\n",
       "      <th>39999</th>\n",
       "      <td>2019-12-14</td>\n",
       "      <td>확대</td>\n",
       "      <td>0.0680</td>\n",
       "    </tr>\n",
       "    <tr>\n",
       "      <th>43997</th>\n",
       "      <td>2021-01-17</td>\n",
       "      <td>가능성</td>\n",
       "      <td>0.0600</td>\n",
       "    </tr>\n",
       "    <tr>\n",
       "      <th>43998</th>\n",
       "      <td>2021-01-17</td>\n",
       "      <td>환율</td>\n",
       "      <td>0.0568</td>\n",
       "    </tr>\n",
       "    <tr>\n",
       "      <th>43999</th>\n",
       "      <td>2021-01-17</td>\n",
       "      <td>주식</td>\n",
       "      <td>0.0547</td>\n",
       "    </tr>\n",
       "  </tbody>\n",
       "</table>\n",
       "<p>60250 rows × 3 columns</p>\n",
       "</div>"
      ],
      "text/plain": [
       "            date keyword   tfidf\n",
       "43990 2021-01-17      기업  0.8397\n",
       "41950 2020-06-27      기업  0.8343\n",
       "38520 2019-07-20      일본  0.8202\n",
       "31390 2017-08-06      달러  0.8156\n",
       "45040 2021-05-02      금융  0.8102\n",
       "...          ...     ...     ...\n",
       "43996 2021-01-17      상황  0.0742\n",
       "39999 2019-12-14      확대  0.0680\n",
       "43997 2021-01-17     가능성  0.0600\n",
       "43998 2021-01-17      환율  0.0568\n",
       "43999 2021-01-17      주식  0.0547\n",
       "\n",
       "[60250 rows x 3 columns]"
      ]
     },
     "execution_count": 17,
     "metadata": {},
     "output_type": "execute_result"
    }
   ],
   "source": [
    "top_df.sort_values(by='tfidf',ascending=False)"
   ]
  },
  {
   "cell_type": "code",
   "execution_count": 18,
   "id": "bfa5525f-8f81-480f-b0a1-fbdce8ed4320",
   "metadata": {},
   "outputs": [
    {
     "data": {
      "text/html": [
       "<div>\n",
       "<style scoped>\n",
       "    .dataframe tbody tr th:only-of-type {\n",
       "        vertical-align: middle;\n",
       "    }\n",
       "\n",
       "    .dataframe tbody tr th {\n",
       "        vertical-align: top;\n",
       "    }\n",
       "\n",
       "    .dataframe thead th {\n",
       "        text-align: right;\n",
       "    }\n",
       "</style>\n",
       "<table border=\"1\" class=\"dataframe\">\n",
       "  <thead>\n",
       "    <tr style=\"text-align: right;\">\n",
       "      <th></th>\n",
       "      <th>date</th>\n",
       "      <th>keyword</th>\n",
       "      <th>tfidf</th>\n",
       "    </tr>\n",
       "  </thead>\n",
       "  <tbody>\n",
       "    <tr>\n",
       "      <th>0</th>\n",
       "      <td>2009-01-01</td>\n",
       "      <td>경제</td>\n",
       "      <td>0.4621</td>\n",
       "    </tr>\n",
       "    <tr>\n",
       "      <th>1</th>\n",
       "      <td>2009-01-01</td>\n",
       "      <td>위기</td>\n",
       "      <td>0.2905</td>\n",
       "    </tr>\n",
       "    <tr>\n",
       "      <th>2</th>\n",
       "      <td>2009-01-01</td>\n",
       "      <td>전망</td>\n",
       "      <td>0.2574</td>\n",
       "    </tr>\n",
       "    <tr>\n",
       "      <th>3</th>\n",
       "      <td>2009-01-01</td>\n",
       "      <td>환율</td>\n",
       "      <td>0.2424</td>\n",
       "    </tr>\n",
       "    <tr>\n",
       "      <th>4</th>\n",
       "      <td>2009-01-01</td>\n",
       "      <td>정부</td>\n",
       "      <td>0.2350</td>\n",
       "    </tr>\n",
       "    <tr>\n",
       "      <th>...</th>\n",
       "      <td>...</td>\n",
       "      <td>...</td>\n",
       "      <td>...</td>\n",
       "    </tr>\n",
       "    <tr>\n",
       "      <th>60245</th>\n",
       "      <td>2025-06-30</td>\n",
       "      <td>미국</td>\n",
       "      <td>0.2466</td>\n",
       "    </tr>\n",
       "    <tr>\n",
       "      <th>60246</th>\n",
       "      <td>2025-06-30</td>\n",
       "      <td>달러</td>\n",
       "      <td>0.2202</td>\n",
       "    </tr>\n",
       "    <tr>\n",
       "      <th>60247</th>\n",
       "      <td>2025-06-30</td>\n",
       "      <td>경기</td>\n",
       "      <td>0.2113</td>\n",
       "    </tr>\n",
       "    <tr>\n",
       "      <th>60248</th>\n",
       "      <td>2025-06-30</td>\n",
       "      <td>시장</td>\n",
       "      <td>0.1773</td>\n",
       "    </tr>\n",
       "    <tr>\n",
       "      <th>60249</th>\n",
       "      <td>2025-06-30</td>\n",
       "      <td>지수</td>\n",
       "      <td>0.1711</td>\n",
       "    </tr>\n",
       "  </tbody>\n",
       "</table>\n",
       "<p>60250 rows × 3 columns</p>\n",
       "</div>"
      ],
      "text/plain": [
       "            date keyword   tfidf\n",
       "0     2009-01-01      경제  0.4621\n",
       "1     2009-01-01      위기  0.2905\n",
       "2     2009-01-01      전망  0.2574\n",
       "3     2009-01-01      환율  0.2424\n",
       "4     2009-01-01      정부  0.2350\n",
       "...          ...     ...     ...\n",
       "60245 2025-06-30      미국  0.2466\n",
       "60246 2025-06-30      달러  0.2202\n",
       "60247 2025-06-30      경기  0.2113\n",
       "60248 2025-06-30      시장  0.1773\n",
       "60249 2025-06-30      지수  0.1711\n",
       "\n",
       "[60250 rows x 3 columns]"
      ]
     },
     "execution_count": 18,
     "metadata": {},
     "output_type": "execute_result"
    }
   ],
   "source": [
    "top_df"
   ]
  },
  {
   "cell_type": "code",
   "execution_count": 19,
   "id": "ccd0c37c-4b97-4371-82f5-de0f11852dd1",
   "metadata": {},
   "outputs": [],
   "source": [
    "tfidf_df['날짜']=pd.to_datetime(tfidf_df['date'])\n",
    "tfidf_df=tfidf_df.drop('date',axis=1)"
   ]
  },
  {
   "cell_type": "code",
   "execution_count": 20,
   "id": "e1425fdd-d863-4c1a-8f77-8ca300b42d3b",
   "metadata": {},
   "outputs": [],
   "source": [
    "tfidf_df.to_csv('top500_tfidf.csv')"
   ]
  },
  {
   "cell_type": "code",
   "execution_count": 21,
   "id": "2da7792c-7e04-44af-b0ad-333756b228da",
   "metadata": {},
   "outputs": [],
   "source": [
    "ex_rate=pd.read_csv('./data/원화의 대미달러, 원화의 대위안_대엔 환율_10093253.csv')[['날짜','원/달러(종가 15:30)']]"
   ]
  },
  {
   "cell_type": "code",
   "execution_count": 22,
   "id": "64f08aa2-35ce-4f9a-b0d6-978af514426b",
   "metadata": {},
   "outputs": [],
   "source": [
    "ex_rate['날짜']=pd.to_datetime(ex_rate['날짜'])\n",
    "ex_rate['원/달러(종가 15:30)']=ex_rate['원/달러(종가 15:30)'].str.replace(',','').astype(float)"
   ]
  },
  {
   "cell_type": "code",
   "execution_count": 23,
   "id": "e0cd2024-e83f-4547-9eae-921e30854788",
   "metadata": {},
   "outputs": [],
   "source": [
    "merged_data=pd.merge(tfidf_df,ex_rate,on='날짜',how='inner')"
   ]
  },
  {
   "cell_type": "code",
   "execution_count": 24,
   "id": "1936d2d6-216c-4534-a3e7-f84f9f5f2a9e",
   "metadata": {},
   "outputs": [
    {
     "name": "stderr",
     "output_type": "stream",
     "text": [
      "C:\\Users\\campus4D044\\AppData\\Local\\Temp\\ipykernel_4648\\2563095799.py:1: FutureWarning: The default fill_method='pad' in Series.pct_change is deprecated and will be removed in a future version. Either fill in any non-leading NA values prior to calling pct_change or specify 'fill_method=None' to not fill NA values.\n",
      "  merged_data['변화율']=merged_data['원/달러(종가 15:30)'].pct_change().shift(-1)\n"
     ]
    }
   ],
   "source": [
    "merged_data['변화율']=merged_data['원/달러(종가 15:30)'].pct_change().shift(-1)\n",
    "merged_data['상승']=(merged_data['변화율']>0).astype(int)"
   ]
  },
  {
   "cell_type": "code",
   "execution_count": 25,
   "id": "a9fbe81c-7a1f-45a7-a665-724a773c0c73",
   "metadata": {},
   "outputs": [],
   "source": [
    "merged_data['원/달러 shift-1']=merged_data['원/달러(종가 15:30)'].shift(-1)\n",
    "merged_data['차이']=merged_data['원/달러 shift-1']-merged_data['원/달러(종가 15:30)']\n",
    "merged_data=merged_data[(merged_data['차이']>=5)|(merged_data['차이']<=-5)]"
   ]
  },
  {
   "cell_type": "code",
   "execution_count": 26,
   "id": "d269e0f5-9cb2-4f68-a23f-16f179191bb1",
   "metadata": {},
   "outputs": [],
   "source": [
    "x=merged_data.drop(['날짜','상승','원/달러(종가 15:30)','변화율','원/달러 shift-1','차이'],axis=1) #\n",
    "y=merged_data[['상승']]"
   ]
  },
  {
   "cell_type": "code",
   "execution_count": 27,
   "id": "a22dc56b-d7cf-4c6e-97b3-16a26cf3f954",
   "metadata": {},
   "outputs": [],
   "source": [
    "merged_data=merged_data.dropna()"
   ]
  },
  {
   "cell_type": "code",
   "execution_count": 28,
   "id": "bc85c639-a2ad-4a5a-a48f-a6a921a92076",
   "metadata": {},
   "outputs": [],
   "source": [
    "from sklearn.model_selection import train_test_split"
   ]
  },
  {
   "cell_type": "code",
   "execution_count": 621,
   "id": "8d65645e-eda1-4ac3-a57c-a51aa2aa1a4f",
   "metadata": {},
   "outputs": [],
   "source": [
    "tr_x,tt_x,tr_y,tt_y=train_test_split(x,y,train_size=0.7,shuffle=False,random_state=10)"
   ]
  },
  {
   "cell_type": "code",
   "execution_count": 622,
   "id": "05d8d4cf-0481-4792-855c-a7fa11805320",
   "metadata": {},
   "outputs": [],
   "source": [
    "from sklearn.preprocessing import StandardScaler"
   ]
  },
  {
   "cell_type": "code",
   "execution_count": 623,
   "id": "9c59806b-95f8-49a4-94eb-dfa535a7fd87",
   "metadata": {},
   "outputs": [],
   "source": [
    "ss=StandardScaler()\n",
    "tr_x=ss.fit_transform(tr_x)\n",
    "tt_x=ss.transform(tt_x)"
   ]
  },
  {
   "cell_type": "code",
   "execution_count": null,
   "id": "e06c35e3-a442-491b-a78d-cd2f81463f08",
   "metadata": {},
   "outputs": [],
   "source": []
  },
  {
   "cell_type": "code",
   "execution_count": null,
   "id": "8b798c20-7dbc-4d3f-ac42-c863dc72b1bf",
   "metadata": {},
   "outputs": [],
   "source": []
  },
  {
   "cell_type": "code",
   "execution_count": 624,
   "id": "3e4fc3b4-bb74-41c3-870b-51e24ece43f5",
   "metadata": {},
   "outputs": [],
   "source": [
    "from sklearn.ensemble import RandomForestClassifier"
   ]
  },
  {
   "cell_type": "code",
   "execution_count": 625,
   "id": "b08475c2-470c-40d2-bbd6-c0990e031b5e",
   "metadata": {},
   "outputs": [
    {
     "name": "stderr",
     "output_type": "stream",
     "text": [
      "C:\\Users\\campus4D044\\anaconda3\\Lib\\site-packages\\sklearn\\base.py:1473: DataConversionWarning: A column-vector y was passed when a 1d array was expected. Please change the shape of y to (n_samples,), for example using ravel().\n",
      "  return fit_method(estimator, *args, **kwargs)\n"
     ]
    }
   ],
   "source": [
    "model=RandomForestClassifier().fit(tr_x,tr_y)"
   ]
  },
  {
   "cell_type": "code",
   "execution_count": 626,
   "id": "a9c12b05-59bf-471c-aec6-0259bd0e1752",
   "metadata": {},
   "outputs": [],
   "source": [
    "pred_y=model.predict(tt_x)"
   ]
  },
  {
   "cell_type": "code",
   "execution_count": 627,
   "id": "236437a5-7f03-4fa7-9516-7f84ad610bd1",
   "metadata": {},
   "outputs": [],
   "source": [
    "from sklearn.metrics import accuracy_score,f1_score,confusion_matrix"
   ]
  },
  {
   "cell_type": "code",
   "execution_count": 628,
   "id": "8bd6cd7c-c07b-4357-be7b-680a86c1ad8e",
   "metadata": {},
   "outputs": [
    {
     "name": "stdout",
     "output_type": "stream",
     "text": [
      "0.4894957983193277\n",
      "0.5335892514395394\n",
      "[[ 94 128]\n",
      " [115 139]]\n"
     ]
    }
   ],
   "source": [
    "print(accuracy_score(tt_y,pred_y))\n",
    "print(f1_score(tt_y,pred_y))\n",
    "print(confusion_matrix(tt_y,pred_y))"
   ]
  },
  {
   "cell_type": "code",
   "execution_count": 629,
   "id": "af73a5c8-a87d-4b8a-862e-2afd4eccfcfe",
   "metadata": {},
   "outputs": [],
   "source": [
    "from xgboost import XGBClassifier"
   ]
  },
  {
   "cell_type": "code",
   "execution_count": 630,
   "id": "5b0e7703-aa04-4747-a9db-d503f647a6b4",
   "metadata": {},
   "outputs": [],
   "source": [
    "model=XGBClassifier(random_state=10).fit(tr_x,tr_y)"
   ]
  },
  {
   "cell_type": "code",
   "execution_count": 631,
   "id": "94126a8c-da08-468e-927b-954d3e3e27e4",
   "metadata": {},
   "outputs": [],
   "source": [
    "pred_y=model.predict(tt_x)"
   ]
  },
  {
   "cell_type": "code",
   "execution_count": 632,
   "id": "43798b2c-3aa6-4c97-8191-45e9cddc830a",
   "metadata": {},
   "outputs": [
    {
     "name": "stdout",
     "output_type": "stream",
     "text": [
      "0.5021008403361344\n",
      "0.5306930693069307\n"
     ]
    }
   ],
   "source": [
    "print(accuracy_score(tt_y,pred_y))\n",
    "print(f1_score(tt_y,pred_y))"
   ]
  },
  {
   "cell_type": "code",
   "execution_count": 633,
   "id": "73fac4f5-472c-47af-81cc-cf4873b142db",
   "metadata": {},
   "outputs": [],
   "source": [
    "from lightgbm import LGBMClassifier"
   ]
  },
  {
   "cell_type": "code",
   "execution_count": 634,
   "id": "6a27699f-ec8f-4517-a80d-761ccdcad766",
   "metadata": {},
   "outputs": [
    {
     "name": "stdout",
     "output_type": "stream",
     "text": [
      "[LightGBM] [Info] Number of positive: 550, number of negative: 560\n",
      "[LightGBM] [Info] Auto-choosing col-wise multi-threading, the overhead of testing was 0.000899 seconds.\n",
      "You can set `force_col_wise=true` to remove the overhead.\n",
      "[LightGBM] [Info] Total Bins 20145\n",
      "[LightGBM] [Info] Number of data points in the train set: 1110, number of used features: 79\n",
      "[LightGBM] [Info] [binary:BoostFromScore]: pavg=0.495495 -> initscore=-0.018019\n",
      "[LightGBM] [Info] Start training from score -0.018019\n"
     ]
    },
    {
     "name": "stderr",
     "output_type": "stream",
     "text": [
      "C:\\Users\\campus4D044\\anaconda3\\Lib\\site-packages\\sklearn\\preprocessing\\_label.py:97: DataConversionWarning: A column-vector y was passed when a 1d array was expected. Please change the shape of y to (n_samples, ), for example using ravel().\n",
      "  y = column_or_1d(y, warn=True)\n",
      "C:\\Users\\campus4D044\\anaconda3\\Lib\\site-packages\\sklearn\\preprocessing\\_label.py:132: DataConversionWarning: A column-vector y was passed when a 1d array was expected. Please change the shape of y to (n_samples, ), for example using ravel().\n",
      "  y = column_or_1d(y, dtype=self.classes_.dtype, warn=True)\n"
     ]
    }
   ],
   "source": [
    "model=LGBMClassifier(random_state=10).fit(tr_x,tr_y)"
   ]
  },
  {
   "cell_type": "code",
   "execution_count": 635,
   "id": "a16791fe-cf42-4a63-a398-3b192d33c1ae",
   "metadata": {},
   "outputs": [],
   "source": [
    "pred_y=model.predict(tt_x)"
   ]
  },
  {
   "cell_type": "code",
   "execution_count": 636,
   "id": "798a2039-bdcd-4301-984f-71bad0c62be9",
   "metadata": {},
   "outputs": [
    {
     "name": "stdout",
     "output_type": "stream",
     "text": [
      "0.5042016806722689\n",
      "0.5298804780876494\n"
     ]
    }
   ],
   "source": [
    "print(accuracy_score(tt_y,pred_y))\n",
    "print(f1_score(tt_y,pred_y))"
   ]
  },
  {
   "cell_type": "code",
   "execution_count": 637,
   "id": "56f7ec2e-c7f6-4f35-ab36-e0f4dc89aad2",
   "metadata": {},
   "outputs": [],
   "source": [
    "from catboost import CatBoostClassifier"
   ]
  },
  {
   "cell_type": "code",
   "execution_count": 638,
   "id": "5d9eab67-1449-4e3c-af17-6f8da3fce50f",
   "metadata": {
    "scrolled": true
   },
   "outputs": [
    {
     "name": "stdout",
     "output_type": "stream",
     "text": [
      "Learning rate set to 0.010772\n",
      "0:\tlearn: 0.6923488\ttotal: 17.6ms\tremaining: 17.6s\n",
      "1:\tlearn: 0.6915940\ttotal: 25.5ms\tremaining: 12.7s\n",
      "2:\tlearn: 0.6908349\ttotal: 33.6ms\tremaining: 11.2s\n",
      "3:\tlearn: 0.6902073\ttotal: 41.8ms\tremaining: 10.4s\n",
      "4:\tlearn: 0.6893677\ttotal: 50.2ms\tremaining: 9.99s\n",
      "5:\tlearn: 0.6887526\ttotal: 59.9ms\tremaining: 9.92s\n",
      "6:\tlearn: 0.6880436\ttotal: 69.7ms\tremaining: 9.88s\n",
      "7:\tlearn: 0.6875184\ttotal: 78.8ms\tremaining: 9.77s\n",
      "8:\tlearn: 0.6870762\ttotal: 88.1ms\tremaining: 9.71s\n",
      "9:\tlearn: 0.6861649\ttotal: 97.3ms\tremaining: 9.63s\n",
      "10:\tlearn: 0.6854377\ttotal: 106ms\tremaining: 9.53s\n",
      "11:\tlearn: 0.6845966\ttotal: 115ms\tremaining: 9.44s\n",
      "12:\tlearn: 0.6839261\ttotal: 123ms\tremaining: 9.36s\n",
      "13:\tlearn: 0.6830423\ttotal: 132ms\tremaining: 9.28s\n",
      "14:\tlearn: 0.6824398\ttotal: 141ms\tremaining: 9.24s\n",
      "15:\tlearn: 0.6819077\ttotal: 151ms\tremaining: 9.29s\n",
      "16:\tlearn: 0.6812387\ttotal: 159ms\tremaining: 9.22s\n",
      "17:\tlearn: 0.6807076\ttotal: 168ms\tremaining: 9.16s\n",
      "18:\tlearn: 0.6799033\ttotal: 176ms\tremaining: 9.09s\n",
      "19:\tlearn: 0.6792538\ttotal: 184ms\tremaining: 9.03s\n",
      "20:\tlearn: 0.6787120\ttotal: 193ms\tremaining: 8.99s\n",
      "21:\tlearn: 0.6778594\ttotal: 202ms\tremaining: 8.96s\n",
      "22:\tlearn: 0.6770941\ttotal: 211ms\tremaining: 8.97s\n",
      "23:\tlearn: 0.6764888\ttotal: 219ms\tremaining: 8.92s\n",
      "24:\tlearn: 0.6758742\ttotal: 228ms\tremaining: 8.88s\n",
      "25:\tlearn: 0.6754504\ttotal: 237ms\tremaining: 8.86s\n",
      "26:\tlearn: 0.6747869\ttotal: 245ms\tremaining: 8.84s\n",
      "27:\tlearn: 0.6742557\ttotal: 256ms\tremaining: 8.88s\n",
      "28:\tlearn: 0.6736260\ttotal: 264ms\tremaining: 8.85s\n",
      "29:\tlearn: 0.6729996\ttotal: 273ms\tremaining: 8.81s\n",
      "30:\tlearn: 0.6723684\ttotal: 281ms\tremaining: 8.78s\n",
      "31:\tlearn: 0.6714797\ttotal: 291ms\tremaining: 8.81s\n",
      "32:\tlearn: 0.6708121\ttotal: 301ms\tremaining: 8.81s\n",
      "33:\tlearn: 0.6700088\ttotal: 309ms\tremaining: 8.78s\n",
      "34:\tlearn: 0.6695663\ttotal: 317ms\tremaining: 8.75s\n",
      "35:\tlearn: 0.6691619\ttotal: 326ms\tremaining: 8.72s\n",
      "36:\tlearn: 0.6685590\ttotal: 334ms\tremaining: 8.69s\n",
      "37:\tlearn: 0.6676502\ttotal: 342ms\tremaining: 8.67s\n",
      "38:\tlearn: 0.6670021\ttotal: 351ms\tremaining: 8.64s\n",
      "39:\tlearn: 0.6663257\ttotal: 359ms\tremaining: 8.61s\n",
      "40:\tlearn: 0.6656010\ttotal: 367ms\tremaining: 8.59s\n",
      "41:\tlearn: 0.6648743\ttotal: 376ms\tremaining: 8.57s\n",
      "42:\tlearn: 0.6637844\ttotal: 384ms\tremaining: 8.55s\n",
      "43:\tlearn: 0.6632408\ttotal: 394ms\tremaining: 8.55s\n",
      "44:\tlearn: 0.6626894\ttotal: 403ms\tremaining: 8.56s\n",
      "45:\tlearn: 0.6618282\ttotal: 412ms\tremaining: 8.54s\n",
      "46:\tlearn: 0.6612942\ttotal: 421ms\tremaining: 8.53s\n",
      "47:\tlearn: 0.6604591\ttotal: 429ms\tremaining: 8.51s\n",
      "48:\tlearn: 0.6595299\ttotal: 438ms\tremaining: 8.5s\n",
      "49:\tlearn: 0.6584410\ttotal: 447ms\tremaining: 8.49s\n",
      "50:\tlearn: 0.6576644\ttotal: 455ms\tremaining: 8.47s\n",
      "51:\tlearn: 0.6567473\ttotal: 465ms\tremaining: 8.47s\n",
      "52:\tlearn: 0.6558046\ttotal: 474ms\tremaining: 8.47s\n",
      "53:\tlearn: 0.6552574\ttotal: 483ms\tremaining: 8.46s\n",
      "54:\tlearn: 0.6549628\ttotal: 491ms\tremaining: 8.44s\n",
      "55:\tlearn: 0.6542301\ttotal: 499ms\tremaining: 8.42s\n",
      "56:\tlearn: 0.6538152\ttotal: 508ms\tremaining: 8.4s\n",
      "57:\tlearn: 0.6529250\ttotal: 516ms\tremaining: 8.38s\n",
      "58:\tlearn: 0.6519767\ttotal: 525ms\tremaining: 8.38s\n",
      "59:\tlearn: 0.6512969\ttotal: 535ms\tremaining: 8.37s\n",
      "60:\tlearn: 0.6504766\ttotal: 543ms\tremaining: 8.36s\n",
      "61:\tlearn: 0.6500403\ttotal: 552ms\tremaining: 8.34s\n",
      "62:\tlearn: 0.6492837\ttotal: 560ms\tremaining: 8.32s\n",
      "63:\tlearn: 0.6486309\ttotal: 568ms\tremaining: 8.31s\n",
      "64:\tlearn: 0.6479786\ttotal: 576ms\tremaining: 8.29s\n",
      "65:\tlearn: 0.6469967\ttotal: 585ms\tremaining: 8.27s\n",
      "66:\tlearn: 0.6464566\ttotal: 593ms\tremaining: 8.26s\n",
      "67:\tlearn: 0.6456949\ttotal: 601ms\tremaining: 8.24s\n",
      "68:\tlearn: 0.6450405\ttotal: 609ms\tremaining: 8.22s\n",
      "69:\tlearn: 0.6442691\ttotal: 618ms\tremaining: 8.21s\n",
      "70:\tlearn: 0.6437459\ttotal: 627ms\tremaining: 8.2s\n",
      "71:\tlearn: 0.6434015\ttotal: 636ms\tremaining: 8.19s\n",
      "72:\tlearn: 0.6429923\ttotal: 645ms\tremaining: 8.19s\n",
      "73:\tlearn: 0.6423152\ttotal: 654ms\tremaining: 8.18s\n",
      "74:\tlearn: 0.6414168\ttotal: 663ms\tremaining: 8.17s\n",
      "75:\tlearn: 0.6407674\ttotal: 671ms\tremaining: 8.16s\n",
      "76:\tlearn: 0.6400066\ttotal: 680ms\tremaining: 8.15s\n",
      "77:\tlearn: 0.6391760\ttotal: 689ms\tremaining: 8.14s\n",
      "78:\tlearn: 0.6383993\ttotal: 697ms\tremaining: 8.13s\n",
      "79:\tlearn: 0.6377145\ttotal: 706ms\tremaining: 8.12s\n",
      "80:\tlearn: 0.6371804\ttotal: 715ms\tremaining: 8.11s\n",
      "81:\tlearn: 0.6365085\ttotal: 724ms\tremaining: 8.11s\n",
      "82:\tlearn: 0.6356226\ttotal: 732ms\tremaining: 8.09s\n",
      "83:\tlearn: 0.6348027\ttotal: 741ms\tremaining: 8.08s\n",
      "84:\tlearn: 0.6343007\ttotal: 749ms\tremaining: 8.06s\n",
      "85:\tlearn: 0.6337650\ttotal: 757ms\tremaining: 8.04s\n",
      "86:\tlearn: 0.6331138\ttotal: 764ms\tremaining: 8.02s\n",
      "87:\tlearn: 0.6324778\ttotal: 773ms\tremaining: 8.01s\n",
      "88:\tlearn: 0.6317624\ttotal: 781ms\tremaining: 8s\n",
      "89:\tlearn: 0.6312923\ttotal: 790ms\tremaining: 7.99s\n",
      "90:\tlearn: 0.6310100\ttotal: 798ms\tremaining: 7.97s\n",
      "91:\tlearn: 0.6301421\ttotal: 807ms\tremaining: 7.96s\n",
      "92:\tlearn: 0.6296496\ttotal: 815ms\tremaining: 7.95s\n",
      "93:\tlearn: 0.6292078\ttotal: 824ms\tremaining: 7.94s\n",
      "94:\tlearn: 0.6286392\ttotal: 833ms\tremaining: 7.93s\n",
      "95:\tlearn: 0.6281250\ttotal: 842ms\tremaining: 7.92s\n",
      "96:\tlearn: 0.6274101\ttotal: 851ms\tremaining: 7.92s\n",
      "97:\tlearn: 0.6268022\ttotal: 861ms\tremaining: 7.92s\n",
      "98:\tlearn: 0.6264702\ttotal: 869ms\tremaining: 7.91s\n",
      "99:\tlearn: 0.6259563\ttotal: 878ms\tremaining: 7.9s\n",
      "100:\tlearn: 0.6253419\ttotal: 887ms\tremaining: 7.89s\n",
      "101:\tlearn: 0.6242855\ttotal: 896ms\tremaining: 7.89s\n",
      "102:\tlearn: 0.6234417\ttotal: 905ms\tremaining: 7.88s\n",
      "103:\tlearn: 0.6226915\ttotal: 914ms\tremaining: 7.87s\n",
      "104:\tlearn: 0.6222716\ttotal: 923ms\tremaining: 7.86s\n",
      "105:\tlearn: 0.6216698\ttotal: 931ms\tremaining: 7.85s\n",
      "106:\tlearn: 0.6210607\ttotal: 940ms\tremaining: 7.85s\n",
      "107:\tlearn: 0.6205856\ttotal: 949ms\tremaining: 7.83s\n",
      "108:\tlearn: 0.6199758\ttotal: 957ms\tremaining: 7.82s\n",
      "109:\tlearn: 0.6194267\ttotal: 965ms\tremaining: 7.81s\n",
      "110:\tlearn: 0.6188872\ttotal: 974ms\tremaining: 7.8s\n",
      "111:\tlearn: 0.6182377\ttotal: 984ms\tremaining: 7.8s\n",
      "112:\tlearn: 0.6175426\ttotal: 993ms\tremaining: 7.8s\n",
      "113:\tlearn: 0.6169464\ttotal: 1s\tremaining: 7.78s\n",
      "114:\tlearn: 0.6165772\ttotal: 1.01s\tremaining: 7.77s\n",
      "115:\tlearn: 0.6160596\ttotal: 1.02s\tremaining: 7.76s\n",
      "116:\tlearn: 0.6154345\ttotal: 1.03s\tremaining: 7.75s\n",
      "117:\tlearn: 0.6150941\ttotal: 1.04s\tremaining: 7.76s\n",
      "118:\tlearn: 0.6144821\ttotal: 1.05s\tremaining: 7.75s\n",
      "119:\tlearn: 0.6138139\ttotal: 1.06s\tremaining: 7.75s\n",
      "120:\tlearn: 0.6134014\ttotal: 1.06s\tremaining: 7.74s\n",
      "121:\tlearn: 0.6129187\ttotal: 1.07s\tremaining: 7.73s\n",
      "122:\tlearn: 0.6125452\ttotal: 1.08s\tremaining: 7.71s\n",
      "123:\tlearn: 0.6115026\ttotal: 1.09s\tremaining: 7.7s\n",
      "124:\tlearn: 0.6108966\ttotal: 1.1s\tremaining: 7.69s\n",
      "125:\tlearn: 0.6105123\ttotal: 1.11s\tremaining: 7.68s\n",
      "126:\tlearn: 0.6098814\ttotal: 1.11s\tremaining: 7.67s\n",
      "127:\tlearn: 0.6093133\ttotal: 1.12s\tremaining: 7.65s\n",
      "128:\tlearn: 0.6087799\ttotal: 1.13s\tremaining: 7.64s\n",
      "129:\tlearn: 0.6084301\ttotal: 1.14s\tremaining: 7.63s\n",
      "130:\tlearn: 0.6078333\ttotal: 1.15s\tremaining: 7.62s\n",
      "131:\tlearn: 0.6072747\ttotal: 1.16s\tremaining: 7.61s\n",
      "132:\tlearn: 0.6070284\ttotal: 1.17s\tremaining: 7.6s\n",
      "133:\tlearn: 0.6065451\ttotal: 1.17s\tremaining: 7.59s\n",
      "134:\tlearn: 0.6060554\ttotal: 1.18s\tremaining: 7.58s\n",
      "135:\tlearn: 0.6056557\ttotal: 1.19s\tremaining: 7.57s\n",
      "136:\tlearn: 0.6051283\ttotal: 1.2s\tremaining: 7.56s\n",
      "137:\tlearn: 0.6045253\ttotal: 1.21s\tremaining: 7.55s\n",
      "138:\tlearn: 0.6039072\ttotal: 1.22s\tremaining: 7.54s\n",
      "139:\tlearn: 0.6032290\ttotal: 1.23s\tremaining: 7.53s\n",
      "140:\tlearn: 0.6025856\ttotal: 1.23s\tremaining: 7.52s\n",
      "141:\tlearn: 0.6020688\ttotal: 1.24s\tremaining: 7.51s\n",
      "142:\tlearn: 0.6015874\ttotal: 1.25s\tremaining: 7.52s\n",
      "143:\tlearn: 0.6012215\ttotal: 1.26s\tremaining: 7.51s\n",
      "144:\tlearn: 0.6009148\ttotal: 1.27s\tremaining: 7.5s\n",
      "145:\tlearn: 0.6004477\ttotal: 1.28s\tremaining: 7.49s\n",
      "146:\tlearn: 0.5998037\ttotal: 1.29s\tremaining: 7.48s\n",
      "147:\tlearn: 0.5992221\ttotal: 1.3s\tremaining: 7.47s\n",
      "148:\tlearn: 0.5984066\ttotal: 1.3s\tremaining: 7.46s\n",
      "149:\tlearn: 0.5977724\ttotal: 1.31s\tremaining: 7.45s\n",
      "150:\tlearn: 0.5972811\ttotal: 1.32s\tremaining: 7.44s\n",
      "151:\tlearn: 0.5965122\ttotal: 1.33s\tremaining: 7.43s\n",
      "152:\tlearn: 0.5959040\ttotal: 1.34s\tremaining: 7.42s\n",
      "153:\tlearn: 0.5952291\ttotal: 1.35s\tremaining: 7.42s\n",
      "154:\tlearn: 0.5946651\ttotal: 1.36s\tremaining: 7.41s\n",
      "155:\tlearn: 0.5939005\ttotal: 1.37s\tremaining: 7.39s\n",
      "156:\tlearn: 0.5934438\ttotal: 1.38s\tremaining: 7.39s\n",
      "157:\tlearn: 0.5928440\ttotal: 1.38s\tremaining: 7.38s\n",
      "158:\tlearn: 0.5922437\ttotal: 1.39s\tremaining: 7.37s\n",
      "159:\tlearn: 0.5917135\ttotal: 1.4s\tremaining: 7.36s\n",
      "160:\tlearn: 0.5907923\ttotal: 1.41s\tremaining: 7.35s\n",
      "161:\tlearn: 0.5903415\ttotal: 1.42s\tremaining: 7.34s\n",
      "162:\tlearn: 0.5898096\ttotal: 1.43s\tremaining: 7.33s\n",
      "163:\tlearn: 0.5890702\ttotal: 1.44s\tremaining: 7.32s\n",
      "164:\tlearn: 0.5885515\ttotal: 1.45s\tremaining: 7.31s\n",
      "165:\tlearn: 0.5877121\ttotal: 1.46s\tremaining: 7.31s\n",
      "166:\tlearn: 0.5871020\ttotal: 1.46s\tremaining: 7.3s\n",
      "167:\tlearn: 0.5866454\ttotal: 1.47s\tremaining: 7.29s\n",
      "168:\tlearn: 0.5861333\ttotal: 1.48s\tremaining: 7.28s\n",
      "169:\tlearn: 0.5857222\ttotal: 1.49s\tremaining: 7.27s\n",
      "170:\tlearn: 0.5853347\ttotal: 1.5s\tremaining: 7.26s\n",
      "171:\tlearn: 0.5847817\ttotal: 1.5s\tremaining: 7.25s\n",
      "172:\tlearn: 0.5843168\ttotal: 1.51s\tremaining: 7.24s\n",
      "173:\tlearn: 0.5835845\ttotal: 1.52s\tremaining: 7.23s\n",
      "174:\tlearn: 0.5832367\ttotal: 1.53s\tremaining: 7.22s\n",
      "175:\tlearn: 0.5823850\ttotal: 1.54s\tremaining: 7.22s\n",
      "176:\tlearn: 0.5821130\ttotal: 1.55s\tremaining: 7.21s\n",
      "177:\tlearn: 0.5817370\ttotal: 1.56s\tremaining: 7.2s\n",
      "178:\tlearn: 0.5814259\ttotal: 1.57s\tremaining: 7.19s\n",
      "179:\tlearn: 0.5808496\ttotal: 1.58s\tremaining: 7.18s\n",
      "180:\tlearn: 0.5804364\ttotal: 1.58s\tremaining: 7.17s\n",
      "181:\tlearn: 0.5800477\ttotal: 1.59s\tremaining: 7.16s\n",
      "182:\tlearn: 0.5796848\ttotal: 1.6s\tremaining: 7.15s\n",
      "183:\tlearn: 0.5790766\ttotal: 1.61s\tremaining: 7.14s\n",
      "184:\tlearn: 0.5785451\ttotal: 1.62s\tremaining: 7.13s\n",
      "185:\tlearn: 0.5780725\ttotal: 1.63s\tremaining: 7.13s\n",
      "186:\tlearn: 0.5775556\ttotal: 1.64s\tremaining: 7.12s\n",
      "187:\tlearn: 0.5768172\ttotal: 1.65s\tremaining: 7.12s\n",
      "188:\tlearn: 0.5761046\ttotal: 1.66s\tremaining: 7.1s\n",
      "189:\tlearn: 0.5753780\ttotal: 1.66s\tremaining: 7.09s\n",
      "190:\tlearn: 0.5746050\ttotal: 1.67s\tremaining: 7.08s\n",
      "191:\tlearn: 0.5739432\ttotal: 1.68s\tremaining: 7.07s\n",
      "192:\tlearn: 0.5735248\ttotal: 1.69s\tremaining: 7.06s\n",
      "193:\tlearn: 0.5731483\ttotal: 1.7s\tremaining: 7.05s\n",
      "194:\tlearn: 0.5727145\ttotal: 1.71s\tremaining: 7.04s\n",
      "195:\tlearn: 0.5719588\ttotal: 1.71s\tremaining: 7.03s\n",
      "196:\tlearn: 0.5712274\ttotal: 1.72s\tremaining: 7.02s\n",
      "197:\tlearn: 0.5707657\ttotal: 1.73s\tremaining: 7.01s\n",
      "198:\tlearn: 0.5703632\ttotal: 1.74s\tremaining: 7s\n",
      "199:\tlearn: 0.5697636\ttotal: 1.75s\tremaining: 6.99s\n",
      "200:\tlearn: 0.5693193\ttotal: 1.75s\tremaining: 6.98s\n",
      "201:\tlearn: 0.5687233\ttotal: 1.76s\tremaining: 6.96s\n",
      "202:\tlearn: 0.5682154\ttotal: 1.77s\tremaining: 6.96s\n",
      "203:\tlearn: 0.5675529\ttotal: 1.78s\tremaining: 6.95s\n",
      "204:\tlearn: 0.5671049\ttotal: 1.79s\tremaining: 6.94s\n",
      "205:\tlearn: 0.5668401\ttotal: 1.8s\tremaining: 6.94s\n",
      "206:\tlearn: 0.5666166\ttotal: 1.81s\tremaining: 6.93s\n",
      "207:\tlearn: 0.5661475\ttotal: 1.82s\tremaining: 6.95s\n",
      "208:\tlearn: 0.5657056\ttotal: 1.83s\tremaining: 6.94s\n",
      "209:\tlearn: 0.5653996\ttotal: 1.84s\tremaining: 6.92s\n",
      "210:\tlearn: 0.5646796\ttotal: 1.85s\tremaining: 6.92s\n",
      "211:\tlearn: 0.5640467\ttotal: 1.86s\tremaining: 6.91s\n",
      "212:\tlearn: 0.5635406\ttotal: 1.87s\tremaining: 6.9s\n",
      "213:\tlearn: 0.5629671\ttotal: 1.88s\tremaining: 6.89s\n",
      "214:\tlearn: 0.5623657\ttotal: 1.89s\tremaining: 6.88s\n",
      "215:\tlearn: 0.5618957\ttotal: 1.9s\tremaining: 6.88s\n",
      "216:\tlearn: 0.5613789\ttotal: 1.9s\tremaining: 6.87s\n",
      "217:\tlearn: 0.5609922\ttotal: 1.91s\tremaining: 6.86s\n",
      "218:\tlearn: 0.5605058\ttotal: 1.92s\tremaining: 6.85s\n",
      "219:\tlearn: 0.5599289\ttotal: 1.93s\tremaining: 6.84s\n",
      "220:\tlearn: 0.5595404\ttotal: 1.94s\tremaining: 6.83s\n",
      "221:\tlearn: 0.5592352\ttotal: 1.95s\tremaining: 6.82s\n",
      "222:\tlearn: 0.5586382\ttotal: 1.95s\tremaining: 6.81s\n",
      "223:\tlearn: 0.5579963\ttotal: 1.96s\tremaining: 6.8s\n",
      "224:\tlearn: 0.5577475\ttotal: 1.97s\tremaining: 6.79s\n",
      "225:\tlearn: 0.5571904\ttotal: 1.98s\tremaining: 6.78s\n",
      "226:\tlearn: 0.5569376\ttotal: 1.99s\tremaining: 6.77s\n",
      "227:\tlearn: 0.5560814\ttotal: 2s\tremaining: 6.76s\n",
      "228:\tlearn: 0.5555911\ttotal: 2.01s\tremaining: 6.76s\n",
      "229:\tlearn: 0.5551619\ttotal: 2.02s\tremaining: 6.75s\n",
      "230:\tlearn: 0.5548345\ttotal: 2.02s\tremaining: 6.74s\n",
      "231:\tlearn: 0.5542426\ttotal: 2.03s\tremaining: 6.73s\n",
      "232:\tlearn: 0.5537152\ttotal: 2.04s\tremaining: 6.73s\n",
      "233:\tlearn: 0.5531270\ttotal: 2.05s\tremaining: 6.72s\n",
      "234:\tlearn: 0.5528672\ttotal: 2.06s\tremaining: 6.71s\n",
      "235:\tlearn: 0.5522745\ttotal: 2.07s\tremaining: 6.71s\n",
      "236:\tlearn: 0.5517008\ttotal: 2.08s\tremaining: 6.7s\n",
      "237:\tlearn: 0.5512276\ttotal: 2.09s\tremaining: 6.69s\n",
      "238:\tlearn: 0.5505845\ttotal: 2.1s\tremaining: 6.68s\n",
      "239:\tlearn: 0.5501429\ttotal: 2.1s\tremaining: 6.67s\n",
      "240:\tlearn: 0.5496385\ttotal: 2.12s\tremaining: 6.67s\n",
      "241:\tlearn: 0.5490619\ttotal: 2.13s\tremaining: 6.68s\n",
      "242:\tlearn: 0.5484909\ttotal: 2.14s\tremaining: 6.68s\n",
      "243:\tlearn: 0.5481135\ttotal: 2.15s\tremaining: 6.67s\n",
      "244:\tlearn: 0.5479231\ttotal: 2.16s\tremaining: 6.66s\n",
      "245:\tlearn: 0.5474519\ttotal: 2.17s\tremaining: 6.65s\n",
      "246:\tlearn: 0.5470999\ttotal: 2.18s\tremaining: 6.64s\n",
      "247:\tlearn: 0.5465696\ttotal: 2.19s\tremaining: 6.63s\n",
      "248:\tlearn: 0.5462431\ttotal: 2.2s\tremaining: 6.62s\n",
      "249:\tlearn: 0.5458658\ttotal: 2.21s\tremaining: 6.62s\n",
      "250:\tlearn: 0.5455644\ttotal: 2.21s\tremaining: 6.61s\n",
      "251:\tlearn: 0.5448787\ttotal: 2.22s\tremaining: 6.6s\n",
      "252:\tlearn: 0.5443300\ttotal: 2.23s\tremaining: 6.59s\n",
      "253:\tlearn: 0.5439479\ttotal: 2.24s\tremaining: 6.58s\n",
      "254:\tlearn: 0.5434118\ttotal: 2.25s\tremaining: 6.57s\n",
      "255:\tlearn: 0.5430861\ttotal: 2.26s\tremaining: 6.56s\n",
      "256:\tlearn: 0.5423511\ttotal: 2.27s\tremaining: 6.55s\n",
      "257:\tlearn: 0.5418704\ttotal: 2.27s\tremaining: 6.54s\n",
      "258:\tlearn: 0.5414353\ttotal: 2.28s\tremaining: 6.54s\n",
      "259:\tlearn: 0.5407534\ttotal: 2.29s\tremaining: 6.53s\n",
      "260:\tlearn: 0.5403989\ttotal: 2.3s\tremaining: 6.51s\n",
      "261:\tlearn: 0.5398274\ttotal: 2.31s\tremaining: 6.5s\n",
      "262:\tlearn: 0.5393785\ttotal: 2.32s\tremaining: 6.49s\n",
      "263:\tlearn: 0.5388723\ttotal: 2.33s\tremaining: 6.48s\n",
      "264:\tlearn: 0.5384003\ttotal: 2.33s\tremaining: 6.48s\n",
      "265:\tlearn: 0.5379538\ttotal: 2.34s\tremaining: 6.47s\n",
      "266:\tlearn: 0.5374998\ttotal: 2.35s\tremaining: 6.46s\n",
      "267:\tlearn: 0.5370528\ttotal: 2.36s\tremaining: 6.45s\n",
      "268:\tlearn: 0.5365909\ttotal: 2.37s\tremaining: 6.44s\n",
      "269:\tlearn: 0.5361218\ttotal: 2.38s\tremaining: 6.43s\n",
      "270:\tlearn: 0.5356893\ttotal: 2.39s\tremaining: 6.42s\n",
      "271:\tlearn: 0.5352634\ttotal: 2.4s\tremaining: 6.41s\n",
      "272:\tlearn: 0.5347949\ttotal: 2.4s\tremaining: 6.4s\n",
      "273:\tlearn: 0.5343618\ttotal: 2.41s\tremaining: 6.39s\n",
      "274:\tlearn: 0.5337455\ttotal: 2.42s\tremaining: 6.39s\n",
      "275:\tlearn: 0.5331508\ttotal: 2.43s\tremaining: 6.38s\n",
      "276:\tlearn: 0.5328151\ttotal: 2.44s\tremaining: 6.37s\n",
      "277:\tlearn: 0.5321355\ttotal: 2.45s\tremaining: 6.36s\n",
      "278:\tlearn: 0.5317937\ttotal: 2.46s\tremaining: 6.35s\n",
      "279:\tlearn: 0.5314329\ttotal: 2.46s\tremaining: 6.34s\n",
      "280:\tlearn: 0.5309414\ttotal: 2.47s\tremaining: 6.33s\n",
      "281:\tlearn: 0.5305833\ttotal: 2.48s\tremaining: 6.32s\n",
      "282:\tlearn: 0.5301437\ttotal: 2.49s\tremaining: 6.31s\n",
      "283:\tlearn: 0.5297534\ttotal: 2.5s\tremaining: 6.3s\n",
      "284:\tlearn: 0.5292878\ttotal: 2.51s\tremaining: 6.29s\n",
      "285:\tlearn: 0.5287667\ttotal: 2.52s\tremaining: 6.29s\n",
      "286:\tlearn: 0.5282937\ttotal: 2.53s\tremaining: 6.28s\n",
      "287:\tlearn: 0.5280164\ttotal: 2.54s\tremaining: 6.27s\n",
      "288:\tlearn: 0.5273955\ttotal: 2.54s\tremaining: 6.26s\n",
      "289:\tlearn: 0.5266664\ttotal: 2.55s\tremaining: 6.25s\n",
      "290:\tlearn: 0.5263468\ttotal: 2.56s\tremaining: 6.24s\n",
      "291:\tlearn: 0.5257953\ttotal: 2.57s\tremaining: 6.23s\n",
      "292:\tlearn: 0.5253785\ttotal: 2.58s\tremaining: 6.22s\n",
      "293:\tlearn: 0.5250715\ttotal: 2.59s\tremaining: 6.21s\n",
      "294:\tlearn: 0.5245723\ttotal: 2.6s\tremaining: 6.2s\n",
      "295:\tlearn: 0.5240022\ttotal: 2.6s\tremaining: 6.2s\n",
      "296:\tlearn: 0.5236567\ttotal: 2.61s\tremaining: 6.19s\n",
      "297:\tlearn: 0.5232238\ttotal: 2.62s\tremaining: 6.18s\n",
      "298:\tlearn: 0.5227378\ttotal: 2.63s\tremaining: 6.17s\n",
      "299:\tlearn: 0.5223697\ttotal: 2.64s\tremaining: 6.16s\n",
      "300:\tlearn: 0.5218242\ttotal: 2.65s\tremaining: 6.15s\n",
      "301:\tlearn: 0.5212636\ttotal: 2.66s\tremaining: 6.14s\n",
      "302:\tlearn: 0.5209701\ttotal: 2.67s\tremaining: 6.13s\n",
      "303:\tlearn: 0.5204586\ttotal: 2.67s\tremaining: 6.13s\n",
      "304:\tlearn: 0.5200819\ttotal: 2.68s\tremaining: 6.12s\n",
      "305:\tlearn: 0.5195041\ttotal: 2.69s\tremaining: 6.11s\n",
      "306:\tlearn: 0.5192113\ttotal: 2.7s\tremaining: 6.1s\n",
      "307:\tlearn: 0.5186387\ttotal: 2.71s\tremaining: 6.09s\n",
      "308:\tlearn: 0.5182322\ttotal: 2.72s\tremaining: 6.08s\n",
      "309:\tlearn: 0.5178795\ttotal: 2.73s\tremaining: 6.07s\n",
      "310:\tlearn: 0.5174322\ttotal: 2.74s\tremaining: 6.06s\n",
      "311:\tlearn: 0.5168348\ttotal: 2.75s\tremaining: 6.05s\n",
      "312:\tlearn: 0.5162198\ttotal: 2.75s\tremaining: 6.04s\n",
      "313:\tlearn: 0.5156654\ttotal: 2.76s\tremaining: 6.03s\n",
      "314:\tlearn: 0.5151251\ttotal: 2.77s\tremaining: 6.02s\n",
      "315:\tlearn: 0.5148734\ttotal: 2.78s\tremaining: 6.01s\n",
      "316:\tlearn: 0.5144946\ttotal: 2.79s\tremaining: 6s\n",
      "317:\tlearn: 0.5142341\ttotal: 2.79s\tremaining: 6s\n",
      "318:\tlearn: 0.5138458\ttotal: 2.8s\tremaining: 5.99s\n",
      "319:\tlearn: 0.5131565\ttotal: 2.81s\tremaining: 5.98s\n",
      "320:\tlearn: 0.5126118\ttotal: 2.82s\tremaining: 5.97s\n",
      "321:\tlearn: 0.5121243\ttotal: 2.83s\tremaining: 5.96s\n",
      "322:\tlearn: 0.5116527\ttotal: 2.84s\tremaining: 5.95s\n",
      "323:\tlearn: 0.5112970\ttotal: 2.85s\tremaining: 5.94s\n",
      "324:\tlearn: 0.5110551\ttotal: 2.86s\tremaining: 5.94s\n",
      "325:\tlearn: 0.5105975\ttotal: 2.87s\tremaining: 5.93s\n",
      "326:\tlearn: 0.5102338\ttotal: 2.88s\tremaining: 5.92s\n",
      "327:\tlearn: 0.5097785\ttotal: 2.88s\tremaining: 5.91s\n",
      "328:\tlearn: 0.5093055\ttotal: 2.89s\tremaining: 5.9s\n",
      "329:\tlearn: 0.5089668\ttotal: 2.9s\tremaining: 5.9s\n",
      "330:\tlearn: 0.5085604\ttotal: 2.91s\tremaining: 5.89s\n",
      "331:\tlearn: 0.5080657\ttotal: 2.92s\tremaining: 5.88s\n",
      "332:\tlearn: 0.5075887\ttotal: 2.93s\tremaining: 5.87s\n",
      "333:\tlearn: 0.5068841\ttotal: 2.94s\tremaining: 5.86s\n",
      "334:\tlearn: 0.5065621\ttotal: 2.95s\tremaining: 5.85s\n",
      "335:\tlearn: 0.5060859\ttotal: 2.96s\tremaining: 5.84s\n",
      "336:\tlearn: 0.5055146\ttotal: 2.97s\tremaining: 5.83s\n",
      "337:\tlearn: 0.5050680\ttotal: 2.97s\tremaining: 5.83s\n",
      "338:\tlearn: 0.5046096\ttotal: 2.98s\tremaining: 5.82s\n",
      "339:\tlearn: 0.5040071\ttotal: 2.99s\tremaining: 5.81s\n",
      "340:\tlearn: 0.5035925\ttotal: 3s\tremaining: 5.8s\n",
      "341:\tlearn: 0.5033005\ttotal: 3.01s\tremaining: 5.79s\n",
      "342:\tlearn: 0.5030328\ttotal: 3.02s\tremaining: 5.78s\n",
      "343:\tlearn: 0.5026156\ttotal: 3.02s\tremaining: 5.77s\n",
      "344:\tlearn: 0.5023401\ttotal: 3.03s\tremaining: 5.76s\n",
      "345:\tlearn: 0.5020115\ttotal: 3.04s\tremaining: 5.75s\n",
      "346:\tlearn: 0.5017667\ttotal: 3.05s\tremaining: 5.75s\n",
      "347:\tlearn: 0.5014600\ttotal: 3.06s\tremaining: 5.74s\n",
      "348:\tlearn: 0.5009579\ttotal: 3.07s\tremaining: 5.72s\n",
      "349:\tlearn: 0.5005835\ttotal: 3.08s\tremaining: 5.72s\n",
      "350:\tlearn: 0.5000508\ttotal: 3.09s\tremaining: 5.71s\n",
      "351:\tlearn: 0.4996215\ttotal: 3.1s\tremaining: 5.7s\n",
      "352:\tlearn: 0.4994113\ttotal: 3.1s\tremaining: 5.69s\n",
      "353:\tlearn: 0.4990351\ttotal: 3.11s\tremaining: 5.68s\n",
      "354:\tlearn: 0.4987573\ttotal: 3.12s\tremaining: 5.67s\n",
      "355:\tlearn: 0.4984584\ttotal: 3.13s\tremaining: 5.66s\n",
      "356:\tlearn: 0.4980170\ttotal: 3.14s\tremaining: 5.66s\n",
      "357:\tlearn: 0.4974618\ttotal: 3.15s\tremaining: 5.65s\n",
      "358:\tlearn: 0.4970210\ttotal: 3.16s\tremaining: 5.65s\n",
      "359:\tlearn: 0.4966218\ttotal: 3.17s\tremaining: 5.64s\n",
      "360:\tlearn: 0.4961268\ttotal: 3.18s\tremaining: 5.63s\n",
      "361:\tlearn: 0.4958247\ttotal: 3.19s\tremaining: 5.62s\n",
      "362:\tlearn: 0.4954535\ttotal: 3.2s\tremaining: 5.61s\n",
      "363:\tlearn: 0.4950086\ttotal: 3.21s\tremaining: 5.6s\n",
      "364:\tlearn: 0.4944461\ttotal: 3.21s\tremaining: 5.59s\n",
      "365:\tlearn: 0.4940352\ttotal: 3.22s\tremaining: 5.58s\n",
      "366:\tlearn: 0.4936475\ttotal: 3.23s\tremaining: 5.57s\n",
      "367:\tlearn: 0.4931940\ttotal: 3.24s\tremaining: 5.56s\n",
      "368:\tlearn: 0.4926877\ttotal: 3.25s\tremaining: 5.55s\n",
      "369:\tlearn: 0.4921738\ttotal: 3.26s\tremaining: 5.55s\n",
      "370:\tlearn: 0.4915678\ttotal: 3.27s\tremaining: 5.54s\n",
      "371:\tlearn: 0.4911614\ttotal: 3.28s\tremaining: 5.53s\n",
      "372:\tlearn: 0.4906010\ttotal: 3.29s\tremaining: 5.53s\n",
      "373:\tlearn: 0.4902098\ttotal: 3.29s\tremaining: 5.51s\n",
      "374:\tlearn: 0.4898536\ttotal: 3.3s\tremaining: 5.51s\n",
      "375:\tlearn: 0.4894923\ttotal: 3.31s\tremaining: 5.5s\n",
      "376:\tlearn: 0.4891032\ttotal: 3.32s\tremaining: 5.49s\n",
      "377:\tlearn: 0.4888563\ttotal: 3.33s\tremaining: 5.48s\n",
      "378:\tlearn: 0.4884261\ttotal: 3.34s\tremaining: 5.47s\n",
      "379:\tlearn: 0.4880373\ttotal: 3.35s\tremaining: 5.46s\n",
      "380:\tlearn: 0.4875028\ttotal: 3.36s\tremaining: 5.46s\n",
      "381:\tlearn: 0.4869557\ttotal: 3.37s\tremaining: 5.45s\n",
      "382:\tlearn: 0.4864950\ttotal: 3.38s\tremaining: 5.44s\n",
      "383:\tlearn: 0.4860471\ttotal: 3.38s\tremaining: 5.43s\n",
      "384:\tlearn: 0.4853762\ttotal: 3.39s\tremaining: 5.42s\n",
      "385:\tlearn: 0.4850994\ttotal: 3.4s\tremaining: 5.41s\n",
      "386:\tlearn: 0.4845795\ttotal: 3.41s\tremaining: 5.4s\n",
      "387:\tlearn: 0.4840960\ttotal: 3.42s\tremaining: 5.39s\n",
      "388:\tlearn: 0.4838046\ttotal: 3.43s\tremaining: 5.38s\n",
      "389:\tlearn: 0.4835353\ttotal: 3.44s\tremaining: 5.37s\n",
      "390:\tlearn: 0.4832574\ttotal: 3.44s\tremaining: 5.36s\n",
      "391:\tlearn: 0.4830179\ttotal: 3.45s\tremaining: 5.36s\n",
      "392:\tlearn: 0.4827817\ttotal: 3.46s\tremaining: 5.34s\n",
      "393:\tlearn: 0.4822024\ttotal: 3.47s\tremaining: 5.34s\n",
      "394:\tlearn: 0.4817233\ttotal: 3.48s\tremaining: 5.33s\n",
      "395:\tlearn: 0.4814732\ttotal: 3.49s\tremaining: 5.32s\n",
      "396:\tlearn: 0.4811067\ttotal: 3.49s\tremaining: 5.31s\n",
      "397:\tlearn: 0.4807004\ttotal: 3.5s\tremaining: 5.3s\n",
      "398:\tlearn: 0.4804414\ttotal: 3.51s\tremaining: 5.29s\n",
      "399:\tlearn: 0.4799170\ttotal: 3.52s\tremaining: 5.28s\n",
      "400:\tlearn: 0.4796601\ttotal: 3.53s\tremaining: 5.27s\n",
      "401:\tlearn: 0.4791803\ttotal: 3.54s\tremaining: 5.26s\n",
      "402:\tlearn: 0.4786068\ttotal: 3.54s\tremaining: 5.25s\n",
      "403:\tlearn: 0.4780319\ttotal: 3.55s\tremaining: 5.24s\n",
      "404:\tlearn: 0.4776368\ttotal: 3.56s\tremaining: 5.23s\n",
      "405:\tlearn: 0.4771798\ttotal: 3.57s\tremaining: 5.22s\n",
      "406:\tlearn: 0.4766948\ttotal: 3.58s\tremaining: 5.21s\n",
      "407:\tlearn: 0.4761817\ttotal: 3.59s\tremaining: 5.2s\n",
      "408:\tlearn: 0.4758703\ttotal: 3.6s\tremaining: 5.2s\n",
      "409:\tlearn: 0.4754287\ttotal: 3.61s\tremaining: 5.19s\n",
      "410:\tlearn: 0.4751540\ttotal: 3.62s\tremaining: 5.18s\n",
      "411:\tlearn: 0.4748877\ttotal: 3.62s\tremaining: 5.17s\n",
      "412:\tlearn: 0.4745682\ttotal: 3.63s\tremaining: 5.16s\n",
      "413:\tlearn: 0.4741917\ttotal: 3.64s\tremaining: 5.16s\n",
      "414:\tlearn: 0.4738318\ttotal: 3.65s\tremaining: 5.15s\n",
      "415:\tlearn: 0.4735367\ttotal: 3.66s\tremaining: 5.14s\n",
      "416:\tlearn: 0.4731703\ttotal: 3.67s\tremaining: 5.13s\n",
      "417:\tlearn: 0.4728235\ttotal: 3.68s\tremaining: 5.12s\n",
      "418:\tlearn: 0.4724031\ttotal: 3.68s\tremaining: 5.11s\n",
      "419:\tlearn: 0.4721033\ttotal: 3.69s\tremaining: 5.1s\n",
      "420:\tlearn: 0.4718224\ttotal: 3.7s\tremaining: 5.09s\n",
      "421:\tlearn: 0.4715588\ttotal: 3.71s\tremaining: 5.08s\n",
      "422:\tlearn: 0.4713359\ttotal: 3.72s\tremaining: 5.07s\n",
      "423:\tlearn: 0.4709125\ttotal: 3.73s\tremaining: 5.06s\n",
      "424:\tlearn: 0.4706223\ttotal: 3.74s\tremaining: 5.05s\n",
      "425:\tlearn: 0.4701597\ttotal: 3.75s\tremaining: 5.05s\n",
      "426:\tlearn: 0.4697777\ttotal: 3.76s\tremaining: 5.04s\n",
      "427:\tlearn: 0.4694083\ttotal: 3.76s\tremaining: 5.03s\n",
      "428:\tlearn: 0.4690635\ttotal: 3.77s\tremaining: 5.02s\n",
      "429:\tlearn: 0.4685074\ttotal: 3.78s\tremaining: 5.01s\n",
      "430:\tlearn: 0.4680939\ttotal: 3.79s\tremaining: 5s\n",
      "431:\tlearn: 0.4678116\ttotal: 3.8s\tremaining: 4.99s\n",
      "432:\tlearn: 0.4673685\ttotal: 3.81s\tremaining: 4.99s\n",
      "433:\tlearn: 0.4670316\ttotal: 3.82s\tremaining: 4.98s\n",
      "434:\tlearn: 0.4667613\ttotal: 3.82s\tremaining: 4.97s\n",
      "435:\tlearn: 0.4664832\ttotal: 3.83s\tremaining: 4.96s\n",
      "436:\tlearn: 0.4658345\ttotal: 3.84s\tremaining: 4.95s\n",
      "437:\tlearn: 0.4654014\ttotal: 3.85s\tremaining: 4.94s\n",
      "438:\tlearn: 0.4649503\ttotal: 3.86s\tremaining: 4.93s\n",
      "439:\tlearn: 0.4644910\ttotal: 3.87s\tremaining: 4.92s\n",
      "440:\tlearn: 0.4640875\ttotal: 3.88s\tremaining: 4.92s\n",
      "441:\tlearn: 0.4638189\ttotal: 3.89s\tremaining: 4.91s\n",
      "442:\tlearn: 0.4634406\ttotal: 3.9s\tremaining: 4.9s\n",
      "443:\tlearn: 0.4630465\ttotal: 3.9s\tremaining: 4.89s\n",
      "444:\tlearn: 0.4627142\ttotal: 3.91s\tremaining: 4.88s\n",
      "445:\tlearn: 0.4620955\ttotal: 3.92s\tremaining: 4.87s\n",
      "446:\tlearn: 0.4616154\ttotal: 3.93s\tremaining: 4.86s\n",
      "447:\tlearn: 0.4611768\ttotal: 3.94s\tremaining: 4.86s\n",
      "448:\tlearn: 0.4608576\ttotal: 3.95s\tremaining: 4.85s\n",
      "449:\tlearn: 0.4605607\ttotal: 3.96s\tremaining: 4.84s\n",
      "450:\tlearn: 0.4603372\ttotal: 3.97s\tremaining: 4.83s\n",
      "451:\tlearn: 0.4601336\ttotal: 3.98s\tremaining: 4.82s\n",
      "452:\tlearn: 0.4597661\ttotal: 3.99s\tremaining: 4.81s\n",
      "453:\tlearn: 0.4593707\ttotal: 3.99s\tremaining: 4.8s\n",
      "454:\tlearn: 0.4590130\ttotal: 4s\tremaining: 4.79s\n",
      "455:\tlearn: 0.4586577\ttotal: 4.01s\tremaining: 4.79s\n",
      "456:\tlearn: 0.4582929\ttotal: 4.02s\tremaining: 4.78s\n",
      "457:\tlearn: 0.4578565\ttotal: 4.03s\tremaining: 4.77s\n",
      "458:\tlearn: 0.4576681\ttotal: 4.04s\tremaining: 4.76s\n",
      "459:\tlearn: 0.4573493\ttotal: 4.04s\tremaining: 4.75s\n",
      "460:\tlearn: 0.4568669\ttotal: 4.05s\tremaining: 4.74s\n",
      "461:\tlearn: 0.4566902\ttotal: 4.06s\tremaining: 4.73s\n",
      "462:\tlearn: 0.4562440\ttotal: 4.07s\tremaining: 4.72s\n",
      "463:\tlearn: 0.4557520\ttotal: 4.08s\tremaining: 4.71s\n",
      "464:\tlearn: 0.4550665\ttotal: 4.09s\tremaining: 4.7s\n",
      "465:\tlearn: 0.4548208\ttotal: 4.1s\tremaining: 4.69s\n",
      "466:\tlearn: 0.4544095\ttotal: 4.11s\tremaining: 4.69s\n",
      "467:\tlearn: 0.4541185\ttotal: 4.12s\tremaining: 4.68s\n",
      "468:\tlearn: 0.4536111\ttotal: 4.12s\tremaining: 4.67s\n",
      "469:\tlearn: 0.4533962\ttotal: 4.13s\tremaining: 4.66s\n",
      "470:\tlearn: 0.4529988\ttotal: 4.14s\tremaining: 4.65s\n",
      "471:\tlearn: 0.4526760\ttotal: 4.15s\tremaining: 4.64s\n",
      "472:\tlearn: 0.4521725\ttotal: 4.16s\tremaining: 4.63s\n",
      "473:\tlearn: 0.4519364\ttotal: 4.17s\tremaining: 4.62s\n",
      "474:\tlearn: 0.4517709\ttotal: 4.18s\tremaining: 4.62s\n",
      "475:\tlearn: 0.4515187\ttotal: 4.18s\tremaining: 4.61s\n",
      "476:\tlearn: 0.4510478\ttotal: 4.19s\tremaining: 4.6s\n",
      "477:\tlearn: 0.4506789\ttotal: 4.2s\tremaining: 4.59s\n",
      "478:\tlearn: 0.4502717\ttotal: 4.21s\tremaining: 4.58s\n",
      "479:\tlearn: 0.4498517\ttotal: 4.24s\tremaining: 4.59s\n",
      "480:\tlearn: 0.4493924\ttotal: 4.25s\tremaining: 4.58s\n",
      "481:\tlearn: 0.4490777\ttotal: 4.26s\tremaining: 4.58s\n",
      "482:\tlearn: 0.4486605\ttotal: 4.27s\tremaining: 4.57s\n",
      "483:\tlearn: 0.4481701\ttotal: 4.27s\tremaining: 4.56s\n",
      "484:\tlearn: 0.4478547\ttotal: 4.28s\tremaining: 4.55s\n",
      "485:\tlearn: 0.4475248\ttotal: 4.29s\tremaining: 4.54s\n",
      "486:\tlearn: 0.4471681\ttotal: 4.3s\tremaining: 4.53s\n",
      "487:\tlearn: 0.4468929\ttotal: 4.31s\tremaining: 4.52s\n",
      "488:\tlearn: 0.4463395\ttotal: 4.32s\tremaining: 4.51s\n",
      "489:\tlearn: 0.4458432\ttotal: 4.33s\tremaining: 4.51s\n",
      "490:\tlearn: 0.4454727\ttotal: 4.34s\tremaining: 4.5s\n",
      "491:\tlearn: 0.4450999\ttotal: 4.35s\tremaining: 4.49s\n",
      "492:\tlearn: 0.4446932\ttotal: 4.36s\tremaining: 4.48s\n",
      "493:\tlearn: 0.4443305\ttotal: 4.37s\tremaining: 4.47s\n",
      "494:\tlearn: 0.4439161\ttotal: 4.37s\tremaining: 4.46s\n",
      "495:\tlearn: 0.4435980\ttotal: 4.38s\tremaining: 4.45s\n",
      "496:\tlearn: 0.4433103\ttotal: 4.39s\tremaining: 4.44s\n",
      "497:\tlearn: 0.4428793\ttotal: 4.4s\tremaining: 4.43s\n",
      "498:\tlearn: 0.4425819\ttotal: 4.41s\tremaining: 4.42s\n",
      "499:\tlearn: 0.4423158\ttotal: 4.42s\tremaining: 4.42s\n",
      "500:\tlearn: 0.4419122\ttotal: 4.42s\tremaining: 4.41s\n",
      "501:\tlearn: 0.4414304\ttotal: 4.43s\tremaining: 4.4s\n",
      "502:\tlearn: 0.4411749\ttotal: 4.44s\tremaining: 4.39s\n",
      "503:\tlearn: 0.4407684\ttotal: 4.45s\tremaining: 4.38s\n",
      "504:\tlearn: 0.4405558\ttotal: 4.46s\tremaining: 4.37s\n",
      "505:\tlearn: 0.4402882\ttotal: 4.47s\tremaining: 4.36s\n",
      "506:\tlearn: 0.4400618\ttotal: 4.48s\tremaining: 4.35s\n",
      "507:\tlearn: 0.4397275\ttotal: 4.49s\tremaining: 4.34s\n",
      "508:\tlearn: 0.4392986\ttotal: 4.5s\tremaining: 4.34s\n",
      "509:\tlearn: 0.4390279\ttotal: 4.5s\tremaining: 4.33s\n",
      "510:\tlearn: 0.4386298\ttotal: 4.51s\tremaining: 4.32s\n",
      "511:\tlearn: 0.4384203\ttotal: 4.52s\tremaining: 4.31s\n",
      "512:\tlearn: 0.4382038\ttotal: 4.53s\tremaining: 4.3s\n",
      "513:\tlearn: 0.4375178\ttotal: 4.54s\tremaining: 4.29s\n",
      "514:\tlearn: 0.4372474\ttotal: 4.55s\tremaining: 4.28s\n",
      "515:\tlearn: 0.4369820\ttotal: 4.56s\tremaining: 4.27s\n",
      "516:\tlearn: 0.4364989\ttotal: 4.57s\tremaining: 4.26s\n",
      "517:\tlearn: 0.4362429\ttotal: 4.57s\tremaining: 4.26s\n",
      "518:\tlearn: 0.4358419\ttotal: 4.58s\tremaining: 4.25s\n",
      "519:\tlearn: 0.4354359\ttotal: 4.59s\tremaining: 4.24s\n",
      "520:\tlearn: 0.4350813\ttotal: 4.6s\tremaining: 4.23s\n",
      "521:\tlearn: 0.4347349\ttotal: 4.61s\tremaining: 4.22s\n",
      "522:\tlearn: 0.4343933\ttotal: 4.62s\tremaining: 4.21s\n",
      "523:\tlearn: 0.4341973\ttotal: 4.63s\tremaining: 4.2s\n",
      "524:\tlearn: 0.4336478\ttotal: 4.63s\tremaining: 4.19s\n",
      "525:\tlearn: 0.4332033\ttotal: 4.64s\tremaining: 4.18s\n",
      "526:\tlearn: 0.4329049\ttotal: 4.65s\tremaining: 4.17s\n",
      "527:\tlearn: 0.4323385\ttotal: 4.66s\tremaining: 4.17s\n",
      "528:\tlearn: 0.4318046\ttotal: 4.67s\tremaining: 4.16s\n",
      "529:\tlearn: 0.4314881\ttotal: 4.68s\tremaining: 4.15s\n",
      "530:\tlearn: 0.4311680\ttotal: 4.68s\tremaining: 4.14s\n",
      "531:\tlearn: 0.4309707\ttotal: 4.69s\tremaining: 4.13s\n",
      "532:\tlearn: 0.4303579\ttotal: 4.7s\tremaining: 4.12s\n",
      "533:\tlearn: 0.4299247\ttotal: 4.71s\tremaining: 4.11s\n",
      "534:\tlearn: 0.4294524\ttotal: 4.72s\tremaining: 4.1s\n",
      "535:\tlearn: 0.4291297\ttotal: 4.73s\tremaining: 4.09s\n",
      "536:\tlearn: 0.4287858\ttotal: 4.74s\tremaining: 4.08s\n",
      "537:\tlearn: 0.4283433\ttotal: 4.75s\tremaining: 4.08s\n",
      "538:\tlearn: 0.4280521\ttotal: 4.75s\tremaining: 4.07s\n",
      "539:\tlearn: 0.4276807\ttotal: 4.76s\tremaining: 4.06s\n",
      "540:\tlearn: 0.4274911\ttotal: 4.77s\tremaining: 4.05s\n",
      "541:\tlearn: 0.4271919\ttotal: 4.78s\tremaining: 4.04s\n",
      "542:\tlearn: 0.4269154\ttotal: 4.79s\tremaining: 4.03s\n",
      "543:\tlearn: 0.4266368\ttotal: 4.8s\tremaining: 4.02s\n",
      "544:\tlearn: 0.4262400\ttotal: 4.81s\tremaining: 4.01s\n",
      "545:\tlearn: 0.4261009\ttotal: 4.82s\tremaining: 4s\n",
      "546:\tlearn: 0.4256437\ttotal: 4.83s\tremaining: 4s\n",
      "547:\tlearn: 0.4252111\ttotal: 4.83s\tremaining: 3.99s\n",
      "548:\tlearn: 0.4248092\ttotal: 4.84s\tremaining: 3.98s\n",
      "549:\tlearn: 0.4244404\ttotal: 4.85s\tremaining: 3.97s\n",
      "550:\tlearn: 0.4240514\ttotal: 4.86s\tremaining: 3.96s\n",
      "551:\tlearn: 0.4237073\ttotal: 4.87s\tremaining: 3.95s\n",
      "552:\tlearn: 0.4232086\ttotal: 4.88s\tremaining: 3.94s\n",
      "553:\tlearn: 0.4228203\ttotal: 4.88s\tremaining: 3.93s\n",
      "554:\tlearn: 0.4223065\ttotal: 4.89s\tremaining: 3.92s\n",
      "555:\tlearn: 0.4219572\ttotal: 4.9s\tremaining: 3.91s\n",
      "556:\tlearn: 0.4214122\ttotal: 4.91s\tremaining: 3.91s\n",
      "557:\tlearn: 0.4209931\ttotal: 4.92s\tremaining: 3.9s\n",
      "558:\tlearn: 0.4205470\ttotal: 4.93s\tremaining: 3.89s\n",
      "559:\tlearn: 0.4202410\ttotal: 4.94s\tremaining: 3.88s\n",
      "560:\tlearn: 0.4200104\ttotal: 4.95s\tremaining: 3.87s\n",
      "561:\tlearn: 0.4197517\ttotal: 4.96s\tremaining: 3.86s\n",
      "562:\tlearn: 0.4191671\ttotal: 4.97s\tremaining: 3.85s\n",
      "563:\tlearn: 0.4187993\ttotal: 4.97s\tremaining: 3.85s\n",
      "564:\tlearn: 0.4184774\ttotal: 4.98s\tremaining: 3.84s\n",
      "565:\tlearn: 0.4180669\ttotal: 4.99s\tremaining: 3.83s\n",
      "566:\tlearn: 0.4177749\ttotal: 5s\tremaining: 3.82s\n",
      "567:\tlearn: 0.4175828\ttotal: 5.01s\tremaining: 3.81s\n",
      "568:\tlearn: 0.4172133\ttotal: 5.02s\tremaining: 3.8s\n",
      "569:\tlearn: 0.4168480\ttotal: 5.03s\tremaining: 3.79s\n",
      "570:\tlearn: 0.4164734\ttotal: 5.04s\tremaining: 3.78s\n",
      "571:\tlearn: 0.4161292\ttotal: 5.04s\tremaining: 3.77s\n",
      "572:\tlearn: 0.4157885\ttotal: 5.05s\tremaining: 3.76s\n",
      "573:\tlearn: 0.4154480\ttotal: 5.06s\tremaining: 3.75s\n",
      "574:\tlearn: 0.4150660\ttotal: 5.07s\tremaining: 3.75s\n",
      "575:\tlearn: 0.4145730\ttotal: 5.08s\tremaining: 3.74s\n",
      "576:\tlearn: 0.4143587\ttotal: 5.09s\tremaining: 3.73s\n",
      "577:\tlearn: 0.4139297\ttotal: 5.09s\tremaining: 3.72s\n",
      "578:\tlearn: 0.4135850\ttotal: 5.1s\tremaining: 3.71s\n",
      "579:\tlearn: 0.4130178\ttotal: 5.11s\tremaining: 3.7s\n",
      "580:\tlearn: 0.4128818\ttotal: 5.12s\tremaining: 3.69s\n",
      "581:\tlearn: 0.4124502\ttotal: 5.13s\tremaining: 3.69s\n",
      "582:\tlearn: 0.4120960\ttotal: 5.14s\tremaining: 3.68s\n",
      "583:\tlearn: 0.4116456\ttotal: 5.15s\tremaining: 3.67s\n",
      "584:\tlearn: 0.4114050\ttotal: 5.16s\tremaining: 3.66s\n",
      "585:\tlearn: 0.4109582\ttotal: 5.17s\tremaining: 3.65s\n",
      "586:\tlearn: 0.4105243\ttotal: 5.18s\tremaining: 3.65s\n",
      "587:\tlearn: 0.4102673\ttotal: 5.19s\tremaining: 3.64s\n",
      "588:\tlearn: 0.4097292\ttotal: 5.2s\tremaining: 3.63s\n",
      "589:\tlearn: 0.4093537\ttotal: 5.21s\tremaining: 3.62s\n",
      "590:\tlearn: 0.4089480\ttotal: 5.22s\tremaining: 3.61s\n",
      "591:\tlearn: 0.4086806\ttotal: 5.23s\tremaining: 3.6s\n",
      "592:\tlearn: 0.4082513\ttotal: 5.24s\tremaining: 3.6s\n",
      "593:\tlearn: 0.4078916\ttotal: 5.25s\tremaining: 3.59s\n",
      "594:\tlearn: 0.4074253\ttotal: 5.26s\tremaining: 3.58s\n",
      "595:\tlearn: 0.4071932\ttotal: 5.27s\tremaining: 3.57s\n",
      "596:\tlearn: 0.4069551\ttotal: 5.28s\tremaining: 3.56s\n",
      "597:\tlearn: 0.4064863\ttotal: 5.29s\tremaining: 3.55s\n",
      "598:\tlearn: 0.4061989\ttotal: 5.3s\tremaining: 3.54s\n",
      "599:\tlearn: 0.4058347\ttotal: 5.3s\tremaining: 3.54s\n",
      "600:\tlearn: 0.4054725\ttotal: 5.31s\tremaining: 3.53s\n",
      "601:\tlearn: 0.4050982\ttotal: 5.32s\tremaining: 3.52s\n",
      "602:\tlearn: 0.4048621\ttotal: 5.33s\tremaining: 3.51s\n",
      "603:\tlearn: 0.4045524\ttotal: 5.34s\tremaining: 3.5s\n",
      "604:\tlearn: 0.4042851\ttotal: 5.35s\tremaining: 3.49s\n",
      "605:\tlearn: 0.4040955\ttotal: 5.36s\tremaining: 3.49s\n",
      "606:\tlearn: 0.4038524\ttotal: 5.37s\tremaining: 3.48s\n",
      "607:\tlearn: 0.4033762\ttotal: 5.38s\tremaining: 3.47s\n",
      "608:\tlearn: 0.4030632\ttotal: 5.39s\tremaining: 3.46s\n",
      "609:\tlearn: 0.4027850\ttotal: 5.4s\tremaining: 3.45s\n",
      "610:\tlearn: 0.4023364\ttotal: 5.41s\tremaining: 3.44s\n",
      "611:\tlearn: 0.4020225\ttotal: 5.42s\tremaining: 3.43s\n",
      "612:\tlearn: 0.4015462\ttotal: 5.42s\tremaining: 3.42s\n",
      "613:\tlearn: 0.4012961\ttotal: 5.43s\tremaining: 3.42s\n",
      "614:\tlearn: 0.4008637\ttotal: 5.44s\tremaining: 3.41s\n",
      "615:\tlearn: 0.4005972\ttotal: 5.45s\tremaining: 3.4s\n",
      "616:\tlearn: 0.4002835\ttotal: 5.46s\tremaining: 3.39s\n",
      "617:\tlearn: 0.3997887\ttotal: 5.47s\tremaining: 3.38s\n",
      "618:\tlearn: 0.3996360\ttotal: 5.48s\tremaining: 3.37s\n",
      "619:\tlearn: 0.3993359\ttotal: 5.49s\tremaining: 3.36s\n",
      "620:\tlearn: 0.3987860\ttotal: 5.5s\tremaining: 3.35s\n",
      "621:\tlearn: 0.3984960\ttotal: 5.51s\tremaining: 3.35s\n",
      "622:\tlearn: 0.3981577\ttotal: 5.51s\tremaining: 3.34s\n",
      "623:\tlearn: 0.3976370\ttotal: 5.53s\tremaining: 3.33s\n",
      "624:\tlearn: 0.3972631\ttotal: 5.53s\tremaining: 3.32s\n",
      "625:\tlearn: 0.3970230\ttotal: 5.54s\tremaining: 3.31s\n",
      "626:\tlearn: 0.3967142\ttotal: 5.55s\tremaining: 3.3s\n",
      "627:\tlearn: 0.3963977\ttotal: 5.56s\tremaining: 3.29s\n",
      "628:\tlearn: 0.3960305\ttotal: 5.57s\tremaining: 3.29s\n",
      "629:\tlearn: 0.3956975\ttotal: 5.58s\tremaining: 3.28s\n",
      "630:\tlearn: 0.3955033\ttotal: 5.59s\tremaining: 3.27s\n",
      "631:\tlearn: 0.3951347\ttotal: 5.6s\tremaining: 3.26s\n",
      "632:\tlearn: 0.3947940\ttotal: 5.61s\tremaining: 3.25s\n",
      "633:\tlearn: 0.3946274\ttotal: 5.62s\tremaining: 3.24s\n",
      "634:\tlearn: 0.3941788\ttotal: 5.63s\tremaining: 3.23s\n",
      "635:\tlearn: 0.3938448\ttotal: 5.63s\tremaining: 3.23s\n",
      "636:\tlearn: 0.3935019\ttotal: 5.64s\tremaining: 3.22s\n",
      "637:\tlearn: 0.3932787\ttotal: 5.65s\tremaining: 3.21s\n",
      "638:\tlearn: 0.3928901\ttotal: 5.66s\tremaining: 3.2s\n",
      "639:\tlearn: 0.3925439\ttotal: 5.67s\tremaining: 3.19s\n",
      "640:\tlearn: 0.3921279\ttotal: 5.68s\tremaining: 3.18s\n",
      "641:\tlearn: 0.3918640\ttotal: 5.69s\tremaining: 3.17s\n",
      "642:\tlearn: 0.3916392\ttotal: 5.71s\tremaining: 3.17s\n",
      "643:\tlearn: 0.3913387\ttotal: 5.72s\tremaining: 3.16s\n",
      "644:\tlearn: 0.3911010\ttotal: 5.73s\tremaining: 3.15s\n",
      "645:\tlearn: 0.3908028\ttotal: 5.74s\tremaining: 3.14s\n",
      "646:\tlearn: 0.3903750\ttotal: 5.75s\tremaining: 3.13s\n",
      "647:\tlearn: 0.3901103\ttotal: 5.75s\tremaining: 3.13s\n",
      "648:\tlearn: 0.3897317\ttotal: 5.76s\tremaining: 3.12s\n",
      "649:\tlearn: 0.3893176\ttotal: 5.77s\tremaining: 3.11s\n",
      "650:\tlearn: 0.3891821\ttotal: 5.78s\tremaining: 3.1s\n",
      "651:\tlearn: 0.3888240\ttotal: 5.79s\tremaining: 3.09s\n",
      "652:\tlearn: 0.3882289\ttotal: 5.8s\tremaining: 3.08s\n",
      "653:\tlearn: 0.3880450\ttotal: 5.81s\tremaining: 3.07s\n",
      "654:\tlearn: 0.3878129\ttotal: 5.82s\tremaining: 3.06s\n",
      "655:\tlearn: 0.3874662\ttotal: 5.83s\tremaining: 3.06s\n",
      "656:\tlearn: 0.3871267\ttotal: 5.84s\tremaining: 3.05s\n",
      "657:\tlearn: 0.3868251\ttotal: 5.84s\tremaining: 3.04s\n",
      "658:\tlearn: 0.3865194\ttotal: 5.85s\tremaining: 3.03s\n",
      "659:\tlearn: 0.3862829\ttotal: 5.86s\tremaining: 3.02s\n",
      "660:\tlearn: 0.3859415\ttotal: 5.87s\tremaining: 3.01s\n",
      "661:\tlearn: 0.3856705\ttotal: 5.88s\tremaining: 3s\n",
      "662:\tlearn: 0.3854262\ttotal: 5.89s\tremaining: 2.99s\n",
      "663:\tlearn: 0.3850536\ttotal: 5.9s\tremaining: 2.98s\n",
      "664:\tlearn: 0.3849234\ttotal: 5.91s\tremaining: 2.98s\n",
      "665:\tlearn: 0.3846457\ttotal: 5.92s\tremaining: 2.97s\n",
      "666:\tlearn: 0.3843871\ttotal: 5.93s\tremaining: 2.96s\n",
      "667:\tlearn: 0.3841637\ttotal: 5.94s\tremaining: 2.95s\n",
      "668:\tlearn: 0.3836451\ttotal: 5.95s\tremaining: 2.94s\n",
      "669:\tlearn: 0.3831530\ttotal: 5.95s\tremaining: 2.93s\n",
      "670:\tlearn: 0.3828040\ttotal: 5.96s\tremaining: 2.92s\n",
      "671:\tlearn: 0.3824233\ttotal: 5.97s\tremaining: 2.92s\n",
      "672:\tlearn: 0.3819810\ttotal: 5.98s\tremaining: 2.91s\n",
      "673:\tlearn: 0.3816610\ttotal: 5.99s\tremaining: 2.9s\n",
      "674:\tlearn: 0.3813683\ttotal: 6s\tremaining: 2.89s\n",
      "675:\tlearn: 0.3811058\ttotal: 6.01s\tremaining: 2.88s\n",
      "676:\tlearn: 0.3807941\ttotal: 6.02s\tremaining: 2.87s\n",
      "677:\tlearn: 0.3804299\ttotal: 6.03s\tremaining: 2.86s\n",
      "678:\tlearn: 0.3801862\ttotal: 6.03s\tremaining: 2.85s\n",
      "679:\tlearn: 0.3797996\ttotal: 6.04s\tremaining: 2.84s\n",
      "680:\tlearn: 0.3794280\ttotal: 6.05s\tremaining: 2.83s\n",
      "681:\tlearn: 0.3789213\ttotal: 6.06s\tremaining: 2.83s\n",
      "682:\tlearn: 0.3787139\ttotal: 6.07s\tremaining: 2.82s\n",
      "683:\tlearn: 0.3781863\ttotal: 6.08s\tremaining: 2.81s\n",
      "684:\tlearn: 0.3779245\ttotal: 6.09s\tremaining: 2.8s\n",
      "685:\tlearn: 0.3775664\ttotal: 6.1s\tremaining: 2.79s\n",
      "686:\tlearn: 0.3773187\ttotal: 6.1s\tremaining: 2.78s\n",
      "687:\tlearn: 0.3770370\ttotal: 6.11s\tremaining: 2.77s\n",
      "688:\tlearn: 0.3765411\ttotal: 6.12s\tremaining: 2.76s\n",
      "689:\tlearn: 0.3761655\ttotal: 6.13s\tremaining: 2.75s\n",
      "690:\tlearn: 0.3758781\ttotal: 6.14s\tremaining: 2.75s\n",
      "691:\tlearn: 0.3755620\ttotal: 6.15s\tremaining: 2.74s\n",
      "692:\tlearn: 0.3752998\ttotal: 6.16s\tremaining: 2.73s\n",
      "693:\tlearn: 0.3748054\ttotal: 6.17s\tremaining: 2.72s\n",
      "694:\tlearn: 0.3744074\ttotal: 6.17s\tremaining: 2.71s\n",
      "695:\tlearn: 0.3741945\ttotal: 6.18s\tremaining: 2.7s\n",
      "696:\tlearn: 0.3740033\ttotal: 6.19s\tremaining: 2.69s\n",
      "697:\tlearn: 0.3736249\ttotal: 6.2s\tremaining: 2.68s\n",
      "698:\tlearn: 0.3732968\ttotal: 6.21s\tremaining: 2.67s\n",
      "699:\tlearn: 0.3729118\ttotal: 6.22s\tremaining: 2.67s\n",
      "700:\tlearn: 0.3727162\ttotal: 6.23s\tremaining: 2.66s\n",
      "701:\tlearn: 0.3722047\ttotal: 6.24s\tremaining: 2.65s\n",
      "702:\tlearn: 0.3716869\ttotal: 6.25s\tremaining: 2.64s\n",
      "703:\tlearn: 0.3713042\ttotal: 6.25s\tremaining: 2.63s\n",
      "704:\tlearn: 0.3709613\ttotal: 6.26s\tremaining: 2.62s\n",
      "705:\tlearn: 0.3705884\ttotal: 6.27s\tremaining: 2.61s\n",
      "706:\tlearn: 0.3702269\ttotal: 6.28s\tremaining: 2.6s\n",
      "707:\tlearn: 0.3698882\ttotal: 6.29s\tremaining: 2.59s\n",
      "708:\tlearn: 0.3697236\ttotal: 6.3s\tremaining: 2.58s\n",
      "709:\tlearn: 0.3694638\ttotal: 6.31s\tremaining: 2.58s\n",
      "710:\tlearn: 0.3690489\ttotal: 6.32s\tremaining: 2.57s\n",
      "711:\tlearn: 0.3686635\ttotal: 6.33s\tremaining: 2.56s\n",
      "712:\tlearn: 0.3681295\ttotal: 6.34s\tremaining: 2.55s\n",
      "713:\tlearn: 0.3678741\ttotal: 6.35s\tremaining: 2.54s\n",
      "714:\tlearn: 0.3675909\ttotal: 6.36s\tremaining: 2.54s\n",
      "715:\tlearn: 0.3671917\ttotal: 6.37s\tremaining: 2.53s\n",
      "716:\tlearn: 0.3668145\ttotal: 6.38s\tremaining: 2.52s\n",
      "717:\tlearn: 0.3661661\ttotal: 6.39s\tremaining: 2.51s\n",
      "718:\tlearn: 0.3658829\ttotal: 6.4s\tremaining: 2.5s\n",
      "719:\tlearn: 0.3654258\ttotal: 6.41s\tremaining: 2.49s\n",
      "720:\tlearn: 0.3651203\ttotal: 6.42s\tremaining: 2.48s\n",
      "721:\tlearn: 0.3647407\ttotal: 6.42s\tremaining: 2.47s\n",
      "722:\tlearn: 0.3644855\ttotal: 6.43s\tremaining: 2.46s\n",
      "723:\tlearn: 0.3641861\ttotal: 6.45s\tremaining: 2.46s\n",
      "724:\tlearn: 0.3637481\ttotal: 6.46s\tremaining: 2.45s\n",
      "725:\tlearn: 0.3633655\ttotal: 6.46s\tremaining: 2.44s\n",
      "726:\tlearn: 0.3630826\ttotal: 6.47s\tremaining: 2.43s\n",
      "727:\tlearn: 0.3625443\ttotal: 6.48s\tremaining: 2.42s\n",
      "728:\tlearn: 0.3621388\ttotal: 6.49s\tremaining: 2.41s\n",
      "729:\tlearn: 0.3618293\ttotal: 6.5s\tremaining: 2.4s\n",
      "730:\tlearn: 0.3615169\ttotal: 6.51s\tremaining: 2.39s\n",
      "731:\tlearn: 0.3612190\ttotal: 6.52s\tremaining: 2.38s\n",
      "732:\tlearn: 0.3609105\ttotal: 6.53s\tremaining: 2.38s\n",
      "733:\tlearn: 0.3606343\ttotal: 6.53s\tremaining: 2.37s\n",
      "734:\tlearn: 0.3603217\ttotal: 6.54s\tremaining: 2.36s\n",
      "735:\tlearn: 0.3600029\ttotal: 6.55s\tremaining: 2.35s\n",
      "736:\tlearn: 0.3595718\ttotal: 6.56s\tremaining: 2.34s\n",
      "737:\tlearn: 0.3593867\ttotal: 6.57s\tremaining: 2.33s\n",
      "738:\tlearn: 0.3591250\ttotal: 6.58s\tremaining: 2.32s\n",
      "739:\tlearn: 0.3587145\ttotal: 6.59s\tremaining: 2.31s\n",
      "740:\tlearn: 0.3585324\ttotal: 6.6s\tremaining: 2.31s\n",
      "741:\tlearn: 0.3582237\ttotal: 6.61s\tremaining: 2.3s\n",
      "742:\tlearn: 0.3578626\ttotal: 6.62s\tremaining: 2.29s\n",
      "743:\tlearn: 0.3575412\ttotal: 6.63s\tremaining: 2.28s\n",
      "744:\tlearn: 0.3571883\ttotal: 6.63s\tremaining: 2.27s\n",
      "745:\tlearn: 0.3569985\ttotal: 6.64s\tremaining: 2.26s\n",
      "746:\tlearn: 0.3567258\ttotal: 6.65s\tremaining: 2.25s\n",
      "747:\tlearn: 0.3562573\ttotal: 6.67s\tremaining: 2.25s\n",
      "748:\tlearn: 0.3559146\ttotal: 6.68s\tremaining: 2.24s\n",
      "749:\tlearn: 0.3557527\ttotal: 6.69s\tremaining: 2.23s\n",
      "750:\tlearn: 0.3555777\ttotal: 6.7s\tremaining: 2.22s\n",
      "751:\tlearn: 0.3552077\ttotal: 6.71s\tremaining: 2.21s\n",
      "752:\tlearn: 0.3547034\ttotal: 6.72s\tremaining: 2.2s\n",
      "753:\tlearn: 0.3543170\ttotal: 6.73s\tremaining: 2.19s\n",
      "754:\tlearn: 0.3537820\ttotal: 6.74s\tremaining: 2.19s\n",
      "755:\tlearn: 0.3534591\ttotal: 6.75s\tremaining: 2.18s\n",
      "756:\tlearn: 0.3530728\ttotal: 6.75s\tremaining: 2.17s\n",
      "757:\tlearn: 0.3526729\ttotal: 6.76s\tremaining: 2.16s\n",
      "758:\tlearn: 0.3522265\ttotal: 6.77s\tremaining: 2.15s\n",
      "759:\tlearn: 0.3520091\ttotal: 6.78s\tremaining: 2.14s\n",
      "760:\tlearn: 0.3517423\ttotal: 6.79s\tremaining: 2.13s\n",
      "761:\tlearn: 0.3514602\ttotal: 6.8s\tremaining: 2.12s\n",
      "762:\tlearn: 0.3510552\ttotal: 6.81s\tremaining: 2.12s\n",
      "763:\tlearn: 0.3506085\ttotal: 6.82s\tremaining: 2.11s\n",
      "764:\tlearn: 0.3503782\ttotal: 6.83s\tremaining: 2.1s\n",
      "765:\tlearn: 0.3499538\ttotal: 6.84s\tremaining: 2.09s\n",
      "766:\tlearn: 0.3494342\ttotal: 6.85s\tremaining: 2.08s\n",
      "767:\tlearn: 0.3491967\ttotal: 6.86s\tremaining: 2.07s\n",
      "768:\tlearn: 0.3488424\ttotal: 6.87s\tremaining: 2.06s\n",
      "769:\tlearn: 0.3485737\ttotal: 6.87s\tremaining: 2.05s\n",
      "770:\tlearn: 0.3482814\ttotal: 6.88s\tremaining: 2.04s\n",
      "771:\tlearn: 0.3480385\ttotal: 6.89s\tremaining: 2.04s\n",
      "772:\tlearn: 0.3477223\ttotal: 6.9s\tremaining: 2.03s\n",
      "773:\tlearn: 0.3474880\ttotal: 6.91s\tremaining: 2.02s\n",
      "774:\tlearn: 0.3472167\ttotal: 6.92s\tremaining: 2.01s\n",
      "775:\tlearn: 0.3468469\ttotal: 6.93s\tremaining: 2s\n",
      "776:\tlearn: 0.3464900\ttotal: 6.94s\tremaining: 1.99s\n",
      "777:\tlearn: 0.3461806\ttotal: 6.95s\tremaining: 1.98s\n",
      "778:\tlearn: 0.3458235\ttotal: 6.96s\tremaining: 1.97s\n",
      "779:\tlearn: 0.3455730\ttotal: 6.96s\tremaining: 1.96s\n",
      "780:\tlearn: 0.3453453\ttotal: 6.97s\tremaining: 1.96s\n",
      "781:\tlearn: 0.3450081\ttotal: 6.98s\tremaining: 1.95s\n",
      "782:\tlearn: 0.3447150\ttotal: 6.99s\tremaining: 1.94s\n",
      "783:\tlearn: 0.3442257\ttotal: 7s\tremaining: 1.93s\n",
      "784:\tlearn: 0.3438724\ttotal: 7.01s\tremaining: 1.92s\n",
      "785:\tlearn: 0.3435626\ttotal: 7.02s\tremaining: 1.91s\n",
      "786:\tlearn: 0.3432346\ttotal: 7.03s\tremaining: 1.9s\n",
      "787:\tlearn: 0.3428723\ttotal: 7.04s\tremaining: 1.89s\n",
      "788:\tlearn: 0.3425367\ttotal: 7.04s\tremaining: 1.88s\n",
      "789:\tlearn: 0.3421132\ttotal: 7.05s\tremaining: 1.88s\n",
      "790:\tlearn: 0.3418957\ttotal: 7.06s\tremaining: 1.87s\n",
      "791:\tlearn: 0.3417357\ttotal: 7.07s\tremaining: 1.86s\n",
      "792:\tlearn: 0.3414161\ttotal: 7.08s\tremaining: 1.85s\n",
      "793:\tlearn: 0.3411051\ttotal: 7.09s\tremaining: 1.84s\n",
      "794:\tlearn: 0.3408251\ttotal: 7.1s\tremaining: 1.83s\n",
      "795:\tlearn: 0.3404174\ttotal: 7.11s\tremaining: 1.82s\n",
      "796:\tlearn: 0.3401607\ttotal: 7.12s\tremaining: 1.81s\n",
      "797:\tlearn: 0.3398515\ttotal: 7.13s\tremaining: 1.8s\n",
      "798:\tlearn: 0.3395607\ttotal: 7.16s\tremaining: 1.8s\n",
      "799:\tlearn: 0.3391349\ttotal: 7.17s\tremaining: 1.79s\n",
      "800:\tlearn: 0.3387417\ttotal: 7.18s\tremaining: 1.78s\n",
      "801:\tlearn: 0.3381816\ttotal: 7.19s\tremaining: 1.77s\n",
      "802:\tlearn: 0.3376057\ttotal: 7.2s\tremaining: 1.76s\n",
      "803:\tlearn: 0.3374221\ttotal: 7.21s\tremaining: 1.76s\n",
      "804:\tlearn: 0.3371295\ttotal: 7.21s\tremaining: 1.75s\n",
      "805:\tlearn: 0.3367825\ttotal: 7.22s\tremaining: 1.74s\n",
      "806:\tlearn: 0.3365106\ttotal: 7.23s\tremaining: 1.73s\n",
      "807:\tlearn: 0.3360896\ttotal: 7.24s\tremaining: 1.72s\n",
      "808:\tlearn: 0.3357920\ttotal: 7.25s\tremaining: 1.71s\n",
      "809:\tlearn: 0.3356297\ttotal: 7.26s\tremaining: 1.7s\n",
      "810:\tlearn: 0.3351207\ttotal: 7.27s\tremaining: 1.69s\n",
      "811:\tlearn: 0.3349101\ttotal: 7.28s\tremaining: 1.68s\n",
      "812:\tlearn: 0.3346050\ttotal: 7.29s\tremaining: 1.68s\n",
      "813:\tlearn: 0.3342499\ttotal: 7.3s\tremaining: 1.67s\n",
      "814:\tlearn: 0.3339090\ttotal: 7.3s\tremaining: 1.66s\n",
      "815:\tlearn: 0.3336141\ttotal: 7.31s\tremaining: 1.65s\n",
      "816:\tlearn: 0.3333797\ttotal: 7.32s\tremaining: 1.64s\n",
      "817:\tlearn: 0.3331521\ttotal: 7.33s\tremaining: 1.63s\n",
      "818:\tlearn: 0.3327685\ttotal: 7.34s\tremaining: 1.62s\n",
      "819:\tlearn: 0.3325378\ttotal: 7.35s\tremaining: 1.61s\n",
      "820:\tlearn: 0.3322632\ttotal: 7.36s\tremaining: 1.6s\n",
      "821:\tlearn: 0.3319006\ttotal: 7.37s\tremaining: 1.59s\n",
      "822:\tlearn: 0.3315982\ttotal: 7.38s\tremaining: 1.59s\n",
      "823:\tlearn: 0.3313351\ttotal: 7.39s\tremaining: 1.58s\n",
      "824:\tlearn: 0.3310364\ttotal: 7.39s\tremaining: 1.57s\n",
      "825:\tlearn: 0.3307369\ttotal: 7.4s\tremaining: 1.56s\n",
      "826:\tlearn: 0.3305008\ttotal: 7.41s\tremaining: 1.55s\n",
      "827:\tlearn: 0.3302400\ttotal: 7.42s\tremaining: 1.54s\n",
      "828:\tlearn: 0.3299871\ttotal: 7.43s\tremaining: 1.53s\n",
      "829:\tlearn: 0.3295371\ttotal: 7.44s\tremaining: 1.52s\n",
      "830:\tlearn: 0.3292536\ttotal: 7.45s\tremaining: 1.51s\n",
      "831:\tlearn: 0.3290162\ttotal: 7.46s\tremaining: 1.51s\n",
      "832:\tlearn: 0.3285725\ttotal: 7.47s\tremaining: 1.5s\n",
      "833:\tlearn: 0.3281773\ttotal: 7.48s\tremaining: 1.49s\n",
      "834:\tlearn: 0.3276096\ttotal: 7.49s\tremaining: 1.48s\n",
      "835:\tlearn: 0.3272708\ttotal: 7.5s\tremaining: 1.47s\n",
      "836:\tlearn: 0.3270038\ttotal: 7.51s\tremaining: 1.46s\n",
      "837:\tlearn: 0.3267926\ttotal: 7.52s\tremaining: 1.45s\n",
      "838:\tlearn: 0.3263724\ttotal: 7.52s\tremaining: 1.44s\n",
      "839:\tlearn: 0.3259939\ttotal: 7.53s\tremaining: 1.43s\n",
      "840:\tlearn: 0.3256839\ttotal: 7.54s\tremaining: 1.43s\n",
      "841:\tlearn: 0.3253597\ttotal: 7.55s\tremaining: 1.42s\n",
      "842:\tlearn: 0.3251346\ttotal: 7.56s\tremaining: 1.41s\n",
      "843:\tlearn: 0.3246295\ttotal: 7.57s\tremaining: 1.4s\n",
      "844:\tlearn: 0.3243680\ttotal: 7.58s\tremaining: 1.39s\n",
      "845:\tlearn: 0.3239873\ttotal: 7.59s\tremaining: 1.38s\n",
      "846:\tlearn: 0.3236907\ttotal: 7.6s\tremaining: 1.37s\n",
      "847:\tlearn: 0.3233822\ttotal: 7.61s\tremaining: 1.36s\n",
      "848:\tlearn: 0.3230195\ttotal: 7.61s\tremaining: 1.35s\n",
      "849:\tlearn: 0.3226513\ttotal: 7.62s\tremaining: 1.34s\n",
      "850:\tlearn: 0.3222393\ttotal: 7.63s\tremaining: 1.34s\n",
      "851:\tlearn: 0.3217964\ttotal: 7.64s\tremaining: 1.33s\n",
      "852:\tlearn: 0.3212804\ttotal: 7.65s\tremaining: 1.32s\n",
      "853:\tlearn: 0.3208744\ttotal: 7.66s\tremaining: 1.31s\n",
      "854:\tlearn: 0.3203885\ttotal: 7.67s\tremaining: 1.3s\n",
      "855:\tlearn: 0.3200575\ttotal: 7.68s\tremaining: 1.29s\n",
      "856:\tlearn: 0.3197960\ttotal: 7.68s\tremaining: 1.28s\n",
      "857:\tlearn: 0.3194417\ttotal: 7.69s\tremaining: 1.27s\n",
      "858:\tlearn: 0.3192842\ttotal: 7.7s\tremaining: 1.26s\n",
      "859:\tlearn: 0.3189190\ttotal: 7.71s\tremaining: 1.25s\n",
      "860:\tlearn: 0.3186826\ttotal: 7.72s\tremaining: 1.25s\n",
      "861:\tlearn: 0.3183702\ttotal: 7.73s\tremaining: 1.24s\n",
      "862:\tlearn: 0.3179843\ttotal: 7.74s\tremaining: 1.23s\n",
      "863:\tlearn: 0.3177990\ttotal: 7.75s\tremaining: 1.22s\n",
      "864:\tlearn: 0.3175454\ttotal: 7.75s\tremaining: 1.21s\n",
      "865:\tlearn: 0.3171883\ttotal: 7.76s\tremaining: 1.2s\n",
      "866:\tlearn: 0.3168257\ttotal: 7.77s\tremaining: 1.19s\n",
      "867:\tlearn: 0.3164168\ttotal: 7.78s\tremaining: 1.18s\n",
      "868:\tlearn: 0.3160767\ttotal: 7.79s\tremaining: 1.17s\n",
      "869:\tlearn: 0.3157853\ttotal: 7.8s\tremaining: 1.17s\n",
      "870:\tlearn: 0.3154717\ttotal: 7.81s\tremaining: 1.16s\n",
      "871:\tlearn: 0.3151345\ttotal: 7.82s\tremaining: 1.15s\n",
      "872:\tlearn: 0.3147620\ttotal: 7.83s\tremaining: 1.14s\n",
      "873:\tlearn: 0.3143490\ttotal: 7.83s\tremaining: 1.13s\n",
      "874:\tlearn: 0.3140558\ttotal: 7.84s\tremaining: 1.12s\n",
      "875:\tlearn: 0.3137694\ttotal: 7.85s\tremaining: 1.11s\n",
      "876:\tlearn: 0.3135836\ttotal: 7.86s\tremaining: 1.1s\n",
      "877:\tlearn: 0.3131801\ttotal: 7.87s\tremaining: 1.09s\n",
      "878:\tlearn: 0.3129318\ttotal: 7.88s\tremaining: 1.08s\n",
      "879:\tlearn: 0.3126892\ttotal: 7.89s\tremaining: 1.07s\n",
      "880:\tlearn: 0.3124731\ttotal: 7.9s\tremaining: 1.07s\n",
      "881:\tlearn: 0.3121187\ttotal: 7.91s\tremaining: 1.06s\n",
      "882:\tlearn: 0.3118434\ttotal: 7.92s\tremaining: 1.05s\n",
      "883:\tlearn: 0.3114577\ttotal: 7.92s\tremaining: 1.04s\n",
      "884:\tlearn: 0.3111559\ttotal: 7.93s\tremaining: 1.03s\n",
      "885:\tlearn: 0.3108778\ttotal: 7.94s\tremaining: 1.02s\n",
      "886:\tlearn: 0.3106257\ttotal: 7.95s\tremaining: 1.01s\n",
      "887:\tlearn: 0.3104348\ttotal: 7.96s\tremaining: 1s\n",
      "888:\tlearn: 0.3101123\ttotal: 7.97s\tremaining: 995ms\n",
      "889:\tlearn: 0.3098006\ttotal: 7.98s\tremaining: 986ms\n",
      "890:\tlearn: 0.3093499\ttotal: 7.99s\tremaining: 977ms\n",
      "891:\tlearn: 0.3090042\ttotal: 8s\tremaining: 968ms\n",
      "892:\tlearn: 0.3084608\ttotal: 8.01s\tremaining: 959ms\n",
      "893:\tlearn: 0.3081495\ttotal: 8.02s\tremaining: 950ms\n",
      "894:\tlearn: 0.3077366\ttotal: 8.02s\tremaining: 941ms\n",
      "895:\tlearn: 0.3074147\ttotal: 8.03s\tremaining: 932ms\n",
      "896:\tlearn: 0.3069063\ttotal: 8.04s\tremaining: 924ms\n",
      "897:\tlearn: 0.3064720\ttotal: 8.05s\tremaining: 915ms\n",
      "898:\tlearn: 0.3061101\ttotal: 8.06s\tremaining: 906ms\n",
      "899:\tlearn: 0.3057908\ttotal: 8.07s\tremaining: 897ms\n",
      "900:\tlearn: 0.3053101\ttotal: 8.08s\tremaining: 888ms\n",
      "901:\tlearn: 0.3051058\ttotal: 8.09s\tremaining: 879ms\n",
      "902:\tlearn: 0.3047504\ttotal: 8.1s\tremaining: 870ms\n",
      "903:\tlearn: 0.3042897\ttotal: 8.11s\tremaining: 861ms\n",
      "904:\tlearn: 0.3040123\ttotal: 8.11s\tremaining: 852ms\n",
      "905:\tlearn: 0.3035196\ttotal: 8.12s\tremaining: 843ms\n",
      "906:\tlearn: 0.3031563\ttotal: 8.13s\tremaining: 834ms\n",
      "907:\tlearn: 0.3027524\ttotal: 8.14s\tremaining: 825ms\n",
      "908:\tlearn: 0.3024544\ttotal: 8.15s\tremaining: 816ms\n",
      "909:\tlearn: 0.3021478\ttotal: 8.16s\tremaining: 807ms\n",
      "910:\tlearn: 0.3017141\ttotal: 8.17s\tremaining: 798ms\n",
      "911:\tlearn: 0.3013384\ttotal: 8.18s\tremaining: 789ms\n",
      "912:\tlearn: 0.3010968\ttotal: 8.19s\tremaining: 780ms\n",
      "913:\tlearn: 0.3008304\ttotal: 8.2s\tremaining: 771ms\n",
      "914:\tlearn: 0.3005004\ttotal: 8.2s\tremaining: 762ms\n",
      "915:\tlearn: 0.3002777\ttotal: 8.21s\tremaining: 753ms\n",
      "916:\tlearn: 0.2999909\ttotal: 8.22s\tremaining: 744ms\n",
      "917:\tlearn: 0.2996124\ttotal: 8.23s\tremaining: 735ms\n",
      "918:\tlearn: 0.2993974\ttotal: 8.24s\tremaining: 726ms\n",
      "919:\tlearn: 0.2991615\ttotal: 8.25s\tremaining: 717ms\n",
      "920:\tlearn: 0.2989433\ttotal: 8.26s\tremaining: 708ms\n",
      "921:\tlearn: 0.2985267\ttotal: 8.27s\tremaining: 699ms\n",
      "922:\tlearn: 0.2982580\ttotal: 8.27s\tremaining: 690ms\n",
      "923:\tlearn: 0.2979193\ttotal: 8.28s\tremaining: 681ms\n",
      "924:\tlearn: 0.2974542\ttotal: 8.29s\tremaining: 672ms\n",
      "925:\tlearn: 0.2971418\ttotal: 8.3s\tremaining: 663ms\n",
      "926:\tlearn: 0.2967749\ttotal: 8.31s\tremaining: 655ms\n",
      "927:\tlearn: 0.2964972\ttotal: 8.32s\tremaining: 646ms\n",
      "928:\tlearn: 0.2960791\ttotal: 8.33s\tremaining: 637ms\n",
      "929:\tlearn: 0.2957546\ttotal: 8.34s\tremaining: 628ms\n",
      "930:\tlearn: 0.2954119\ttotal: 8.35s\tremaining: 619ms\n",
      "931:\tlearn: 0.2949383\ttotal: 8.36s\tremaining: 610ms\n",
      "932:\tlearn: 0.2946324\ttotal: 8.37s\tremaining: 601ms\n",
      "933:\tlearn: 0.2943080\ttotal: 8.38s\tremaining: 592ms\n",
      "934:\tlearn: 0.2939798\ttotal: 8.38s\tremaining: 583ms\n",
      "935:\tlearn: 0.2935337\ttotal: 8.39s\tremaining: 574ms\n",
      "936:\tlearn: 0.2931817\ttotal: 8.4s\tremaining: 565ms\n",
      "937:\tlearn: 0.2927995\ttotal: 8.41s\tremaining: 556ms\n",
      "938:\tlearn: 0.2925155\ttotal: 8.42s\tremaining: 547ms\n",
      "939:\tlearn: 0.2921810\ttotal: 8.43s\tremaining: 538ms\n",
      "940:\tlearn: 0.2917264\ttotal: 8.44s\tremaining: 529ms\n",
      "941:\tlearn: 0.2911456\ttotal: 8.44s\tremaining: 520ms\n",
      "942:\tlearn: 0.2908536\ttotal: 8.45s\tremaining: 511ms\n",
      "943:\tlearn: 0.2904917\ttotal: 8.46s\tremaining: 502ms\n",
      "944:\tlearn: 0.2901408\ttotal: 8.47s\tremaining: 493ms\n",
      "945:\tlearn: 0.2898148\ttotal: 8.48s\tremaining: 484ms\n",
      "946:\tlearn: 0.2893365\ttotal: 8.49s\tremaining: 475ms\n",
      "947:\tlearn: 0.2892029\ttotal: 8.5s\tremaining: 466ms\n",
      "948:\tlearn: 0.2888007\ttotal: 8.51s\tremaining: 457ms\n",
      "949:\tlearn: 0.2885007\ttotal: 8.52s\tremaining: 448ms\n",
      "950:\tlearn: 0.2881144\ttotal: 8.53s\tremaining: 439ms\n",
      "951:\tlearn: 0.2878088\ttotal: 8.54s\tremaining: 430ms\n",
      "952:\tlearn: 0.2873421\ttotal: 8.54s\tremaining: 421ms\n",
      "953:\tlearn: 0.2869339\ttotal: 8.55s\tremaining: 412ms\n",
      "954:\tlearn: 0.2867629\ttotal: 8.56s\tremaining: 404ms\n",
      "955:\tlearn: 0.2865271\ttotal: 8.57s\tremaining: 395ms\n",
      "956:\tlearn: 0.2862167\ttotal: 8.58s\tremaining: 386ms\n",
      "957:\tlearn: 0.2859366\ttotal: 8.59s\tremaining: 377ms\n",
      "958:\tlearn: 0.2855204\ttotal: 8.6s\tremaining: 368ms\n",
      "959:\tlearn: 0.2850907\ttotal: 8.61s\tremaining: 359ms\n",
      "960:\tlearn: 0.2848874\ttotal: 8.62s\tremaining: 350ms\n",
      "961:\tlearn: 0.2845650\ttotal: 8.63s\tremaining: 341ms\n",
      "962:\tlearn: 0.2840728\ttotal: 8.63s\tremaining: 332ms\n",
      "963:\tlearn: 0.2838477\ttotal: 8.64s\tremaining: 323ms\n",
      "964:\tlearn: 0.2835670\ttotal: 8.65s\tremaining: 314ms\n",
      "965:\tlearn: 0.2833610\ttotal: 8.66s\tremaining: 305ms\n",
      "966:\tlearn: 0.2830308\ttotal: 8.67s\tremaining: 296ms\n",
      "967:\tlearn: 0.2827627\ttotal: 8.68s\tremaining: 287ms\n",
      "968:\tlearn: 0.2824553\ttotal: 8.69s\tremaining: 278ms\n",
      "969:\tlearn: 0.2821638\ttotal: 8.7s\tremaining: 269ms\n",
      "970:\tlearn: 0.2818846\ttotal: 8.71s\tremaining: 260ms\n",
      "971:\tlearn: 0.2815814\ttotal: 8.72s\tremaining: 251ms\n",
      "972:\tlearn: 0.2812881\ttotal: 8.73s\tremaining: 242ms\n",
      "973:\tlearn: 0.2811219\ttotal: 8.73s\tremaining: 233ms\n",
      "974:\tlearn: 0.2809546\ttotal: 8.74s\tremaining: 224ms\n",
      "975:\tlearn: 0.2807865\ttotal: 8.75s\tremaining: 215ms\n",
      "976:\tlearn: 0.2804879\ttotal: 8.76s\tremaining: 206ms\n",
      "977:\tlearn: 0.2801965\ttotal: 8.77s\tremaining: 197ms\n",
      "978:\tlearn: 0.2798645\ttotal: 8.78s\tremaining: 188ms\n",
      "979:\tlearn: 0.2794489\ttotal: 8.79s\tremaining: 179ms\n",
      "980:\tlearn: 0.2790456\ttotal: 8.8s\tremaining: 170ms\n",
      "981:\tlearn: 0.2787651\ttotal: 8.81s\tremaining: 162ms\n",
      "982:\tlearn: 0.2782820\ttotal: 8.82s\tremaining: 153ms\n",
      "983:\tlearn: 0.2778455\ttotal: 8.83s\tremaining: 144ms\n",
      "984:\tlearn: 0.2774580\ttotal: 8.84s\tremaining: 135ms\n",
      "985:\tlearn: 0.2770957\ttotal: 8.85s\tremaining: 126ms\n",
      "986:\tlearn: 0.2767264\ttotal: 8.86s\tremaining: 117ms\n",
      "987:\tlearn: 0.2764708\ttotal: 8.86s\tremaining: 108ms\n",
      "988:\tlearn: 0.2761371\ttotal: 8.87s\tremaining: 98.7ms\n",
      "989:\tlearn: 0.2759156\ttotal: 8.88s\tremaining: 89.7ms\n",
      "990:\tlearn: 0.2754789\ttotal: 8.89s\tremaining: 80.7ms\n",
      "991:\tlearn: 0.2751334\ttotal: 8.9s\tremaining: 71.8ms\n",
      "992:\tlearn: 0.2746719\ttotal: 8.91s\tremaining: 62.8ms\n",
      "993:\tlearn: 0.2743725\ttotal: 8.92s\tremaining: 53.8ms\n",
      "994:\tlearn: 0.2739883\ttotal: 8.93s\tremaining: 44.9ms\n",
      "995:\tlearn: 0.2737547\ttotal: 8.94s\tremaining: 35.9ms\n",
      "996:\tlearn: 0.2732811\ttotal: 8.95s\tremaining: 26.9ms\n",
      "997:\tlearn: 0.2728996\ttotal: 8.95s\tremaining: 17.9ms\n",
      "998:\tlearn: 0.2727528\ttotal: 8.96s\tremaining: 8.97ms\n",
      "999:\tlearn: 0.2723713\ttotal: 8.98s\tremaining: 0us\n"
     ]
    }
   ],
   "source": [
    "model=CatBoostClassifier().fit(tr_x,tr_y)"
   ]
  },
  {
   "cell_type": "code",
   "execution_count": 639,
   "id": "60ea992b-cbef-44e8-92f3-5c9598291a4a",
   "metadata": {},
   "outputs": [],
   "source": [
    "pred_y=model.predict(tt_x)"
   ]
  },
  {
   "cell_type": "code",
   "execution_count": 640,
   "id": "35ee6d9c-ba8a-4ae9-ad37-f7503aa39a29",
   "metadata": {},
   "outputs": [
    {
     "name": "stdout",
     "output_type": "stream",
     "text": [
      "0.5462184873949579\n",
      "0.5985130111524164\n"
     ]
    }
   ],
   "source": [
    "print(accuracy_score(tt_y,pred_y))\n",
    "print(f1_score(tt_y,pred_y))"
   ]
  },
  {
   "cell_type": "code",
   "execution_count": 539,
   "id": "273a3421-7cfb-4694-b7cc-c18b2d624fed",
   "metadata": {},
   "outputs": [],
   "source": [
    "from pytorch_tabnet.tab_model import TabNetClassifier"
   ]
  },
  {
   "cell_type": "code",
   "execution_count": 540,
   "id": "01647573-6726-4481-80ac-b418d5ea25e2",
   "metadata": {},
   "outputs": [],
   "source": [
    "from  pytorch_tabnet.augmentations import ClassificationSMOTE"
   ]
  },
  {
   "cell_type": "code",
   "execution_count": 513,
   "id": "0a16e031-0ed1-4824-a400-b4574fe454b3",
   "metadata": {},
   "outputs": [],
   "source": [
    "aug=ClassificationSMOTE(p=0.2)"
   ]
  },
  {
   "cell_type": "code",
   "execution_count": 514,
   "id": "36ed6354-2492-443c-b789-6a655220272e",
   "metadata": {
    "scrolled": true
   },
   "outputs": [
    {
     "name": "stderr",
     "output_type": "stream",
     "text": [
      "C:\\Users\\campus4D044\\anaconda3\\Lib\\site-packages\\pytorch_tabnet\\abstract_model.py:82: UserWarning: Device used : cpu\n",
      "  warnings.warn(f\"Device used : {self.device}\")\n",
      "C:\\Users\\campus4D044\\anaconda3\\Lib\\site-packages\\pytorch_tabnet\\abstract_model.py:687: UserWarning: No early stopping will be performed, last training weights will be used.\n",
      "  warnings.warn(wrn_msg)\n"
     ]
    },
    {
     "name": "stdout",
     "output_type": "stream",
     "text": [
      "epoch 0  | loss: 0.97395 |  0:00:00s\n",
      "epoch 1  | loss: 0.82136 |  0:00:00s\n",
      "epoch 2  | loss: 0.76074 |  0:00:00s\n",
      "epoch 3  | loss: 0.74768 |  0:00:00s\n",
      "epoch 4  | loss: 0.73154 |  0:00:00s\n",
      "epoch 5  | loss: 0.71881 |  0:00:00s\n",
      "epoch 6  | loss: 0.71387 |  0:00:00s\n",
      "epoch 7  | loss: 0.70044 |  0:00:00s\n",
      "epoch 8  | loss: 0.70372 |  0:00:00s\n",
      "epoch 9  | loss: 0.70035 |  0:00:01s\n",
      "epoch 10 | loss: 0.69078 |  0:00:01s\n",
      "epoch 11 | loss: 0.69821 |  0:00:01s\n",
      "epoch 12 | loss: 0.69397 |  0:00:01s\n",
      "epoch 13 | loss: 0.69403 |  0:00:01s\n",
      "epoch 14 | loss: 0.69421 |  0:00:01s\n",
      "epoch 15 | loss: 0.6933  |  0:00:01s\n",
      "epoch 16 | loss: 0.69116 |  0:00:01s\n",
      "epoch 17 | loss: 0.69143 |  0:00:01s\n",
      "epoch 18 | loss: 0.69185 |  0:00:01s\n",
      "epoch 19 | loss: 0.6922  |  0:00:02s\n",
      "epoch 20 | loss: 0.69098 |  0:00:02s\n",
      "epoch 21 | loss: 0.69202 |  0:00:02s\n",
      "epoch 22 | loss: 0.6891  |  0:00:02s\n",
      "epoch 23 | loss: 0.69387 |  0:00:02s\n",
      "epoch 24 | loss: 0.69033 |  0:00:02s\n",
      "epoch 25 | loss: 0.69322 |  0:00:02s\n",
      "epoch 26 | loss: 0.68731 |  0:00:02s\n",
      "epoch 27 | loss: 0.6904  |  0:00:02s\n",
      "epoch 28 | loss: 0.68845 |  0:00:02s\n",
      "epoch 29 | loss: 0.69179 |  0:00:03s\n",
      "epoch 30 | loss: 0.68681 |  0:00:03s\n",
      "epoch 31 | loss: 0.68919 |  0:00:03s\n",
      "epoch 32 | loss: 0.68767 |  0:00:03s\n",
      "epoch 33 | loss: 0.68608 |  0:00:03s\n",
      "epoch 34 | loss: 0.6869  |  0:00:03s\n",
      "epoch 35 | loss: 0.68648 |  0:00:03s\n",
      "epoch 36 | loss: 0.68736 |  0:00:03s\n",
      "epoch 37 | loss: 0.68779 |  0:00:03s\n",
      "epoch 38 | loss: 0.68358 |  0:00:03s\n",
      "epoch 39 | loss: 0.68527 |  0:00:03s\n",
      "epoch 40 | loss: 0.68081 |  0:00:04s\n",
      "epoch 41 | loss: 0.6834  |  0:00:04s\n",
      "epoch 42 | loss: 0.67874 |  0:00:04s\n",
      "epoch 43 | loss: 0.67777 |  0:00:04s\n",
      "epoch 44 | loss: 0.67851 |  0:00:04s\n",
      "epoch 45 | loss: 0.68146 |  0:00:04s\n",
      "epoch 46 | loss: 0.68005 |  0:00:04s\n",
      "epoch 47 | loss: 0.68133 |  0:00:04s\n",
      "epoch 48 | loss: 0.67798 |  0:00:04s\n",
      "epoch 49 | loss: 0.67867 |  0:00:04s\n",
      "epoch 50 | loss: 0.68142 |  0:00:04s\n",
      "epoch 51 | loss: 0.67774 |  0:00:05s\n",
      "epoch 52 | loss: 0.67487 |  0:00:05s\n",
      "epoch 53 | loss: 0.67483 |  0:00:05s\n",
      "epoch 54 | loss: 0.67357 |  0:00:05s\n",
      "epoch 55 | loss: 0.67625 |  0:00:05s\n",
      "epoch 56 | loss: 0.67484 |  0:00:05s\n",
      "epoch 57 | loss: 0.6752  |  0:00:05s\n",
      "epoch 58 | loss: 0.67628 |  0:00:05s\n",
      "epoch 59 | loss: 0.66942 |  0:00:05s\n",
      "epoch 60 | loss: 0.67135 |  0:00:05s\n",
      "epoch 61 | loss: 0.67484 |  0:00:05s\n",
      "epoch 62 | loss: 0.67157 |  0:00:06s\n",
      "epoch 63 | loss: 0.67639 |  0:00:06s\n",
      "epoch 64 | loss: 0.66312 |  0:00:06s\n",
      "epoch 65 | loss: 0.66527 |  0:00:06s\n",
      "epoch 66 | loss: 0.66319 |  0:00:06s\n",
      "epoch 67 | loss: 0.65949 |  0:00:06s\n",
      "epoch 68 | loss: 0.66598 |  0:00:06s\n",
      "epoch 69 | loss: 0.66045 |  0:00:06s\n",
      "epoch 70 | loss: 0.6614  |  0:00:06s\n",
      "epoch 71 | loss: 0.66536 |  0:00:06s\n",
      "epoch 72 | loss: 0.66164 |  0:00:06s\n",
      "epoch 73 | loss: 0.65864 |  0:00:07s\n",
      "epoch 74 | loss: 0.66183 |  0:00:07s\n",
      "epoch 75 | loss: 0.65748 |  0:00:07s\n",
      "epoch 76 | loss: 0.66228 |  0:00:07s\n",
      "epoch 77 | loss: 0.65825 |  0:00:07s\n",
      "epoch 78 | loss: 0.66171 |  0:00:07s\n",
      "epoch 79 | loss: 0.66196 |  0:00:07s\n",
      "epoch 80 | loss: 0.65534 |  0:00:07s\n",
      "epoch 81 | loss: 0.65762 |  0:00:07s\n",
      "epoch 82 | loss: 0.66298 |  0:00:07s\n",
      "epoch 83 | loss: 0.66108 |  0:00:07s\n",
      "epoch 84 | loss: 0.66085 |  0:00:08s\n",
      "epoch 85 | loss: 0.65628 |  0:00:08s\n",
      "epoch 86 | loss: 0.65682 |  0:00:08s\n",
      "epoch 87 | loss: 0.65366 |  0:00:57s\n",
      "epoch 88 | loss: 0.66669 |  0:00:57s\n",
      "epoch 89 | loss: 0.65032 |  0:00:57s\n",
      "epoch 90 | loss: 0.6553  |  0:00:57s\n",
      "epoch 91 | loss: 0.65263 |  0:00:57s\n",
      "epoch 92 | loss: 0.64107 |  0:00:57s\n",
      "epoch 93 | loss: 0.644   |  0:00:57s\n",
      "epoch 94 | loss: 0.65102 |  0:00:57s\n",
      "epoch 95 | loss: 0.64884 |  0:00:57s\n",
      "epoch 96 | loss: 0.65301 |  0:00:57s\n",
      "epoch 97 | loss: 0.65471 |  0:00:57s\n",
      "epoch 98 | loss: 0.66098 |  0:00:58s\n",
      "epoch 99 | loss: 0.66066 |  0:00:58s\n"
     ]
    }
   ],
   "source": [
    "model=TabNetClassifier()\n",
    "model.fit(tr_x.values,tr_y.values.ravel(),max_epochs=100)"
   ]
  },
  {
   "cell_type": "code",
   "execution_count": 515,
   "id": "70126190-8510-4f43-b0b8-442f6543cbbe",
   "metadata": {},
   "outputs": [],
   "source": [
    "pred_y=model.predict(tt_x.values)"
   ]
  },
  {
   "cell_type": "code",
   "execution_count": 516,
   "id": "28196bc6-8f08-40e4-8b40-62296e4e218c",
   "metadata": {},
   "outputs": [
    {
     "name": "stdout",
     "output_type": "stream",
     "text": [
      "0.47471451876019577\n",
      "0.34949494949494947\n",
      "[[409 182]\n",
      " [462 173]]\n"
     ]
    }
   ],
   "source": [
    "print(accuracy_score(tt_y,pred_y))\n",
    "print(f1_score(tt_y,pred_y))\n",
    "print(confusion_matrix(tt_y,pred_y))"
   ]
  },
  {
   "cell_type": "code",
   "execution_count": 210,
   "id": "cea2ecad-dfad-4dd8-a88f-e5ece2d751c4",
   "metadata": {},
   "outputs": [
    {
     "data": {
      "text/plain": [
       "array([0, 1])"
      ]
     },
     "execution_count": 210,
     "metadata": {},
     "output_type": "execute_result"
    }
   ],
   "source": [
    "np.unique(tr_y.values.ravel())"
   ]
  },
  {
   "cell_type": "code",
   "execution_count": 205,
   "id": "168a062e-d73b-4031-857e-f3923cbebd26",
   "metadata": {},
   "outputs": [
    {
     "data": {
      "text/plain": [
       "array([[0.46348647, 0.26578108, 0.22390801, ..., 0.00636002, 0.00698272,\n",
       "        0.00433177],\n",
       "       [0.37973063, 0.41224756, 0.22718923, ..., 0.00749475, 0.00580219,\n",
       "        0.00370226],\n",
       "       [0.36544294, 0.42761299, 0.14126826, ..., 0.00175639, 0.00795446,\n",
       "        0.02161821],\n",
       "       ...,\n",
       "       [0.2960815 , 0.24928465, 0.16533961, ..., 0.01739645, 0.        ,\n",
       "        0.00310321],\n",
       "       [0.26063559, 0.47367834, 0.15919319, ..., 0.        , 0.        ,\n",
       "        0.03253022],\n",
       "       [0.31672158, 0.30343968, 0.18069511, ..., 0.00786303, 0.00263783,\n",
       "        0.        ]])"
      ]
     },
     "execution_count": 205,
     "metadata": {},
     "output_type": "execute_result"
    }
   ],
   "source": [
    "tr_x.values"
   ]
  },
  {
   "cell_type": "code",
   "execution_count": 134,
   "id": "61fe53b2-78ed-4a3d-837b-62a8b26bc69d",
   "metadata": {},
   "outputs": [],
   "source": [
    "import optuna"
   ]
  },
  {
   "cell_type": "code",
   "execution_count": 139,
   "id": "8cdce4c4-d03e-44cb-a5f8-d8a946396859",
   "metadata": {
    "collapsed": true,
    "jupyter": {
     "outputs_hidden": true
    }
   },
   "outputs": [
    {
     "name": "stderr",
     "output_type": "stream",
     "text": [
      "[I 2025-07-17 10:05:02,254] A new study created in memory with name: no-name-edfac567-9a9c-41ea-8d68-76aa9c00d6ac\n"
     ]
    },
    {
     "name": "stdout",
     "output_type": "stream",
     "text": [
      "\n",
      "Early stopping occurred at epoch 22 with best_epoch = 12 and best_val_0_accuracy = 0.52252\n"
     ]
    },
    {
     "name": "stderr",
     "output_type": "stream",
     "text": [
      "C:\\Users\\campus4D044\\anaconda3\\Lib\\site-packages\\pytorch_tabnet\\callbacks.py:172: UserWarning: Best weights from best epoch are automatically used!\n",
      "  warnings.warn(wrn_msg)\n",
      "[I 2025-07-17 10:05:11,385] Trial 0 finished with value: 0.5225225225225225 and parameters: {'n_d': 39, 'n_a': 37, 'n_steps': 3, 'gamma': 1.8399762973722467, 'lambda_sparse': 0.020438482401053875, 'lr': 0.01786771109097322, 'mask_type': 'entmax'}. Best is trial 0 with value: 0.5225225225225225.\n"
     ]
    },
    {
     "name": "stdout",
     "output_type": "stream",
     "text": [
      "\n",
      "Early stopping occurred at epoch 10 with best_epoch = 0 and best_val_0_accuracy = 0.51761\n"
     ]
    },
    {
     "name": "stderr",
     "output_type": "stream",
     "text": [
      "C:\\Users\\campus4D044\\anaconda3\\Lib\\site-packages\\pytorch_tabnet\\callbacks.py:172: UserWarning: Best weights from best epoch are automatically used!\n",
      "  warnings.warn(wrn_msg)\n",
      "[I 2025-07-17 10:05:17,471] Trial 1 finished with value: 0.5176085176085176 and parameters: {'n_d': 43, 'n_a': 42, 'n_steps': 4, 'gamma': 1.684012253413632, 'lambda_sparse': 1.0288199104002056e-05, 'lr': 0.006116188672110791, 'mask_type': 'sparsemax'}. Best is trial 0 with value: 0.5225225225225225.\n"
     ]
    },
    {
     "name": "stdout",
     "output_type": "stream",
     "text": [
      "\n",
      "Early stopping occurred at epoch 15 with best_epoch = 5 and best_val_0_accuracy = 0.52334\n"
     ]
    },
    {
     "name": "stderr",
     "output_type": "stream",
     "text": [
      "C:\\Users\\campus4D044\\anaconda3\\Lib\\site-packages\\pytorch_tabnet\\callbacks.py:172: UserWarning: Best weights from best epoch are automatically used!\n",
      "  warnings.warn(wrn_msg)\n",
      "[I 2025-07-17 10:05:32,705] Trial 2 finished with value: 0.5233415233415234 and parameters: {'n_d': 27, 'n_a': 11, 'n_steps': 9, 'gamma': 1.7529118902577774, 'lambda_sparse': 0.0005487509619416714, 'lr': 0.008938043851777905, 'mask_type': 'sparsemax'}. Best is trial 2 with value: 0.5233415233415234.\n"
     ]
    },
    {
     "name": "stdout",
     "output_type": "stream",
     "text": [
      "\n",
      "Early stopping occurred at epoch 10 with best_epoch = 0 and best_val_0_accuracy = 0.48321\n"
     ]
    },
    {
     "name": "stderr",
     "output_type": "stream",
     "text": [
      "C:\\Users\\campus4D044\\anaconda3\\Lib\\site-packages\\pytorch_tabnet\\callbacks.py:172: UserWarning: Best weights from best epoch are automatically used!\n",
      "  warnings.warn(wrn_msg)\n",
      "[I 2025-07-17 10:05:43,648] Trial 3 finished with value: 0.4832104832104832 and parameters: {'n_d': 14, 'n_a': 22, 'n_steps': 9, 'gamma': 1.6451680863173777, 'lambda_sparse': 0.0007450405458687924, 'lr': 0.003258236333663476, 'mask_type': 'sparsemax'}. Best is trial 2 with value: 0.5233415233415234.\n"
     ]
    },
    {
     "name": "stdout",
     "output_type": "stream",
     "text": [
      "\n",
      "Early stopping occurred at epoch 10 with best_epoch = 0 and best_val_0_accuracy = 0.51761\n"
     ]
    },
    {
     "name": "stderr",
     "output_type": "stream",
     "text": [
      "C:\\Users\\campus4D044\\anaconda3\\Lib\\site-packages\\pytorch_tabnet\\callbacks.py:172: UserWarning: Best weights from best epoch are automatically used!\n",
      "  warnings.warn(wrn_msg)\n",
      "[I 2025-07-17 10:05:52,818] Trial 4 finished with value: 0.5176085176085176 and parameters: {'n_d': 22, 'n_a': 18, 'n_steps': 7, 'gamma': 1.7566058378592384, 'lambda_sparse': 0.0004621461535099022, 'lr': 0.0014369099953382238, 'mask_type': 'sparsemax'}. Best is trial 2 with value: 0.5233415233415234.\n"
     ]
    },
    {
     "name": "stdout",
     "output_type": "stream",
     "text": [
      "\n",
      "Early stopping occurred at epoch 10 with best_epoch = 0 and best_val_0_accuracy = 0.49386\n"
     ]
    },
    {
     "name": "stderr",
     "output_type": "stream",
     "text": [
      "C:\\Users\\campus4D044\\anaconda3\\Lib\\site-packages\\pytorch_tabnet\\callbacks.py:172: UserWarning: Best weights from best epoch are automatically used!\n",
      "  warnings.warn(wrn_msg)\n",
      "[I 2025-07-17 10:06:00,423] Trial 5 finished with value: 0.49385749385749383 and parameters: {'n_d': 23, 'n_a': 9, 'n_steps': 6, 'gamma': 1.3237912837304235, 'lambda_sparse': 5.249022845962296e-05, 'lr': 0.0017242484038659128, 'mask_type': 'sparsemax'}. Best is trial 2 with value: 0.5233415233415234.\n"
     ]
    },
    {
     "name": "stdout",
     "output_type": "stream",
     "text": [
      "\n",
      "Early stopping occurred at epoch 20 with best_epoch = 10 and best_val_0_accuracy = 0.51843\n"
     ]
    },
    {
     "name": "stderr",
     "output_type": "stream",
     "text": [
      "C:\\Users\\campus4D044\\anaconda3\\Lib\\site-packages\\pytorch_tabnet\\callbacks.py:172: UserWarning: Best weights from best epoch are automatically used!\n",
      "  warnings.warn(wrn_msg)\n",
      "[I 2025-07-17 10:06:25,947] Trial 6 finished with value: 0.5184275184275184 and parameters: {'n_d': 46, 'n_a': 29, 'n_steps': 10, 'gamma': 1.8287195708274717, 'lambda_sparse': 0.07097795884325676, 'lr': 0.019933140604981216, 'mask_type': 'entmax'}. Best is trial 2 with value: 0.5233415233415234.\n"
     ]
    },
    {
     "name": "stdout",
     "output_type": "stream",
     "text": [
      "\n",
      "Early stopping occurred at epoch 37 with best_epoch = 27 and best_val_0_accuracy = 0.53235\n"
     ]
    },
    {
     "name": "stderr",
     "output_type": "stream",
     "text": [
      "C:\\Users\\campus4D044\\anaconda3\\Lib\\site-packages\\pytorch_tabnet\\callbacks.py:172: UserWarning: Best weights from best epoch are automatically used!\n",
      "  warnings.warn(wrn_msg)\n",
      "[I 2025-07-17 10:07:07,199] Trial 7 finished with value: 0.5323505323505323 and parameters: {'n_d': 59, 'n_a': 16, 'n_steps': 9, 'gamma': 1.5043169412936055, 'lambda_sparse': 0.0006708648878675918, 'lr': 0.0024215804640121967, 'mask_type': 'sparsemax'}. Best is trial 7 with value: 0.5323505323505323.\n"
     ]
    },
    {
     "name": "stdout",
     "output_type": "stream",
     "text": [
      "\n",
      "Early stopping occurred at epoch 16 with best_epoch = 6 and best_val_0_accuracy = 0.48976\n"
     ]
    },
    {
     "name": "stderr",
     "output_type": "stream",
     "text": [
      "C:\\Users\\campus4D044\\anaconda3\\Lib\\site-packages\\pytorch_tabnet\\callbacks.py:172: UserWarning: Best weights from best epoch are automatically used!\n",
      "  warnings.warn(wrn_msg)\n",
      "[I 2025-07-17 10:07:23,837] Trial 8 finished with value: 0.48976248976248976 and parameters: {'n_d': 54, 'n_a': 27, 'n_steps': 8, 'gamma': 1.9968427586101822, 'lambda_sparse': 0.000969759950447926, 'lr': 0.0020411283296331395, 'mask_type': 'sparsemax'}. Best is trial 7 with value: 0.5323505323505323.\n"
     ]
    },
    {
     "name": "stdout",
     "output_type": "stream",
     "text": [
      "\n",
      "Early stopping occurred at epoch 10 with best_epoch = 0 and best_val_0_accuracy = 0.48239\n"
     ]
    },
    {
     "name": "stderr",
     "output_type": "stream",
     "text": [
      "C:\\Users\\campus4D044\\anaconda3\\Lib\\site-packages\\pytorch_tabnet\\callbacks.py:172: UserWarning: Best weights from best epoch are automatically used!\n",
      "  warnings.warn(wrn_msg)\n",
      "[I 2025-07-17 10:07:36,593] Trial 9 finished with value: 0.4823914823914824 and parameters: {'n_d': 19, 'n_a': 36, 'n_steps': 10, 'gamma': 1.4184711970609063, 'lambda_sparse': 0.010776206682290266, 'lr': 0.0028167588144128635, 'mask_type': 'entmax'}. Best is trial 7 with value: 0.5323505323505323.\n"
     ]
    },
    {
     "name": "stdout",
     "output_type": "stream",
     "text": [
      "\n",
      "Early stopping occurred at epoch 15 with best_epoch = 5 and best_val_0_accuracy = 0.5217\n"
     ]
    },
    {
     "name": "stderr",
     "output_type": "stream",
     "text": [
      "C:\\Users\\campus4D044\\anaconda3\\Lib\\site-packages\\pytorch_tabnet\\callbacks.py:172: UserWarning: Best weights from best epoch are automatically used!\n",
      "  warnings.warn(wrn_msg)\n",
      "[I 2025-07-17 10:07:50,296] Trial 10 finished with value: 0.5217035217035217 and parameters: {'n_d': 63, 'n_a': 54, 'n_steps': 6, 'gamma': 1.01743242915833, 'lambda_sparse': 0.0001055906054825676, 'lr': 0.005281576521682351, 'mask_type': 'entmax'}. Best is trial 7 with value: 0.5323505323505323.\n"
     ]
    },
    {
     "name": "stdout",
     "output_type": "stream",
     "text": [
      "\n",
      "Early stopping occurred at epoch 11 with best_epoch = 1 and best_val_0_accuracy = 0.50696\n"
     ]
    },
    {
     "name": "stderr",
     "output_type": "stream",
     "text": [
      "C:\\Users\\campus4D044\\anaconda3\\Lib\\site-packages\\pytorch_tabnet\\callbacks.py:172: UserWarning: Best weights from best epoch are automatically used!\n",
      "  warnings.warn(wrn_msg)\n",
      "[I 2025-07-17 10:08:00,940] Trial 11 finished with value: 0.506961506961507 and parameters: {'n_d': 32, 'n_a': 9, 'n_steps': 8, 'gamma': 1.5621434596534098, 'lambda_sparse': 0.003999914834768935, 'lr': 0.00949896135918368, 'mask_type': 'sparsemax'}. Best is trial 7 with value: 0.5323505323505323.\n"
     ]
    },
    {
     "name": "stdout",
     "output_type": "stream",
     "text": [
      "\n",
      "Early stopping occurred at epoch 20 with best_epoch = 10 and best_val_0_accuracy = 0.52088\n"
     ]
    },
    {
     "name": "stderr",
     "output_type": "stream",
     "text": [
      "C:\\Users\\campus4D044\\anaconda3\\Lib\\site-packages\\pytorch_tabnet\\callbacks.py:172: UserWarning: Best weights from best epoch are automatically used!\n",
      "  warnings.warn(wrn_msg)\n",
      "[I 2025-07-17 10:08:21,511] Trial 12 finished with value: 0.5208845208845209 and parameters: {'n_d': 31, 'n_a': 14, 'n_steps': 9, 'gamma': 1.3156790172269464, 'lambda_sparse': 0.00016165468804034424, 'lr': 0.008473255863508554, 'mask_type': 'sparsemax'}. Best is trial 7 with value: 0.5323505323505323.\n"
     ]
    },
    {
     "name": "stdout",
     "output_type": "stream",
     "text": [
      "\n",
      "Early stopping occurred at epoch 10 with best_epoch = 0 and best_val_0_accuracy = 0.48649\n"
     ]
    },
    {
     "name": "stderr",
     "output_type": "stream",
     "text": [
      "C:\\Users\\campus4D044\\anaconda3\\Lib\\site-packages\\pytorch_tabnet\\callbacks.py:172: UserWarning: Best weights from best epoch are automatically used!\n",
      "  warnings.warn(wrn_msg)\n",
      "[I 2025-07-17 10:08:34,145] Trial 13 finished with value: 0.4864864864864865 and parameters: {'n_d': 54, 'n_a': 55, 'n_steps': 8, 'gamma': 1.511662978573668, 'lambda_sparse': 0.003596521051059995, 'lr': 0.0010881992646277132, 'mask_type': 'sparsemax'}. Best is trial 7 with value: 0.5323505323505323.\n"
     ]
    },
    {
     "name": "stdout",
     "output_type": "stream",
     "text": [
      "\n",
      "Early stopping occurred at epoch 16 with best_epoch = 6 and best_val_0_accuracy = 0.51761\n"
     ]
    },
    {
     "name": "stderr",
     "output_type": "stream",
     "text": [
      "C:\\Users\\campus4D044\\anaconda3\\Lib\\site-packages\\pytorch_tabnet\\callbacks.py:172: UserWarning: Best weights from best epoch are automatically used!\n",
      "  warnings.warn(wrn_msg)\n",
      "[I 2025-07-17 10:08:57,218] Trial 14 finished with value: 0.5176085176085176 and parameters: {'n_d': 64, 'n_a': 20, 'n_steps': 10, 'gamma': 1.1393324979324304, 'lambda_sparse': 0.00029252482007913655, 'lr': 0.011560028420781611, 'mask_type': 'sparsemax'}. Best is trial 7 with value: 0.5323505323505323.\n"
     ]
    },
    {
     "name": "stdout",
     "output_type": "stream",
     "text": [
      "\n",
      "Early stopping occurred at epoch 10 with best_epoch = 0 and best_val_0_accuracy = 0.48239\n"
     ]
    },
    {
     "name": "stderr",
     "output_type": "stream",
     "text": [
      "C:\\Users\\campus4D044\\anaconda3\\Lib\\site-packages\\pytorch_tabnet\\callbacks.py:172: UserWarning: Best weights from best epoch are automatically used!\n",
      "  warnings.warn(wrn_msg)\n",
      "[I 2025-07-17 10:09:05,510] Trial 15 finished with value: 0.4823914823914824 and parameters: {'n_d': 29, 'n_a': 63, 'n_steps': 5, 'gamma': 1.9904403728096445, 'lambda_sparse': 0.0025092517546748973, 'lr': 0.0036612533731029393, 'mask_type': 'sparsemax'}. Best is trial 7 with value: 0.5323505323505323.\n"
     ]
    },
    {
     "name": "stdout",
     "output_type": "stream",
     "text": [
      "\n",
      "Early stopping occurred at epoch 10 with best_epoch = 0 and best_val_0_accuracy = 0.48239\n"
     ]
    },
    {
     "name": "stderr",
     "output_type": "stream",
     "text": [
      "C:\\Users\\campus4D044\\anaconda3\\Lib\\site-packages\\pytorch_tabnet\\callbacks.py:172: UserWarning: Best weights from best epoch are automatically used!\n",
      "  warnings.warn(wrn_msg)\n",
      "[I 2025-07-17 10:09:14,086] Trial 16 finished with value: 0.4823914823914824 and parameters: {'n_d': 8, 'n_a': 15, 'n_steps': 7, 'gamma': 1.3943274462746416, 'lambda_sparse': 4.64983998588102e-05, 'lr': 0.00718057855685694, 'mask_type': 'sparsemax'}. Best is trial 7 with value: 0.5323505323505323.\n"
     ]
    },
    {
     "name": "stdout",
     "output_type": "stream",
     "text": [
      "\n",
      "Early stopping occurred at epoch 14 with best_epoch = 4 and best_val_0_accuracy = 0.48403\n"
     ]
    },
    {
     "name": "stderr",
     "output_type": "stream",
     "text": [
      "C:\\Users\\campus4D044\\anaconda3\\Lib\\site-packages\\pytorch_tabnet\\callbacks.py:172: UserWarning: Best weights from best epoch are automatically used!\n",
      "  warnings.warn(wrn_msg)\n",
      "[I 2025-07-17 10:09:31,973] Trial 17 finished with value: 0.48402948402948404 and parameters: {'n_d': 50, 'n_a': 25, 'n_steps': 9, 'gamma': 1.5863753996880894, 'lambda_sparse': 0.0016977931152411668, 'lr': 0.004446546926154269, 'mask_type': 'sparsemax'}. Best is trial 7 with value: 0.5323505323505323.\n"
     ]
    },
    {
     "name": "stdout",
     "output_type": "stream",
     "text": [
      "\n",
      "Early stopping occurred at epoch 13 with best_epoch = 3 and best_val_0_accuracy = 0.51761\n"
     ]
    },
    {
     "name": "stderr",
     "output_type": "stream",
     "text": [
      "C:\\Users\\campus4D044\\anaconda3\\Lib\\site-packages\\pytorch_tabnet\\callbacks.py:172: UserWarning: Best weights from best epoch are automatically used!\n",
      "  warnings.warn(wrn_msg)\n",
      "[I 2025-07-17 10:09:45,900] Trial 18 finished with value: 0.5176085176085176 and parameters: {'n_d': 39, 'n_a': 8, 'n_steps': 9, 'gamma': 1.212117832905474, 'lambda_sparse': 2.272761266762083e-05, 'lr': 0.012814631556923358, 'mask_type': 'entmax'}. Best is trial 7 with value: 0.5323505323505323.\n"
     ]
    },
    {
     "name": "stdout",
     "output_type": "stream",
     "text": [
      "\n",
      "Early stopping occurred at epoch 23 with best_epoch = 13 and best_val_0_accuracy = 0.4914\n"
     ]
    },
    {
     "name": "stderr",
     "output_type": "stream",
     "text": [
      "C:\\Users\\campus4D044\\anaconda3\\Lib\\site-packages\\pytorch_tabnet\\callbacks.py:172: UserWarning: Best weights from best epoch are automatically used!\n",
      "  warnings.warn(wrn_msg)\n",
      "[I 2025-07-17 10:10:09,731] Trial 19 finished with value: 0.4914004914004914 and parameters: {'n_d': 58, 'n_a': 31, 'n_steps': 8, 'gamma': 1.7629189318144916, 'lambda_sparse': 0.00029904735818071104, 'lr': 0.00234249757250974, 'mask_type': 'sparsemax'}. Best is trial 7 with value: 0.5323505323505323.\n"
     ]
    },
    {
     "name": "stdout",
     "output_type": "stream",
     "text": [
      "\n",
      "Early stopping occurred at epoch 10 with best_epoch = 0 and best_val_0_accuracy = 0.51761\n"
     ]
    },
    {
     "name": "stderr",
     "output_type": "stream",
     "text": [
      "C:\\Users\\campus4D044\\anaconda3\\Lib\\site-packages\\pytorch_tabnet\\callbacks.py:172: UserWarning: Best weights from best epoch are automatically used!\n",
      "  warnings.warn(wrn_msg)\n",
      "[I 2025-07-17 10:10:18,774] Trial 20 finished with value: 0.5176085176085176 and parameters: {'n_d': 27, 'n_a': 45, 'n_steps': 7, 'gamma': 1.4390117560516338, 'lambda_sparse': 0.012351028372547918, 'lr': 0.004723799783953593, 'mask_type': 'sparsemax'}. Best is trial 7 with value: 0.5323505323505323.\n"
     ]
    },
    {
     "name": "stdout",
     "output_type": "stream",
     "text": [
      "\n",
      "Early stopping occurred at epoch 10 with best_epoch = 0 and best_val_0_accuracy = 0.51761\n"
     ]
    },
    {
     "name": "stderr",
     "output_type": "stream",
     "text": [
      "C:\\Users\\campus4D044\\anaconda3\\Lib\\site-packages\\pytorch_tabnet\\callbacks.py:172: UserWarning: Best weights from best epoch are automatically used!\n",
      "  warnings.warn(wrn_msg)\n",
      "[I 2025-07-17 10:10:23,542] Trial 21 finished with value: 0.5176085176085176 and parameters: {'n_d': 38, 'n_a': 39, 'n_steps': 3, 'gamma': 1.8716283040820136, 'lambda_sparse': 0.06743952994983071, 'lr': 0.014613600563999428, 'mask_type': 'entmax'}. Best is trial 7 with value: 0.5323505323505323.\n"
     ]
    },
    {
     "name": "stdout",
     "output_type": "stream",
     "text": [
      "\n",
      "Early stopping occurred at epoch 13 with best_epoch = 3 and best_val_0_accuracy = 0.51925\n"
     ]
    },
    {
     "name": "stderr",
     "output_type": "stream",
     "text": [
      "C:\\Users\\campus4D044\\anaconda3\\Lib\\site-packages\\pytorch_tabnet\\callbacks.py:172: UserWarning: Best weights from best epoch are automatically used!\n",
      "  warnings.warn(wrn_msg)\n",
      "[I 2025-07-17 10:10:31,446] Trial 22 finished with value: 0.5192465192465192 and parameters: {'n_d': 41, 'n_a': 49, 'n_steps': 4, 'gamma': 1.8778920907864036, 'lambda_sparse': 0.017342255066875468, 'lr': 0.019296961617829216, 'mask_type': 'entmax'}. Best is trial 7 with value: 0.5323505323505323.\n"
     ]
    },
    {
     "name": "stdout",
     "output_type": "stream",
     "text": [
      "\n",
      "Early stopping occurred at epoch 28 with best_epoch = 18 and best_val_0_accuracy = 0.54218\n"
     ]
    },
    {
     "name": "stderr",
     "output_type": "stream",
     "text": [
      "C:\\Users\\campus4D044\\anaconda3\\Lib\\site-packages\\pytorch_tabnet\\callbacks.py:172: UserWarning: Best weights from best epoch are automatically used!\n",
      "  warnings.warn(wrn_msg)\n",
      "[I 2025-07-17 10:10:42,575] Trial 23 finished with value: 0.5421785421785422 and parameters: {'n_d': 35, 'n_a': 32, 'n_steps': 3, 'gamma': 1.7029645287311754, 'lambda_sparse': 0.0013760855886573039, 'lr': 0.013960560634170088, 'mask_type': 'entmax'}. Best is trial 23 with value: 0.5421785421785422.\n"
     ]
    },
    {
     "name": "stdout",
     "output_type": "stream",
     "text": [
      "\n",
      "Early stopping occurred at epoch 18 with best_epoch = 8 and best_val_0_accuracy = 0.48321\n"
     ]
    },
    {
     "name": "stderr",
     "output_type": "stream",
     "text": [
      "C:\\Users\\campus4D044\\anaconda3\\Lib\\site-packages\\pytorch_tabnet\\callbacks.py:172: UserWarning: Best weights from best epoch are automatically used!\n",
      "  warnings.warn(wrn_msg)\n",
      "[I 2025-07-17 10:10:53,721] Trial 24 finished with value: 0.4832104832104832 and parameters: {'n_d': 34, 'n_a': 15, 'n_steps': 5, 'gamma': 1.6765218180704706, 'lambda_sparse': 0.00161784726784942, 'lr': 0.009804660503514223, 'mask_type': 'entmax'}. Best is trial 23 with value: 0.5421785421785422.\n"
     ]
    },
    {
     "name": "stdout",
     "output_type": "stream",
     "text": [
      "\n",
      "Early stopping occurred at epoch 19 with best_epoch = 9 and best_val_0_accuracy = 0.52989\n"
     ]
    },
    {
     "name": "stderr",
     "output_type": "stream",
     "text": [
      "C:\\Users\\campus4D044\\anaconda3\\Lib\\site-packages\\pytorch_tabnet\\callbacks.py:172: UserWarning: Best weights from best epoch are automatically used!\n",
      "  warnings.warn(wrn_msg)\n",
      "[I 2025-07-17 10:11:06,961] Trial 25 finished with value: 0.5298935298935299 and parameters: {'n_d': 46, 'n_a': 31, 'n_steps': 5, 'gamma': 1.5899989745318721, 'lambda_sparse': 0.0005502116239597578, 'lr': 0.0066016117768050485, 'mask_type': 'entmax'}. Best is trial 23 with value: 0.5421785421785422.\n"
     ]
    },
    {
     "name": "stdout",
     "output_type": "stream",
     "text": [
      "\n",
      "Early stopping occurred at epoch 35 with best_epoch = 25 and best_val_0_accuracy = 0.5389\n"
     ]
    },
    {
     "name": "stderr",
     "output_type": "stream",
     "text": [
      "C:\\Users\\campus4D044\\anaconda3\\Lib\\site-packages\\pytorch_tabnet\\callbacks.py:172: UserWarning: Best weights from best epoch are automatically used!\n",
      "  warnings.warn(wrn_msg)\n",
      "[I 2025-07-17 10:11:25,025] Trial 26 finished with value: 0.5389025389025389 and parameters: {'n_d': 47, 'n_a': 33, 'n_steps': 4, 'gamma': 1.5016836658551211, 'lambda_sparse': 0.007054679912539534, 'lr': 0.006313067878773272, 'mask_type': 'entmax'}. Best is trial 23 with value: 0.5421785421785422.\n"
     ]
    },
    {
     "name": "stdout",
     "output_type": "stream",
     "text": [
      "\n",
      "Early stopping occurred at epoch 10 with best_epoch = 0 and best_val_0_accuracy = 0.51761\n"
     ]
    },
    {
     "name": "stderr",
     "output_type": "stream",
     "text": [
      "C:\\Users\\campus4D044\\anaconda3\\Lib\\site-packages\\pytorch_tabnet\\callbacks.py:172: UserWarning: Best weights from best epoch are automatically used!\n",
      "  warnings.warn(wrn_msg)\n",
      "[I 2025-07-17 10:11:31,199] Trial 27 finished with value: 0.5176085176085176 and parameters: {'n_d': 56, 'n_a': 32, 'n_steps': 4, 'gamma': 1.5008291954401394, 'lambda_sparse': 0.0058060673924064206, 'lr': 0.003920955641067566, 'mask_type': 'entmax'}. Best is trial 23 with value: 0.5421785421785422.\n"
     ]
    },
    {
     "name": "stdout",
     "output_type": "stream",
     "text": [
      "\n",
      "Early stopping occurred at epoch 10 with best_epoch = 0 and best_val_0_accuracy = 0.48239\n"
     ]
    },
    {
     "name": "stderr",
     "output_type": "stream",
     "text": [
      "C:\\Users\\campus4D044\\anaconda3\\Lib\\site-packages\\pytorch_tabnet\\callbacks.py:172: UserWarning: Best weights from best epoch are automatically used!\n",
      "  warnings.warn(wrn_msg)\n",
      "[I 2025-07-17 10:11:35,751] Trial 28 finished with value: 0.4823914823914824 and parameters: {'n_d': 50, 'n_a': 24, 'n_steps': 3, 'gamma': 1.344106395567901, 'lambda_sparse': 0.0325356197480173, 'lr': 0.002712782428417435, 'mask_type': 'entmax'}. Best is trial 23 with value: 0.5421785421785422.\n"
     ]
    },
    {
     "name": "stdout",
     "output_type": "stream",
     "text": [
      "\n",
      "Early stopping occurred at epoch 15 with best_epoch = 5 and best_val_0_accuracy = 0.51761\n"
     ]
    },
    {
     "name": "stderr",
     "output_type": "stream",
     "text": [
      "C:\\Users\\campus4D044\\anaconda3\\Lib\\site-packages\\pytorch_tabnet\\callbacks.py:172: UserWarning: Best weights from best epoch are automatically used!\n",
      "  warnings.warn(wrn_msg)\n",
      "[I 2025-07-17 10:11:43,271] Trial 29 finished with value: 0.5176085176085176 and parameters: {'n_d': 60, 'n_a': 35, 'n_steps': 3, 'gamma': 1.2344165823159132, 'lambda_sparse': 0.007037090439770757, 'lr': 0.015443501807953204, 'mask_type': 'entmax'}. Best is trial 23 with value: 0.5421785421785422.\n"
     ]
    },
    {
     "name": "stdout",
     "output_type": "stream",
     "text": [
      "Best params: {'n_d': 35, 'n_a': 32, 'n_steps': 3, 'gamma': 1.7029645287311754, 'lambda_sparse': 0.0013760855886573039, 'lr': 0.013960560634170088, 'mask_type': 'entmax'}\n",
      "Best accuracy: 0.5421785421785422\n"
     ]
    }
   ],
   "source": [
    "# Optuna 최적화 함수 정의\n",
    "def objective(trial):\n",
    "    params = {\n",
    "        \"n_d\": trial.suggest_int(\"n_d\", 8, 64),\n",
    "        \"n_a\": trial.suggest_int(\"n_a\", 8, 64),\n",
    "        \"n_steps\": trial.suggest_int(\"n_steps\", 3, 10),\n",
    "        \"gamma\": trial.suggest_float(\"gamma\", 1.0, 2.0),\n",
    "        \"lambda_sparse\": trial.suggest_float(\"lambda_sparse\", 1e-5, 1e-1, log=True),\n",
    "        \"optimizer_params\": dict(\n",
    "            lr=trial.suggest_float(\"lr\", 1e-3, 2e-2, log=True)\n",
    "        ),\n",
    "        \"mask_type\": trial.suggest_categorical(\"mask_type\", [\"entmax\", \"sparsemax\"]),\n",
    "        \"seed\": 42,\n",
    "        \"verbose\": 0\n",
    "    }\n",
    "\n",
    "    clf = TabNetClassifier(**params)\n",
    "\n",
    "    clf.fit(\n",
    "        X_train=tr_x.values, y_train=tr_y.values.ravel(),\n",
    "        eval_set=[(tt_x.values, tt_y.values.ravel())],\n",
    "        eval_metric=[\"accuracy\"],\n",
    "        patience=10,\n",
    "        max_epochs=100,\n",
    "        batch_size=256,\n",
    "        virtual_batch_size=128\n",
    "    )\n",
    "\n",
    "    preds = clf.predict(tt_x.values)\n",
    "    acc = accuracy_score(tt_y, preds)\n",
    "    return acc\n",
    "\n",
    "# Optuna 스터디 실행\n",
    "study = optuna.create_study(direction=\"maximize\")\n",
    "study.optimize(objective, n_trials=30)\n",
    "\n",
    "print(\"Best params:\", study.best_params)\n",
    "print(\"Best accuracy:\", study.best_value)"
   ]
  },
  {
   "cell_type": "code",
   "execution_count": 172,
   "id": "51f3d3b2-7477-457b-b44e-e1529b310cf4",
   "metadata": {},
   "outputs": [],
   "source": [
    "best_params = study.best_params\n",
    "best_params[\"optimizer_params\"] = dict(lr=best_params[\"lr\"])\n",
    "del best_params[\"lr\"]"
   ]
  },
  {
   "cell_type": "code",
   "execution_count": null,
   "id": "5c5a3d20-b2b3-4923-a3f0-9005b1d88631",
   "metadata": {},
   "outputs": [],
   "source": []
  },
  {
   "cell_type": "code",
   "execution_count": null,
   "id": "37079fb5-e2e3-449a-9153-45ee18a66e18",
   "metadata": {},
   "outputs": [],
   "source": []
  },
  {
   "cell_type": "code",
   "execution_count": null,
   "id": "0b7859bb-a494-4569-98a9-bca4e45f3099",
   "metadata": {},
   "outputs": [],
   "source": []
  },
  {
   "cell_type": "code",
   "execution_count": 34,
   "id": "1bedc880-8516-4b31-a8e3-4f15f83ac594",
   "metadata": {},
   "outputs": [
    {
     "name": "stdout",
     "output_type": "stream",
     "text": [
      "['환율', '달러', '시장', '미국', '하락', '경제', '중국', '대비', '전망', '금리', '기록', '투자', '지수', '외국인', '금융', '가격', '코스피', '예상', '증가', '이날', '수출', '증시', '기업', '거래', '기준', '정부', '실적', '한국', '영향', '글로벌', '일본', '매수', '상황', '경기', '수준', '인상', '마감', '외환', '확대', '정책', '성장', '강세', '물가', '종목', '가능성', '통화', '약세', '기관', '가능', '가치', '지속', '주식', '포인트', '감소', '연구원', '해외', '원화', '위기', '개선', '서울', '주가', '위안화', '유지', '세계', '이익', '전년', '은행', '규모', '회복', '대통령', '설명', '매출', '개인', '판매', '이데일리', '최대', '엔화', '추가', '완화', '자금', '업종', '삼성전자', '전일', '인하', '내년', '코스닥', '수익', '수요', '자산', '급등', '거래일', '상승세', '변동', '무역', '영업', '시작', '달러화', '조정', '상품']\n"
     ]
    }
   ],
   "source": [
    "print(list(x.columns))"
   ]
  },
  {
   "cell_type": "code",
   "execution_count": 110,
   "id": "19cabfa9-485a-48a7-9203-173945f5062a",
   "metadata": {},
   "outputs": [
    {
     "name": "stderr",
     "output_type": "stream",
     "text": [
      "C:\\Users\\campus4D044\\anaconda3\\Lib\\site-packages\\openpyxl\\styles\\stylesheet.py:237: UserWarning: Workbook contains no default style, apply openpyxl's default\n",
      "  warn(\"Workbook contains no default style, apply openpyxl's default\")\n"
     ]
    }
   ],
   "source": [
    "test_news=pd.read_excel('./data/test_news/NewsResult_20250701-20250704.xlsx')[['뉴스 식별자','일자','키워드','특성추출(가중치순 상위 50개)','본문']]"
   ]
  },
  {
   "cell_type": "code",
   "execution_count": 116,
   "id": "cfda9768-64c8-49b8-89d2-328455d2b81c",
   "metadata": {},
   "outputs": [],
   "source": [
    "test_news['날짜']=pd.to_datetime(test_news['일자'],format='%Y%m%d')"
   ]
  },
  {
   "cell_type": "code",
   "execution_count": 118,
   "id": "c6c5ffdd-c189-4bc6-8852-c24e1ed3db29",
   "metadata": {},
   "outputs": [],
   "source": [
    "test_news=test_news[['날짜','키워드']]"
   ]
  },
  {
   "cell_type": "code",
   "execution_count": 121,
   "id": "d7e789c3-2b0e-448a-af5d-714d069a000f",
   "metadata": {},
   "outputs": [],
   "source": [
    "test_df=pd.DataFrame({'date':test_news['날짜'],'keywords':test_news['키워드']})\n",
    "test_df['keyword_list']=test_df['keywords'].apply(lambda x: x.split(','))\n",
    "test_daily_keywords=test_df.groupby('date')['keyword_list'].apply(lambda lists: ' '.join(sum(lists, []))).reset_index()\n",
    "test_tfidf_matrix=vectorizer.transform(test_daily_keywords['keyword_list'])\n",
    "test_tfidf_df=pd.DataFrame(test_tfidf_matrix.toarray(),columns=terms)\n",
    "test_tfidf_df['date']=test_daily_keywords['date']"
   ]
  },
  {
   "cell_type": "code",
   "execution_count": 125,
   "id": "9b670baa-62f4-4746-9bff-382d5435b90d",
   "metadata": {},
   "outputs": [],
   "source": [
    "test_tfidf_df['날짜']=pd.to_datetime(test_tfidf_df['date'])"
   ]
  },
  {
   "cell_type": "code",
   "execution_count": 126,
   "id": "f0ce8d94-3e5e-4da1-b6db-2ab3d48209d6",
   "metadata": {},
   "outputs": [],
   "source": [
    "test_tfidf_df=test_tfidf_df.drop('date',axis=1)"
   ]
  },
  {
   "cell_type": "code",
   "execution_count": 128,
   "id": "6b71b140-b63f-45f8-8677-0d6a93c35478",
   "metadata": {},
   "outputs": [],
   "source": [
    "test_merged=pd.merge(test_tfidf_df,ex_rate,on='날짜',how='inner')"
   ]
  },
  {
   "cell_type": "code",
   "execution_count": 130,
   "id": "63351f42-11c0-4276-ae8c-f103ef1b84ca",
   "metadata": {},
   "outputs": [],
   "source": [
    "test_merged['변화율']=test_merged['원/달러(종가 15:30)'].pct_change().shift(-1)\n",
    "test_merged['상승']=(test_merged['변화율']>0).astype(int)"
   ]
  },
  {
   "cell_type": "code",
   "execution_count": 143,
   "id": "3bff7d5a-4ffb-46d6-90b6-1074c4658860",
   "metadata": {},
   "outputs": [],
   "source": [
    "test_merged=test_merged.dropna()"
   ]
  },
  {
   "cell_type": "code",
   "execution_count": 150,
   "id": "e0aab57d-d3c9-4149-b461-bc61881665bf",
   "metadata": {},
   "outputs": [],
   "source": [
    "test_x=test_merged.drop(['날짜','상승','원/달러(종가 15:30)','변화율'],axis=1)\n",
    "test_y=test_merged['상승']"
   ]
  },
  {
   "cell_type": "code",
   "execution_count": 151,
   "id": "52c89155-aff1-4898-bbdf-8e305904ba14",
   "metadata": {},
   "outputs": [
    {
     "name": "stdout",
     "output_type": "stream",
     "text": [
      "0.6666666666666666\n",
      "0.8\n"
     ]
    }
   ],
   "source": [
    "pred_y=model.predict(test_x)>0.5\n",
    "print(accuracy_score(test_y,pred_y))\n",
    "print(f1_score(test_y,pred_y))"
   ]
  },
  {
   "cell_type": "code",
   "execution_count": 152,
   "id": "f3aa8700-de9a-49d7-a2ed-37aa1936e2f3",
   "metadata": {},
   "outputs": [
    {
     "data": {
      "text/plain": [
       "array([False,  True,  True])"
      ]
     },
     "execution_count": 152,
     "metadata": {},
     "output_type": "execute_result"
    }
   ],
   "source": [
    "pred_y"
   ]
  },
  {
   "cell_type": "code",
   "execution_count": 153,
   "id": "0d69a64b-45bb-4faa-afbb-519aea43299c",
   "metadata": {},
   "outputs": [
    {
     "data": {
      "text/plain": [
       "0    1\n",
       "1    1\n",
       "2    1\n",
       "Name: 상승, dtype: int32"
      ]
     },
     "execution_count": 153,
     "metadata": {},
     "output_type": "execute_result"
    }
   ],
   "source": [
    "test_y"
   ]
  },
  {
   "cell_type": "code",
   "execution_count": null,
   "id": "67504753-9f3a-4211-9bd0-2ff464e49fc5",
   "metadata": {},
   "outputs": [],
   "source": []
  },
  {
   "cell_type": "code",
   "execution_count": null,
   "id": "3a824ebd-d73d-4b45-93f0-1cc5fd2eac08",
   "metadata": {},
   "outputs": [],
   "source": []
  },
  {
   "cell_type": "code",
   "execution_count": null,
   "id": "4f703a91-7d86-442a-997d-fea9dcc359f1",
   "metadata": {},
   "outputs": [],
   "source": []
  },
  {
   "cell_type": "code",
   "execution_count": null,
   "id": "eb08bda7-fec2-4732-ac4d-8d5dc3c23f9f",
   "metadata": {},
   "outputs": [],
   "source": []
  },
  {
   "cell_type": "code",
   "execution_count": 308,
   "id": "fa63c7e6-dbb6-4973-88b1-b59e375d865f",
   "metadata": {},
   "outputs": [],
   "source": [
    "top1000=[kw for kw, _ in Counter(all_keywords).most_common(70)]"
   ]
  },
  {
   "cell_type": "code",
   "execution_count": 309,
   "id": "a3fe21e7-e4cb-4b52-91c0-dde286135f6e",
   "metadata": {},
   "outputs": [],
   "source": [
    "from sklearn.feature_extraction.text import CountVectorizer"
   ]
  },
  {
   "cell_type": "code",
   "execution_count": 310,
   "id": "59431d75-c7ef-499f-9fe1-b843027e92ae",
   "metadata": {},
   "outputs": [],
   "source": [
    "daily_keywords=df.groupby('date')['keyword_list'].apply(lambda lists: ' '.join(sum(lists,[]))).reset_index()"
   ]
  },
  {
   "cell_type": "code",
   "execution_count": 311,
   "id": "8b85d61f-3234-40d1-b224-a6b40c1a37a2",
   "metadata": {},
   "outputs": [],
   "source": [
    "vectorizer=CountVectorizer(vocabulary=top1000)"
   ]
  },
  {
   "cell_type": "code",
   "execution_count": 312,
   "id": "a36ea1da-d7df-4580-b9bb-4fed49d989f1",
   "metadata": {},
   "outputs": [],
   "source": [
    "count_matrix=vectorizer.fit_transform(daily_keywords['keyword_list'])"
   ]
  },
  {
   "cell_type": "code",
   "execution_count": 313,
   "id": "dd33ad6e-210e-4a28-b3b0-e8b488c7b7f9",
   "metadata": {},
   "outputs": [],
   "source": [
    "terms=vectorizer.get_feature_names_out()\n",
    "count_df=pd.DataFrame(count_matrix.toarray())"
   ]
  },
  {
   "cell_type": "code",
   "execution_count": 314,
   "id": "d5dbfbe8-602a-4ad8-be85-7b7c3cc39cf4",
   "metadata": {},
   "outputs": [],
   "source": [
    "count_df['date']=daily_keywords['date']"
   ]
  },
  {
   "cell_type": "code",
   "execution_count": 315,
   "id": "167dca53-0b4a-4e77-9443-fb8a6e0ade24",
   "metadata": {},
   "outputs": [],
   "source": [
    "top_keywords_per_day=[]\n",
    "for i, row in count_df.drop(columns='date').iterrows():\n",
    "    top_terms=row.sort_values(ascending=False).head(10)\n",
    "    for term, freq in top_terms.items():\n",
    "        top_keywords_per_day.append({'date':count_df.loc[i,'date'],'keyword':term,'frequency':freq})\n",
    "\n",
    "top_df=pd.DataFrame(top_keywords_per_day)"
   ]
  },
  {
   "cell_type": "code",
   "execution_count": 316,
   "id": "14334f29-cc26-40e6-bd75-6c581f0e6fe0",
   "metadata": {},
   "outputs": [
    {
     "name": "stdout",
     "output_type": "stream",
     "text": [
      "            date  keyword  frequency\n",
      "0     2009-01-01        6        793\n",
      "1     2009-01-01       58        484\n",
      "2     2009-01-01        9        442\n",
      "3     2009-01-01        0        417\n",
      "4     2009-01-01       26        401\n",
      "...          ...      ...        ...\n",
      "60245 2025-06-30        4        253\n",
      "60246 2025-06-30        1        226\n",
      "60247 2025-06-30       34        215\n",
      "60248 2025-06-30        2        182\n",
      "60249 2025-06-30       13        174\n",
      "\n",
      "[60250 rows x 3 columns]\n"
     ]
    }
   ],
   "source": [
    "print(top_df)"
   ]
  },
  {
   "cell_type": "code",
   "execution_count": 317,
   "id": "60a58136-b0f8-4ed5-a685-1bb354eb516f",
   "metadata": {},
   "outputs": [],
   "source": [
    "count_df['날짜']=count_df['date']\n",
    "count_df=count_df.drop('date',axis=1)"
   ]
  },
  {
   "cell_type": "code",
   "execution_count": 318,
   "id": "64ab9f22-2c5a-4727-b7f7-5d568ede9f9d",
   "metadata": {},
   "outputs": [],
   "source": [
    "ex_rate=pd.read_csv('./data/원화의 대미달러, 원화의 대위안_대엔 환율_10093253.csv')[['날짜','원/달러(종가 15:30)']]"
   ]
  },
  {
   "cell_type": "code",
   "execution_count": 319,
   "id": "e1ccf0a0-3e22-4aff-9fcc-7707fc9c842c",
   "metadata": {},
   "outputs": [],
   "source": [
    "ex_rate['날짜']=pd.to_datetime(ex_rate['날짜'])\n",
    "ex_rate['원/달러(종가 15:30)']=ex_rate['원/달러(종가 15:30)'].str.replace(',','').astype(float)"
   ]
  },
  {
   "cell_type": "code",
   "execution_count": 320,
   "id": "c026c522-c6a8-46cc-bc86-be4dfb3e4f84",
   "metadata": {},
   "outputs": [],
   "source": [
    "merged_data=pd.merge(count_df,ex_rate,on='날짜',how='inner')"
   ]
  },
  {
   "cell_type": "code",
   "execution_count": 321,
   "id": "3979d4eb-6729-4e49-9a37-1760b41da8c5",
   "metadata": {},
   "outputs": [
    {
     "name": "stderr",
     "output_type": "stream",
     "text": [
      "C:\\Users\\campus4D044\\AppData\\Local\\Temp\\ipykernel_4352\\2563095799.py:1: FutureWarning: The default fill_method='pad' in Series.pct_change is deprecated and will be removed in a future version. Either fill in any non-leading NA values prior to calling pct_change or specify 'fill_method=None' to not fill NA values.\n",
      "  merged_data['변화율']=merged_data['원/달러(종가 15:30)'].pct_change().shift(-1)\n"
     ]
    }
   ],
   "source": [
    "merged_data['변화율']=merged_data['원/달러(종가 15:30)'].pct_change().shift(-1)\n",
    "merged_data['상승']=(merged_data['변화율']>0).astype(int)"
   ]
  },
  {
   "cell_type": "code",
   "execution_count": 322,
   "id": "e1ae5df8-e823-4504-b1ba-eee36f5e375f",
   "metadata": {},
   "outputs": [],
   "source": [
    "merged_data['원/달러 shift-1']=merged_data['원/달러(종가 15:30)'].shift(-1)\n",
    "merged_data['차이']=merged_data['원/달러 shift-1']-merged_data['원/달러(종가 15:30)']\n",
    "#merged_data=merged_data[(merged_data['차이']>=5)|(merged_data['차이']<=-5)]"
   ]
  },
  {
   "cell_type": "code",
   "execution_count": 323,
   "id": "fdfef129-7641-4efc-b8f3-2c05b1685a71",
   "metadata": {},
   "outputs": [],
   "source": [
    "merged_data['category']=merged_data['차이'].apply(lambda x: 0 if x<-5 else (1 if -5 <= x < 5 else 2))"
   ]
  },
  {
   "cell_type": "code",
   "execution_count": 324,
   "id": "f1a3fa44-50f3-4d24-8e26-32651e2872bd",
   "metadata": {},
   "outputs": [],
   "source": [
    "x=merged_data.drop(['날짜','상승','원/달러(종가 15:30)','변화율','원/달러 shift-1','차이','category'],axis=1) #\n",
    "y=merged_data[['category']]"
   ]
  },
  {
   "cell_type": "code",
   "execution_count": 325,
   "id": "fb4c8f75-d842-4d82-baab-4a605212d3db",
   "metadata": {},
   "outputs": [],
   "source": [
    "from sklearn.model_selection import train_test_split"
   ]
  },
  {
   "cell_type": "code",
   "execution_count": 326,
   "id": "8292f11a-2a08-45c1-90cf-b1474601f703",
   "metadata": {},
   "outputs": [],
   "source": [
    "tr_x,tt_x,tr_y,tt_y=train_test_split(x,y,train_size=0.7,shuffle=False,random_state=10)"
   ]
  },
  {
   "cell_type": "code",
   "execution_count": 327,
   "id": "d0d6b730-dded-47bd-b77b-535b43a08381",
   "metadata": {},
   "outputs": [],
   "source": [
    "from sklearn.preprocessing import StandardScaler"
   ]
  },
  {
   "cell_type": "code",
   "execution_count": 328,
   "id": "39aafa13-a073-4d38-b33f-ad59afa95b55",
   "metadata": {},
   "outputs": [],
   "source": [
    "ss=StandardScaler()\n",
    "tr_x=ss.fit_transform(tr_x)\n",
    "tt_x=ss.transform(tt_x)"
   ]
  },
  {
   "cell_type": "code",
   "execution_count": 329,
   "id": "2a2d804b-9d8b-4562-9cb0-323312928422",
   "metadata": {},
   "outputs": [],
   "source": [
    "from sklearn.ensemble import RandomForestClassifier"
   ]
  },
  {
   "cell_type": "code",
   "execution_count": 330,
   "id": "8958d561-cf0c-42bc-850e-5babc20275e1",
   "metadata": {},
   "outputs": [
    {
     "name": "stderr",
     "output_type": "stream",
     "text": [
      "C:\\Users\\campus4D044\\anaconda3\\Lib\\site-packages\\sklearn\\base.py:1473: DataConversionWarning: A column-vector y was passed when a 1d array was expected. Please change the shape of y to (n_samples,), for example using ravel().\n",
      "  return fit_method(estimator, *args, **kwargs)\n"
     ]
    }
   ],
   "source": [
    "model=RandomForestClassifier().fit(tr_x,tr_y)"
   ]
  },
  {
   "cell_type": "code",
   "execution_count": 331,
   "id": "2fab8d20-de01-499a-94ad-c99b104becae",
   "metadata": {},
   "outputs": [],
   "source": [
    "pred_y=model.predict(tt_x)"
   ]
  },
  {
   "cell_type": "code",
   "execution_count": 332,
   "id": "d175ae61-090e-46b5-89fc-676d22d60102",
   "metadata": {},
   "outputs": [],
   "source": [
    "from sklearn.metrics import accuracy_score,f1_score,confusion_matrix"
   ]
  },
  {
   "cell_type": "code",
   "execution_count": 333,
   "id": "26e300e2-ddc7-4613-838d-276162db1b35",
   "metadata": {},
   "outputs": [
    {
     "name": "stdout",
     "output_type": "stream",
     "text": [
      "0.600326264274062\n",
      "0.47090899926646407\n",
      "[[  2 212   5]\n",
      " [  7 724   9]\n",
      " [  3 254  10]]\n"
     ]
    }
   ],
   "source": [
    "print(accuracy_score(tt_y,pred_y))\n",
    "print(f1_score(tt_y,pred_y,average='weighted'))\n",
    "print(confusion_matrix(tt_y,pred_y))"
   ]
  },
  {
   "cell_type": "code",
   "execution_count": 334,
   "id": "04f2646b-95c1-4136-b09b-18049bf30ce9",
   "metadata": {},
   "outputs": [],
   "source": [
    "from xgboost import XGBClassifier"
   ]
  },
  {
   "cell_type": "code",
   "execution_count": 335,
   "id": "55180373-8762-4f5f-95f3-e6abfdc637e1",
   "metadata": {},
   "outputs": [],
   "source": [
    "model=XGBClassifier(random_state=10).fit(tr_x,tr_y)"
   ]
  },
  {
   "cell_type": "code",
   "execution_count": 336,
   "id": "0723c353-8895-44c9-87a8-f9f42b05c6e4",
   "metadata": {},
   "outputs": [],
   "source": [
    "pred_y=model.predict(tt_x)"
   ]
  },
  {
   "cell_type": "code",
   "execution_count": 337,
   "id": "1e90f1bd-ba7e-447f-bcd5-02a20cde4fbd",
   "metadata": {},
   "outputs": [
    {
     "name": "stdout",
     "output_type": "stream",
     "text": [
      "0.5709624796084829\n",
      "0.4849063191509954\n",
      "[[ 14 182  23]\n",
      " [ 31 665  44]\n",
      " [ 13 233  21]]\n"
     ]
    }
   ],
   "source": [
    "print(accuracy_score(tt_y,pred_y))\n",
    "print(f1_score(tt_y,pred_y,average='weighted'))\n",
    "print(confusion_matrix(tt_y,pred_y))"
   ]
  },
  {
   "cell_type": "code",
   "execution_count": 338,
   "id": "41306de1-107b-4af2-a859-02a893a8e488",
   "metadata": {},
   "outputs": [],
   "source": [
    "from lightgbm import LGBMClassifier"
   ]
  },
  {
   "cell_type": "code",
   "execution_count": 339,
   "id": "9aedc94c-1e8e-4e89-add2-ece969444f51",
   "metadata": {
    "scrolled": true
   },
   "outputs": [
    {
     "name": "stdout",
     "output_type": "stream",
     "text": [
      "[LightGBM] [Info] Auto-choosing col-wise multi-threading, the overhead of testing was 0.002592 seconds.\n",
      "You can set `force_col_wise=true` to remove the overhead.\n",
      "[LightGBM] [Info] Total Bins 14970\n",
      "[LightGBM] [Info] Number of data points in the train set: 2858, number of used features: 70\n",
      "[LightGBM] [Info] Start training from score -1.666308\n",
      "[LightGBM] [Info] Start training from score -0.491650\n",
      "[LightGBM] [Info] Start training from score -1.612241\n"
     ]
    },
    {
     "name": "stderr",
     "output_type": "stream",
     "text": [
      "C:\\Users\\campus4D044\\anaconda3\\Lib\\site-packages\\sklearn\\preprocessing\\_label.py:97: DataConversionWarning: A column-vector y was passed when a 1d array was expected. Please change the shape of y to (n_samples, ), for example using ravel().\n",
      "  y = column_or_1d(y, warn=True)\n",
      "C:\\Users\\campus4D044\\anaconda3\\Lib\\site-packages\\sklearn\\preprocessing\\_label.py:132: DataConversionWarning: A column-vector y was passed when a 1d array was expected. Please change the shape of y to (n_samples, ), for example using ravel().\n",
      "  y = column_or_1d(y, dtype=self.classes_.dtype, warn=True)\n"
     ]
    }
   ],
   "source": [
    "model=LGBMClassifier(random_state=10).fit(tr_x,tr_y)"
   ]
  },
  {
   "cell_type": "code",
   "execution_count": 340,
   "id": "ea80f9fd-8c8c-4330-96af-57d4249ff360",
   "metadata": {},
   "outputs": [],
   "source": [
    "pred_y=model.predict(tt_x)"
   ]
  },
  {
   "cell_type": "code",
   "execution_count": 341,
   "id": "8086cebd-37c2-4f38-84d6-6ea04521f159",
   "metadata": {},
   "outputs": [
    {
     "name": "stdout",
     "output_type": "stream",
     "text": [
      "0.566884176182708\n",
      "0.4881182607271266\n",
      "[[ 12 184  23]\n",
      " [ 28 653  59]\n",
      " [ 14 223  30]]\n"
     ]
    }
   ],
   "source": [
    "print(accuracy_score(tt_y,pred_y))\n",
    "print(f1_score(tt_y,pred_y,average='weighted'))\n",
    "print(confusion_matrix(tt_y,pred_y))"
   ]
  },
  {
   "cell_type": "code",
   "execution_count": 342,
   "id": "d5318154-5281-45e9-9f99-d5317a21f48c",
   "metadata": {},
   "outputs": [],
   "source": [
    "from catboost import CatBoostClassifier"
   ]
  },
  {
   "cell_type": "code",
   "execution_count": 343,
   "id": "dd59aa39-630d-4ae8-9e3a-c0bb53467ec1",
   "metadata": {
    "scrolled": true
   },
   "outputs": [
    {
     "name": "stdout",
     "output_type": "stream",
     "text": [
      "Learning rate set to 0.08348\n",
      "0:\tlearn: 1.0699317\ttotal: 29ms\tremaining: 29s\n",
      "1:\tlearn: 1.0463915\ttotal: 44.5ms\tremaining: 22.2s\n",
      "2:\tlearn: 1.0261521\ttotal: 60.3ms\tremaining: 20s\n",
      "3:\tlearn: 1.0090897\ttotal: 75.7ms\tremaining: 18.8s\n",
      "4:\tlearn: 0.9955054\ttotal: 93.3ms\tremaining: 18.6s\n",
      "5:\tlearn: 0.9817075\ttotal: 109ms\tremaining: 18.1s\n",
      "6:\tlearn: 0.9710240\ttotal: 126ms\tremaining: 17.9s\n",
      "7:\tlearn: 0.9614552\ttotal: 142ms\tremaining: 17.6s\n",
      "8:\tlearn: 0.9536362\ttotal: 157ms\tremaining: 17.3s\n",
      "9:\tlearn: 0.9471939\ttotal: 172ms\tremaining: 17s\n",
      "10:\tlearn: 0.9407989\ttotal: 187ms\tremaining: 16.8s\n",
      "11:\tlearn: 0.9351806\ttotal: 203ms\tremaining: 16.7s\n",
      "12:\tlearn: 0.9303954\ttotal: 218ms\tremaining: 16.5s\n",
      "13:\tlearn: 0.9260233\ttotal: 233ms\tremaining: 16.4s\n",
      "14:\tlearn: 0.9215579\ttotal: 248ms\tremaining: 16.3s\n",
      "15:\tlearn: 0.9178426\ttotal: 263ms\tremaining: 16.2s\n",
      "16:\tlearn: 0.9147629\ttotal: 278ms\tremaining: 16.1s\n",
      "17:\tlearn: 0.9111604\ttotal: 293ms\tremaining: 16s\n",
      "18:\tlearn: 0.9082186\ttotal: 308ms\tremaining: 15.9s\n",
      "19:\tlearn: 0.9052591\ttotal: 323ms\tremaining: 15.8s\n",
      "20:\tlearn: 0.9029534\ttotal: 340ms\tremaining: 15.8s\n",
      "21:\tlearn: 0.9002512\ttotal: 355ms\tremaining: 15.8s\n",
      "22:\tlearn: 0.8984844\ttotal: 370ms\tremaining: 15.7s\n",
      "23:\tlearn: 0.8966384\ttotal: 385ms\tremaining: 15.7s\n",
      "24:\tlearn: 0.8948421\ttotal: 402ms\tremaining: 15.7s\n",
      "25:\tlearn: 0.8924455\ttotal: 418ms\tremaining: 15.7s\n",
      "26:\tlearn: 0.8904265\ttotal: 434ms\tremaining: 15.6s\n",
      "27:\tlearn: 0.8886632\ttotal: 449ms\tremaining: 15.6s\n",
      "28:\tlearn: 0.8872445\ttotal: 464ms\tremaining: 15.5s\n",
      "29:\tlearn: 0.8853020\ttotal: 479ms\tremaining: 15.5s\n",
      "30:\tlearn: 0.8830222\ttotal: 494ms\tremaining: 15.4s\n",
      "31:\tlearn: 0.8820130\ttotal: 509ms\tremaining: 15.4s\n",
      "32:\tlearn: 0.8804215\ttotal: 524ms\tremaining: 15.4s\n",
      "33:\tlearn: 0.8783559\ttotal: 541ms\tremaining: 15.4s\n",
      "34:\tlearn: 0.8771391\ttotal: 558ms\tremaining: 15.4s\n",
      "35:\tlearn: 0.8755392\ttotal: 574ms\tremaining: 15.4s\n",
      "36:\tlearn: 0.8743637\ttotal: 591ms\tremaining: 15.4s\n",
      "37:\tlearn: 0.8728547\ttotal: 607ms\tremaining: 15.4s\n",
      "38:\tlearn: 0.8717861\ttotal: 622ms\tremaining: 15.3s\n",
      "39:\tlearn: 0.8701543\ttotal: 637ms\tremaining: 15.3s\n",
      "40:\tlearn: 0.8687135\ttotal: 651ms\tremaining: 15.2s\n",
      "41:\tlearn: 0.8671781\ttotal: 666ms\tremaining: 15.2s\n",
      "42:\tlearn: 0.8663660\ttotal: 681ms\tremaining: 15.2s\n",
      "43:\tlearn: 0.8651560\ttotal: 696ms\tremaining: 15.1s\n",
      "44:\tlearn: 0.8632926\ttotal: 712ms\tremaining: 15.1s\n",
      "45:\tlearn: 0.8620630\ttotal: 727ms\tremaining: 15.1s\n",
      "46:\tlearn: 0.8598163\ttotal: 743ms\tremaining: 15.1s\n",
      "47:\tlearn: 0.8587138\ttotal: 759ms\tremaining: 15s\n",
      "48:\tlearn: 0.8571735\ttotal: 774ms\tremaining: 15s\n",
      "49:\tlearn: 0.8560932\ttotal: 790ms\tremaining: 15s\n",
      "50:\tlearn: 0.8550981\ttotal: 805ms\tremaining: 15s\n",
      "51:\tlearn: 0.8526462\ttotal: 821ms\tremaining: 15s\n",
      "52:\tlearn: 0.8509879\ttotal: 837ms\tremaining: 15s\n",
      "53:\tlearn: 0.8491565\ttotal: 852ms\tremaining: 14.9s\n",
      "54:\tlearn: 0.8472916\ttotal: 867ms\tremaining: 14.9s\n",
      "55:\tlearn: 0.8464651\ttotal: 882ms\tremaining: 14.9s\n",
      "56:\tlearn: 0.8451358\ttotal: 898ms\tremaining: 14.9s\n",
      "57:\tlearn: 0.8439411\ttotal: 914ms\tremaining: 14.8s\n",
      "58:\tlearn: 0.8431432\ttotal: 929ms\tremaining: 14.8s\n",
      "59:\tlearn: 0.8419599\ttotal: 944ms\tremaining: 14.8s\n",
      "60:\tlearn: 0.8403395\ttotal: 962ms\tremaining: 14.8s\n",
      "61:\tlearn: 0.8389794\ttotal: 979ms\tremaining: 14.8s\n",
      "62:\tlearn: 0.8370226\ttotal: 995ms\tremaining: 14.8s\n",
      "63:\tlearn: 0.8357186\ttotal: 1.01s\tremaining: 14.8s\n",
      "64:\tlearn: 0.8350594\ttotal: 1.03s\tremaining: 14.8s\n",
      "65:\tlearn: 0.8342475\ttotal: 1.04s\tremaining: 14.7s\n",
      "66:\tlearn: 0.8328809\ttotal: 1.06s\tremaining: 14.7s\n",
      "67:\tlearn: 0.8314354\ttotal: 1.07s\tremaining: 14.7s\n",
      "68:\tlearn: 0.8307720\ttotal: 1.09s\tremaining: 14.7s\n",
      "69:\tlearn: 0.8302316\ttotal: 1.1s\tremaining: 14.6s\n",
      "70:\tlearn: 0.8282789\ttotal: 1.12s\tremaining: 14.6s\n",
      "71:\tlearn: 0.8265088\ttotal: 1.13s\tremaining: 14.6s\n",
      "72:\tlearn: 0.8257976\ttotal: 1.15s\tremaining: 14.6s\n",
      "73:\tlearn: 0.8244174\ttotal: 1.16s\tremaining: 14.6s\n",
      "74:\tlearn: 0.8235491\ttotal: 1.18s\tremaining: 14.6s\n",
      "75:\tlearn: 0.8228902\ttotal: 1.2s\tremaining: 14.5s\n",
      "76:\tlearn: 0.8221653\ttotal: 1.21s\tremaining: 14.5s\n",
      "77:\tlearn: 0.8205242\ttotal: 1.22s\tremaining: 14.5s\n",
      "78:\tlearn: 0.8193809\ttotal: 1.24s\tremaining: 14.5s\n",
      "79:\tlearn: 0.8188275\ttotal: 1.26s\tremaining: 14.4s\n",
      "80:\tlearn: 0.8183110\ttotal: 1.27s\tremaining: 14.4s\n",
      "81:\tlearn: 0.8170075\ttotal: 1.29s\tremaining: 14.4s\n",
      "82:\tlearn: 0.8157650\ttotal: 1.3s\tremaining: 14.4s\n",
      "83:\tlearn: 0.8153958\ttotal: 1.32s\tremaining: 14.4s\n",
      "84:\tlearn: 0.8131441\ttotal: 1.33s\tremaining: 14.3s\n",
      "85:\tlearn: 0.8116119\ttotal: 1.35s\tremaining: 14.3s\n",
      "86:\tlearn: 0.8102755\ttotal: 1.36s\tremaining: 14.3s\n",
      "87:\tlearn: 0.8094378\ttotal: 1.38s\tremaining: 14.3s\n",
      "88:\tlearn: 0.8079001\ttotal: 1.39s\tremaining: 14.3s\n",
      "89:\tlearn: 0.8068983\ttotal: 1.41s\tremaining: 14.3s\n",
      "90:\tlearn: 0.8055466\ttotal: 1.43s\tremaining: 14.2s\n",
      "91:\tlearn: 0.8047023\ttotal: 1.44s\tremaining: 14.2s\n",
      "92:\tlearn: 0.8036613\ttotal: 1.46s\tremaining: 14.2s\n",
      "93:\tlearn: 0.8028565\ttotal: 1.47s\tremaining: 14.2s\n",
      "94:\tlearn: 0.8015584\ttotal: 1.49s\tremaining: 14.2s\n",
      "95:\tlearn: 0.8007926\ttotal: 1.5s\tremaining: 14.2s\n",
      "96:\tlearn: 0.7997734\ttotal: 1.52s\tremaining: 14.2s\n",
      "97:\tlearn: 0.7989932\ttotal: 1.54s\tremaining: 14.2s\n",
      "98:\tlearn: 0.7974042\ttotal: 1.55s\tremaining: 14.2s\n",
      "99:\tlearn: 0.7958990\ttotal: 1.57s\tremaining: 14.1s\n",
      "100:\tlearn: 0.7947498\ttotal: 1.58s\tremaining: 14.1s\n",
      "101:\tlearn: 0.7940386\ttotal: 1.6s\tremaining: 14.1s\n",
      "102:\tlearn: 0.7929753\ttotal: 1.62s\tremaining: 14.1s\n",
      "103:\tlearn: 0.7909312\ttotal: 1.63s\tremaining: 14.1s\n",
      "104:\tlearn: 0.7901404\ttotal: 1.65s\tremaining: 14s\n",
      "105:\tlearn: 0.7889410\ttotal: 1.66s\tremaining: 14s\n",
      "106:\tlearn: 0.7875618\ttotal: 1.68s\tremaining: 14s\n",
      "107:\tlearn: 0.7862527\ttotal: 1.69s\tremaining: 14s\n",
      "108:\tlearn: 0.7848506\ttotal: 1.71s\tremaining: 14s\n",
      "109:\tlearn: 0.7837644\ttotal: 1.73s\tremaining: 14s\n",
      "110:\tlearn: 0.7826646\ttotal: 1.74s\tremaining: 13.9s\n",
      "111:\tlearn: 0.7812795\ttotal: 1.76s\tremaining: 13.9s\n",
      "112:\tlearn: 0.7801101\ttotal: 1.77s\tremaining: 13.9s\n",
      "113:\tlearn: 0.7783189\ttotal: 1.79s\tremaining: 13.9s\n",
      "114:\tlearn: 0.7768617\ttotal: 1.8s\tremaining: 13.9s\n",
      "115:\tlearn: 0.7752470\ttotal: 1.82s\tremaining: 13.9s\n",
      "116:\tlearn: 0.7739860\ttotal: 1.83s\tremaining: 13.8s\n",
      "117:\tlearn: 0.7719431\ttotal: 1.85s\tremaining: 13.8s\n",
      "118:\tlearn: 0.7708183\ttotal: 1.86s\tremaining: 13.8s\n",
      "119:\tlearn: 0.7687666\ttotal: 1.88s\tremaining: 13.8s\n",
      "120:\tlearn: 0.7675389\ttotal: 1.9s\tremaining: 13.8s\n",
      "121:\tlearn: 0.7660483\ttotal: 1.91s\tremaining: 13.8s\n",
      "122:\tlearn: 0.7648546\ttotal: 1.93s\tremaining: 13.7s\n",
      "123:\tlearn: 0.7636723\ttotal: 1.94s\tremaining: 13.7s\n",
      "124:\tlearn: 0.7621490\ttotal: 1.96s\tremaining: 13.7s\n",
      "125:\tlearn: 0.7612372\ttotal: 1.97s\tremaining: 13.7s\n",
      "126:\tlearn: 0.7600422\ttotal: 1.99s\tremaining: 13.7s\n",
      "127:\tlearn: 0.7591819\ttotal: 2s\tremaining: 13.7s\n",
      "128:\tlearn: 0.7571785\ttotal: 2.02s\tremaining: 13.6s\n",
      "129:\tlearn: 0.7553548\ttotal: 2.04s\tremaining: 13.6s\n",
      "130:\tlearn: 0.7543828\ttotal: 2.05s\tremaining: 13.6s\n",
      "131:\tlearn: 0.7533758\ttotal: 2.07s\tremaining: 13.6s\n",
      "132:\tlearn: 0.7523046\ttotal: 2.08s\tremaining: 13.6s\n",
      "133:\tlearn: 0.7512668\ttotal: 2.1s\tremaining: 13.6s\n",
      "134:\tlearn: 0.7500651\ttotal: 2.11s\tremaining: 13.5s\n",
      "135:\tlearn: 0.7495309\ttotal: 2.13s\tremaining: 13.5s\n",
      "136:\tlearn: 0.7467957\ttotal: 2.14s\tremaining: 13.5s\n",
      "137:\tlearn: 0.7450798\ttotal: 2.16s\tremaining: 13.5s\n",
      "138:\tlearn: 0.7439561\ttotal: 2.17s\tremaining: 13.5s\n",
      "139:\tlearn: 0.7426549\ttotal: 2.19s\tremaining: 13.5s\n",
      "140:\tlearn: 0.7417521\ttotal: 2.21s\tremaining: 13.4s\n",
      "141:\tlearn: 0.7401949\ttotal: 2.22s\tremaining: 13.4s\n",
      "142:\tlearn: 0.7384792\ttotal: 2.24s\tremaining: 13.4s\n",
      "143:\tlearn: 0.7369034\ttotal: 2.25s\tremaining: 13.4s\n",
      "144:\tlearn: 0.7362201\ttotal: 2.27s\tremaining: 13.4s\n",
      "145:\tlearn: 0.7349474\ttotal: 2.28s\tremaining: 13.4s\n",
      "146:\tlearn: 0.7336993\ttotal: 2.3s\tremaining: 13.3s\n",
      "147:\tlearn: 0.7328868\ttotal: 2.31s\tremaining: 13.3s\n",
      "148:\tlearn: 0.7319900\ttotal: 2.33s\tremaining: 13.3s\n",
      "149:\tlearn: 0.7301255\ttotal: 2.35s\tremaining: 13.3s\n",
      "150:\tlearn: 0.7295181\ttotal: 2.36s\tremaining: 13.3s\n",
      "151:\tlearn: 0.7284481\ttotal: 2.38s\tremaining: 13.3s\n",
      "152:\tlearn: 0.7266132\ttotal: 2.39s\tremaining: 13.2s\n",
      "153:\tlearn: 0.7252638\ttotal: 2.41s\tremaining: 13.2s\n",
      "154:\tlearn: 0.7226314\ttotal: 2.42s\tremaining: 13.2s\n",
      "155:\tlearn: 0.7212912\ttotal: 2.44s\tremaining: 13.2s\n",
      "156:\tlearn: 0.7196991\ttotal: 2.46s\tremaining: 13.2s\n",
      "157:\tlearn: 0.7183987\ttotal: 2.47s\tremaining: 13.2s\n",
      "158:\tlearn: 0.7166092\ttotal: 2.49s\tremaining: 13.1s\n",
      "159:\tlearn: 0.7157845\ttotal: 2.5s\tremaining: 13.1s\n",
      "160:\tlearn: 0.7139915\ttotal: 2.52s\tremaining: 13.1s\n",
      "161:\tlearn: 0.7128007\ttotal: 2.54s\tremaining: 13.1s\n",
      "162:\tlearn: 0.7107387\ttotal: 2.55s\tremaining: 13.1s\n",
      "163:\tlearn: 0.7096391\ttotal: 2.57s\tremaining: 13.1s\n",
      "164:\tlearn: 0.7077986\ttotal: 2.58s\tremaining: 13.1s\n",
      "165:\tlearn: 0.7058908\ttotal: 2.6s\tremaining: 13.1s\n",
      "166:\tlearn: 0.7044528\ttotal: 2.61s\tremaining: 13s\n",
      "167:\tlearn: 0.7036035\ttotal: 2.63s\tremaining: 13s\n",
      "168:\tlearn: 0.7023272\ttotal: 2.65s\tremaining: 13s\n",
      "169:\tlearn: 0.7007638\ttotal: 2.66s\tremaining: 13s\n",
      "170:\tlearn: 0.6997538\ttotal: 2.68s\tremaining: 13s\n",
      "171:\tlearn: 0.6991219\ttotal: 2.69s\tremaining: 13s\n",
      "172:\tlearn: 0.6979783\ttotal: 2.71s\tremaining: 12.9s\n",
      "173:\tlearn: 0.6961545\ttotal: 2.72s\tremaining: 12.9s\n",
      "174:\tlearn: 0.6942011\ttotal: 2.74s\tremaining: 12.9s\n",
      "175:\tlearn: 0.6929068\ttotal: 2.76s\tremaining: 12.9s\n",
      "176:\tlearn: 0.6918713\ttotal: 2.77s\tremaining: 12.9s\n",
      "177:\tlearn: 0.6906378\ttotal: 2.79s\tremaining: 12.9s\n",
      "178:\tlearn: 0.6893836\ttotal: 2.8s\tremaining: 12.9s\n",
      "179:\tlearn: 0.6884551\ttotal: 2.82s\tremaining: 12.8s\n",
      "180:\tlearn: 0.6866179\ttotal: 2.83s\tremaining: 12.8s\n",
      "181:\tlearn: 0.6850113\ttotal: 2.85s\tremaining: 12.8s\n",
      "182:\tlearn: 0.6840605\ttotal: 2.87s\tremaining: 12.8s\n",
      "183:\tlearn: 0.6828860\ttotal: 2.88s\tremaining: 12.8s\n",
      "184:\tlearn: 0.6810386\ttotal: 2.9s\tremaining: 12.8s\n",
      "185:\tlearn: 0.6797315\ttotal: 2.91s\tremaining: 12.8s\n",
      "186:\tlearn: 0.6772782\ttotal: 2.93s\tremaining: 12.7s\n",
      "187:\tlearn: 0.6760216\ttotal: 2.94s\tremaining: 12.7s\n",
      "188:\tlearn: 0.6750539\ttotal: 2.96s\tremaining: 12.7s\n",
      "189:\tlearn: 0.6743049\ttotal: 2.98s\tremaining: 12.7s\n",
      "190:\tlearn: 0.6732417\ttotal: 2.99s\tremaining: 12.7s\n",
      "191:\tlearn: 0.6725552\ttotal: 3.01s\tremaining: 12.7s\n",
      "192:\tlearn: 0.6713663\ttotal: 3.02s\tremaining: 12.6s\n",
      "193:\tlearn: 0.6704758\ttotal: 3.04s\tremaining: 12.6s\n",
      "194:\tlearn: 0.6695492\ttotal: 3.05s\tremaining: 12.6s\n",
      "195:\tlearn: 0.6685680\ttotal: 3.07s\tremaining: 12.6s\n",
      "196:\tlearn: 0.6674729\ttotal: 3.08s\tremaining: 12.6s\n",
      "197:\tlearn: 0.6668163\ttotal: 3.1s\tremaining: 12.6s\n",
      "198:\tlearn: 0.6653709\ttotal: 3.12s\tremaining: 12.5s\n",
      "199:\tlearn: 0.6636069\ttotal: 3.13s\tremaining: 12.5s\n",
      "200:\tlearn: 0.6623978\ttotal: 3.15s\tremaining: 12.5s\n",
      "201:\tlearn: 0.6612187\ttotal: 3.17s\tremaining: 12.5s\n",
      "202:\tlearn: 0.6595582\ttotal: 3.18s\tremaining: 12.5s\n",
      "203:\tlearn: 0.6580586\ttotal: 3.2s\tremaining: 12.5s\n",
      "204:\tlearn: 0.6565275\ttotal: 3.21s\tremaining: 12.5s\n",
      "205:\tlearn: 0.6553092\ttotal: 3.23s\tremaining: 12.4s\n",
      "206:\tlearn: 0.6544108\ttotal: 3.24s\tremaining: 12.4s\n",
      "207:\tlearn: 0.6530009\ttotal: 3.26s\tremaining: 12.4s\n",
      "208:\tlearn: 0.6525008\ttotal: 3.28s\tremaining: 12.4s\n",
      "209:\tlearn: 0.6521103\ttotal: 3.29s\tremaining: 12.4s\n",
      "210:\tlearn: 0.6509650\ttotal: 3.31s\tremaining: 12.4s\n",
      "211:\tlearn: 0.6494498\ttotal: 3.32s\tremaining: 12.4s\n",
      "212:\tlearn: 0.6488080\ttotal: 3.34s\tremaining: 12.3s\n",
      "213:\tlearn: 0.6479876\ttotal: 3.35s\tremaining: 12.3s\n",
      "214:\tlearn: 0.6471661\ttotal: 3.37s\tremaining: 12.3s\n",
      "215:\tlearn: 0.6455326\ttotal: 3.38s\tremaining: 12.3s\n",
      "216:\tlearn: 0.6445731\ttotal: 3.4s\tremaining: 12.3s\n",
      "217:\tlearn: 0.6436700\ttotal: 3.42s\tremaining: 12.3s\n",
      "218:\tlearn: 0.6419209\ttotal: 3.43s\tremaining: 12.2s\n",
      "219:\tlearn: 0.6407496\ttotal: 3.45s\tremaining: 12.2s\n",
      "220:\tlearn: 0.6397379\ttotal: 3.46s\tremaining: 12.2s\n",
      "221:\tlearn: 0.6391509\ttotal: 3.48s\tremaining: 12.2s\n",
      "222:\tlearn: 0.6384155\ttotal: 3.5s\tremaining: 12.2s\n",
      "223:\tlearn: 0.6374474\ttotal: 3.51s\tremaining: 12.2s\n",
      "224:\tlearn: 0.6364048\ttotal: 3.53s\tremaining: 12.2s\n",
      "225:\tlearn: 0.6349011\ttotal: 3.54s\tremaining: 12.1s\n",
      "226:\tlearn: 0.6321706\ttotal: 3.56s\tremaining: 12.1s\n",
      "227:\tlearn: 0.6304027\ttotal: 3.58s\tremaining: 12.1s\n",
      "228:\tlearn: 0.6294409\ttotal: 3.59s\tremaining: 12.1s\n",
      "229:\tlearn: 0.6282065\ttotal: 3.61s\tremaining: 12.1s\n",
      "230:\tlearn: 0.6270305\ttotal: 3.62s\tremaining: 12.1s\n",
      "231:\tlearn: 0.6261066\ttotal: 3.64s\tremaining: 12s\n",
      "232:\tlearn: 0.6247880\ttotal: 3.65s\tremaining: 12s\n",
      "233:\tlearn: 0.6238983\ttotal: 3.67s\tremaining: 12s\n",
      "234:\tlearn: 0.6229022\ttotal: 3.69s\tremaining: 12s\n",
      "235:\tlearn: 0.6216806\ttotal: 3.7s\tremaining: 12s\n",
      "236:\tlearn: 0.6209911\ttotal: 3.72s\tremaining: 12s\n",
      "237:\tlearn: 0.6198807\ttotal: 3.73s\tremaining: 12s\n",
      "238:\tlearn: 0.6189992\ttotal: 3.75s\tremaining: 11.9s\n",
      "239:\tlearn: 0.6182392\ttotal: 3.76s\tremaining: 11.9s\n",
      "240:\tlearn: 0.6168587\ttotal: 3.78s\tremaining: 11.9s\n",
      "241:\tlearn: 0.6159054\ttotal: 3.79s\tremaining: 11.9s\n",
      "242:\tlearn: 0.6150624\ttotal: 3.81s\tremaining: 11.9s\n",
      "243:\tlearn: 0.6145102\ttotal: 3.83s\tremaining: 11.9s\n",
      "244:\tlearn: 0.6133632\ttotal: 3.84s\tremaining: 11.8s\n",
      "245:\tlearn: 0.6127622\ttotal: 3.86s\tremaining: 11.8s\n",
      "246:\tlearn: 0.6111608\ttotal: 3.87s\tremaining: 11.8s\n",
      "247:\tlearn: 0.6105415\ttotal: 3.89s\tremaining: 11.8s\n",
      "248:\tlearn: 0.6091437\ttotal: 3.9s\tremaining: 11.8s\n",
      "249:\tlearn: 0.6083026\ttotal: 3.92s\tremaining: 11.8s\n",
      "250:\tlearn: 0.6063494\ttotal: 3.93s\tremaining: 11.7s\n",
      "251:\tlearn: 0.6054564\ttotal: 3.95s\tremaining: 11.7s\n",
      "252:\tlearn: 0.6045421\ttotal: 3.97s\tremaining: 11.7s\n",
      "253:\tlearn: 0.6033917\ttotal: 3.98s\tremaining: 11.7s\n",
      "254:\tlearn: 0.6024913\ttotal: 4s\tremaining: 11.7s\n",
      "255:\tlearn: 0.6012133\ttotal: 4.01s\tremaining: 11.7s\n",
      "256:\tlearn: 0.6005527\ttotal: 4.03s\tremaining: 11.6s\n",
      "257:\tlearn: 0.6002465\ttotal: 4.04s\tremaining: 11.6s\n",
      "258:\tlearn: 0.5992754\ttotal: 4.06s\tremaining: 11.6s\n",
      "259:\tlearn: 0.5985878\ttotal: 4.07s\tremaining: 11.6s\n",
      "260:\tlearn: 0.5977629\ttotal: 4.09s\tremaining: 11.6s\n",
      "261:\tlearn: 0.5966862\ttotal: 4.11s\tremaining: 11.6s\n",
      "262:\tlearn: 0.5960293\ttotal: 4.12s\tremaining: 11.5s\n",
      "263:\tlearn: 0.5952766\ttotal: 4.13s\tremaining: 11.5s\n",
      "264:\tlearn: 0.5940201\ttotal: 4.15s\tremaining: 11.5s\n",
      "265:\tlearn: 0.5930186\ttotal: 4.17s\tremaining: 11.5s\n",
      "266:\tlearn: 0.5917391\ttotal: 4.18s\tremaining: 11.5s\n",
      "267:\tlearn: 0.5907100\ttotal: 4.2s\tremaining: 11.5s\n",
      "268:\tlearn: 0.5897852\ttotal: 4.21s\tremaining: 11.5s\n",
      "269:\tlearn: 0.5891623\ttotal: 4.23s\tremaining: 11.4s\n",
      "270:\tlearn: 0.5888603\ttotal: 4.24s\tremaining: 11.4s\n",
      "271:\tlearn: 0.5880289\ttotal: 4.26s\tremaining: 11.4s\n",
      "272:\tlearn: 0.5869601\ttotal: 4.27s\tremaining: 11.4s\n",
      "273:\tlearn: 0.5860689\ttotal: 4.29s\tremaining: 11.4s\n",
      "274:\tlearn: 0.5854243\ttotal: 4.31s\tremaining: 11.4s\n",
      "275:\tlearn: 0.5838148\ttotal: 4.32s\tremaining: 11.3s\n",
      "276:\tlearn: 0.5830740\ttotal: 4.34s\tremaining: 11.3s\n",
      "277:\tlearn: 0.5815936\ttotal: 4.35s\tremaining: 11.3s\n",
      "278:\tlearn: 0.5811692\ttotal: 4.37s\tremaining: 11.3s\n",
      "279:\tlearn: 0.5801699\ttotal: 4.38s\tremaining: 11.3s\n",
      "280:\tlearn: 0.5797013\ttotal: 4.4s\tremaining: 11.3s\n",
      "281:\tlearn: 0.5786332\ttotal: 4.42s\tremaining: 11.2s\n",
      "282:\tlearn: 0.5775405\ttotal: 4.43s\tremaining: 11.2s\n",
      "283:\tlearn: 0.5767641\ttotal: 4.45s\tremaining: 11.2s\n",
      "284:\tlearn: 0.5758376\ttotal: 4.46s\tremaining: 11.2s\n",
      "285:\tlearn: 0.5743320\ttotal: 4.48s\tremaining: 11.2s\n",
      "286:\tlearn: 0.5726947\ttotal: 4.5s\tremaining: 11.2s\n",
      "287:\tlearn: 0.5719729\ttotal: 4.51s\tremaining: 11.2s\n",
      "288:\tlearn: 0.5706544\ttotal: 4.53s\tremaining: 11.1s\n",
      "289:\tlearn: 0.5695085\ttotal: 4.54s\tremaining: 11.1s\n",
      "290:\tlearn: 0.5688175\ttotal: 4.56s\tremaining: 11.1s\n",
      "291:\tlearn: 0.5679624\ttotal: 4.57s\tremaining: 11.1s\n",
      "292:\tlearn: 0.5669303\ttotal: 4.59s\tremaining: 11.1s\n",
      "293:\tlearn: 0.5661185\ttotal: 4.61s\tremaining: 11.1s\n",
      "294:\tlearn: 0.5654007\ttotal: 4.62s\tremaining: 11s\n",
      "295:\tlearn: 0.5644087\ttotal: 4.64s\tremaining: 11s\n",
      "296:\tlearn: 0.5637847\ttotal: 4.65s\tremaining: 11s\n",
      "297:\tlearn: 0.5627503\ttotal: 4.67s\tremaining: 11s\n",
      "298:\tlearn: 0.5615431\ttotal: 4.68s\tremaining: 11s\n",
      "299:\tlearn: 0.5609480\ttotal: 4.7s\tremaining: 11s\n",
      "300:\tlearn: 0.5597382\ttotal: 4.71s\tremaining: 10.9s\n",
      "301:\tlearn: 0.5586007\ttotal: 4.73s\tremaining: 10.9s\n",
      "302:\tlearn: 0.5578744\ttotal: 4.74s\tremaining: 10.9s\n",
      "303:\tlearn: 0.5567759\ttotal: 4.76s\tremaining: 10.9s\n",
      "304:\tlearn: 0.5555794\ttotal: 4.78s\tremaining: 10.9s\n",
      "305:\tlearn: 0.5549074\ttotal: 4.79s\tremaining: 10.9s\n",
      "306:\tlearn: 0.5540700\ttotal: 4.8s\tremaining: 10.8s\n",
      "307:\tlearn: 0.5528183\ttotal: 4.82s\tremaining: 10.8s\n",
      "308:\tlearn: 0.5521826\ttotal: 4.84s\tremaining: 10.8s\n",
      "309:\tlearn: 0.5511512\ttotal: 4.85s\tremaining: 10.8s\n",
      "310:\tlearn: 0.5503456\ttotal: 4.87s\tremaining: 10.8s\n",
      "311:\tlearn: 0.5500725\ttotal: 4.88s\tremaining: 10.8s\n",
      "312:\tlearn: 0.5494624\ttotal: 4.9s\tremaining: 10.8s\n",
      "313:\tlearn: 0.5487405\ttotal: 4.92s\tremaining: 10.7s\n",
      "314:\tlearn: 0.5481740\ttotal: 4.93s\tremaining: 10.7s\n",
      "315:\tlearn: 0.5471092\ttotal: 4.95s\tremaining: 10.7s\n",
      "316:\tlearn: 0.5459886\ttotal: 4.96s\tremaining: 10.7s\n",
      "317:\tlearn: 0.5453918\ttotal: 4.98s\tremaining: 10.7s\n",
      "318:\tlearn: 0.5449879\ttotal: 5s\tremaining: 10.7s\n",
      "319:\tlearn: 0.5446409\ttotal: 5.01s\tremaining: 10.6s\n",
      "320:\tlearn: 0.5434086\ttotal: 5.03s\tremaining: 10.6s\n",
      "321:\tlearn: 0.5425772\ttotal: 5.04s\tremaining: 10.6s\n",
      "322:\tlearn: 0.5413336\ttotal: 5.06s\tremaining: 10.6s\n",
      "323:\tlearn: 0.5406170\ttotal: 5.07s\tremaining: 10.6s\n",
      "324:\tlearn: 0.5394446\ttotal: 5.09s\tremaining: 10.6s\n",
      "325:\tlearn: 0.5383601\ttotal: 5.11s\tremaining: 10.6s\n",
      "326:\tlearn: 0.5371830\ttotal: 5.12s\tremaining: 10.5s\n",
      "327:\tlearn: 0.5360366\ttotal: 5.14s\tremaining: 10.5s\n",
      "328:\tlearn: 0.5347605\ttotal: 5.15s\tremaining: 10.5s\n",
      "329:\tlearn: 0.5334598\ttotal: 5.17s\tremaining: 10.5s\n",
      "330:\tlearn: 0.5327254\ttotal: 5.19s\tremaining: 10.5s\n",
      "331:\tlearn: 0.5318051\ttotal: 5.2s\tremaining: 10.5s\n",
      "332:\tlearn: 0.5310692\ttotal: 5.22s\tremaining: 10.5s\n",
      "333:\tlearn: 0.5300626\ttotal: 5.24s\tremaining: 10.4s\n",
      "334:\tlearn: 0.5294141\ttotal: 5.25s\tremaining: 10.4s\n",
      "335:\tlearn: 0.5283722\ttotal: 5.27s\tremaining: 10.4s\n",
      "336:\tlearn: 0.5276787\ttotal: 5.28s\tremaining: 10.4s\n",
      "337:\tlearn: 0.5264204\ttotal: 5.3s\tremaining: 10.4s\n",
      "338:\tlearn: 0.5252195\ttotal: 5.31s\tremaining: 10.4s\n",
      "339:\tlearn: 0.5244700\ttotal: 5.33s\tremaining: 10.3s\n",
      "340:\tlearn: 0.5236260\ttotal: 5.34s\tremaining: 10.3s\n",
      "341:\tlearn: 0.5232529\ttotal: 5.36s\tremaining: 10.3s\n",
      "342:\tlearn: 0.5220874\ttotal: 5.38s\tremaining: 10.3s\n",
      "343:\tlearn: 0.5205232\ttotal: 5.39s\tremaining: 10.3s\n",
      "344:\tlearn: 0.5200317\ttotal: 5.41s\tremaining: 10.3s\n",
      "345:\tlearn: 0.5194052\ttotal: 5.42s\tremaining: 10.3s\n",
      "346:\tlearn: 0.5177681\ttotal: 5.44s\tremaining: 10.2s\n",
      "347:\tlearn: 0.5162243\ttotal: 5.46s\tremaining: 10.2s\n",
      "348:\tlearn: 0.5153865\ttotal: 5.47s\tremaining: 10.2s\n",
      "349:\tlearn: 0.5147734\ttotal: 5.49s\tremaining: 10.2s\n",
      "350:\tlearn: 0.5137830\ttotal: 5.51s\tremaining: 10.2s\n",
      "351:\tlearn: 0.5128892\ttotal: 5.52s\tremaining: 10.2s\n",
      "352:\tlearn: 0.5125329\ttotal: 5.54s\tremaining: 10.1s\n",
      "353:\tlearn: 0.5113622\ttotal: 5.55s\tremaining: 10.1s\n",
      "354:\tlearn: 0.5106289\ttotal: 5.57s\tremaining: 10.1s\n",
      "355:\tlearn: 0.5102479\ttotal: 5.58s\tremaining: 10.1s\n",
      "356:\tlearn: 0.5097629\ttotal: 5.6s\tremaining: 10.1s\n",
      "357:\tlearn: 0.5092941\ttotal: 5.61s\tremaining: 10.1s\n",
      "358:\tlearn: 0.5085076\ttotal: 5.63s\tremaining: 10s\n",
      "359:\tlearn: 0.5077943\ttotal: 5.64s\tremaining: 10s\n",
      "360:\tlearn: 0.5071471\ttotal: 5.66s\tremaining: 10s\n",
      "361:\tlearn: 0.5059297\ttotal: 5.67s\tremaining: 10s\n",
      "362:\tlearn: 0.5052718\ttotal: 5.69s\tremaining: 9.98s\n",
      "363:\tlearn: 0.5042346\ttotal: 5.71s\tremaining: 9.98s\n",
      "364:\tlearn: 0.5036613\ttotal: 5.72s\tremaining: 9.96s\n",
      "365:\tlearn: 0.5028423\ttotal: 5.74s\tremaining: 9.94s\n",
      "366:\tlearn: 0.5018439\ttotal: 5.75s\tremaining: 9.93s\n",
      "367:\tlearn: 0.5011121\ttotal: 5.77s\tremaining: 9.91s\n",
      "368:\tlearn: 0.5000446\ttotal: 5.79s\tremaining: 9.89s\n",
      "369:\tlearn: 0.4994338\ttotal: 5.8s\tremaining: 9.88s\n",
      "370:\tlearn: 0.4986249\ttotal: 5.82s\tremaining: 9.86s\n",
      "371:\tlearn: 0.4975034\ttotal: 5.83s\tremaining: 9.85s\n",
      "372:\tlearn: 0.4963444\ttotal: 5.85s\tremaining: 9.83s\n",
      "373:\tlearn: 0.4958327\ttotal: 5.87s\tremaining: 9.82s\n",
      "374:\tlearn: 0.4947037\ttotal: 5.88s\tremaining: 9.8s\n",
      "375:\tlearn: 0.4932472\ttotal: 5.89s\tremaining: 9.78s\n",
      "376:\tlearn: 0.4922431\ttotal: 5.91s\tremaining: 9.77s\n",
      "377:\tlearn: 0.4914942\ttotal: 5.93s\tremaining: 9.75s\n",
      "378:\tlearn: 0.4908041\ttotal: 5.94s\tremaining: 9.73s\n",
      "379:\tlearn: 0.4895162\ttotal: 5.96s\tremaining: 9.72s\n",
      "380:\tlearn: 0.4891229\ttotal: 5.97s\tremaining: 9.7s\n",
      "381:\tlearn: 0.4883293\ttotal: 5.99s\tremaining: 9.69s\n",
      "382:\tlearn: 0.4873275\ttotal: 6s\tremaining: 9.67s\n",
      "383:\tlearn: 0.4861880\ttotal: 6.02s\tremaining: 9.65s\n",
      "384:\tlearn: 0.4852541\ttotal: 6.03s\tremaining: 9.64s\n",
      "385:\tlearn: 0.4842017\ttotal: 6.05s\tremaining: 9.62s\n",
      "386:\tlearn: 0.4832394\ttotal: 6.07s\tremaining: 9.61s\n",
      "387:\tlearn: 0.4823997\ttotal: 6.08s\tremaining: 9.59s\n",
      "388:\tlearn: 0.4817493\ttotal: 6.09s\tremaining: 9.57s\n",
      "389:\tlearn: 0.4807389\ttotal: 6.11s\tremaining: 9.56s\n",
      "390:\tlearn: 0.4796863\ttotal: 6.13s\tremaining: 9.54s\n",
      "391:\tlearn: 0.4791975\ttotal: 6.14s\tremaining: 9.53s\n",
      "392:\tlearn: 0.4787357\ttotal: 6.16s\tremaining: 9.51s\n",
      "393:\tlearn: 0.4778434\ttotal: 6.17s\tremaining: 9.5s\n",
      "394:\tlearn: 0.4770216\ttotal: 6.19s\tremaining: 9.48s\n",
      "395:\tlearn: 0.4762366\ttotal: 6.21s\tremaining: 9.46s\n",
      "396:\tlearn: 0.4758080\ttotal: 6.22s\tremaining: 9.45s\n",
      "397:\tlearn: 0.4749384\ttotal: 6.24s\tremaining: 9.43s\n",
      "398:\tlearn: 0.4742949\ttotal: 6.25s\tremaining: 9.42s\n",
      "399:\tlearn: 0.4740492\ttotal: 6.27s\tremaining: 9.4s\n",
      "400:\tlearn: 0.4732050\ttotal: 6.28s\tremaining: 9.38s\n",
      "401:\tlearn: 0.4727291\ttotal: 6.3s\tremaining: 9.37s\n",
      "402:\tlearn: 0.4720041\ttotal: 6.31s\tremaining: 9.35s\n",
      "403:\tlearn: 0.4713934\ttotal: 6.33s\tremaining: 9.33s\n",
      "404:\tlearn: 0.4708790\ttotal: 6.34s\tremaining: 9.32s\n",
      "405:\tlearn: 0.4702911\ttotal: 6.36s\tremaining: 9.3s\n",
      "406:\tlearn: 0.4699446\ttotal: 6.37s\tremaining: 9.29s\n",
      "407:\tlearn: 0.4687440\ttotal: 6.39s\tremaining: 9.27s\n",
      "408:\tlearn: 0.4682366\ttotal: 6.4s\tremaining: 9.25s\n",
      "409:\tlearn: 0.4674144\ttotal: 6.42s\tremaining: 9.24s\n",
      "410:\tlearn: 0.4670385\ttotal: 6.44s\tremaining: 9.23s\n",
      "411:\tlearn: 0.4665177\ttotal: 6.46s\tremaining: 9.22s\n",
      "412:\tlearn: 0.4657439\ttotal: 6.48s\tremaining: 9.21s\n",
      "413:\tlearn: 0.4646669\ttotal: 6.5s\tremaining: 9.2s\n",
      "414:\tlearn: 0.4634597\ttotal: 6.51s\tremaining: 9.18s\n",
      "415:\tlearn: 0.4625280\ttotal: 6.53s\tremaining: 9.17s\n",
      "416:\tlearn: 0.4615958\ttotal: 6.55s\tremaining: 9.15s\n",
      "417:\tlearn: 0.4608600\ttotal: 6.56s\tremaining: 9.14s\n",
      "418:\tlearn: 0.4602298\ttotal: 6.58s\tremaining: 9.13s\n",
      "419:\tlearn: 0.4595733\ttotal: 6.6s\tremaining: 9.11s\n",
      "420:\tlearn: 0.4587620\ttotal: 6.61s\tremaining: 9.09s\n",
      "421:\tlearn: 0.4578096\ttotal: 6.63s\tremaining: 9.08s\n",
      "422:\tlearn: 0.4569037\ttotal: 6.64s\tremaining: 9.06s\n",
      "423:\tlearn: 0.4557351\ttotal: 6.66s\tremaining: 9.05s\n",
      "424:\tlearn: 0.4553936\ttotal: 6.67s\tremaining: 9.03s\n",
      "425:\tlearn: 0.4549976\ttotal: 6.69s\tremaining: 9.02s\n",
      "426:\tlearn: 0.4543177\ttotal: 6.71s\tremaining: 9s\n",
      "427:\tlearn: 0.4533448\ttotal: 6.72s\tremaining: 8.98s\n",
      "428:\tlearn: 0.4528446\ttotal: 6.74s\tremaining: 8.96s\n",
      "429:\tlearn: 0.4519044\ttotal: 6.75s\tremaining: 8.95s\n",
      "430:\tlearn: 0.4510503\ttotal: 6.77s\tremaining: 8.93s\n",
      "431:\tlearn: 0.4502331\ttotal: 6.78s\tremaining: 8.92s\n",
      "432:\tlearn: 0.4493123\ttotal: 6.8s\tremaining: 8.9s\n",
      "433:\tlearn: 0.4482538\ttotal: 6.81s\tremaining: 8.89s\n",
      "434:\tlearn: 0.4475287\ttotal: 6.83s\tremaining: 8.87s\n",
      "435:\tlearn: 0.4465907\ttotal: 6.84s\tremaining: 8.85s\n",
      "436:\tlearn: 0.4460456\ttotal: 6.86s\tremaining: 8.84s\n",
      "437:\tlearn: 0.4455296\ttotal: 6.88s\tremaining: 8.82s\n",
      "438:\tlearn: 0.4452161\ttotal: 6.89s\tremaining: 8.8s\n",
      "439:\tlearn: 0.4445443\ttotal: 6.91s\tremaining: 8.79s\n",
      "440:\tlearn: 0.4440364\ttotal: 6.92s\tremaining: 8.77s\n",
      "441:\tlearn: 0.4435800\ttotal: 6.94s\tremaining: 8.76s\n",
      "442:\tlearn: 0.4430328\ttotal: 6.95s\tremaining: 8.74s\n",
      "443:\tlearn: 0.4426970\ttotal: 6.97s\tremaining: 8.73s\n",
      "444:\tlearn: 0.4417112\ttotal: 6.99s\tremaining: 8.71s\n",
      "445:\tlearn: 0.4413123\ttotal: 7s\tremaining: 8.7s\n",
      "446:\tlearn: 0.4401196\ttotal: 7.02s\tremaining: 8.68s\n",
      "447:\tlearn: 0.4397629\ttotal: 7.03s\tremaining: 8.66s\n",
      "448:\tlearn: 0.4391282\ttotal: 7.05s\tremaining: 8.65s\n",
      "449:\tlearn: 0.4387739\ttotal: 7.06s\tremaining: 8.63s\n",
      "450:\tlearn: 0.4378615\ttotal: 7.08s\tremaining: 8.62s\n",
      "451:\tlearn: 0.4370804\ttotal: 7.1s\tremaining: 8.6s\n",
      "452:\tlearn: 0.4364057\ttotal: 7.11s\tremaining: 8.59s\n",
      "453:\tlearn: 0.4357992\ttotal: 7.13s\tremaining: 8.57s\n",
      "454:\tlearn: 0.4354523\ttotal: 7.14s\tremaining: 8.56s\n",
      "455:\tlearn: 0.4349643\ttotal: 7.16s\tremaining: 8.54s\n",
      "456:\tlearn: 0.4339003\ttotal: 7.18s\tremaining: 8.53s\n",
      "457:\tlearn: 0.4328489\ttotal: 7.19s\tremaining: 8.51s\n",
      "458:\tlearn: 0.4319838\ttotal: 7.21s\tremaining: 8.5s\n",
      "459:\tlearn: 0.4315796\ttotal: 7.23s\tremaining: 8.48s\n",
      "460:\tlearn: 0.4305360\ttotal: 7.24s\tremaining: 8.47s\n",
      "461:\tlearn: 0.4301960\ttotal: 7.26s\tremaining: 8.45s\n",
      "462:\tlearn: 0.4293110\ttotal: 7.28s\tremaining: 8.44s\n",
      "463:\tlearn: 0.4283830\ttotal: 7.29s\tremaining: 8.42s\n",
      "464:\tlearn: 0.4276521\ttotal: 7.31s\tremaining: 8.41s\n",
      "465:\tlearn: 0.4265513\ttotal: 7.32s\tremaining: 8.39s\n",
      "466:\tlearn: 0.4254570\ttotal: 7.34s\tremaining: 8.38s\n",
      "467:\tlearn: 0.4246869\ttotal: 7.35s\tremaining: 8.36s\n",
      "468:\tlearn: 0.4239657\ttotal: 7.37s\tremaining: 8.34s\n",
      "469:\tlearn: 0.4229010\ttotal: 7.38s\tremaining: 8.33s\n",
      "470:\tlearn: 0.4220235\ttotal: 7.4s\tremaining: 8.31s\n",
      "471:\tlearn: 0.4211340\ttotal: 7.42s\tremaining: 8.3s\n",
      "472:\tlearn: 0.4204449\ttotal: 7.44s\tremaining: 8.29s\n",
      "473:\tlearn: 0.4199087\ttotal: 7.45s\tremaining: 8.27s\n",
      "474:\tlearn: 0.4193137\ttotal: 7.47s\tremaining: 8.26s\n",
      "475:\tlearn: 0.4188853\ttotal: 7.49s\tremaining: 8.24s\n",
      "476:\tlearn: 0.4182406\ttotal: 7.5s\tremaining: 8.22s\n",
      "477:\tlearn: 0.4176237\ttotal: 7.52s\tremaining: 8.21s\n",
      "478:\tlearn: 0.4171364\ttotal: 7.53s\tremaining: 8.19s\n",
      "479:\tlearn: 0.4160256\ttotal: 7.55s\tremaining: 8.18s\n",
      "480:\tlearn: 0.4152154\ttotal: 7.56s\tremaining: 8.16s\n",
      "481:\tlearn: 0.4150397\ttotal: 7.58s\tremaining: 8.14s\n",
      "482:\tlearn: 0.4143618\ttotal: 7.59s\tremaining: 8.13s\n",
      "483:\tlearn: 0.4138466\ttotal: 7.61s\tremaining: 8.11s\n",
      "484:\tlearn: 0.4135062\ttotal: 7.62s\tremaining: 8.1s\n",
      "485:\tlearn: 0.4125956\ttotal: 7.64s\tremaining: 8.08s\n",
      "486:\tlearn: 0.4118865\ttotal: 7.66s\tremaining: 8.06s\n",
      "487:\tlearn: 0.4111390\ttotal: 7.67s\tremaining: 8.05s\n",
      "488:\tlearn: 0.4108614\ttotal: 7.69s\tremaining: 8.03s\n",
      "489:\tlearn: 0.4101287\ttotal: 7.7s\tremaining: 8.02s\n",
      "490:\tlearn: 0.4096198\ttotal: 7.72s\tremaining: 8s\n",
      "491:\tlearn: 0.4089973\ttotal: 7.73s\tremaining: 7.99s\n",
      "492:\tlearn: 0.4084255\ttotal: 7.75s\tremaining: 7.97s\n",
      "493:\tlearn: 0.4077353\ttotal: 7.77s\tremaining: 7.96s\n",
      "494:\tlearn: 0.4067635\ttotal: 7.78s\tremaining: 7.94s\n",
      "495:\tlearn: 0.4063254\ttotal: 7.8s\tremaining: 7.92s\n",
      "496:\tlearn: 0.4058435\ttotal: 7.81s\tremaining: 7.91s\n",
      "497:\tlearn: 0.4053744\ttotal: 7.83s\tremaining: 7.89s\n",
      "498:\tlearn: 0.4046595\ttotal: 7.84s\tremaining: 7.87s\n",
      "499:\tlearn: 0.4039740\ttotal: 7.86s\tremaining: 7.86s\n",
      "500:\tlearn: 0.4035754\ttotal: 7.87s\tremaining: 7.84s\n",
      "501:\tlearn: 0.4026558\ttotal: 7.89s\tremaining: 7.83s\n",
      "502:\tlearn: 0.4022362\ttotal: 7.91s\tremaining: 7.81s\n",
      "503:\tlearn: 0.4015030\ttotal: 7.92s\tremaining: 7.8s\n",
      "504:\tlearn: 0.4009172\ttotal: 7.94s\tremaining: 7.78s\n",
      "505:\tlearn: 0.4001719\ttotal: 7.95s\tremaining: 7.76s\n",
      "506:\tlearn: 0.3989142\ttotal: 7.97s\tremaining: 7.75s\n",
      "507:\tlearn: 0.3979719\ttotal: 7.99s\tremaining: 7.74s\n",
      "508:\tlearn: 0.3975411\ttotal: 8s\tremaining: 7.72s\n",
      "509:\tlearn: 0.3969182\ttotal: 8.02s\tremaining: 7.71s\n",
      "510:\tlearn: 0.3962072\ttotal: 8.04s\tremaining: 7.69s\n",
      "511:\tlearn: 0.3957077\ttotal: 8.05s\tremaining: 7.68s\n",
      "512:\tlearn: 0.3951889\ttotal: 8.07s\tremaining: 7.66s\n",
      "513:\tlearn: 0.3948617\ttotal: 8.09s\tremaining: 7.65s\n",
      "514:\tlearn: 0.3942020\ttotal: 8.11s\tremaining: 7.63s\n",
      "515:\tlearn: 0.3940694\ttotal: 8.12s\tremaining: 7.62s\n",
      "516:\tlearn: 0.3935525\ttotal: 8.14s\tremaining: 7.61s\n",
      "517:\tlearn: 0.3930450\ttotal: 8.16s\tremaining: 7.59s\n",
      "518:\tlearn: 0.3924676\ttotal: 8.18s\tremaining: 7.58s\n",
      "519:\tlearn: 0.3916490\ttotal: 8.19s\tremaining: 7.56s\n",
      "520:\tlearn: 0.3909531\ttotal: 8.21s\tremaining: 7.55s\n",
      "521:\tlearn: 0.3899860\ttotal: 8.23s\tremaining: 7.54s\n",
      "522:\tlearn: 0.3895587\ttotal: 8.25s\tremaining: 7.52s\n",
      "523:\tlearn: 0.3888886\ttotal: 8.26s\tremaining: 7.51s\n",
      "524:\tlearn: 0.3879578\ttotal: 8.28s\tremaining: 7.49s\n",
      "525:\tlearn: 0.3875076\ttotal: 8.3s\tremaining: 7.48s\n",
      "526:\tlearn: 0.3866381\ttotal: 8.32s\tremaining: 7.46s\n",
      "527:\tlearn: 0.3858931\ttotal: 8.33s\tremaining: 7.45s\n",
      "528:\tlearn: 0.3849093\ttotal: 8.35s\tremaining: 7.44s\n",
      "529:\tlearn: 0.3843089\ttotal: 8.37s\tremaining: 7.42s\n",
      "530:\tlearn: 0.3839502\ttotal: 8.38s\tremaining: 7.41s\n",
      "531:\tlearn: 0.3835370\ttotal: 8.4s\tremaining: 7.39s\n",
      "532:\tlearn: 0.3831721\ttotal: 8.42s\tremaining: 7.38s\n",
      "533:\tlearn: 0.3827732\ttotal: 8.44s\tremaining: 7.37s\n",
      "534:\tlearn: 0.3824856\ttotal: 8.46s\tremaining: 7.35s\n",
      "535:\tlearn: 0.3819842\ttotal: 8.48s\tremaining: 7.34s\n",
      "536:\tlearn: 0.3813540\ttotal: 8.5s\tremaining: 7.33s\n",
      "537:\tlearn: 0.3804860\ttotal: 8.52s\tremaining: 7.31s\n",
      "538:\tlearn: 0.3801653\ttotal: 8.53s\tremaining: 7.3s\n",
      "539:\tlearn: 0.3793423\ttotal: 8.55s\tremaining: 7.28s\n",
      "540:\tlearn: 0.3786273\ttotal: 8.57s\tremaining: 7.27s\n",
      "541:\tlearn: 0.3778494\ttotal: 8.58s\tremaining: 7.25s\n",
      "542:\tlearn: 0.3772574\ttotal: 8.6s\tremaining: 7.24s\n",
      "543:\tlearn: 0.3764471\ttotal: 8.62s\tremaining: 7.23s\n",
      "544:\tlearn: 0.3758916\ttotal: 8.64s\tremaining: 7.21s\n",
      "545:\tlearn: 0.3752892\ttotal: 8.65s\tremaining: 7.2s\n",
      "546:\tlearn: 0.3745891\ttotal: 8.67s\tremaining: 7.18s\n",
      "547:\tlearn: 0.3740734\ttotal: 8.69s\tremaining: 7.17s\n",
      "548:\tlearn: 0.3736481\ttotal: 8.71s\tremaining: 7.15s\n",
      "549:\tlearn: 0.3731518\ttotal: 8.73s\tremaining: 7.14s\n",
      "550:\tlearn: 0.3728438\ttotal: 8.74s\tremaining: 7.12s\n",
      "551:\tlearn: 0.3722292\ttotal: 8.76s\tremaining: 7.11s\n",
      "552:\tlearn: 0.3717556\ttotal: 8.78s\tremaining: 7.1s\n",
      "553:\tlearn: 0.3714453\ttotal: 8.8s\tremaining: 7.08s\n",
      "554:\tlearn: 0.3706181\ttotal: 8.82s\tremaining: 7.07s\n",
      "555:\tlearn: 0.3699902\ttotal: 8.84s\tremaining: 7.05s\n",
      "556:\tlearn: 0.3693970\ttotal: 8.85s\tremaining: 7.04s\n",
      "557:\tlearn: 0.3691833\ttotal: 8.87s\tremaining: 7.03s\n",
      "558:\tlearn: 0.3686913\ttotal: 8.89s\tremaining: 7.01s\n",
      "559:\tlearn: 0.3683195\ttotal: 8.9s\tremaining: 7s\n",
      "560:\tlearn: 0.3676267\ttotal: 8.92s\tremaining: 6.98s\n",
      "561:\tlearn: 0.3668930\ttotal: 8.94s\tremaining: 6.97s\n",
      "562:\tlearn: 0.3660999\ttotal: 8.96s\tremaining: 6.95s\n",
      "563:\tlearn: 0.3654870\ttotal: 8.98s\tremaining: 6.94s\n",
      "564:\tlearn: 0.3648826\ttotal: 8.99s\tremaining: 6.92s\n",
      "565:\tlearn: 0.3643781\ttotal: 9.01s\tremaining: 6.91s\n",
      "566:\tlearn: 0.3641860\ttotal: 9.03s\tremaining: 6.9s\n",
      "567:\tlearn: 0.3637258\ttotal: 9.05s\tremaining: 6.88s\n",
      "568:\tlearn: 0.3632116\ttotal: 9.06s\tremaining: 6.87s\n",
      "569:\tlearn: 0.3627776\ttotal: 9.08s\tremaining: 6.85s\n",
      "570:\tlearn: 0.3622390\ttotal: 9.1s\tremaining: 6.84s\n",
      "571:\tlearn: 0.3618373\ttotal: 9.12s\tremaining: 6.82s\n",
      "572:\tlearn: 0.3614412\ttotal: 9.14s\tremaining: 6.81s\n",
      "573:\tlearn: 0.3609026\ttotal: 9.15s\tremaining: 6.79s\n",
      "574:\tlearn: 0.3606032\ttotal: 9.17s\tremaining: 6.78s\n",
      "575:\tlearn: 0.3603389\ttotal: 9.19s\tremaining: 6.76s\n",
      "576:\tlearn: 0.3598927\ttotal: 9.21s\tremaining: 6.75s\n",
      "577:\tlearn: 0.3597092\ttotal: 9.23s\tremaining: 6.74s\n",
      "578:\tlearn: 0.3590007\ttotal: 9.24s\tremaining: 6.72s\n",
      "579:\tlearn: 0.3586961\ttotal: 9.26s\tremaining: 6.71s\n",
      "580:\tlearn: 0.3583382\ttotal: 9.28s\tremaining: 6.69s\n",
      "581:\tlearn: 0.3580087\ttotal: 9.3s\tremaining: 6.68s\n",
      "582:\tlearn: 0.3576727\ttotal: 9.31s\tremaining: 6.66s\n",
      "583:\tlearn: 0.3569416\ttotal: 9.33s\tremaining: 6.65s\n",
      "584:\tlearn: 0.3564738\ttotal: 9.35s\tremaining: 6.63s\n",
      "585:\tlearn: 0.3560428\ttotal: 9.37s\tremaining: 6.62s\n",
      "586:\tlearn: 0.3550847\ttotal: 9.39s\tremaining: 6.61s\n",
      "587:\tlearn: 0.3545991\ttotal: 9.41s\tremaining: 6.59s\n",
      "588:\tlearn: 0.3543263\ttotal: 9.43s\tremaining: 6.58s\n",
      "589:\tlearn: 0.3538389\ttotal: 9.44s\tremaining: 6.56s\n",
      "590:\tlearn: 0.3529775\ttotal: 9.46s\tremaining: 6.55s\n",
      "591:\tlearn: 0.3520504\ttotal: 9.48s\tremaining: 6.53s\n",
      "592:\tlearn: 0.3515056\ttotal: 9.5s\tremaining: 6.52s\n",
      "593:\tlearn: 0.3512937\ttotal: 9.52s\tremaining: 6.5s\n",
      "594:\tlearn: 0.3509065\ttotal: 9.53s\tremaining: 6.49s\n",
      "595:\tlearn: 0.3501059\ttotal: 9.55s\tremaining: 6.47s\n",
      "596:\tlearn: 0.3493205\ttotal: 9.57s\tremaining: 6.46s\n",
      "597:\tlearn: 0.3485181\ttotal: 9.59s\tremaining: 6.44s\n",
      "598:\tlearn: 0.3476847\ttotal: 9.61s\tremaining: 6.43s\n",
      "599:\tlearn: 0.3471892\ttotal: 9.62s\tremaining: 6.42s\n",
      "600:\tlearn: 0.3463083\ttotal: 9.64s\tremaining: 6.4s\n",
      "601:\tlearn: 0.3454752\ttotal: 9.66s\tremaining: 6.38s\n",
      "602:\tlearn: 0.3449808\ttotal: 9.68s\tremaining: 6.37s\n",
      "603:\tlearn: 0.3446811\ttotal: 9.69s\tremaining: 6.36s\n",
      "604:\tlearn: 0.3441076\ttotal: 9.71s\tremaining: 6.34s\n",
      "605:\tlearn: 0.3439454\ttotal: 9.73s\tremaining: 6.33s\n",
      "606:\tlearn: 0.3432961\ttotal: 9.75s\tremaining: 6.31s\n",
      "607:\tlearn: 0.3430623\ttotal: 9.76s\tremaining: 6.29s\n",
      "608:\tlearn: 0.3423892\ttotal: 9.78s\tremaining: 6.28s\n",
      "609:\tlearn: 0.3415663\ttotal: 9.8s\tremaining: 6.26s\n",
      "610:\tlearn: 0.3408098\ttotal: 9.82s\tremaining: 6.25s\n",
      "611:\tlearn: 0.3404754\ttotal: 9.84s\tremaining: 6.24s\n",
      "612:\tlearn: 0.3397024\ttotal: 9.85s\tremaining: 6.22s\n",
      "613:\tlearn: 0.3389997\ttotal: 9.87s\tremaining: 6.21s\n",
      "614:\tlearn: 0.3385505\ttotal: 9.89s\tremaining: 6.19s\n",
      "615:\tlearn: 0.3383997\ttotal: 9.91s\tremaining: 6.17s\n",
      "616:\tlearn: 0.3374218\ttotal: 9.93s\tremaining: 6.16s\n",
      "617:\tlearn: 0.3369642\ttotal: 9.94s\tremaining: 6.15s\n",
      "618:\tlearn: 0.3367679\ttotal: 9.96s\tremaining: 6.13s\n",
      "619:\tlearn: 0.3362254\ttotal: 9.98s\tremaining: 6.12s\n",
      "620:\tlearn: 0.3359017\ttotal: 10s\tremaining: 6.1s\n",
      "621:\tlearn: 0.3354307\ttotal: 10s\tremaining: 6.09s\n",
      "622:\tlearn: 0.3351341\ttotal: 10s\tremaining: 6.07s\n",
      "623:\tlearn: 0.3346641\ttotal: 10.1s\tremaining: 6.06s\n",
      "624:\tlearn: 0.3342259\ttotal: 10.1s\tremaining: 6.04s\n",
      "625:\tlearn: 0.3338153\ttotal: 10.1s\tremaining: 6.03s\n",
      "626:\tlearn: 0.3334171\ttotal: 10.1s\tremaining: 6.01s\n",
      "627:\tlearn: 0.3329259\ttotal: 10.1s\tremaining: 6s\n",
      "628:\tlearn: 0.3324097\ttotal: 10.1s\tremaining: 5.98s\n",
      "629:\tlearn: 0.3318744\ttotal: 10.2s\tremaining: 5.97s\n",
      "630:\tlearn: 0.3313967\ttotal: 10.2s\tremaining: 5.95s\n",
      "631:\tlearn: 0.3308904\ttotal: 10.2s\tremaining: 5.94s\n",
      "632:\tlearn: 0.3305710\ttotal: 10.2s\tremaining: 5.92s\n",
      "633:\tlearn: 0.3303806\ttotal: 10.2s\tremaining: 5.91s\n",
      "634:\tlearn: 0.3299494\ttotal: 10.3s\tremaining: 5.89s\n",
      "635:\tlearn: 0.3294510\ttotal: 10.3s\tremaining: 5.88s\n",
      "636:\tlearn: 0.3291743\ttotal: 10.3s\tremaining: 5.86s\n",
      "637:\tlearn: 0.3285592\ttotal: 10.3s\tremaining: 5.85s\n",
      "638:\tlearn: 0.3282002\ttotal: 10.3s\tremaining: 5.83s\n",
      "639:\tlearn: 0.3279578\ttotal: 10.3s\tremaining: 5.82s\n",
      "640:\tlearn: 0.3274518\ttotal: 10.4s\tremaining: 5.8s\n",
      "641:\tlearn: 0.3271318\ttotal: 10.4s\tremaining: 5.78s\n",
      "642:\tlearn: 0.3269639\ttotal: 10.4s\tremaining: 5.77s\n",
      "643:\tlearn: 0.3265606\ttotal: 10.4s\tremaining: 5.76s\n",
      "644:\tlearn: 0.3257303\ttotal: 10.4s\tremaining: 5.74s\n",
      "645:\tlearn: 0.3253881\ttotal: 10.4s\tremaining: 5.73s\n",
      "646:\tlearn: 0.3251350\ttotal: 10.5s\tremaining: 5.71s\n",
      "647:\tlearn: 0.3243755\ttotal: 10.5s\tremaining: 5.7s\n",
      "648:\tlearn: 0.3239879\ttotal: 10.5s\tremaining: 5.68s\n",
      "649:\tlearn: 0.3237414\ttotal: 10.5s\tremaining: 5.67s\n",
      "650:\tlearn: 0.3234599\ttotal: 10.5s\tremaining: 5.65s\n",
      "651:\tlearn: 0.3229438\ttotal: 10.6s\tremaining: 5.63s\n",
      "652:\tlearn: 0.3225706\ttotal: 10.6s\tremaining: 5.62s\n",
      "653:\tlearn: 0.3220430\ttotal: 10.6s\tremaining: 5.6s\n",
      "654:\tlearn: 0.3214450\ttotal: 10.6s\tremaining: 5.59s\n",
      "655:\tlearn: 0.3209617\ttotal: 10.6s\tremaining: 5.57s\n",
      "656:\tlearn: 0.3204967\ttotal: 10.6s\tremaining: 5.56s\n",
      "657:\tlearn: 0.3199131\ttotal: 10.7s\tremaining: 5.54s\n",
      "658:\tlearn: 0.3196105\ttotal: 10.7s\tremaining: 5.53s\n",
      "659:\tlearn: 0.3187954\ttotal: 10.7s\tremaining: 5.51s\n",
      "660:\tlearn: 0.3184013\ttotal: 10.7s\tremaining: 5.5s\n",
      "661:\tlearn: 0.3179866\ttotal: 10.7s\tremaining: 5.48s\n",
      "662:\tlearn: 0.3177756\ttotal: 10.8s\tremaining: 5.47s\n",
      "663:\tlearn: 0.3176592\ttotal: 10.8s\tremaining: 5.45s\n",
      "664:\tlearn: 0.3172254\ttotal: 10.8s\tremaining: 5.44s\n",
      "665:\tlearn: 0.3165052\ttotal: 10.8s\tremaining: 5.42s\n",
      "666:\tlearn: 0.3161409\ttotal: 10.8s\tremaining: 5.41s\n",
      "667:\tlearn: 0.3158188\ttotal: 10.8s\tremaining: 5.39s\n",
      "668:\tlearn: 0.3155121\ttotal: 10.9s\tremaining: 5.37s\n",
      "669:\tlearn: 0.3153112\ttotal: 10.9s\tremaining: 5.36s\n",
      "670:\tlearn: 0.3148042\ttotal: 10.9s\tremaining: 5.34s\n",
      "671:\tlearn: 0.3143470\ttotal: 10.9s\tremaining: 5.33s\n",
      "672:\tlearn: 0.3139926\ttotal: 10.9s\tremaining: 5.31s\n",
      "673:\tlearn: 0.3135960\ttotal: 10.9s\tremaining: 5.3s\n",
      "674:\tlearn: 0.3131379\ttotal: 11s\tremaining: 5.28s\n",
      "675:\tlearn: 0.3128473\ttotal: 11s\tremaining: 5.26s\n",
      "676:\tlearn: 0.3122059\ttotal: 11s\tremaining: 5.25s\n",
      "677:\tlearn: 0.3118589\ttotal: 11s\tremaining: 5.23s\n",
      "678:\tlearn: 0.3114463\ttotal: 11s\tremaining: 5.22s\n",
      "679:\tlearn: 0.3111463\ttotal: 11.1s\tremaining: 5.2s\n",
      "680:\tlearn: 0.3107078\ttotal: 11.1s\tremaining: 5.19s\n",
      "681:\tlearn: 0.3102337\ttotal: 11.1s\tremaining: 5.17s\n",
      "682:\tlearn: 0.3098727\ttotal: 11.1s\tremaining: 5.16s\n",
      "683:\tlearn: 0.3093495\ttotal: 11.1s\tremaining: 5.14s\n",
      "684:\tlearn: 0.3090096\ttotal: 11.1s\tremaining: 5.12s\n",
      "685:\tlearn: 0.3089006\ttotal: 11.2s\tremaining: 5.11s\n",
      "686:\tlearn: 0.3084692\ttotal: 11.2s\tremaining: 5.09s\n",
      "687:\tlearn: 0.3081927\ttotal: 11.2s\tremaining: 5.08s\n",
      "688:\tlearn: 0.3075559\ttotal: 11.2s\tremaining: 5.06s\n",
      "689:\tlearn: 0.3071303\ttotal: 11.2s\tremaining: 5.05s\n",
      "690:\tlearn: 0.3069499\ttotal: 11.3s\tremaining: 5.03s\n",
      "691:\tlearn: 0.3065728\ttotal: 11.3s\tremaining: 5.01s\n",
      "692:\tlearn: 0.3056710\ttotal: 11.3s\tremaining: 5s\n",
      "693:\tlearn: 0.3052966\ttotal: 11.3s\tremaining: 4.98s\n",
      "694:\tlearn: 0.3049141\ttotal: 11.3s\tremaining: 4.97s\n",
      "695:\tlearn: 0.3045203\ttotal: 11.3s\tremaining: 4.95s\n",
      "696:\tlearn: 0.3041067\ttotal: 11.4s\tremaining: 4.94s\n",
      "697:\tlearn: 0.3034925\ttotal: 11.4s\tremaining: 4.92s\n",
      "698:\tlearn: 0.3031708\ttotal: 11.4s\tremaining: 4.91s\n",
      "699:\tlearn: 0.3027829\ttotal: 11.4s\tremaining: 4.89s\n",
      "700:\tlearn: 0.3025082\ttotal: 11.4s\tremaining: 4.88s\n",
      "701:\tlearn: 0.3022449\ttotal: 11.5s\tremaining: 4.86s\n",
      "702:\tlearn: 0.3019313\ttotal: 11.5s\tremaining: 4.84s\n",
      "703:\tlearn: 0.3015984\ttotal: 11.5s\tremaining: 4.83s\n",
      "704:\tlearn: 0.3011775\ttotal: 11.5s\tremaining: 4.81s\n",
      "705:\tlearn: 0.3006241\ttotal: 11.5s\tremaining: 4.8s\n",
      "706:\tlearn: 0.2998980\ttotal: 11.5s\tremaining: 4.78s\n",
      "707:\tlearn: 0.2996803\ttotal: 11.6s\tremaining: 4.77s\n",
      "708:\tlearn: 0.2993138\ttotal: 11.6s\tremaining: 4.75s\n",
      "709:\tlearn: 0.2986742\ttotal: 11.6s\tremaining: 4.74s\n",
      "710:\tlearn: 0.2980664\ttotal: 11.6s\tremaining: 4.72s\n",
      "711:\tlearn: 0.2976654\ttotal: 11.6s\tremaining: 4.7s\n",
      "712:\tlearn: 0.2972621\ttotal: 11.6s\tremaining: 4.69s\n",
      "713:\tlearn: 0.2967493\ttotal: 11.7s\tremaining: 4.67s\n",
      "714:\tlearn: 0.2961245\ttotal: 11.7s\tremaining: 4.66s\n",
      "715:\tlearn: 0.2956703\ttotal: 11.7s\tremaining: 4.64s\n",
      "716:\tlearn: 0.2952782\ttotal: 11.7s\tremaining: 4.63s\n",
      "717:\tlearn: 0.2946947\ttotal: 11.7s\tremaining: 4.61s\n",
      "718:\tlearn: 0.2945255\ttotal: 11.8s\tremaining: 4.59s\n",
      "719:\tlearn: 0.2941235\ttotal: 11.8s\tremaining: 4.58s\n",
      "720:\tlearn: 0.2936376\ttotal: 11.8s\tremaining: 4.56s\n",
      "721:\tlearn: 0.2933269\ttotal: 11.8s\tremaining: 4.55s\n",
      "722:\tlearn: 0.2928833\ttotal: 11.8s\tremaining: 4.53s\n",
      "723:\tlearn: 0.2920239\ttotal: 11.8s\tremaining: 4.51s\n",
      "724:\tlearn: 0.2916775\ttotal: 11.9s\tremaining: 4.5s\n",
      "725:\tlearn: 0.2910769\ttotal: 11.9s\tremaining: 4.48s\n",
      "726:\tlearn: 0.2907818\ttotal: 11.9s\tremaining: 4.47s\n",
      "727:\tlearn: 0.2902759\ttotal: 11.9s\tremaining: 4.45s\n",
      "728:\tlearn: 0.2900045\ttotal: 11.9s\tremaining: 4.43s\n",
      "729:\tlearn: 0.2896078\ttotal: 11.9s\tremaining: 4.42s\n",
      "730:\tlearn: 0.2891194\ttotal: 12s\tremaining: 4.4s\n",
      "731:\tlearn: 0.2888719\ttotal: 12s\tremaining: 4.39s\n",
      "732:\tlearn: 0.2887100\ttotal: 12s\tremaining: 4.37s\n",
      "733:\tlearn: 0.2882459\ttotal: 12s\tremaining: 4.36s\n",
      "734:\tlearn: 0.2879112\ttotal: 12s\tremaining: 4.34s\n",
      "735:\tlearn: 0.2876406\ttotal: 12.1s\tremaining: 4.32s\n",
      "736:\tlearn: 0.2872457\ttotal: 12.1s\tremaining: 4.31s\n",
      "737:\tlearn: 0.2869049\ttotal: 12.1s\tremaining: 4.29s\n",
      "738:\tlearn: 0.2864314\ttotal: 12.1s\tremaining: 4.28s\n",
      "739:\tlearn: 0.2859612\ttotal: 12.1s\tremaining: 4.26s\n",
      "740:\tlearn: 0.2854923\ttotal: 12.1s\tremaining: 4.24s\n",
      "741:\tlearn: 0.2848840\ttotal: 12.2s\tremaining: 4.23s\n",
      "742:\tlearn: 0.2842957\ttotal: 12.2s\tremaining: 4.21s\n",
      "743:\tlearn: 0.2841134\ttotal: 12.2s\tremaining: 4.2s\n",
      "744:\tlearn: 0.2833987\ttotal: 12.2s\tremaining: 4.18s\n",
      "745:\tlearn: 0.2831823\ttotal: 12.2s\tremaining: 4.16s\n",
      "746:\tlearn: 0.2826728\ttotal: 12.2s\tremaining: 4.15s\n",
      "747:\tlearn: 0.2821692\ttotal: 12.3s\tremaining: 4.13s\n",
      "748:\tlearn: 0.2817145\ttotal: 12.3s\tremaining: 4.12s\n",
      "749:\tlearn: 0.2810238\ttotal: 12.3s\tremaining: 4.1s\n",
      "750:\tlearn: 0.2805992\ttotal: 12.3s\tremaining: 4.08s\n",
      "751:\tlearn: 0.2802636\ttotal: 12.3s\tremaining: 4.07s\n",
      "752:\tlearn: 0.2800552\ttotal: 12.4s\tremaining: 4.05s\n",
      "753:\tlearn: 0.2796752\ttotal: 12.4s\tremaining: 4.04s\n",
      "754:\tlearn: 0.2792062\ttotal: 12.4s\tremaining: 4.02s\n",
      "755:\tlearn: 0.2788100\ttotal: 12.4s\tremaining: 4s\n",
      "756:\tlearn: 0.2784820\ttotal: 12.4s\tremaining: 3.99s\n",
      "757:\tlearn: 0.2779911\ttotal: 12.4s\tremaining: 3.97s\n",
      "758:\tlearn: 0.2773354\ttotal: 12.5s\tremaining: 3.96s\n",
      "759:\tlearn: 0.2769362\ttotal: 12.5s\tremaining: 3.94s\n",
      "760:\tlearn: 0.2766494\ttotal: 12.5s\tremaining: 3.92s\n",
      "761:\tlearn: 0.2763819\ttotal: 12.5s\tremaining: 3.91s\n",
      "762:\tlearn: 0.2761240\ttotal: 12.5s\tremaining: 3.89s\n",
      "763:\tlearn: 0.2760496\ttotal: 12.5s\tremaining: 3.88s\n",
      "764:\tlearn: 0.2754185\ttotal: 12.6s\tremaining: 3.86s\n",
      "765:\tlearn: 0.2750093\ttotal: 12.6s\tremaining: 3.84s\n",
      "766:\tlearn: 0.2745063\ttotal: 12.6s\tremaining: 3.83s\n",
      "767:\tlearn: 0.2740136\ttotal: 12.6s\tremaining: 3.81s\n",
      "768:\tlearn: 0.2733748\ttotal: 12.6s\tremaining: 3.8s\n",
      "769:\tlearn: 0.2730838\ttotal: 12.7s\tremaining: 3.78s\n",
      "770:\tlearn: 0.2727496\ttotal: 12.7s\tremaining: 3.76s\n",
      "771:\tlearn: 0.2725540\ttotal: 12.7s\tremaining: 3.75s\n",
      "772:\tlearn: 0.2719678\ttotal: 12.7s\tremaining: 3.73s\n",
      "773:\tlearn: 0.2716311\ttotal: 12.7s\tremaining: 3.71s\n",
      "774:\tlearn: 0.2711575\ttotal: 12.7s\tremaining: 3.7s\n",
      "775:\tlearn: 0.2708522\ttotal: 12.8s\tremaining: 3.68s\n",
      "776:\tlearn: 0.2703575\ttotal: 12.8s\tremaining: 3.67s\n",
      "777:\tlearn: 0.2699989\ttotal: 12.8s\tremaining: 3.65s\n",
      "778:\tlearn: 0.2696078\ttotal: 12.8s\tremaining: 3.63s\n",
      "779:\tlearn: 0.2693651\ttotal: 12.8s\tremaining: 3.62s\n",
      "780:\tlearn: 0.2690029\ttotal: 12.8s\tremaining: 3.6s\n",
      "781:\tlearn: 0.2687992\ttotal: 12.9s\tremaining: 3.59s\n",
      "782:\tlearn: 0.2686205\ttotal: 12.9s\tremaining: 3.57s\n",
      "783:\tlearn: 0.2680802\ttotal: 12.9s\tremaining: 3.55s\n",
      "784:\tlearn: 0.2676859\ttotal: 12.9s\tremaining: 3.54s\n",
      "785:\tlearn: 0.2674108\ttotal: 12.9s\tremaining: 3.52s\n",
      "786:\tlearn: 0.2669434\ttotal: 13s\tremaining: 3.5s\n",
      "787:\tlearn: 0.2664611\ttotal: 13s\tremaining: 3.49s\n",
      "788:\tlearn: 0.2658762\ttotal: 13s\tremaining: 3.47s\n",
      "789:\tlearn: 0.2654999\ttotal: 13s\tremaining: 3.46s\n",
      "790:\tlearn: 0.2651026\ttotal: 13s\tremaining: 3.44s\n",
      "791:\tlearn: 0.2646299\ttotal: 13s\tremaining: 3.42s\n",
      "792:\tlearn: 0.2643810\ttotal: 13.1s\tremaining: 3.41s\n",
      "793:\tlearn: 0.2641016\ttotal: 13.1s\tremaining: 3.39s\n",
      "794:\tlearn: 0.2639356\ttotal: 13.1s\tremaining: 3.38s\n",
      "795:\tlearn: 0.2633016\ttotal: 13.1s\tremaining: 3.36s\n",
      "796:\tlearn: 0.2629741\ttotal: 13.1s\tremaining: 3.34s\n",
      "797:\tlearn: 0.2625103\ttotal: 13.1s\tremaining: 3.33s\n",
      "798:\tlearn: 0.2621396\ttotal: 13.2s\tremaining: 3.31s\n",
      "799:\tlearn: 0.2617962\ttotal: 13.2s\tremaining: 3.3s\n",
      "800:\tlearn: 0.2614042\ttotal: 13.2s\tremaining: 3.28s\n",
      "801:\tlearn: 0.2611131\ttotal: 13.2s\tremaining: 3.26s\n",
      "802:\tlearn: 0.2609398\ttotal: 13.2s\tremaining: 3.25s\n",
      "803:\tlearn: 0.2607326\ttotal: 13.3s\tremaining: 3.23s\n",
      "804:\tlearn: 0.2605771\ttotal: 13.3s\tremaining: 3.21s\n",
      "805:\tlearn: 0.2602540\ttotal: 13.3s\tremaining: 3.2s\n",
      "806:\tlearn: 0.2599612\ttotal: 13.3s\tremaining: 3.18s\n",
      "807:\tlearn: 0.2596404\ttotal: 13.3s\tremaining: 3.17s\n",
      "808:\tlearn: 0.2594096\ttotal: 13.3s\tremaining: 3.15s\n",
      "809:\tlearn: 0.2588958\ttotal: 13.4s\tremaining: 3.13s\n",
      "810:\tlearn: 0.2586596\ttotal: 13.4s\tremaining: 3.12s\n",
      "811:\tlearn: 0.2583522\ttotal: 13.4s\tremaining: 3.1s\n",
      "812:\tlearn: 0.2581893\ttotal: 13.4s\tremaining: 3.08s\n",
      "813:\tlearn: 0.2576727\ttotal: 13.4s\tremaining: 3.07s\n",
      "814:\tlearn: 0.2574790\ttotal: 13.4s\tremaining: 3.05s\n",
      "815:\tlearn: 0.2570704\ttotal: 13.5s\tremaining: 3.04s\n",
      "816:\tlearn: 0.2569481\ttotal: 13.5s\tremaining: 3.02s\n",
      "817:\tlearn: 0.2565911\ttotal: 13.5s\tremaining: 3s\n",
      "818:\tlearn: 0.2562826\ttotal: 13.5s\tremaining: 2.99s\n",
      "819:\tlearn: 0.2558915\ttotal: 13.5s\tremaining: 2.97s\n",
      "820:\tlearn: 0.2552821\ttotal: 13.6s\tremaining: 2.96s\n",
      "821:\tlearn: 0.2547252\ttotal: 13.6s\tremaining: 2.94s\n",
      "822:\tlearn: 0.2542565\ttotal: 13.6s\tremaining: 2.92s\n",
      "823:\tlearn: 0.2539924\ttotal: 13.6s\tremaining: 2.91s\n",
      "824:\tlearn: 0.2538296\ttotal: 13.6s\tremaining: 2.89s\n",
      "825:\tlearn: 0.2533770\ttotal: 13.6s\tremaining: 2.87s\n",
      "826:\tlearn: 0.2529831\ttotal: 13.7s\tremaining: 2.86s\n",
      "827:\tlearn: 0.2527108\ttotal: 13.7s\tremaining: 2.84s\n",
      "828:\tlearn: 0.2522963\ttotal: 13.7s\tremaining: 2.83s\n",
      "829:\tlearn: 0.2520805\ttotal: 13.7s\tremaining: 2.81s\n",
      "830:\tlearn: 0.2517440\ttotal: 13.7s\tremaining: 2.79s\n",
      "831:\tlearn: 0.2515140\ttotal: 13.8s\tremaining: 2.78s\n",
      "832:\tlearn: 0.2510295\ttotal: 13.8s\tremaining: 2.76s\n",
      "833:\tlearn: 0.2505328\ttotal: 13.8s\tremaining: 2.74s\n",
      "834:\tlearn: 0.2503475\ttotal: 13.8s\tremaining: 2.73s\n",
      "835:\tlearn: 0.2498468\ttotal: 13.8s\tremaining: 2.71s\n",
      "836:\tlearn: 0.2494135\ttotal: 13.8s\tremaining: 2.69s\n",
      "837:\tlearn: 0.2488409\ttotal: 13.9s\tremaining: 2.68s\n",
      "838:\tlearn: 0.2485391\ttotal: 13.9s\tremaining: 2.66s\n",
      "839:\tlearn: 0.2483107\ttotal: 13.9s\tremaining: 2.65s\n",
      "840:\tlearn: 0.2480069\ttotal: 13.9s\tremaining: 2.63s\n",
      "841:\tlearn: 0.2478179\ttotal: 13.9s\tremaining: 2.61s\n",
      "842:\tlearn: 0.2476190\ttotal: 13.9s\tremaining: 2.6s\n",
      "843:\tlearn: 0.2471725\ttotal: 14s\tremaining: 2.58s\n",
      "844:\tlearn: 0.2470218\ttotal: 14s\tremaining: 2.56s\n",
      "845:\tlearn: 0.2469111\ttotal: 14s\tremaining: 2.55s\n",
      "846:\tlearn: 0.2465393\ttotal: 14s\tremaining: 2.53s\n",
      "847:\tlearn: 0.2458678\ttotal: 14s\tremaining: 2.52s\n",
      "848:\tlearn: 0.2453872\ttotal: 14.1s\tremaining: 2.5s\n",
      "849:\tlearn: 0.2451626\ttotal: 14.1s\tremaining: 2.48s\n",
      "850:\tlearn: 0.2447962\ttotal: 14.1s\tremaining: 2.47s\n",
      "851:\tlearn: 0.2445962\ttotal: 14.1s\tremaining: 2.45s\n",
      "852:\tlearn: 0.2442977\ttotal: 14.1s\tremaining: 2.43s\n",
      "853:\tlearn: 0.2440477\ttotal: 14.1s\tremaining: 2.42s\n",
      "854:\tlearn: 0.2437604\ttotal: 14.2s\tremaining: 2.4s\n",
      "855:\tlearn: 0.2433925\ttotal: 14.2s\tremaining: 2.38s\n",
      "856:\tlearn: 0.2429072\ttotal: 14.2s\tremaining: 2.37s\n",
      "857:\tlearn: 0.2425421\ttotal: 14.2s\tremaining: 2.35s\n",
      "858:\tlearn: 0.2422157\ttotal: 14.2s\tremaining: 2.34s\n",
      "859:\tlearn: 0.2417804\ttotal: 14.2s\tremaining: 2.32s\n",
      "860:\tlearn: 0.2416092\ttotal: 14.3s\tremaining: 2.3s\n",
      "861:\tlearn: 0.2414231\ttotal: 14.3s\tremaining: 2.29s\n",
      "862:\tlearn: 0.2412645\ttotal: 14.3s\tremaining: 2.27s\n",
      "863:\tlearn: 0.2407087\ttotal: 14.3s\tremaining: 2.25s\n",
      "864:\tlearn: 0.2403826\ttotal: 14.3s\tremaining: 2.24s\n",
      "865:\tlearn: 0.2401857\ttotal: 14.4s\tremaining: 2.22s\n",
      "866:\tlearn: 0.2399465\ttotal: 14.4s\tremaining: 2.21s\n",
      "867:\tlearn: 0.2395560\ttotal: 14.4s\tremaining: 2.19s\n",
      "868:\tlearn: 0.2390077\ttotal: 14.4s\tremaining: 2.17s\n",
      "869:\tlearn: 0.2384661\ttotal: 14.4s\tremaining: 2.15s\n",
      "870:\tlearn: 0.2379373\ttotal: 14.4s\tremaining: 2.14s\n",
      "871:\tlearn: 0.2376853\ttotal: 14.5s\tremaining: 2.12s\n",
      "872:\tlearn: 0.2370540\ttotal: 14.5s\tremaining: 2.11s\n",
      "873:\tlearn: 0.2369188\ttotal: 14.5s\tremaining: 2.09s\n",
      "874:\tlearn: 0.2365630\ttotal: 14.5s\tremaining: 2.07s\n",
      "875:\tlearn: 0.2363250\ttotal: 14.5s\tremaining: 2.06s\n",
      "876:\tlearn: 0.2360315\ttotal: 14.6s\tremaining: 2.04s\n",
      "877:\tlearn: 0.2358173\ttotal: 14.6s\tremaining: 2.02s\n",
      "878:\tlearn: 0.2355729\ttotal: 14.6s\tremaining: 2.01s\n",
      "879:\tlearn: 0.2351641\ttotal: 14.6s\tremaining: 1.99s\n",
      "880:\tlearn: 0.2349228\ttotal: 14.6s\tremaining: 1.97s\n",
      "881:\tlearn: 0.2345495\ttotal: 14.6s\tremaining: 1.96s\n",
      "882:\tlearn: 0.2343313\ttotal: 14.7s\tremaining: 1.94s\n",
      "883:\tlearn: 0.2341500\ttotal: 14.7s\tremaining: 1.93s\n",
      "884:\tlearn: 0.2338518\ttotal: 14.7s\tremaining: 1.91s\n",
      "885:\tlearn: 0.2335702\ttotal: 14.7s\tremaining: 1.89s\n",
      "886:\tlearn: 0.2332083\ttotal: 14.7s\tremaining: 1.88s\n",
      "887:\tlearn: 0.2328897\ttotal: 14.7s\tremaining: 1.86s\n",
      "888:\tlearn: 0.2325711\ttotal: 14.8s\tremaining: 1.84s\n",
      "889:\tlearn: 0.2323399\ttotal: 14.8s\tremaining: 1.83s\n",
      "890:\tlearn: 0.2320018\ttotal: 14.8s\tremaining: 1.81s\n",
      "891:\tlearn: 0.2317199\ttotal: 14.8s\tremaining: 1.79s\n",
      "892:\tlearn: 0.2314406\ttotal: 14.8s\tremaining: 1.78s\n",
      "893:\tlearn: 0.2311732\ttotal: 14.9s\tremaining: 1.76s\n",
      "894:\tlearn: 0.2309192\ttotal: 14.9s\tremaining: 1.74s\n",
      "895:\tlearn: 0.2304927\ttotal: 14.9s\tremaining: 1.73s\n",
      "896:\tlearn: 0.2302047\ttotal: 14.9s\tremaining: 1.71s\n",
      "897:\tlearn: 0.2301364\ttotal: 14.9s\tremaining: 1.7s\n",
      "898:\tlearn: 0.2299776\ttotal: 14.9s\tremaining: 1.68s\n",
      "899:\tlearn: 0.2297933\ttotal: 15s\tremaining: 1.66s\n",
      "900:\tlearn: 0.2295902\ttotal: 15s\tremaining: 1.65s\n",
      "901:\tlearn: 0.2293554\ttotal: 15s\tremaining: 1.63s\n",
      "902:\tlearn: 0.2290947\ttotal: 15s\tremaining: 1.61s\n",
      "903:\tlearn: 0.2286665\ttotal: 15s\tremaining: 1.6s\n",
      "904:\tlearn: 0.2282543\ttotal: 15s\tremaining: 1.58s\n",
      "905:\tlearn: 0.2281165\ttotal: 15.1s\tremaining: 1.56s\n",
      "906:\tlearn: 0.2278636\ttotal: 15.1s\tremaining: 1.55s\n",
      "907:\tlearn: 0.2275067\ttotal: 15.1s\tremaining: 1.53s\n",
      "908:\tlearn: 0.2271609\ttotal: 15.1s\tremaining: 1.51s\n",
      "909:\tlearn: 0.2269294\ttotal: 15.1s\tremaining: 1.5s\n",
      "910:\tlearn: 0.2266665\ttotal: 15.2s\tremaining: 1.48s\n",
      "911:\tlearn: 0.2264069\ttotal: 15.2s\tremaining: 1.46s\n",
      "912:\tlearn: 0.2260354\ttotal: 15.2s\tremaining: 1.45s\n",
      "913:\tlearn: 0.2257695\ttotal: 15.2s\tremaining: 1.43s\n",
      "914:\tlearn: 0.2256553\ttotal: 15.2s\tremaining: 1.41s\n",
      "915:\tlearn: 0.2255289\ttotal: 15.2s\tremaining: 1.4s\n",
      "916:\tlearn: 0.2251391\ttotal: 15.3s\tremaining: 1.38s\n",
      "917:\tlearn: 0.2248318\ttotal: 15.3s\tremaining: 1.36s\n",
      "918:\tlearn: 0.2243335\ttotal: 15.3s\tremaining: 1.35s\n",
      "919:\tlearn: 0.2240686\ttotal: 15.3s\tremaining: 1.33s\n",
      "920:\tlearn: 0.2237769\ttotal: 15.3s\tremaining: 1.31s\n",
      "921:\tlearn: 0.2234602\ttotal: 15.4s\tremaining: 1.3s\n",
      "922:\tlearn: 0.2231512\ttotal: 15.4s\tremaining: 1.28s\n",
      "923:\tlearn: 0.2229625\ttotal: 15.4s\tremaining: 1.27s\n",
      "924:\tlearn: 0.2225078\ttotal: 15.4s\tremaining: 1.25s\n",
      "925:\tlearn: 0.2222270\ttotal: 15.4s\tremaining: 1.23s\n",
      "926:\tlearn: 0.2219063\ttotal: 15.4s\tremaining: 1.22s\n",
      "927:\tlearn: 0.2214301\ttotal: 15.5s\tremaining: 1.2s\n",
      "928:\tlearn: 0.2211317\ttotal: 15.5s\tremaining: 1.18s\n",
      "929:\tlearn: 0.2209183\ttotal: 15.5s\tremaining: 1.17s\n",
      "930:\tlearn: 0.2206280\ttotal: 15.5s\tremaining: 1.15s\n",
      "931:\tlearn: 0.2203627\ttotal: 15.5s\tremaining: 1.13s\n",
      "932:\tlearn: 0.2201136\ttotal: 15.6s\tremaining: 1.12s\n",
      "933:\tlearn: 0.2198372\ttotal: 15.6s\tremaining: 1.1s\n",
      "934:\tlearn: 0.2195811\ttotal: 15.6s\tremaining: 1.08s\n",
      "935:\tlearn: 0.2193718\ttotal: 15.6s\tremaining: 1.07s\n",
      "936:\tlearn: 0.2192705\ttotal: 15.6s\tremaining: 1.05s\n",
      "937:\tlearn: 0.2189008\ttotal: 15.6s\tremaining: 1.03s\n",
      "938:\tlearn: 0.2185849\ttotal: 15.7s\tremaining: 1.02s\n",
      "939:\tlearn: 0.2181921\ttotal: 15.7s\tremaining: 1s\n",
      "940:\tlearn: 0.2179308\ttotal: 15.7s\tremaining: 984ms\n",
      "941:\tlearn: 0.2177506\ttotal: 15.7s\tremaining: 967ms\n",
      "942:\tlearn: 0.2175543\ttotal: 15.7s\tremaining: 951ms\n",
      "943:\tlearn: 0.2171412\ttotal: 15.7s\tremaining: 934ms\n",
      "944:\tlearn: 0.2166888\ttotal: 15.8s\tremaining: 917ms\n",
      "945:\tlearn: 0.2162969\ttotal: 15.8s\tremaining: 901ms\n",
      "946:\tlearn: 0.2161121\ttotal: 15.8s\tremaining: 884ms\n",
      "947:\tlearn: 0.2158461\ttotal: 15.8s\tremaining: 868ms\n",
      "948:\tlearn: 0.2156852\ttotal: 15.8s\tremaining: 851ms\n",
      "949:\tlearn: 0.2152909\ttotal: 15.9s\tremaining: 834ms\n",
      "950:\tlearn: 0.2151509\ttotal: 15.9s\tremaining: 818ms\n",
      "951:\tlearn: 0.2147142\ttotal: 15.9s\tremaining: 801ms\n",
      "952:\tlearn: 0.2144642\ttotal: 15.9s\tremaining: 785ms\n",
      "953:\tlearn: 0.2141199\ttotal: 15.9s\tremaining: 768ms\n",
      "954:\tlearn: 0.2138397\ttotal: 15.9s\tremaining: 751ms\n",
      "955:\tlearn: 0.2135103\ttotal: 16s\tremaining: 735ms\n",
      "956:\tlearn: 0.2134009\ttotal: 16s\tremaining: 718ms\n",
      "957:\tlearn: 0.2130965\ttotal: 16s\tremaining: 701ms\n",
      "958:\tlearn: 0.2126768\ttotal: 16s\tremaining: 685ms\n",
      "959:\tlearn: 0.2125370\ttotal: 16s\tremaining: 668ms\n",
      "960:\tlearn: 0.2122102\ttotal: 16s\tremaining: 651ms\n",
      "961:\tlearn: 0.2118616\ttotal: 16.1s\tremaining: 635ms\n",
      "962:\tlearn: 0.2116013\ttotal: 16.1s\tremaining: 618ms\n",
      "963:\tlearn: 0.2113612\ttotal: 16.1s\tremaining: 601ms\n",
      "964:\tlearn: 0.2110946\ttotal: 16.1s\tremaining: 585ms\n",
      "965:\tlearn: 0.2108805\ttotal: 16.1s\tremaining: 568ms\n",
      "966:\tlearn: 0.2106785\ttotal: 16.2s\tremaining: 551ms\n",
      "967:\tlearn: 0.2102344\ttotal: 16.2s\tremaining: 535ms\n",
      "968:\tlearn: 0.2099032\ttotal: 16.2s\tremaining: 518ms\n",
      "969:\tlearn: 0.2097065\ttotal: 16.2s\tremaining: 501ms\n",
      "970:\tlearn: 0.2096189\ttotal: 16.2s\tremaining: 485ms\n",
      "971:\tlearn: 0.2093637\ttotal: 16.2s\tremaining: 468ms\n",
      "972:\tlearn: 0.2092705\ttotal: 16.3s\tremaining: 451ms\n",
      "973:\tlearn: 0.2087617\ttotal: 16.3s\tremaining: 435ms\n",
      "974:\tlearn: 0.2084917\ttotal: 16.3s\tremaining: 418ms\n",
      "975:\tlearn: 0.2082034\ttotal: 16.3s\tremaining: 401ms\n",
      "976:\tlearn: 0.2078746\ttotal: 16.3s\tremaining: 384ms\n",
      "977:\tlearn: 0.2075637\ttotal: 16.3s\tremaining: 368ms\n",
      "978:\tlearn: 0.2072682\ttotal: 16.4s\tremaining: 351ms\n",
      "979:\tlearn: 0.2072248\ttotal: 16.4s\tremaining: 334ms\n",
      "980:\tlearn: 0.2070130\ttotal: 16.4s\tremaining: 318ms\n",
      "981:\tlearn: 0.2068998\ttotal: 16.4s\tremaining: 301ms\n",
      "982:\tlearn: 0.2064930\ttotal: 16.4s\tremaining: 284ms\n",
      "983:\tlearn: 0.2063780\ttotal: 16.5s\tremaining: 268ms\n",
      "984:\tlearn: 0.2060546\ttotal: 16.5s\tremaining: 251ms\n",
      "985:\tlearn: 0.2058529\ttotal: 16.5s\tremaining: 234ms\n",
      "986:\tlearn: 0.2056113\ttotal: 16.5s\tremaining: 217ms\n",
      "987:\tlearn: 0.2051546\ttotal: 16.5s\tremaining: 201ms\n",
      "988:\tlearn: 0.2049419\ttotal: 16.5s\tremaining: 184ms\n",
      "989:\tlearn: 0.2046650\ttotal: 16.6s\tremaining: 167ms\n",
      "990:\tlearn: 0.2043404\ttotal: 16.6s\tremaining: 151ms\n",
      "991:\tlearn: 0.2041196\ttotal: 16.6s\tremaining: 134ms\n",
      "992:\tlearn: 0.2037954\ttotal: 16.6s\tremaining: 117ms\n",
      "993:\tlearn: 0.2034924\ttotal: 16.6s\tremaining: 100ms\n",
      "994:\tlearn: 0.2034030\ttotal: 16.6s\tremaining: 83.7ms\n",
      "995:\tlearn: 0.2032134\ttotal: 16.7s\tremaining: 66.9ms\n",
      "996:\tlearn: 0.2030377\ttotal: 16.7s\tremaining: 50.2ms\n",
      "997:\tlearn: 0.2027250\ttotal: 16.7s\tremaining: 33.5ms\n",
      "998:\tlearn: 0.2023553\ttotal: 16.7s\tremaining: 16.7ms\n",
      "999:\tlearn: 0.2021845\ttotal: 16.7s\tremaining: 0us\n"
     ]
    }
   ],
   "source": [
    "model=CatBoostClassifier().fit(tr_x,tr_y)"
   ]
  },
  {
   "cell_type": "code",
   "execution_count": 344,
   "id": "34ec1536-a547-45b3-9073-8c975bbc6639",
   "metadata": {},
   "outputs": [],
   "source": [
    "pred_y=model.predict(tt_x)"
   ]
  },
  {
   "cell_type": "code",
   "execution_count": 345,
   "id": "dce12424-5212-4345-9250-4a7769893c6e",
   "metadata": {},
   "outputs": [
    {
     "name": "stdout",
     "output_type": "stream",
     "text": [
      "0.5929853181076672\n",
      "0.4835058263933832\n",
      "[[  7 200  12]\n",
      " [ 14 703  23]\n",
      " [  8 242  17]]\n"
     ]
    }
   ],
   "source": [
    "print(accuracy_score(tt_y,pred_y))\n",
    "print(f1_score(tt_y,pred_y,average='weighted'))\n",
    "print(confusion_matrix(tt_y,pred_y))"
   ]
  },
  {
   "cell_type": "code",
   "execution_count": null,
   "id": "c720e0f2-4202-41b0-ba3c-8297e58fee0d",
   "metadata": {},
   "outputs": [],
   "source": []
  },
  {
   "cell_type": "code",
   "execution_count": null,
   "id": "acb6e0a2-e7c1-4ee8-9c02-5ace3dca2343",
   "metadata": {},
   "outputs": [],
   "source": []
  },
  {
   "cell_type": "code",
   "execution_count": null,
   "id": "53d28c4d-e32a-4271-96ae-ae531dc8d90c",
   "metadata": {},
   "outputs": [],
   "source": []
  },
  {
   "cell_type": "code",
   "execution_count": null,
   "id": "c0b2eceb-a23d-4ac8-b67e-bb678fc7056b",
   "metadata": {},
   "outputs": [],
   "source": []
  },
  {
   "cell_type": "code",
   "execution_count": null,
   "id": "8d489d41-677d-484a-9a04-86153d353323",
   "metadata": {},
   "outputs": [],
   "source": []
  },
  {
   "cell_type": "code",
   "execution_count": null,
   "id": "457495b8-7feb-4224-8a13-bf418605de81",
   "metadata": {},
   "outputs": [],
   "source": []
  },
  {
   "cell_type": "code",
   "execution_count": null,
   "id": "2bf308fa-a2c5-49c2-ba29-5cedea727e7f",
   "metadata": {},
   "outputs": [],
   "source": []
  },
  {
   "cell_type": "code",
   "execution_count": null,
   "id": "4a75dcab-25cc-4de0-b5af-92cf93517877",
   "metadata": {},
   "outputs": [],
   "source": []
  },
  {
   "cell_type": "code",
   "execution_count": null,
   "id": "3131b1c7-a9de-4179-b963-658594c17399",
   "metadata": {},
   "outputs": [],
   "source": []
  },
  {
   "cell_type": "code",
   "execution_count": null,
   "id": "261bd1eb-0266-48eb-8e7a-fd6f5e085940",
   "metadata": {},
   "outputs": [],
   "source": []
  },
  {
   "cell_type": "code",
   "execution_count": 646,
   "id": "92540264-218b-4866-9378-3280e6224070",
   "metadata": {},
   "outputs": [],
   "source": [
    "news_df=pd.DataFrame({'date':news_data['일자'],'keywords':news_data['키워드']})"
   ]
  },
  {
   "cell_type": "code",
   "execution_count": 645,
   "id": "bf1ab956-3436-48a8-aaa0-124b30f3b119",
   "metadata": {},
   "outputs": [],
   "source": [
    "fx_df=pd.DataFrame({'date':ex_rate['날짜'],'exchange_rate':ex_rate['원/달러(종가 15:30)']})"
   ]
  },
  {
   "cell_type": "code",
   "execution_count": null,
   "id": "9c7ea337-9d0d-49f1-b627-0cac73929df8",
   "metadata": {},
   "outputs": [
    {
     "name": "stderr",
     "output_type": "stream",
     "text": [
      "C:\\Users\\campus4D044\\AppData\\Local\\Temp\\ipykernel_6988\\372705734.py:11: FutureWarning: The default fill_method='pad' in Series.pct_change is deprecated and will be removed in a future version. Either fill in any non-leading NA values prior to calling pct_change or specify 'fill_method=None' to not fill NA values.\n",
      "  fx_df['change_pct'] = fx_df['exchange_rate'].pct_change()\n"
     ]
    }
   ],
   "source": [
    "import pandas as pd\n",
    "from collections import Counter\n",
    "from datetime import timedelta\n",
    "\n",
    "# 1. 뉴스 데이터 전처리: 날짜별 키워드 리스트 만들기\n",
    "news_df['date'] = pd.to_datetime(news_df['date'])\n",
    "news_df['keyword_list'] = news_df['keywords'].apply(lambda x: x.split(','))\n",
    "\n",
    "# 2. 환율 데이터 전처리: 변동률 계산 후 급등/급락 구간 라벨링\n",
    "fx_df['date'] = pd.to_datetime(fx_df['date'])\n",
    "fx_df['change_pct'] = fx_df['exchange_rate'].pct_change()\n",
    "fx_df['fx_label'] = fx_df['change_pct'].apply(lambda x: '상승' if x > 0.01 else ('하락' if x < -0.01 else '보합'))\n",
    "\n",
    "# 3. 환율 변화와 뉴스 데이터를 병합\n",
    "merged = pd.merge(news_df, fx_df[['date', 'fx_label']], on='date', how='inner')\n",
    "\n",
    "# 4. 그룹별 키워드 빈도 계산 함수\n",
    "def get_top_keywords(group_df, top_n=20):\n",
    "    all_keywords = sum(group_df['keyword_list'], [])  # 리스트 합치기\n",
    "    keyword_counts = Counter(all_keywords)\n",
    "    return keyword_counts.most_common(top_n)\n",
    "\n",
    "# 5. fx_label별 주요 키워드 추출\n",
    "result = {}\n",
    "for label in ['상승', '하락', '보합']:\n",
    "    group_df = merged[merged['fx_label'] == label]\n",
    "    result[label] = get_top_keywords(group_df, top_n=30)\n",
    "\n",
    "# 6. 결과 출력\n",
    "for label, keywords in result.items():\n",
    "    print(f\"\\n📈 [{label} 구간] 상위 키워드\")\n",
    "    for word, freq in keywords:\n",
    "        print(f\"{word}: {freq}\")"
   ]
  },
  {
   "cell_type": "code",
   "execution_count": null,
   "id": "3ae0a4d4-4ba0-47b1-b17d-aa610e8b1019",
   "metadata": {},
   "outputs": [],
   "source": []
  }
 ],
 "metadata": {
  "kernelspec": {
   "display_name": "Python 3 (ipykernel)",
   "language": "python",
   "name": "python3"
  },
  "language_info": {
   "codemirror_mode": {
    "name": "ipython",
    "version": 3
   },
   "file_extension": ".py",
   "mimetype": "text/x-python",
   "name": "python",
   "nbconvert_exporter": "python",
   "pygments_lexer": "ipython3",
   "version": "3.12.7"
  }
 },
 "nbformat": 4,
 "nbformat_minor": 5
}
